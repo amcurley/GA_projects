{
 "cells": [
  {
   "cell_type": "markdown",
   "metadata": {},
   "source": [
    "<img src=\"http://imgur.com/1ZcRyrc.png\" style=\"float: left; margin: 20px; height: 55px\" />\n",
    "\n",
    "# Excel Madness Lab!\n",
    "\n",
    "_Author:_ Tim Book"
   ]
  },
  {
   "cell_type": "markdown",
   "metadata": {},
   "source": [
    "## Our Mission\n",
    "We work for a large supermarket chain, with stores in 10 major cities that happen to coincide with General Assembly campuses. However, this company's idea of a \"database\" is just a bunch of Excel spreadsheets! In order to analyze our data, we're going to need to process the existing data into a form we can use. **Our end goal is to have one csv per city.**\n",
    "\n",
    "## Cleanup Duty!\n",
    "It is a hard truth that data scientists spend a large majority of their time cleaning data. Data never arrives on our desks in exactly the format in which we want it, and it's up to us to transform it to a workable format.\n",
    "\n",
    "Being good at cleaning, moving, and reshaping data is in itself a valuable and employable job skill. If you follow these directions exactly, we will walk through constructing an automated process for processing data from this supermarket chain."
   ]
  },
  {
   "cell_type": "markdown",
   "metadata": {},
   "source": [
    "# Part I: Processing\n",
    "\n",
    "### Step 1: Imports and the `os` library\n",
    "We're going to import three libraries: numpy, pandas, and `os`."
   ]
  },
  {
   "cell_type": "code",
   "execution_count": 37,
   "metadata": {},
   "outputs": [],
   "source": [
    "# Import libraries here.\n",
    "import os\n",
    "import pandas as pd\n",
    "import matplotlib.pyplot as plt\n",
    "import numpy as np"
   ]
  },
  {
   "cell_type": "markdown",
   "metadata": {},
   "source": [
    "The `os` library ([https://docs.python.org/3/library/os.html](https://docs.python.org/3/library/os.html)) is extremely useful for performing system commands from within Python. Let's get two pieces of overhead out of the way now:\n",
    "\n",
    "1. Create an `output` folder using `os.mkdir()`\n",
    "2. Create a variable called `files` that is the list of files in the `data` folder using `os.listdir()`\n",
    "\n",
    "**WARNING:** The `os.mkdir()` function will give you an error if you try to make a folder that already exists!"
   ]
  },
  {
   "cell_type": "code",
   "execution_count": 38,
   "metadata": {},
   "outputs": [],
   "source": [
    "# Create an output folder in master folder\n",
    "# output = '/Users/aidancurley/Documents/dsir/Submissions/Labs/2.02-lab-excel-madness-master/output'\n",
    "# os.mkdir(output)"
   ]
  },
  {
   "cell_type": "code",
   "execution_count": 66,
   "metadata": {},
   "outputs": [],
   "source": [
    "# Create a files variable that contains all of our data files.\n",
    "files = os.listdir('/Users/aidancurley/Documents/dsir/Submissions/Labs/2.02-lab-excel-madness-master/data')"
   ]
  },
  {
   "cell_type": "code",
   "execution_count": 67,
   "metadata": {},
   "outputs": [
    {
     "data": {
      "text/plain": [
       "['Jan 23.xlsx',\n",
       " 'Jan 19.xlsx',\n",
       " 'Jan 15.xlsx',\n",
       " 'Jan 7.xlsx',\n",
       " 'Jan 6.xlsx',\n",
       " 'Jan 14.xlsx',\n",
       " 'Jan 18.xlsx',\n",
       " 'Jan 22.xlsx',\n",
       " 'Jan 29.xlsx',\n",
       " 'Jan 13.xlsx',\n",
       " 'Jan 1.xlsx',\n",
       " 'Jan 25.xlsx',\n",
       " 'Jan 24.xlsx',\n",
       " 'Jan 12.xlsx',\n",
       " 'Jan 28.xlsx',\n",
       " 'Jan 3.xlsx',\n",
       " 'Jan 11.xlsx',\n",
       " 'Jan 27.xlsx',\n",
       " 'Jan 31.xlsx',\n",
       " 'Jan 30.xlsx',\n",
       " 'Jan 26.xlsx',\n",
       " 'Jan 10.xlsx',\n",
       " 'Jan 2.xlsx',\n",
       " 'Jan 9.xlsx',\n",
       " 'Jan 21.xlsx',\n",
       " 'Jan 5.xlsx',\n",
       " 'Jan 17.xlsx',\n",
       " 'Jan 16.xlsx',\n",
       " 'Jan 4.xlsx',\n",
       " 'Jan 20.xlsx',\n",
       " 'Jan 8.xlsx']"
      ]
     },
     "execution_count": 67,
     "metadata": {},
     "output_type": "execute_result"
    }
   ],
   "source": [
    "files"
   ]
  },
  {
   "cell_type": "markdown",
   "metadata": {},
   "source": [
    "### Step 2: Process one data frame (one sheet from one file)\n",
    "It looks like we have data for the month of January--31 files of 10 sheets each! Luckily they are all in the same format. So let's read just one in and process that. It might be helpful to open one up in your spreadsheet viewer of choice first (Excel, Numbers, Sheets, etc.) to take a look at what you'll be reading in."
   ]
  },
  {
   "cell_type": "code",
   "execution_count": 68,
   "metadata": {},
   "outputs": [],
   "source": [
    "# Read in data from only ONE city (your city or one city of choice) from January 1st.\n",
    "\n",
    "# https://stackoverflow.com/questions/26521266/using-pandas-to-pd-read-excel-for-multiple-worksheets-of-the-same-workbook\n",
    "\n",
    "# How to read in an excel file\n",
    "xls = pd.ExcelFile('/Users/aidancurley/Documents/dsir/Submissions/Labs/2.02-lab-excel-madness-master/data/Jan 1.xlsx')"
   ]
  },
  {
   "cell_type": "code",
   "execution_count": 69,
   "metadata": {},
   "outputs": [],
   "source": [
    "# How to get a specific sheet in an excel file\n",
    "df_1= pd.read_excel(xls, 'New York')"
   ]
  },
  {
   "cell_type": "code",
   "execution_count": 70,
   "metadata": {},
   "outputs": [
    {
     "data": {
      "text/plain": [
       "(129, 4)"
      ]
     },
     "execution_count": 70,
     "metadata": {},
     "output_type": "execute_result"
    }
   ],
   "source": [
    "# 129 Rows, 4 Columns\n",
    "# Format is the same for every sheet in every file\n",
    "df_1.shape"
   ]
  },
  {
   "cell_type": "markdown",
   "metadata": {},
   "source": [
    "### Step 2a: Convert to 'Merican columns\n",
    "For whatever reason, our data are stored in euros and kilograms. Create `price_usd` and `weight_lb` columns. There are 2.2 pounds per kilogram, and 1.1 dollars per euro."
   ]
  },
  {
   "cell_type": "code",
   "execution_count": 71,
   "metadata": {},
   "outputs": [
    {
     "data": {
      "text/plain": [
       "2.0481412084773183"
      ]
     },
     "execution_count": 71,
     "metadata": {},
     "output_type": "execute_result"
    }
   ],
   "source": [
    "df_1['price_eu'][0]"
   ]
  },
  {
   "cell_type": "code",
   "execution_count": 72,
   "metadata": {},
   "outputs": [],
   "source": [
    "# Convert eu to usd\n",
    "df_1['price_usd'] = df_1['price_eu'] * 1.1"
   ]
  },
  {
   "cell_type": "code",
   "execution_count": 73,
   "metadata": {},
   "outputs": [],
   "source": [
    "# Convert kg to lb\n",
    "df_1['weight_lb'] = df_1['weight_kg'] * 2.2"
   ]
  },
  {
   "cell_type": "code",
   "execution_count": 74,
   "metadata": {},
   "outputs": [
    {
     "data": {
      "text/html": [
       "<div>\n",
       "<style scoped>\n",
       "    .dataframe tbody tr th:only-of-type {\n",
       "        vertical-align: middle;\n",
       "    }\n",
       "\n",
       "    .dataframe tbody tr th {\n",
       "        vertical-align: top;\n",
       "    }\n",
       "\n",
       "    .dataframe thead th {\n",
       "        text-align: right;\n",
       "    }\n",
       "</style>\n",
       "<table border=\"1\" class=\"dataframe\">\n",
       "  <thead>\n",
       "    <tr style=\"text-align: right;\">\n",
       "      <th></th>\n",
       "      <th>prodcode</th>\n",
       "      <th>price_eu</th>\n",
       "      <th>weight_kg</th>\n",
       "      <th>quantity</th>\n",
       "      <th>price_usd</th>\n",
       "      <th>weight_lb</th>\n",
       "    </tr>\n",
       "  </thead>\n",
       "  <tbody>\n",
       "    <tr>\n",
       "      <th>0</th>\n",
       "      <td>4159</td>\n",
       "      <td>2.048141</td>\n",
       "      <td>8.812961</td>\n",
       "      <td>138</td>\n",
       "      <td>2.252955</td>\n",
       "      <td>19.388515</td>\n",
       "    </tr>\n",
       "  </tbody>\n",
       "</table>\n",
       "</div>"
      ],
      "text/plain": [
       "   prodcode  price_eu  weight_kg  quantity  price_usd  weight_lb\n",
       "0      4159  2.048141   8.812961       138   2.252955  19.388515"
      ]
     },
     "execution_count": 74,
     "metadata": {},
     "output_type": "execute_result"
    }
   ],
   "source": [
    "df_1.head(1)"
   ]
  },
  {
   "cell_type": "markdown",
   "metadata": {},
   "source": [
    "### Step 2b: Merge in product names\n",
    "You'll notice we also have a `plu-codes.csv` file containing actual product names matched up against their price lookup (PLU) codes. Let's merge these product names onto our Jan 1 data from above.\n",
    "* _Hint 1:_ What kind of merge is this? Right, left, inner, outer, etc.?\n",
    "* _Hint 2:_ Pay special attention to column names!"
   ]
  },
  {
   "cell_type": "code",
   "execution_count": 75,
   "metadata": {},
   "outputs": [],
   "source": [
    "# Read in the plu-codes.csv file\n",
    "plu = pd.read_csv(\"plu-codes.csv\")"
   ]
  },
  {
   "cell_type": "code",
   "execution_count": 76,
   "metadata": {},
   "outputs": [
    {
     "data": {
      "text/html": [
       "<div>\n",
       "<style scoped>\n",
       "    .dataframe tbody tr th:only-of-type {\n",
       "        vertical-align: middle;\n",
       "    }\n",
       "\n",
       "    .dataframe tbody tr th {\n",
       "        vertical-align: top;\n",
       "    }\n",
       "\n",
       "    .dataframe thead th {\n",
       "        text-align: right;\n",
       "    }\n",
       "</style>\n",
       "<table border=\"1\" class=\"dataframe\">\n",
       "  <thead>\n",
       "    <tr style=\"text-align: right;\">\n",
       "      <th></th>\n",
       "      <th>product</th>\n",
       "      <th>plu_code</th>\n",
       "    </tr>\n",
       "  </thead>\n",
       "  <tbody>\n",
       "    <tr>\n",
       "      <th>0</th>\n",
       "      <td>Apple (Fuji)</td>\n",
       "      <td>4131</td>\n",
       "    </tr>\n",
       "  </tbody>\n",
       "</table>\n",
       "</div>"
      ],
      "text/plain": [
       "        product  plu_code\n",
       "0  Apple (Fuji)      4131"
      ]
     },
     "execution_count": 76,
     "metadata": {},
     "output_type": "execute_result"
    }
   ],
   "source": [
    "plu.head(1)"
   ]
  },
  {
   "cell_type": "code",
   "execution_count": 77,
   "metadata": {},
   "outputs": [],
   "source": [
    "# Rename the column plu_code so it can match the prodcode in the df_1 dataframe\n",
    "plu.rename(columns={'plu_code': 'prodcode'}, inplace=True)"
   ]
  },
  {
   "cell_type": "code",
   "execution_count": 78,
   "metadata": {},
   "outputs": [
    {
     "data": {
      "text/html": [
       "<div>\n",
       "<style scoped>\n",
       "    .dataframe tbody tr th:only-of-type {\n",
       "        vertical-align: middle;\n",
       "    }\n",
       "\n",
       "    .dataframe tbody tr th {\n",
       "        vertical-align: top;\n",
       "    }\n",
       "\n",
       "    .dataframe thead th {\n",
       "        text-align: right;\n",
       "    }\n",
       "</style>\n",
       "<table border=\"1\" class=\"dataframe\">\n",
       "  <thead>\n",
       "    <tr style=\"text-align: right;\">\n",
       "      <th></th>\n",
       "      <th>product</th>\n",
       "      <th>prodcode</th>\n",
       "    </tr>\n",
       "  </thead>\n",
       "  <tbody>\n",
       "    <tr>\n",
       "      <th>0</th>\n",
       "      <td>Apple (Fuji)</td>\n",
       "      <td>4131</td>\n",
       "    </tr>\n",
       "  </tbody>\n",
       "</table>\n",
       "</div>"
      ],
      "text/plain": [
       "        product  prodcode\n",
       "0  Apple (Fuji)      4131"
      ]
     },
     "execution_count": 78,
     "metadata": {},
     "output_type": "execute_result"
    }
   ],
   "source": [
    "plu.head(1)"
   ]
  },
  {
   "cell_type": "code",
   "execution_count": 79,
   "metadata": {},
   "outputs": [
    {
     "data": {
      "text/html": [
       "<div>\n",
       "<style scoped>\n",
       "    .dataframe tbody tr th:only-of-type {\n",
       "        vertical-align: middle;\n",
       "    }\n",
       "\n",
       "    .dataframe tbody tr th {\n",
       "        vertical-align: top;\n",
       "    }\n",
       "\n",
       "    .dataframe thead th {\n",
       "        text-align: right;\n",
       "    }\n",
       "</style>\n",
       "<table border=\"1\" class=\"dataframe\">\n",
       "  <thead>\n",
       "    <tr style=\"text-align: right;\">\n",
       "      <th></th>\n",
       "      <th>prodcode</th>\n",
       "      <th>price_eu</th>\n",
       "      <th>weight_kg</th>\n",
       "      <th>quantity</th>\n",
       "      <th>price_usd</th>\n",
       "      <th>weight_lb</th>\n",
       "    </tr>\n",
       "  </thead>\n",
       "  <tbody>\n",
       "    <tr>\n",
       "      <th>0</th>\n",
       "      <td>4159</td>\n",
       "      <td>2.048141</td>\n",
       "      <td>8.812961</td>\n",
       "      <td>138</td>\n",
       "      <td>2.252955</td>\n",
       "      <td>19.388515</td>\n",
       "    </tr>\n",
       "  </tbody>\n",
       "</table>\n",
       "</div>"
      ],
      "text/plain": [
       "   prodcode  price_eu  weight_kg  quantity  price_usd  weight_lb\n",
       "0      4159  2.048141   8.812961       138   2.252955  19.388515"
      ]
     },
     "execution_count": 79,
     "metadata": {},
     "output_type": "execute_result"
    }
   ],
   "source": [
    "df_1.head(1)"
   ]
  },
  {
   "cell_type": "code",
   "execution_count": 80,
   "metadata": {
    "scrolled": true
   },
   "outputs": [],
   "source": [
    "# Merge df_1 and plu on the 'prodcode' columns\n",
    "jan_1 = pd.merge(df_1, plu, on='prodcode')"
   ]
  },
  {
   "cell_type": "code",
   "execution_count": 81,
   "metadata": {},
   "outputs": [
    {
     "data": {
      "text/html": [
       "<div>\n",
       "<style scoped>\n",
       "    .dataframe tbody tr th:only-of-type {\n",
       "        vertical-align: middle;\n",
       "    }\n",
       "\n",
       "    .dataframe tbody tr th {\n",
       "        vertical-align: top;\n",
       "    }\n",
       "\n",
       "    .dataframe thead th {\n",
       "        text-align: right;\n",
       "    }\n",
       "</style>\n",
       "<table border=\"1\" class=\"dataframe\">\n",
       "  <thead>\n",
       "    <tr style=\"text-align: right;\">\n",
       "      <th></th>\n",
       "      <th>prodcode</th>\n",
       "      <th>price_eu</th>\n",
       "      <th>weight_kg</th>\n",
       "      <th>quantity</th>\n",
       "      <th>price_usd</th>\n",
       "      <th>weight_lb</th>\n",
       "      <th>product</th>\n",
       "    </tr>\n",
       "  </thead>\n",
       "  <tbody>\n",
       "    <tr>\n",
       "      <th>0</th>\n",
       "      <td>4159</td>\n",
       "      <td>2.048141</td>\n",
       "      <td>8.812961</td>\n",
       "      <td>138</td>\n",
       "      <td>2.252955</td>\n",
       "      <td>19.388515</td>\n",
       "      <td>Onion</td>\n",
       "    </tr>\n",
       "    <tr>\n",
       "      <th>1</th>\n",
       "      <td>4159</td>\n",
       "      <td>2.124963</td>\n",
       "      <td>1.906494</td>\n",
       "      <td>319</td>\n",
       "      <td>2.337459</td>\n",
       "      <td>4.194287</td>\n",
       "      <td>Onion</td>\n",
       "    </tr>\n",
       "    <tr>\n",
       "      <th>2</th>\n",
       "      <td>4159</td>\n",
       "      <td>1.834220</td>\n",
       "      <td>7.788227</td>\n",
       "      <td>229</td>\n",
       "      <td>2.017642</td>\n",
       "      <td>17.134099</td>\n",
       "      <td>Onion</td>\n",
       "    </tr>\n",
       "    <tr>\n",
       "      <th>3</th>\n",
       "      <td>4159</td>\n",
       "      <td>1.281120</td>\n",
       "      <td>4.506284</td>\n",
       "      <td>164</td>\n",
       "      <td>1.409232</td>\n",
       "      <td>9.913825</td>\n",
       "      <td>Onion</td>\n",
       "    </tr>\n",
       "    <tr>\n",
       "      <th>4</th>\n",
       "      <td>4159</td>\n",
       "      <td>1.162582</td>\n",
       "      <td>8.225310</td>\n",
       "      <td>447</td>\n",
       "      <td>1.278840</td>\n",
       "      <td>18.095683</td>\n",
       "      <td>Onion</td>\n",
       "    </tr>\n",
       "  </tbody>\n",
       "</table>\n",
       "</div>"
      ],
      "text/plain": [
       "   prodcode  price_eu  weight_kg  quantity  price_usd  weight_lb product\n",
       "0      4159  2.048141   8.812961       138   2.252955  19.388515   Onion\n",
       "1      4159  2.124963   1.906494       319   2.337459   4.194287   Onion\n",
       "2      4159  1.834220   7.788227       229   2.017642  17.134099   Onion\n",
       "3      4159  1.281120   4.506284       164   1.409232   9.913825   Onion\n",
       "4      4159  1.162582   8.225310       447   1.278840  18.095683   Onion"
      ]
     },
     "execution_count": 81,
     "metadata": {},
     "output_type": "execute_result"
    }
   ],
   "source": [
    "jan_1.head()"
   ]
  },
  {
   "cell_type": "markdown",
   "metadata": {},
   "source": [
    "### Step 2c: Drop unnecessary columns\n",
    "We've created some extraneous columns. Drop the old price and weight columns, as well as any redundant columns."
   ]
  },
  {
   "cell_type": "code",
   "execution_count": 82,
   "metadata": {},
   "outputs": [],
   "source": [
    "# Drop the weight_kg column because it is not necessary anymore\n",
    "jan_1.drop('weight_kg', axis=1, inplace=True)"
   ]
  },
  {
   "cell_type": "code",
   "execution_count": 83,
   "metadata": {},
   "outputs": [
    {
     "data": {
      "text/plain": [
       "Index(['prodcode', 'price_eu', 'quantity', 'price_usd', 'weight_lb',\n",
       "       'product'],\n",
       "      dtype='object')"
      ]
     },
     "execution_count": 83,
     "metadata": {},
     "output_type": "execute_result"
    }
   ],
   "source": [
    "jan_1.columns"
   ]
  },
  {
   "cell_type": "code",
   "execution_count": 84,
   "metadata": {},
   "outputs": [],
   "source": [
    "# Drop the price_eu column because it is not necessary anymore\n",
    "jan_1.drop('price_eu', axis=1, inplace=True)"
   ]
  },
  {
   "cell_type": "code",
   "execution_count": 85,
   "metadata": {},
   "outputs": [
    {
     "data": {
      "text/plain": [
       "Index(['prodcode', 'quantity', 'price_usd', 'weight_lb', 'product'], dtype='object')"
      ]
     },
     "execution_count": 85,
     "metadata": {},
     "output_type": "execute_result"
    }
   ],
   "source": [
    "jan_1.columns"
   ]
  },
  {
   "cell_type": "markdown",
   "metadata": {},
   "source": [
    "### Step 2d: Add the date\n",
    "Simply create a new `date` column for this dataframe that contains the date this data was collected. For example, this data is from `Jan 1.xlsx`, so this column should be full of `Jan 1`.  \n",
    "_Note: In this step, this does not need to be an automated function that would assign the relevant date for data from any file. Simply create this one column._"
   ]
  },
  {
   "cell_type": "code",
   "execution_count": 86,
   "metadata": {},
   "outputs": [],
   "source": [
    "jan_1['date'] = 'Jan 1'"
   ]
  },
  {
   "cell_type": "code",
   "execution_count": 87,
   "metadata": {},
   "outputs": [
    {
     "data": {
      "text/html": [
       "<div>\n",
       "<style scoped>\n",
       "    .dataframe tbody tr th:only-of-type {\n",
       "        vertical-align: middle;\n",
       "    }\n",
       "\n",
       "    .dataframe tbody tr th {\n",
       "        vertical-align: top;\n",
       "    }\n",
       "\n",
       "    .dataframe thead th {\n",
       "        text-align: right;\n",
       "    }\n",
       "</style>\n",
       "<table border=\"1\" class=\"dataframe\">\n",
       "  <thead>\n",
       "    <tr style=\"text-align: right;\">\n",
       "      <th></th>\n",
       "      <th>prodcode</th>\n",
       "      <th>quantity</th>\n",
       "      <th>price_usd</th>\n",
       "      <th>weight_lb</th>\n",
       "      <th>product</th>\n",
       "      <th>date</th>\n",
       "    </tr>\n",
       "  </thead>\n",
       "  <tbody>\n",
       "    <tr>\n",
       "      <th>0</th>\n",
       "      <td>4159</td>\n",
       "      <td>138</td>\n",
       "      <td>2.252955</td>\n",
       "      <td>19.388515</td>\n",
       "      <td>Onion</td>\n",
       "      <td>Jan 1</td>\n",
       "    </tr>\n",
       "    <tr>\n",
       "      <th>1</th>\n",
       "      <td>4159</td>\n",
       "      <td>319</td>\n",
       "      <td>2.337459</td>\n",
       "      <td>4.194287</td>\n",
       "      <td>Onion</td>\n",
       "      <td>Jan 1</td>\n",
       "    </tr>\n",
       "  </tbody>\n",
       "</table>\n",
       "</div>"
      ],
      "text/plain": [
       "   prodcode  quantity  price_usd  weight_lb product   date\n",
       "0      4159       138   2.252955  19.388515   Onion  Jan 1\n",
       "1      4159       319   2.337459   4.194287   Onion  Jan 1"
      ]
     },
     "execution_count": 87,
     "metadata": {},
     "output_type": "execute_result"
    }
   ],
   "source": [
    "jan_1.head(2)"
   ]
  },
  {
   "cell_type": "markdown",
   "metadata": {},
   "source": [
    "### Step 3: Write a function that conducts all of Step 2\n",
    "This function should import a **filename and a city name** and return a fully processed DataFrame. That is, the function should:\n",
    "1. Read in the data from the given file and city.\n",
    "1. Create USD and pound columns.\n",
    "1. Merge in product names.\n",
    "1. Drop unnecessary columns.\n",
    "1. Add a date column"
   ]
  },
  {
   "cell_type": "code",
   "execution_count": 140,
   "metadata": {},
   "outputs": [],
   "source": [
    "def process_data(file, city):\n",
    "    # 2 Process one data frame\n",
    "    path = '/Users/aidancurley/Documents/dsir/Submissions/Labs/2.02-lab-excel-madness-master/data/'+ file\n",
    "    new_xls = pd.ExcelFile(path)\n",
    "    new_df = pd.read_excel(new_xls, city)\n",
    "    \n",
    "    # 2a Convert to 'Merican columns\n",
    "    new_df['price_usd'] = new_df['price_eu'] * 1.1\n",
    "    new_df['weight_lb'] = new_df['weight_kg'] * 2.2\n",
    "    \n",
    "    # 2b Merge in product names\n",
    "    plu = pd.read_csv(\"plu-codes.csv\")\n",
    "    plu.rename(columns={'plu_code': 'prodcode'}, inplace=True)\n",
    "    new_df = pd.merge(new_df, plu, on='prodcode')\n",
    "    \n",
    "    #2c Drop unnecessary columns\n",
    "    new_df.drop(columns=['weight_kg', 'price_eu'], axis=1, inplace=True) \n",
    "    \n",
    "    #2d Add the date\n",
    "    new_df['date'] = file[:-5]\n",
    "    \n",
    "    return new_df"
   ]
  },
  {
   "cell_type": "markdown",
   "metadata": {},
   "source": [
    "Test your function out on a new file and city (one sheet from that file)!"
   ]
  },
  {
   "cell_type": "code",
   "execution_count": 141,
   "metadata": {},
   "outputs": [
    {
     "data": {
      "text/html": [
       "<div>\n",
       "<style scoped>\n",
       "    .dataframe tbody tr th:only-of-type {\n",
       "        vertical-align: middle;\n",
       "    }\n",
       "\n",
       "    .dataframe tbody tr th {\n",
       "        vertical-align: top;\n",
       "    }\n",
       "\n",
       "    .dataframe thead th {\n",
       "        text-align: right;\n",
       "    }\n",
       "</style>\n",
       "<table border=\"1\" class=\"dataframe\">\n",
       "  <thead>\n",
       "    <tr style=\"text-align: right;\">\n",
       "      <th></th>\n",
       "      <th>prodcode</th>\n",
       "      <th>quantity</th>\n",
       "      <th>price_usd</th>\n",
       "      <th>weight_lb</th>\n",
       "      <th>product</th>\n",
       "      <th>date</th>\n",
       "    </tr>\n",
       "  </thead>\n",
       "  <tbody>\n",
       "    <tr>\n",
       "      <th>0</th>\n",
       "      <td>4225</td>\n",
       "      <td>121</td>\n",
       "      <td>1.321429</td>\n",
       "      <td>21.207317</td>\n",
       "      <td>Avocado</td>\n",
       "      <td>Jan 10</td>\n",
       "    </tr>\n",
       "    <tr>\n",
       "      <th>1</th>\n",
       "      <td>4225</td>\n",
       "      <td>164</td>\n",
       "      <td>2.776709</td>\n",
       "      <td>17.974300</td>\n",
       "      <td>Avocado</td>\n",
       "      <td>Jan 10</td>\n",
       "    </tr>\n",
       "    <tr>\n",
       "      <th>2</th>\n",
       "      <td>4225</td>\n",
       "      <td>120</td>\n",
       "      <td>1.665817</td>\n",
       "      <td>10.835232</td>\n",
       "      <td>Avocado</td>\n",
       "      <td>Jan 10</td>\n",
       "    </tr>\n",
       "    <tr>\n",
       "      <th>3</th>\n",
       "      <td>4225</td>\n",
       "      <td>455</td>\n",
       "      <td>1.571825</td>\n",
       "      <td>17.214646</td>\n",
       "      <td>Avocado</td>\n",
       "      <td>Jan 10</td>\n",
       "    </tr>\n",
       "    <tr>\n",
       "      <th>4</th>\n",
       "      <td>4225</td>\n",
       "      <td>418</td>\n",
       "      <td>1.634974</td>\n",
       "      <td>2.765967</td>\n",
       "      <td>Avocado</td>\n",
       "      <td>Jan 10</td>\n",
       "    </tr>\n",
       "    <tr>\n",
       "      <th>...</th>\n",
       "      <td>...</td>\n",
       "      <td>...</td>\n",
       "      <td>...</td>\n",
       "      <td>...</td>\n",
       "      <td>...</td>\n",
       "      <td>...</td>\n",
       "    </tr>\n",
       "    <tr>\n",
       "      <th>132</th>\n",
       "      <td>4062</td>\n",
       "      <td>404</td>\n",
       "      <td>1.486384</td>\n",
       "      <td>13.197261</td>\n",
       "      <td>Cucumber</td>\n",
       "      <td>Jan 10</td>\n",
       "    </tr>\n",
       "    <tr>\n",
       "      <th>133</th>\n",
       "      <td>3302</td>\n",
       "      <td>348</td>\n",
       "      <td>2.376736</td>\n",
       "      <td>3.499581</td>\n",
       "      <td>Apricot</td>\n",
       "      <td>Jan 10</td>\n",
       "    </tr>\n",
       "    <tr>\n",
       "      <th>134</th>\n",
       "      <td>3302</td>\n",
       "      <td>211</td>\n",
       "      <td>0.619958</td>\n",
       "      <td>6.331263</td>\n",
       "      <td>Apricot</td>\n",
       "      <td>Jan 10</td>\n",
       "    </tr>\n",
       "    <tr>\n",
       "      <th>135</th>\n",
       "      <td>3302</td>\n",
       "      <td>423</td>\n",
       "      <td>0.910686</td>\n",
       "      <td>6.511946</td>\n",
       "      <td>Apricot</td>\n",
       "      <td>Jan 10</td>\n",
       "    </tr>\n",
       "    <tr>\n",
       "      <th>136</th>\n",
       "      <td>3302</td>\n",
       "      <td>261</td>\n",
       "      <td>1.721780</td>\n",
       "      <td>13.018451</td>\n",
       "      <td>Apricot</td>\n",
       "      <td>Jan 10</td>\n",
       "    </tr>\n",
       "  </tbody>\n",
       "</table>\n",
       "<p>137 rows × 6 columns</p>\n",
       "</div>"
      ],
      "text/plain": [
       "     prodcode  quantity  price_usd  weight_lb   product    date\n",
       "0        4225       121   1.321429  21.207317   Avocado  Jan 10\n",
       "1        4225       164   2.776709  17.974300   Avocado  Jan 10\n",
       "2        4225       120   1.665817  10.835232   Avocado  Jan 10\n",
       "3        4225       455   1.571825  17.214646   Avocado  Jan 10\n",
       "4        4225       418   1.634974   2.765967   Avocado  Jan 10\n",
       "..        ...       ...        ...        ...       ...     ...\n",
       "132      4062       404   1.486384  13.197261  Cucumber  Jan 10\n",
       "133      3302       348   2.376736   3.499581   Apricot  Jan 10\n",
       "134      3302       211   0.619958   6.331263   Apricot  Jan 10\n",
       "135      3302       423   0.910686   6.511946   Apricot  Jan 10\n",
       "136      3302       261   1.721780  13.018451   Apricot  Jan 10\n",
       "\n",
       "[137 rows x 6 columns]"
      ]
     },
     "execution_count": 141,
     "metadata": {},
     "output_type": "execute_result"
    }
   ],
   "source": [
    "process_data('Jan 10.xlsx', 'Atlanta')"
   ]
  },
  {
   "cell_type": "code",
   "execution_count": 142,
   "metadata": {},
   "outputs": [
    {
     "data": {
      "text/plain": [
       "['Jan 23.xlsx',\n",
       " 'Jan 19.xlsx',\n",
       " 'Jan 15.xlsx',\n",
       " 'Jan 7.xlsx',\n",
       " 'Jan 6.xlsx',\n",
       " 'Jan 14.xlsx',\n",
       " 'Jan 18.xlsx',\n",
       " 'Jan 22.xlsx',\n",
       " 'Jan 29.xlsx',\n",
       " 'Jan 13.xlsx',\n",
       " 'Jan 1.xlsx',\n",
       " 'Jan 25.xlsx',\n",
       " 'Jan 24.xlsx',\n",
       " 'Jan 12.xlsx',\n",
       " 'Jan 28.xlsx',\n",
       " 'Jan 3.xlsx',\n",
       " 'Jan 11.xlsx',\n",
       " 'Jan 27.xlsx',\n",
       " 'Jan 31.xlsx',\n",
       " 'Jan 30.xlsx',\n",
       " 'Jan 26.xlsx',\n",
       " 'Jan 10.xlsx',\n",
       " 'Jan 2.xlsx',\n",
       " 'Jan 9.xlsx',\n",
       " 'Jan 21.xlsx',\n",
       " 'Jan 5.xlsx',\n",
       " 'Jan 17.xlsx',\n",
       " 'Jan 16.xlsx',\n",
       " 'Jan 4.xlsx',\n",
       " 'Jan 20.xlsx',\n",
       " 'Jan 8.xlsx']"
      ]
     },
     "execution_count": 142,
     "metadata": {},
     "output_type": "execute_result"
    }
   ],
   "source": [
    "files"
   ]
  },
  {
   "cell_type": "markdown",
   "metadata": {},
   "source": [
    "### Step 4: Process all of January's data for your city\n",
    "For each spreadsheet, process the data and store the resulting DataFrame in one big list. **You only need to do this for your city!**\n",
    "\n",
    "* _Hint 1:_ A listcomp would make this whole step one line of code!\n",
    "* _Hint 2:_ You've already made that `files` variable to help you here."
   ]
  },
  {
   "cell_type": "code",
   "execution_count": 143,
   "metadata": {},
   "outputs": [],
   "source": [
    "jan_ny = [process_data(i, 'New York') for i in files]"
   ]
  },
  {
   "cell_type": "code",
   "execution_count": 145,
   "metadata": {},
   "outputs": [
    {
     "data": {
      "text/html": [
       "<div>\n",
       "<style scoped>\n",
       "    .dataframe tbody tr th:only-of-type {\n",
       "        vertical-align: middle;\n",
       "    }\n",
       "\n",
       "    .dataframe tbody tr th {\n",
       "        vertical-align: top;\n",
       "    }\n",
       "\n",
       "    .dataframe thead th {\n",
       "        text-align: right;\n",
       "    }\n",
       "</style>\n",
       "<table border=\"1\" class=\"dataframe\">\n",
       "  <thead>\n",
       "    <tr style=\"text-align: right;\">\n",
       "      <th></th>\n",
       "      <th>prodcode</th>\n",
       "      <th>quantity</th>\n",
       "      <th>price_usd</th>\n",
       "      <th>weight_lb</th>\n",
       "      <th>product</th>\n",
       "      <th>date</th>\n",
       "    </tr>\n",
       "  </thead>\n",
       "  <tbody>\n",
       "    <tr>\n",
       "      <th>0</th>\n",
       "      <td>4650</td>\n",
       "      <td>109</td>\n",
       "      <td>1.330281</td>\n",
       "      <td>17.027600</td>\n",
       "      <td>Mushroom</td>\n",
       "      <td>Jan 23</td>\n",
       "    </tr>\n",
       "    <tr>\n",
       "      <th>1</th>\n",
       "      <td>4650</td>\n",
       "      <td>107</td>\n",
       "      <td>1.979061</td>\n",
       "      <td>3.396520</td>\n",
       "      <td>Mushroom</td>\n",
       "      <td>Jan 23</td>\n",
       "    </tr>\n",
       "    <tr>\n",
       "      <th>2</th>\n",
       "      <td>4650</td>\n",
       "      <td>498</td>\n",
       "      <td>2.739112</td>\n",
       "      <td>5.918647</td>\n",
       "      <td>Mushroom</td>\n",
       "      <td>Jan 23</td>\n",
       "    </tr>\n",
       "    <tr>\n",
       "      <th>3</th>\n",
       "      <td>4650</td>\n",
       "      <td>350</td>\n",
       "      <td>1.092037</td>\n",
       "      <td>19.737597</td>\n",
       "      <td>Mushroom</td>\n",
       "      <td>Jan 23</td>\n",
       "    </tr>\n",
       "    <tr>\n",
       "      <th>4</th>\n",
       "      <td>4650</td>\n",
       "      <td>216</td>\n",
       "      <td>0.778506</td>\n",
       "      <td>21.484154</td>\n",
       "      <td>Mushroom</td>\n",
       "      <td>Jan 23</td>\n",
       "    </tr>\n",
       "    <tr>\n",
       "      <th>...</th>\n",
       "      <td>...</td>\n",
       "      <td>...</td>\n",
       "      <td>...</td>\n",
       "      <td>...</td>\n",
       "      <td>...</td>\n",
       "      <td>...</td>\n",
       "    </tr>\n",
       "    <tr>\n",
       "      <th>155</th>\n",
       "      <td>4309</td>\n",
       "      <td>288</td>\n",
       "      <td>1.485246</td>\n",
       "      <td>4.698512</td>\n",
       "      <td>Lychee</td>\n",
       "      <td>Jan 23</td>\n",
       "    </tr>\n",
       "    <tr>\n",
       "      <th>156</th>\n",
       "      <td>4309</td>\n",
       "      <td>210</td>\n",
       "      <td>1.728817</td>\n",
       "      <td>8.737249</td>\n",
       "      <td>Lychee</td>\n",
       "      <td>Jan 23</td>\n",
       "    </tr>\n",
       "    <tr>\n",
       "      <th>157</th>\n",
       "      <td>4309</td>\n",
       "      <td>148</td>\n",
       "      <td>2.619922</td>\n",
       "      <td>16.792627</td>\n",
       "      <td>Lychee</td>\n",
       "      <td>Jan 23</td>\n",
       "    </tr>\n",
       "    <tr>\n",
       "      <th>158</th>\n",
       "      <td>4309</td>\n",
       "      <td>198</td>\n",
       "      <td>1.830828</td>\n",
       "      <td>19.490797</td>\n",
       "      <td>Lychee</td>\n",
       "      <td>Jan 23</td>\n",
       "    </tr>\n",
       "    <tr>\n",
       "      <th>159</th>\n",
       "      <td>4309</td>\n",
       "      <td>390</td>\n",
       "      <td>1.925236</td>\n",
       "      <td>8.826041</td>\n",
       "      <td>Lychee</td>\n",
       "      <td>Jan 23</td>\n",
       "    </tr>\n",
       "  </tbody>\n",
       "</table>\n",
       "<p>160 rows × 6 columns</p>\n",
       "</div>"
      ],
      "text/plain": [
       "     prodcode  quantity  price_usd  weight_lb   product    date\n",
       "0        4650       109   1.330281  17.027600  Mushroom  Jan 23\n",
       "1        4650       107   1.979061   3.396520  Mushroom  Jan 23\n",
       "2        4650       498   2.739112   5.918647  Mushroom  Jan 23\n",
       "3        4650       350   1.092037  19.737597  Mushroom  Jan 23\n",
       "4        4650       216   0.778506  21.484154  Mushroom  Jan 23\n",
       "..        ...       ...        ...        ...       ...     ...\n",
       "155      4309       288   1.485246   4.698512    Lychee  Jan 23\n",
       "156      4309       210   1.728817   8.737249    Lychee  Jan 23\n",
       "157      4309       148   2.619922  16.792627    Lychee  Jan 23\n",
       "158      4309       198   1.830828  19.490797    Lychee  Jan 23\n",
       "159      4309       390   1.925236   8.826041    Lychee  Jan 23\n",
       "\n",
       "[160 rows x 6 columns]"
      ]
     },
     "execution_count": 145,
     "metadata": {},
     "output_type": "execute_result"
    }
   ],
   "source": [
    "# Each index is a pandas dataframe\n",
    "jan_ny[0]"
   ]
  },
  {
   "cell_type": "markdown",
   "metadata": {},
   "source": [
    "### Step 5: Concatenate all DataFrames from Step 4 into one large DataFrame\n",
    "* _Hint:_ Is there a function in `pandas` that can do something like this for us? This is also just one line of code!"
   ]
  },
  {
   "cell_type": "code",
   "execution_count": 94,
   "metadata": {},
   "outputs": [],
   "source": [
    "# https://stackoverflow.com/questions/32444138/concatenate-a-list-of-pandas-dataframes-together\n",
    "# Fairly simple\n",
    "ny_merged = pd.concat(jan_ny)"
   ]
  },
  {
   "cell_type": "code",
   "execution_count": 95,
   "metadata": {},
   "outputs": [
    {
     "data": {
      "text/html": [
       "<div>\n",
       "<style scoped>\n",
       "    .dataframe tbody tr th:only-of-type {\n",
       "        vertical-align: middle;\n",
       "    }\n",
       "\n",
       "    .dataframe tbody tr th {\n",
       "        vertical-align: top;\n",
       "    }\n",
       "\n",
       "    .dataframe thead th {\n",
       "        text-align: right;\n",
       "    }\n",
       "</style>\n",
       "<table border=\"1\" class=\"dataframe\">\n",
       "  <thead>\n",
       "    <tr style=\"text-align: right;\">\n",
       "      <th></th>\n",
       "      <th>prodcode</th>\n",
       "      <th>quantity</th>\n",
       "      <th>price_usd</th>\n",
       "      <th>weight_lb</th>\n",
       "      <th>product</th>\n",
       "      <th>date</th>\n",
       "    </tr>\n",
       "  </thead>\n",
       "  <tbody>\n",
       "    <tr>\n",
       "      <th>0</th>\n",
       "      <td>4650</td>\n",
       "      <td>109</td>\n",
       "      <td>1.330281</td>\n",
       "      <td>17.027600</td>\n",
       "      <td>Mushroom</td>\n",
       "      <td>Jan 23</td>\n",
       "    </tr>\n",
       "    <tr>\n",
       "      <th>1</th>\n",
       "      <td>4650</td>\n",
       "      <td>107</td>\n",
       "      <td>1.979061</td>\n",
       "      <td>3.396520</td>\n",
       "      <td>Mushroom</td>\n",
       "      <td>Jan 23</td>\n",
       "    </tr>\n",
       "    <tr>\n",
       "      <th>2</th>\n",
       "      <td>4650</td>\n",
       "      <td>498</td>\n",
       "      <td>2.739112</td>\n",
       "      <td>5.918647</td>\n",
       "      <td>Mushroom</td>\n",
       "      <td>Jan 23</td>\n",
       "    </tr>\n",
       "    <tr>\n",
       "      <th>3</th>\n",
       "      <td>4650</td>\n",
       "      <td>350</td>\n",
       "      <td>1.092037</td>\n",
       "      <td>19.737597</td>\n",
       "      <td>Mushroom</td>\n",
       "      <td>Jan 23</td>\n",
       "    </tr>\n",
       "    <tr>\n",
       "      <th>4</th>\n",
       "      <td>4650</td>\n",
       "      <td>216</td>\n",
       "      <td>0.778506</td>\n",
       "      <td>21.484154</td>\n",
       "      <td>Mushroom</td>\n",
       "      <td>Jan 23</td>\n",
       "    </tr>\n",
       "    <tr>\n",
       "      <th>...</th>\n",
       "      <td>...</td>\n",
       "      <td>...</td>\n",
       "      <td>...</td>\n",
       "      <td>...</td>\n",
       "      <td>...</td>\n",
       "      <td>...</td>\n",
       "    </tr>\n",
       "    <tr>\n",
       "      <th>107</th>\n",
       "      <td>4272</td>\n",
       "      <td>161</td>\n",
       "      <td>1.372635</td>\n",
       "      <td>19.997432</td>\n",
       "      <td>Grapes</td>\n",
       "      <td>Jan 8</td>\n",
       "    </tr>\n",
       "    <tr>\n",
       "      <th>108</th>\n",
       "      <td>4240</td>\n",
       "      <td>347</td>\n",
       "      <td>2.565107</td>\n",
       "      <td>13.588784</td>\n",
       "      <td>Blueberries</td>\n",
       "      <td>Jan 8</td>\n",
       "    </tr>\n",
       "    <tr>\n",
       "      <th>109</th>\n",
       "      <td>4240</td>\n",
       "      <td>279</td>\n",
       "      <td>2.526195</td>\n",
       "      <td>11.874177</td>\n",
       "      <td>Blueberries</td>\n",
       "      <td>Jan 8</td>\n",
       "    </tr>\n",
       "    <tr>\n",
       "      <th>110</th>\n",
       "      <td>4240</td>\n",
       "      <td>164</td>\n",
       "      <td>1.955288</td>\n",
       "      <td>19.035519</td>\n",
       "      <td>Blueberries</td>\n",
       "      <td>Jan 8</td>\n",
       "    </tr>\n",
       "    <tr>\n",
       "      <th>111</th>\n",
       "      <td>4240</td>\n",
       "      <td>104</td>\n",
       "      <td>3.250454</td>\n",
       "      <td>8.809735</td>\n",
       "      <td>Blueberries</td>\n",
       "      <td>Jan 8</td>\n",
       "    </tr>\n",
       "  </tbody>\n",
       "</table>\n",
       "<p>4639 rows × 6 columns</p>\n",
       "</div>"
      ],
      "text/plain": [
       "     prodcode  quantity  price_usd  weight_lb      product    date\n",
       "0        4650       109   1.330281  17.027600     Mushroom  Jan 23\n",
       "1        4650       107   1.979061   3.396520     Mushroom  Jan 23\n",
       "2        4650       498   2.739112   5.918647     Mushroom  Jan 23\n",
       "3        4650       350   1.092037  19.737597     Mushroom  Jan 23\n",
       "4        4650       216   0.778506  21.484154     Mushroom  Jan 23\n",
       "..        ...       ...        ...        ...          ...     ...\n",
       "107      4272       161   1.372635  19.997432       Grapes   Jan 8\n",
       "108      4240       347   2.565107  13.588784  Blueberries   Jan 8\n",
       "109      4240       279   2.526195  11.874177  Blueberries   Jan 8\n",
       "110      4240       164   1.955288  19.035519  Blueberries   Jan 8\n",
       "111      4240       104   3.250454   8.809735  Blueberries   Jan 8\n",
       "\n",
       "[4639 rows x 6 columns]"
      ]
     },
     "execution_count": 95,
     "metadata": {},
     "output_type": "execute_result"
    }
   ],
   "source": [
    "ny_merged"
   ]
  },
  {
   "cell_type": "markdown",
   "metadata": {},
   "source": [
    "### Step 6: Do this for all cities, write data to your output folder\n",
    "Here's the big one. For each city, process the data as in steps 3-5, and then write the data to your `output` folder. Below is a dictionary of city names to desired output file names.\n",
    "\n",
    "Before writing your DataFrame, do the following:\n",
    "* Add a `city` column\n",
    "* Reorder the columns into the following order:\n",
    "\n",
    "\n",
    "| city | date | product | prodcode | quantity | weight_lb | price_usd |\n",
    "|---|---|---|---|---|---|---|\n",
    "\n",
    "* _Hint:_ You can reorder DataFrame columns simply by writing over your DataFrame with itself, but specifying the specific column order with `.loc`. For example:\n",
    "\n",
    "`print(df)`\n",
    "\n",
    "| b | c | a |\n",
    "|---|---|---|\n",
    "| 1 | 2 | 3 |\n",
    "\n",
    "`df = df.loc[:, [\"a\", \"b\", \"c\"]]`\n",
    "\n",
    "`print(df)`\n",
    "\n",
    "| a | b | c |\n",
    "|---|---|---|\n",
    "| 3 | 1 | 2 |\n"
   ]
  },
  {
   "cell_type": "code",
   "execution_count": 96,
   "metadata": {},
   "outputs": [],
   "source": [
    "city_dict = {\n",
    "    \"Atlanta\": \"atl.csv\",\n",
    "    \"Austin\": \"atx.csv\",\n",
    "    \"Boston\": \"bos.csv\",\n",
    "    \"Chicago\": \"chi.csv\",\n",
    "    \"Denver\": \"den.csv\",\n",
    "    \"Los Angeles\": \"lax.csv\",\n",
    "    \"New York\": \"nyc.csv\",\n",
    "    \"San Francisco\": \"sf.csv\",\n",
    "    \"Seattle\": \"sea.csv\",\n",
    "    \"Washington, DC\": \"dc.csv\"\n",
    "}"
   ]
  },
  {
   "cell_type": "code",
   "execution_count": null,
   "metadata": {},
   "outputs": [],
   "source": [
    "# Loop through city_dict and carry out Step 6 here.\n",
    "# The keys of city_dict can serve as the sheet name.\n",
    "# The values of city_dict are what you should name the output .csv files.\n",
    "# If done correctly, this cell could take almost a minute to run!\n"
   ]
  },
  {
   "cell_type": "code",
   "execution_count": 168,
   "metadata": {},
   "outputs": [],
   "source": [
    "# Easy to loop through a list\n",
    "city_list = ['Atlanta', 'Austin', 'Boston', 'Chicago', 'Denver', 'Los Angeles', 'New York', 'San Francisco', 'Seattle', 'Washington, DC']"
   ]
  },
  {
   "cell_type": "code",
   "execution_count": 154,
   "metadata": {},
   "outputs": [
    {
     "data": {
      "text/plain": [
       "{'Atlanta': 'atl.csv',\n",
       " 'Austin': 'atx.csv',\n",
       " 'Boston': 'bos.csv',\n",
       " 'Chicago': 'chi.csv',\n",
       " 'Denver': 'den.csv',\n",
       " 'Los Angeles': 'lax.csv',\n",
       " 'New York': 'nyc.csv',\n",
       " 'San Francisco': 'sf.csv',\n",
       " 'Seattle': 'sea.csv',\n",
       " 'Washington, DC': 'dc.csv'}"
      ]
     },
     "execution_count": 154,
     "metadata": {},
     "output_type": "execute_result"
    }
   ],
   "source": [
    "city_dict"
   ]
  },
  {
   "cell_type": "code",
   "execution_count": 156,
   "metadata": {},
   "outputs": [
    {
     "data": {
      "text/plain": [
       "'atl.csv'"
      ]
     },
     "execution_count": 156,
     "metadata": {},
     "output_type": "execute_result"
    }
   ],
   "source": [
    "# How to get the value in city_dict\n",
    "city_dict[city_list[0]]"
   ]
  },
  {
   "cell_type": "code",
   "execution_count": 173,
   "metadata": {},
   "outputs": [
    {
     "data": {
      "text/plain": [
       "'Jan 23.xlsx'"
      ]
     },
     "execution_count": 173,
     "metadata": {},
     "output_type": "execute_result"
    }
   ],
   "source": [
    "# Files gives us a string\n",
    "files[0]"
   ]
  },
  {
   "cell_type": "code",
   "execution_count": 157,
   "metadata": {},
   "outputs": [
    {
     "data": {
      "text/plain": [
       "'/Users/aidancurley/Documents/dsir/Submissions/Labs/2.02-lab-excel-madness-master/output'"
      ]
     },
     "execution_count": 157,
     "metadata": {},
     "output_type": "execute_result"
    }
   ],
   "source": [
    "# This is what I need to use for os.path.join\n",
    "output"
   ]
  },
  {
   "cell_type": "code",
   "execution_count": 174,
   "metadata": {},
   "outputs": [
    {
     "name": "stdout",
     "output_type": "stream",
     "text": [
      "Atlanta\n",
      "Austin\n",
      "Boston\n",
      "Chicago\n",
      "Denver\n",
      "Los Angeles\n",
      "New York\n",
      "San Francisco\n",
      "Seattle\n",
      "Washington, DC\n"
     ]
    }
   ],
   "source": [
    "for i in city_list:\n",
    "    print(i)"
   ]
  },
  {
   "cell_type": "code",
   "execution_count": 177,
   "metadata": {},
   "outputs": [],
   "source": [
    "# https://stackoverflow.com/questions/52521594/adding-a-path-to-pandas-to-csv-function\n",
    "# Credit to David Lee for contributing to this\n",
    "for _, xi in enumerate(city_list):\n",
    "    jan_ny = [process_data(n, xi) for n in files]\n",
    "    concat = pd.concat(jan_ny)\n",
    "    concat['city'] = xi\n",
    "    concat = concat.loc[:, [\"city\", \"date\", \"product\", \"prodcode\", \"quantity\", \"weight_lb\", \"price_usd\"]]\n",
    "    final_name = city_dict[city_list[_]]\n",
    "    output_file = os.path.join(output, final_name)\n",
    "    concat.to_csv(output_file)"
   ]
  },
  {
   "cell_type": "code",
   "execution_count": 200,
   "metadata": {},
   "outputs": [
    {
     "data": {
      "text/html": [
       "<div>\n",
       "<style scoped>\n",
       "    .dataframe tbody tr th:only-of-type {\n",
       "        vertical-align: middle;\n",
       "    }\n",
       "\n",
       "    .dataframe tbody tr th {\n",
       "        vertical-align: top;\n",
       "    }\n",
       "\n",
       "    .dataframe thead th {\n",
       "        text-align: right;\n",
       "    }\n",
       "</style>\n",
       "<table border=\"1\" class=\"dataframe\">\n",
       "  <thead>\n",
       "    <tr style=\"text-align: right;\">\n",
       "      <th></th>\n",
       "      <th>prodcode</th>\n",
       "      <th>quantity</th>\n",
       "      <th>price_usd</th>\n",
       "      <th>weight_lb</th>\n",
       "      <th>product</th>\n",
       "      <th>date</th>\n",
       "    </tr>\n",
       "  </thead>\n",
       "  <tbody>\n",
       "    <tr>\n",
       "      <th>0</th>\n",
       "      <td>4323</td>\n",
       "      <td>272</td>\n",
       "      <td>1.373113</td>\n",
       "      <td>16.080387</td>\n",
       "      <td>Strawberries</td>\n",
       "      <td>Jan 19</td>\n",
       "    </tr>\n",
       "    <tr>\n",
       "      <th>1</th>\n",
       "      <td>4323</td>\n",
       "      <td>479</td>\n",
       "      <td>1.550520</td>\n",
       "      <td>4.738151</td>\n",
       "      <td>Strawberries</td>\n",
       "      <td>Jan 19</td>\n",
       "    </tr>\n",
       "    <tr>\n",
       "      <th>2</th>\n",
       "      <td>4323</td>\n",
       "      <td>116</td>\n",
       "      <td>2.377354</td>\n",
       "      <td>7.544380</td>\n",
       "      <td>Strawberries</td>\n",
       "      <td>Jan 19</td>\n",
       "    </tr>\n",
       "    <tr>\n",
       "      <th>3</th>\n",
       "      <td>4323</td>\n",
       "      <td>232</td>\n",
       "      <td>1.881809</td>\n",
       "      <td>13.793520</td>\n",
       "      <td>Strawberries</td>\n",
       "      <td>Jan 19</td>\n",
       "    </tr>\n",
       "    <tr>\n",
       "      <th>4</th>\n",
       "      <td>4225</td>\n",
       "      <td>242</td>\n",
       "      <td>3.298338</td>\n",
       "      <td>9.990708</td>\n",
       "      <td>Avocado</td>\n",
       "      <td>Jan 19</td>\n",
       "    </tr>\n",
       "    <tr>\n",
       "      <th>...</th>\n",
       "      <td>...</td>\n",
       "      <td>...</td>\n",
       "      <td>...</td>\n",
       "      <td>...</td>\n",
       "      <td>...</td>\n",
       "      <td>...</td>\n",
       "    </tr>\n",
       "    <tr>\n",
       "      <th>108</th>\n",
       "      <td>4309</td>\n",
       "      <td>405</td>\n",
       "      <td>1.202293</td>\n",
       "      <td>5.352873</td>\n",
       "      <td>Lychee</td>\n",
       "      <td>Jan 19</td>\n",
       "    </tr>\n",
       "    <tr>\n",
       "      <th>109</th>\n",
       "      <td>4309</td>\n",
       "      <td>273</td>\n",
       "      <td>0.861107</td>\n",
       "      <td>18.502841</td>\n",
       "      <td>Lychee</td>\n",
       "      <td>Jan 19</td>\n",
       "    </tr>\n",
       "    <tr>\n",
       "      <th>110</th>\n",
       "      <td>4650</td>\n",
       "      <td>482</td>\n",
       "      <td>1.841775</td>\n",
       "      <td>5.635449</td>\n",
       "      <td>Mushroom</td>\n",
       "      <td>Jan 19</td>\n",
       "    </tr>\n",
       "    <tr>\n",
       "      <th>111</th>\n",
       "      <td>4650</td>\n",
       "      <td>369</td>\n",
       "      <td>1.198938</td>\n",
       "      <td>10.979843</td>\n",
       "      <td>Mushroom</td>\n",
       "      <td>Jan 19</td>\n",
       "    </tr>\n",
       "    <tr>\n",
       "      <th>112</th>\n",
       "      <td>4650</td>\n",
       "      <td>404</td>\n",
       "      <td>2.751695</td>\n",
       "      <td>6.863410</td>\n",
       "      <td>Mushroom</td>\n",
       "      <td>Jan 19</td>\n",
       "    </tr>\n",
       "  </tbody>\n",
       "</table>\n",
       "<p>113 rows × 6 columns</p>\n",
       "</div>"
      ],
      "text/plain": [
       "     prodcode  quantity  price_usd  weight_lb       product    date\n",
       "0        4323       272   1.373113  16.080387  Strawberries  Jan 19\n",
       "1        4323       479   1.550520   4.738151  Strawberries  Jan 19\n",
       "2        4323       116   2.377354   7.544380  Strawberries  Jan 19\n",
       "3        4323       232   1.881809  13.793520  Strawberries  Jan 19\n",
       "4        4225       242   3.298338   9.990708       Avocado  Jan 19\n",
       "..        ...       ...        ...        ...           ...     ...\n",
       "108      4309       405   1.202293   5.352873        Lychee  Jan 19\n",
       "109      4309       273   0.861107  18.502841        Lychee  Jan 19\n",
       "110      4650       482   1.841775   5.635449      Mushroom  Jan 19\n",
       "111      4650       369   1.198938  10.979843      Mushroom  Jan 19\n",
       "112      4650       404   2.751695   6.863410      Mushroom  Jan 19\n",
       "\n",
       "[113 rows x 6 columns]"
      ]
     },
     "execution_count": 200,
     "metadata": {},
     "output_type": "execute_result"
    }
   ],
   "source": [
    "jan_ny[1]"
   ]
  },
  {
   "cell_type": "code",
   "execution_count": 198,
   "metadata": {},
   "outputs": [
    {
     "data": {
      "text/html": [
       "<div>\n",
       "<style scoped>\n",
       "    .dataframe tbody tr th:only-of-type {\n",
       "        vertical-align: middle;\n",
       "    }\n",
       "\n",
       "    .dataframe tbody tr th {\n",
       "        vertical-align: top;\n",
       "    }\n",
       "\n",
       "    .dataframe thead th {\n",
       "        text-align: right;\n",
       "    }\n",
       "</style>\n",
       "<table border=\"1\" class=\"dataframe\">\n",
       "  <thead>\n",
       "    <tr style=\"text-align: right;\">\n",
       "      <th></th>\n",
       "      <th>city</th>\n",
       "      <th>date</th>\n",
       "      <th>product</th>\n",
       "      <th>prodcode</th>\n",
       "      <th>quantity</th>\n",
       "      <th>weight_lb</th>\n",
       "      <th>price_usd</th>\n",
       "    </tr>\n",
       "  </thead>\n",
       "  <tbody>\n",
       "    <tr>\n",
       "      <th>0</th>\n",
       "      <td>Washington, DC</td>\n",
       "      <td>Jan 23</td>\n",
       "      <td>Orange</td>\n",
       "      <td>4012</td>\n",
       "      <td>488</td>\n",
       "      <td>14.061532</td>\n",
       "      <td>1.724722</td>\n",
       "    </tr>\n",
       "    <tr>\n",
       "      <th>1</th>\n",
       "      <td>Washington, DC</td>\n",
       "      <td>Jan 23</td>\n",
       "      <td>Orange</td>\n",
       "      <td>4012</td>\n",
       "      <td>454</td>\n",
       "      <td>4.301680</td>\n",
       "      <td>1.414691</td>\n",
       "    </tr>\n",
       "    <tr>\n",
       "      <th>2</th>\n",
       "      <td>Washington, DC</td>\n",
       "      <td>Jan 23</td>\n",
       "      <td>Orange</td>\n",
       "      <td>4012</td>\n",
       "      <td>248</td>\n",
       "      <td>19.711042</td>\n",
       "      <td>2.136255</td>\n",
       "    </tr>\n",
       "    <tr>\n",
       "      <th>3</th>\n",
       "      <td>Washington, DC</td>\n",
       "      <td>Jan 23</td>\n",
       "      <td>Orange</td>\n",
       "      <td>4012</td>\n",
       "      <td>295</td>\n",
       "      <td>8.214318</td>\n",
       "      <td>0.934342</td>\n",
       "    </tr>\n",
       "    <tr>\n",
       "      <th>4</th>\n",
       "      <td>Washington, DC</td>\n",
       "      <td>Jan 23</td>\n",
       "      <td>Orange</td>\n",
       "      <td>4012</td>\n",
       "      <td>374</td>\n",
       "      <td>3.933965</td>\n",
       "      <td>1.200956</td>\n",
       "    </tr>\n",
       "    <tr>\n",
       "      <th>...</th>\n",
       "      <td>...</td>\n",
       "      <td>...</td>\n",
       "      <td>...</td>\n",
       "      <td>...</td>\n",
       "      <td>...</td>\n",
       "      <td>...</td>\n",
       "      <td>...</td>\n",
       "    </tr>\n",
       "    <tr>\n",
       "      <th>163</th>\n",
       "      <td>Washington, DC</td>\n",
       "      <td>Jan 8</td>\n",
       "      <td>Banana</td>\n",
       "      <td>4011</td>\n",
       "      <td>187</td>\n",
       "      <td>17.033067</td>\n",
       "      <td>0.626851</td>\n",
       "    </tr>\n",
       "    <tr>\n",
       "      <th>164</th>\n",
       "      <td>Washington, DC</td>\n",
       "      <td>Jan 8</td>\n",
       "      <td>Banana</td>\n",
       "      <td>4011</td>\n",
       "      <td>476</td>\n",
       "      <td>9.309348</td>\n",
       "      <td>3.126045</td>\n",
       "    </tr>\n",
       "    <tr>\n",
       "      <th>165</th>\n",
       "      <td>Washington, DC</td>\n",
       "      <td>Jan 8</td>\n",
       "      <td>Banana</td>\n",
       "      <td>4011</td>\n",
       "      <td>238</td>\n",
       "      <td>5.209897</td>\n",
       "      <td>0.882481</td>\n",
       "    </tr>\n",
       "    <tr>\n",
       "      <th>166</th>\n",
       "      <td>Washington, DC</td>\n",
       "      <td>Jan 8</td>\n",
       "      <td>Banana</td>\n",
       "      <td>4011</td>\n",
       "      <td>118</td>\n",
       "      <td>12.531757</td>\n",
       "      <td>1.554881</td>\n",
       "    </tr>\n",
       "    <tr>\n",
       "      <th>167</th>\n",
       "      <td>Washington, DC</td>\n",
       "      <td>Jan 8</td>\n",
       "      <td>Banana</td>\n",
       "      <td>4011</td>\n",
       "      <td>284</td>\n",
       "      <td>21.133395</td>\n",
       "      <td>2.820328</td>\n",
       "    </tr>\n",
       "  </tbody>\n",
       "</table>\n",
       "<p>4521 rows × 7 columns</p>\n",
       "</div>"
      ],
      "text/plain": [
       "               city    date product  prodcode  quantity  weight_lb  price_usd\n",
       "0    Washington, DC  Jan 23  Orange      4012       488  14.061532   1.724722\n",
       "1    Washington, DC  Jan 23  Orange      4012       454   4.301680   1.414691\n",
       "2    Washington, DC  Jan 23  Orange      4012       248  19.711042   2.136255\n",
       "3    Washington, DC  Jan 23  Orange      4012       295   8.214318   0.934342\n",
       "4    Washington, DC  Jan 23  Orange      4012       374   3.933965   1.200956\n",
       "..              ...     ...     ...       ...       ...        ...        ...\n",
       "163  Washington, DC   Jan 8  Banana      4011       187  17.033067   0.626851\n",
       "164  Washington, DC   Jan 8  Banana      4011       476   9.309348   3.126045\n",
       "165  Washington, DC   Jan 8  Banana      4011       238   5.209897   0.882481\n",
       "166  Washington, DC   Jan 8  Banana      4011       118  12.531757   1.554881\n",
       "167  Washington, DC   Jan 8  Banana      4011       284  21.133395   2.820328\n",
       "\n",
       "[4521 rows x 7 columns]"
      ]
     },
     "execution_count": 198,
     "metadata": {},
     "output_type": "execute_result"
    }
   ],
   "source": [
    "concat"
   ]
  },
  {
   "cell_type": "markdown",
   "metadata": {},
   "source": [
    "# Part II: Checking our answers \n",
    "In steps very similar to the ones conducted above...\n",
    "1. Loop through the files we just wrote to `output`, and read them in, collecting them all in one list _(Hint: Using the `os` library and a list comprehension would make this 1-2 lines of code!)_\n",
    "1. Combine all of those DataFrames into one large DataFrame\n",
    "1. For each city, find the mean `quantity`, `weight_lb`, and `price_usd`.\n",
    "\n",
    "If you've done everything correct, your answer should look exactly like this:\n",
    "\n",
    "![](imgs/correct-output.png)"
   ]
  },
  {
   "cell_type": "code",
   "execution_count": 178,
   "metadata": {},
   "outputs": [],
   "source": [
    "import glob"
   ]
  },
  {
   "cell_type": "code",
   "execution_count": 180,
   "metadata": {},
   "outputs": [
    {
     "data": {
      "text/plain": [
       "'/Users/aidancurley/Documents/dsir/Submissions/Labs/2.02-lab-excel-madness-master/output'"
      ]
     },
     "execution_count": 180,
     "metadata": {},
     "output_type": "execute_result"
    }
   ],
   "source": [
    "output"
   ]
  },
  {
   "cell_type": "code",
   "execution_count": 181,
   "metadata": {},
   "outputs": [],
   "source": [
    "# https://stackoverflow.com/questions/20906474/import-multiple-csv-files-into-pandas-and-concatenate-into-one-dataframe\n",
    "all_files = glob.glob(output + \"/*.csv\")\n",
    "df = pd.concat((pd.read_csv(f) for f in all_files))"
   ]
  },
  {
   "cell_type": "code",
   "execution_count": 183,
   "metadata": {},
   "outputs": [
    {
     "data": {
      "text/html": [
       "<div>\n",
       "<style scoped>\n",
       "    .dataframe tbody tr th:only-of-type {\n",
       "        vertical-align: middle;\n",
       "    }\n",
       "\n",
       "    .dataframe tbody tr th {\n",
       "        vertical-align: top;\n",
       "    }\n",
       "\n",
       "    .dataframe thead th {\n",
       "        text-align: right;\n",
       "    }\n",
       "</style>\n",
       "<table border=\"1\" class=\"dataframe\">\n",
       "  <thead>\n",
       "    <tr style=\"text-align: right;\">\n",
       "      <th></th>\n",
       "      <th>Unnamed: 0</th>\n",
       "      <th>city</th>\n",
       "      <th>date</th>\n",
       "      <th>product</th>\n",
       "      <th>prodcode</th>\n",
       "      <th>quantity</th>\n",
       "      <th>weight_lb</th>\n",
       "      <th>price_usd</th>\n",
       "    </tr>\n",
       "  </thead>\n",
       "  <tbody>\n",
       "    <tr>\n",
       "      <th>0</th>\n",
       "      <td>0</td>\n",
       "      <td>Los Angeles</td>\n",
       "      <td>Jan 23</td>\n",
       "      <td>Lemon</td>\n",
       "      <td>4958</td>\n",
       "      <td>263</td>\n",
       "      <td>12.163276</td>\n",
       "      <td>2.880092</td>\n",
       "    </tr>\n",
       "    <tr>\n",
       "      <th>1</th>\n",
       "      <td>1</td>\n",
       "      <td>Los Angeles</td>\n",
       "      <td>Jan 23</td>\n",
       "      <td>Lemon</td>\n",
       "      <td>4958</td>\n",
       "      <td>222</td>\n",
       "      <td>21.167025</td>\n",
       "      <td>1.486121</td>\n",
       "    </tr>\n",
       "    <tr>\n",
       "      <th>2</th>\n",
       "      <td>2</td>\n",
       "      <td>Los Angeles</td>\n",
       "      <td>Jan 23</td>\n",
       "      <td>Lemon</td>\n",
       "      <td>4958</td>\n",
       "      <td>355</td>\n",
       "      <td>13.458449</td>\n",
       "      <td>2.237626</td>\n",
       "    </tr>\n",
       "    <tr>\n",
       "      <th>3</th>\n",
       "      <td>3</td>\n",
       "      <td>Los Angeles</td>\n",
       "      <td>Jan 23</td>\n",
       "      <td>Lemon</td>\n",
       "      <td>4958</td>\n",
       "      <td>101</td>\n",
       "      <td>11.642977</td>\n",
       "      <td>1.303736</td>\n",
       "    </tr>\n",
       "    <tr>\n",
       "      <th>4</th>\n",
       "      <td>4</td>\n",
       "      <td>Los Angeles</td>\n",
       "      <td>Jan 23</td>\n",
       "      <td>Lemon</td>\n",
       "      <td>4958</td>\n",
       "      <td>185</td>\n",
       "      <td>10.649555</td>\n",
       "      <td>1.493155</td>\n",
       "    </tr>\n",
       "  </tbody>\n",
       "</table>\n",
       "</div>"
      ],
      "text/plain": [
       "   Unnamed: 0         city    date product  prodcode  quantity  weight_lb  \\\n",
       "0           0  Los Angeles  Jan 23   Lemon      4958       263  12.163276   \n",
       "1           1  Los Angeles  Jan 23   Lemon      4958       222  21.167025   \n",
       "2           2  Los Angeles  Jan 23   Lemon      4958       355  13.458449   \n",
       "3           3  Los Angeles  Jan 23   Lemon      4958       101  11.642977   \n",
       "4           4  Los Angeles  Jan 23   Lemon      4958       185  10.649555   \n",
       "\n",
       "   price_usd  \n",
       "0   2.880092  \n",
       "1   1.486121  \n",
       "2   2.237626  \n",
       "3   1.303736  \n",
       "4   1.493155  "
      ]
     },
     "execution_count": 183,
     "metadata": {},
     "output_type": "execute_result"
    }
   ],
   "source": [
    "df.head()"
   ]
  },
  {
   "cell_type": "code",
   "execution_count": 197,
   "metadata": {},
   "outputs": [
    {
     "data": {
      "text/html": [
       "<div>\n",
       "<style scoped>\n",
       "    .dataframe tbody tr th:only-of-type {\n",
       "        vertical-align: middle;\n",
       "    }\n",
       "\n",
       "    .dataframe tbody tr th {\n",
       "        vertical-align: top;\n",
       "    }\n",
       "\n",
       "    .dataframe thead th {\n",
       "        text-align: right;\n",
       "    }\n",
       "</style>\n",
       "<table border=\"1\" class=\"dataframe\">\n",
       "  <thead>\n",
       "    <tr style=\"text-align: right;\">\n",
       "      <th></th>\n",
       "      <th>Unnamed: 0</th>\n",
       "      <th>city</th>\n",
       "      <th>date</th>\n",
       "      <th>product</th>\n",
       "      <th>prodcode</th>\n",
       "      <th>quantity</th>\n",
       "      <th>weight_lb</th>\n",
       "      <th>price_usd</th>\n",
       "    </tr>\n",
       "  </thead>\n",
       "  <tbody>\n",
       "    <tr>\n",
       "      <th>0</th>\n",
       "      <td>0</td>\n",
       "      <td>Los Angeles</td>\n",
       "      <td>Jan 23</td>\n",
       "      <td>Lemon</td>\n",
       "      <td>4958</td>\n",
       "      <td>263</td>\n",
       "      <td>12.163276</td>\n",
       "      <td>2.880092</td>\n",
       "    </tr>\n",
       "    <tr>\n",
       "      <th>1</th>\n",
       "      <td>1</td>\n",
       "      <td>Los Angeles</td>\n",
       "      <td>Jan 23</td>\n",
       "      <td>Lemon</td>\n",
       "      <td>4958</td>\n",
       "      <td>222</td>\n",
       "      <td>21.167025</td>\n",
       "      <td>1.486121</td>\n",
       "    </tr>\n",
       "    <tr>\n",
       "      <th>2</th>\n",
       "      <td>2</td>\n",
       "      <td>Los Angeles</td>\n",
       "      <td>Jan 23</td>\n",
       "      <td>Lemon</td>\n",
       "      <td>4958</td>\n",
       "      <td>355</td>\n",
       "      <td>13.458449</td>\n",
       "      <td>2.237626</td>\n",
       "    </tr>\n",
       "    <tr>\n",
       "      <th>3</th>\n",
       "      <td>3</td>\n",
       "      <td>Los Angeles</td>\n",
       "      <td>Jan 23</td>\n",
       "      <td>Lemon</td>\n",
       "      <td>4958</td>\n",
       "      <td>101</td>\n",
       "      <td>11.642977</td>\n",
       "      <td>1.303736</td>\n",
       "    </tr>\n",
       "    <tr>\n",
       "      <th>4</th>\n",
       "      <td>4</td>\n",
       "      <td>Los Angeles</td>\n",
       "      <td>Jan 23</td>\n",
       "      <td>Lemon</td>\n",
       "      <td>4958</td>\n",
       "      <td>185</td>\n",
       "      <td>10.649555</td>\n",
       "      <td>1.493155</td>\n",
       "    </tr>\n",
       "    <tr>\n",
       "      <th>...</th>\n",
       "      <td>...</td>\n",
       "      <td>...</td>\n",
       "      <td>...</td>\n",
       "      <td>...</td>\n",
       "      <td>...</td>\n",
       "      <td>...</td>\n",
       "      <td>...</td>\n",
       "      <td>...</td>\n",
       "    </tr>\n",
       "    <tr>\n",
       "      <th>4585</th>\n",
       "      <td>155</td>\n",
       "      <td>Boston</td>\n",
       "      <td>Jan 8</td>\n",
       "      <td>Apple (Fuji)</td>\n",
       "      <td>4131</td>\n",
       "      <td>445</td>\n",
       "      <td>21.162546</td>\n",
       "      <td>2.201526</td>\n",
       "    </tr>\n",
       "    <tr>\n",
       "      <th>4586</th>\n",
       "      <td>156</td>\n",
       "      <td>Boston</td>\n",
       "      <td>Jan 8</td>\n",
       "      <td>Apple (Fuji)</td>\n",
       "      <td>4131</td>\n",
       "      <td>409</td>\n",
       "      <td>10.426867</td>\n",
       "      <td>0.681161</td>\n",
       "    </tr>\n",
       "    <tr>\n",
       "      <th>4587</th>\n",
       "      <td>157</td>\n",
       "      <td>Boston</td>\n",
       "      <td>Jan 8</td>\n",
       "      <td>Eggplant</td>\n",
       "      <td>4081</td>\n",
       "      <td>211</td>\n",
       "      <td>9.991937</td>\n",
       "      <td>2.813027</td>\n",
       "    </tr>\n",
       "    <tr>\n",
       "      <th>4588</th>\n",
       "      <td>158</td>\n",
       "      <td>Boston</td>\n",
       "      <td>Jan 8</td>\n",
       "      <td>Eggplant</td>\n",
       "      <td>4081</td>\n",
       "      <td>453</td>\n",
       "      <td>14.006035</td>\n",
       "      <td>1.422620</td>\n",
       "    </tr>\n",
       "    <tr>\n",
       "      <th>4589</th>\n",
       "      <td>159</td>\n",
       "      <td>Boston</td>\n",
       "      <td>Jan 8</td>\n",
       "      <td>Eggplant</td>\n",
       "      <td>4081</td>\n",
       "      <td>117</td>\n",
       "      <td>20.503310</td>\n",
       "      <td>1.813026</td>\n",
       "    </tr>\n",
       "  </tbody>\n",
       "</table>\n",
       "<p>47037 rows × 8 columns</p>\n",
       "</div>"
      ],
      "text/plain": [
       "      Unnamed: 0         city    date       product  prodcode  quantity  \\\n",
       "0              0  Los Angeles  Jan 23         Lemon      4958       263   \n",
       "1              1  Los Angeles  Jan 23         Lemon      4958       222   \n",
       "2              2  Los Angeles  Jan 23         Lemon      4958       355   \n",
       "3              3  Los Angeles  Jan 23         Lemon      4958       101   \n",
       "4              4  Los Angeles  Jan 23         Lemon      4958       185   \n",
       "...          ...          ...     ...           ...       ...       ...   \n",
       "4585         155       Boston   Jan 8  Apple (Fuji)      4131       445   \n",
       "4586         156       Boston   Jan 8  Apple (Fuji)      4131       409   \n",
       "4587         157       Boston   Jan 8      Eggplant      4081       211   \n",
       "4588         158       Boston   Jan 8      Eggplant      4081       453   \n",
       "4589         159       Boston   Jan 8      Eggplant      4081       117   \n",
       "\n",
       "      weight_lb  price_usd  \n",
       "0     12.163276   2.880092  \n",
       "1     21.167025   1.486121  \n",
       "2     13.458449   2.237626  \n",
       "3     11.642977   1.303736  \n",
       "4     10.649555   1.493155  \n",
       "...         ...        ...  \n",
       "4585  21.162546   2.201526  \n",
       "4586  10.426867   0.681161  \n",
       "4587   9.991937   2.813027  \n",
       "4588  14.006035   1.422620  \n",
       "4589  20.503310   1.813026  \n",
       "\n",
       "[47037 rows x 8 columns]"
      ]
     },
     "execution_count": 197,
     "metadata": {},
     "output_type": "execute_result"
    }
   ],
   "source": [
    "df"
   ]
  },
  {
   "cell_type": "code",
   "execution_count": 189,
   "metadata": {},
   "outputs": [],
   "source": [
    "# https://towardsdatascience.com/pandas-pivot-the-ultimate-guide-5c693e0771f3 \n",
    "# ^ Helped with figuring out setup for this pivot table\n",
    "pivot_df = df.pivot_table(index=\"city\", values=[\"quantity\", \"price_usd\", \"weight_lb\"], aggfunc=np.mean)"
   ]
  },
  {
   "cell_type": "code",
   "execution_count": 195,
   "metadata": {},
   "outputs": [],
   "source": [
    "pivot_df = pivot_df.loc[:, [\"quantity\", \"weight_lb\", \"price_usd\"]]"
   ]
  },
  {
   "cell_type": "code",
   "execution_count": 196,
   "metadata": {},
   "outputs": [
    {
     "data": {
      "text/html": [
       "<div>\n",
       "<style scoped>\n",
       "    .dataframe tbody tr th:only-of-type {\n",
       "        vertical-align: middle;\n",
       "    }\n",
       "\n",
       "    .dataframe tbody tr th {\n",
       "        vertical-align: top;\n",
       "    }\n",
       "\n",
       "    .dataframe thead th {\n",
       "        text-align: right;\n",
       "    }\n",
       "</style>\n",
       "<table border=\"1\" class=\"dataframe\">\n",
       "  <thead>\n",
       "    <tr style=\"text-align: right;\">\n",
       "      <th></th>\n",
       "      <th>quantity</th>\n",
       "      <th>weight_lb</th>\n",
       "      <th>price_usd</th>\n",
       "    </tr>\n",
       "    <tr>\n",
       "      <th>city</th>\n",
       "      <th></th>\n",
       "      <th></th>\n",
       "      <th></th>\n",
       "    </tr>\n",
       "  </thead>\n",
       "  <tbody>\n",
       "    <tr>\n",
       "      <th>Atlanta</th>\n",
       "      <td>302.485306</td>\n",
       "      <td>11.929027</td>\n",
       "      <td>1.937980</td>\n",
       "    </tr>\n",
       "    <tr>\n",
       "      <th>Austin</th>\n",
       "      <td>301.048298</td>\n",
       "      <td>12.092775</td>\n",
       "      <td>1.937456</td>\n",
       "    </tr>\n",
       "    <tr>\n",
       "      <th>Boston</th>\n",
       "      <td>298.806536</td>\n",
       "      <td>12.063057</td>\n",
       "      <td>1.900973</td>\n",
       "    </tr>\n",
       "    <tr>\n",
       "      <th>Chicago</th>\n",
       "      <td>301.686186</td>\n",
       "      <td>12.101555</td>\n",
       "      <td>1.930026</td>\n",
       "    </tr>\n",
       "    <tr>\n",
       "      <th>Denver</th>\n",
       "      <td>301.012745</td>\n",
       "      <td>12.129850</td>\n",
       "      <td>1.932088</td>\n",
       "    </tr>\n",
       "    <tr>\n",
       "      <th>Los Angeles</th>\n",
       "      <td>301.531276</td>\n",
       "      <td>12.167527</td>\n",
       "      <td>1.918331</td>\n",
       "    </tr>\n",
       "    <tr>\n",
       "      <th>New York</th>\n",
       "      <td>299.482863</td>\n",
       "      <td>12.090294</td>\n",
       "      <td>1.912662</td>\n",
       "    </tr>\n",
       "    <tr>\n",
       "      <th>San Francisco</th>\n",
       "      <td>298.979895</td>\n",
       "      <td>12.237399</td>\n",
       "      <td>1.925830</td>\n",
       "    </tr>\n",
       "    <tr>\n",
       "      <th>Seattle</th>\n",
       "      <td>300.333694</td>\n",
       "      <td>11.925486</td>\n",
       "      <td>1.903315</td>\n",
       "    </tr>\n",
       "    <tr>\n",
       "      <th>Washington, DC</th>\n",
       "      <td>300.576421</td>\n",
       "      <td>11.930747</td>\n",
       "      <td>1.943107</td>\n",
       "    </tr>\n",
       "  </tbody>\n",
       "</table>\n",
       "</div>"
      ],
      "text/plain": [
       "                  quantity  weight_lb  price_usd\n",
       "city                                            \n",
       "Atlanta         302.485306  11.929027   1.937980\n",
       "Austin          301.048298  12.092775   1.937456\n",
       "Boston          298.806536  12.063057   1.900973\n",
       "Chicago         301.686186  12.101555   1.930026\n",
       "Denver          301.012745  12.129850   1.932088\n",
       "Los Angeles     301.531276  12.167527   1.918331\n",
       "New York        299.482863  12.090294   1.912662\n",
       "San Francisco   298.979895  12.237399   1.925830\n",
       "Seattle         300.333694  11.925486   1.903315\n",
       "Washington, DC  300.576421  11.930747   1.943107"
      ]
     },
     "execution_count": 196,
     "metadata": {},
     "output_type": "execute_result"
    }
   ],
   "source": [
    "pivot_df"
   ]
  },
  {
   "cell_type": "markdown",
   "metadata": {},
   "source": [
    "# Part III (BONUS): Get this process production-ready!\n",
    "_This part of the lab is optional, but very highly recommended, as the skills developed in this part are extremely common in industry._\n",
    "\n",
    "For this step, we're going to take this whole process and put it into a production-ready Python script. **ABSOLUTELY NONE OF THIS STEP SHOULD TAKE PLACE IN A JUPYTER NOTEBOOK! PRODUCTIONALIZED ETL (_\"Extract, Transform, Load\"_) CODE DOES NOT TAKE PLACE IN A JUPYTER NOTEBOOK!**\n",
    "\n",
    "The instructions are simple: As conducted in this lab, read, transform, and export the data in our Excel files into .csv files. The code should be in a `.py` file (editable in any text editor) and executable from the command line. Here are some hints and tips to guide you:\n",
    "\n",
    "### Hints, tips, and tricks:\n",
    "* A good place to start is with the code you've already written. In this notebook, you can click `File > Download as > Python (.py)` to export as a `.py` file. Most of this exercise then comes down to you cleaning this file. (There will be a lot to clean).\n",
    "* Remember `os.mkdir()` will throw an error if the folder you're trying to make already exists. Maybe you should check to see if it already exists. If it already exists, what should you do? (Remember that `.csv` can be overwritten with no problem.) The functions that can help you with this are all in the `os` library.\n",
    "* Remember to follow all of the Python best practices we've already learned:\n",
    "    - All import statements should go at the top of your script.\n",
    "    - **Comment your code.** Comments shouldn't explain _what_ code does, but _why_ the code does this.\n",
    "    - Keep your code DRY (don't repeat yourself) as opposed to WET (write everything twice). All constants should be variables that only need to be changed once. All code should be bottled into functions so you only need to fix it once.\n",
    "* Make sure not to hardcode \"Jan\" anywhere. The point is that this code can be run throughout the lifetime of this supermarket's project, which is likely months or years. Keep your code so that if you get February data, you only need to change one tiny piece of the script (probably a file path)."
   ]
  },
  {
   "cell_type": "code",
   "execution_count": null,
   "metadata": {},
   "outputs": [],
   "source": []
  }
 ],
 "metadata": {
  "kernelspec": {
   "display_name": "Python 3",
   "language": "python",
   "name": "python3"
  },
  "language_info": {
   "codemirror_mode": {
    "name": "ipython",
    "version": 3
   },
   "file_extension": ".py",
   "mimetype": "text/x-python",
   "name": "python",
   "nbconvert_exporter": "python",
   "pygments_lexer": "ipython3",
   "version": "3.7.6"
  }
 },
 "nbformat": 4,
 "nbformat_minor": 4
}
