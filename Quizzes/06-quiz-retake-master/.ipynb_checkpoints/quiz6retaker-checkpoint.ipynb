{
 "cells": [
  {
   "cell_type": "code",
   "execution_count": 73,
   "metadata": {},
   "outputs": [],
   "source": [
    "def snippet(nums):\n",
    "    this = []\n",
    "    for num in str(nums):\n",
    "        this.append(int(num))\n",
    "    \n",
    "    print(this)\n",
    "    count = len(this)\n",
    "    goal = 13\n",
    "    summed = []\n",
    "    while count != 0:\n",
    "        for xi in this:\n",
    "            summed.append(xi)\n",
    "            print(sum(summed)) # Need to get the sum for the the numbers next to each other?\n",
    "        if sum(summed) == goal:\n",
    "            return True\n",
    "        else:\n",
    "            return False\n",
    "        count -= 1\n",
    "\n",
    "\n",
    "    "
   ]
  },
  {
   "cell_type": "code",
   "execution_count": 74,
   "metadata": {},
   "outputs": [
    {
     "name": "stdout",
     "output_type": "stream",
     "text": [
      "[4, 7, 2, 0]\n",
      "4\n",
      "11\n",
      "13\n",
      "13\n"
     ]
    },
    {
     "data": {
      "text/plain": [
       "True"
      ]
     },
     "execution_count": 74,
     "metadata": {},
     "output_type": "execute_result"
    }
   ],
   "source": [
    "snippet(4720) # This works on just 4720"
   ]
  },
  {
   "cell_type": "code",
   "execution_count": 118,
   "metadata": {},
   "outputs": [],
   "source": [
    "# I need to figure out how to get the sum of the consecutive numbers and once it hits 13 stop\n",
    "# However it might not start directly at index 0, so I need to look through every position in the number \n",
    "# Since it can start anywhere.\n",
    "def snipper(nums):\n",
    "    this = []\n",
    "    for num in str(nums):\n",
    "        this.append(int(num))\n",
    "    # Case if the sum of the entire number is 13  \n",
    "    if sum(this) == 13:\n",
    "        return True\n",
    "    \n",
    "    # Sums the values directly next to each other. Still starting from the beginning.\n",
    "    next2 = []\n",
    "    for index, xi in enumerate(this):\n",
    "        next2.append(this[index] + this[index-1])\n",
    "        \n",
    "    for index, j in enumerate(next2):\n",
    "        if j == 13:\n",
    "            return True\n",
    "        elif next2[index] + next2[index] == 13:\n",
    "            return True\n",
    "        else:\n",
    "            return False"
   ]
  },
  {
   "cell_type": "code",
   "execution_count": 119,
   "metadata": {},
   "outputs": [
    {
     "data": {
      "text/plain": [
       "False"
      ]
     },
     "execution_count": 119,
     "metadata": {},
     "output_type": "execute_result"
    }
   ],
   "source": [
    "snipper(72041)"
   ]
  }
 ],
 "metadata": {
  "kernelspec": {
   "display_name": "Python [conda env:.conda-dsi] *",
   "language": "python",
   "name": "conda-env-.conda-dsi-py"
  },
  "language_info": {
   "codemirror_mode": {
    "name": "ipython",
    "version": 3
   },
   "file_extension": ".py",
   "mimetype": "text/x-python",
   "name": "python",
   "nbconvert_exporter": "python",
   "pygments_lexer": "ipython3",
   "version": "3.7.7"
  }
 },
 "nbformat": 4,
 "nbformat_minor": 4
}
