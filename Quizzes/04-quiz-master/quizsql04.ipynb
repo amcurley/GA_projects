{
 "cells": [
  {
   "cell_type": "markdown",
   "metadata": {},
   "source": [
    "1.    \n",
    "\n",
    "```SQL  \n",
    "sql = \"\"\"\n",
    "SELECT *\n",
    "FROM animals\n",
    "\"\"\"\n",
    "df = sqldf(sql)\n",
    "df.head(10)  \n",
    "```  "
   ]
  },
  {
   "cell_type": "markdown",
   "metadata": {},
   "source": [
    "2.  \n",
    "\n",
    "```SQL  \n",
    "sql = \"\"\"\n",
    "SELECT DISTINCT a.breed\n",
    "FROM animals as a\n",
    "\"\"\"\n",
    "\n",
    "df = sqldf(sql)\n",
    "df.head()  \n",
    "```"
   ]
  },
  {
   "cell_type": "markdown",
   "metadata": {},
   "source": [
    "3.  \n",
    "\n",
    "```SQL  \n",
    "sql = \"\"\"\n",
    "SELECT a.age, a.weight\n",
    "FROM animals as a\n",
    "WHERE a.type = \"dog\" \n",
    "AND a.color = \"black\"\n",
    "\"\"\"\n",
    "\n",
    "df = sqldf(sql)\n",
    "df.head()  \n",
    "```"
   ]
  },
  {
   "cell_type": "markdown",
   "metadata": {},
   "source": [
    "4.  \n",
    "\n",
    "```SQL  \n",
    "sql = \"\"\"\n",
    "SELECT a.type, a.breed\n",
    "FROM animals as a\n",
    "WHERE a.weight > 55\n",
    "\"\"\"\n",
    "\n",
    "df = sqldf(sql)\n",
    "df.head()  \n",
    "```"
   ]
  },
  {
   "cell_type": "markdown",
   "metadata": {},
   "source": [
    "5.  \n",
    "\n",
    "```SQL  \n",
    "sql = \"\"\"\n",
    "SELECT *\n",
    "FROM customers\n",
    "WHERE email LIKE \"%@gmail.com\"\n",
    "\"\"\"\n",
    "\n",
    "df = sqldf(sql)\n",
    "df.head()  \n",
    "```"
   ]
  },
  {
   "cell_type": "markdown",
   "metadata": {},
   "source": [
    "6.   \n",
    "\n",
    "```SQL  \n",
    "sql = \"\"\"\n",
    "SELECT breed, AVG(weight)\n",
    "FROM animals\n",
    "GROUP BY breed\n",
    "HAVING AVG(weight) > 40\n",
    "\"\"\"\n",
    "\n",
    "df = sqldf(sql)\n",
    "df.head()  \n",
    "```"
   ]
  },
  {
   "cell_type": "markdown",
   "metadata": {},
   "source": [
    "7.  \n",
    "\n",
    "```SQL  \n",
    "sql = \"\"\"\n",
    "SELECT c.last_name\n",
    "FROM customers as c\n",
    "INNER JOIN animals a ON a.id = c.pet_id\n",
    "WHERE a.type = \"cat\" \n",
    "\"\"\"\n",
    "\n",
    "df = sqldf(sql)  \n",
    "df.head()  \n",
    "```"
   ]
  },
  {
   "cell_type": "markdown",
   "metadata": {},
   "source": [
    "8.   \n",
    "\n",
    "```SQL\n",
    "sql = \"\"\"\n",
    "SELECT AVG(a.age) as avg_age, a.type\n",
    "FROM animals as a\n",
    "GROUP BY a.type\n",
    "\"\"\"\n",
    "\n",
    "df = sqldf(sql)\n",
    "df.head()\n",
    "```"
   ]
  },
  {
   "cell_type": "markdown",
   "metadata": {},
   "source": [
    "9.\n",
    "```SQL\n",
    "sql = \"\"\"\n",
    "SELECT COUNT(a.type)\n",
    "FROM animals as a\n",
    "INNER JOIN locations l ON l.id = a.id\n",
    "WHERE a.type = \"rabbit\" \n",
    "AND l.state = \"New York\"\n",
    "\"\"\"\n",
    "\n",
    "df = sqldf(sql)\n",
    "df.head()\n",
    "```"
   ]
  },
  {
   "cell_type": "markdown",
   "metadata": {},
   "source": [
    "10.\n",
    "```SQL\n",
    "sql = \"\"\"\n",
    "SELECT c.pet_id, a.breed, c.customer_id, l.city\n",
    "FROM animals as a\n",
    "INNER JOIN customers c ON c.pet_id = a.id\n",
    "INNER JOIN locations l ON l.id = a.id\n",
    "WHERE a.type = \"dog\" \n",
    "AND a.adopted = \"Yes\" \n",
    "OR a.adopted = \"yes\"\n",
    "ORDER BY a.breed\n",
    "\"\"\"\n",
    "\n",
    "df = sqldf(sql)\n",
    "df.head()\n",
    "```"
   ]
  },
  {
   "cell_type": "code",
   "execution_count": null,
   "metadata": {},
   "outputs": [],
   "source": []
  }
 ],
 "metadata": {
  "kernelspec": {
   "display_name": "Python 3",
   "language": "python",
   "name": "python3"
  },
  "language_info": {
   "codemirror_mode": {
    "name": "ipython",
    "version": 3
   },
   "file_extension": ".py",
   "mimetype": "text/x-python",
   "name": "python",
   "nbconvert_exporter": "python",
   "pygments_lexer": "ipython3",
   "version": "3.7.6"
  }
 },
 "nbformat": 4,
 "nbformat_minor": 4
}
