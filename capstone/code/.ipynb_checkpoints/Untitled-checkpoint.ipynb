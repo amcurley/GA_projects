{
 "cells": [
  {
   "cell_type": "code",
   "execution_count": 7,
   "metadata": {},
   "outputs": [],
   "source": [
    "import pandas as pd\n",
    "import numpy as np\n",
    "import json\n",
    "from tqdm.notebook import tqdm"
   ]
  },
  {
   "cell_type": "code",
   "execution_count": 8,
   "metadata": {},
   "outputs": [],
   "source": [
    "# https://www.kaggle.com/balraj98/arxiv-abstract-translation-to-french-marian-nmt##1.-Abstract-Translation\n",
    "data_file = '/Users/aidancurley/Downloads/archive/arxiv-metadata-oai-snapshot.json'\n",
    "\n",
    "\"\"\" Using `yield` to load the JSON file in a loop to prevent Python memory issues if JSON is loaded directly\"\"\"\n",
    "\n",
    "def get_metadata():\n",
    "    with open(data_file, 'r') as f:\n",
    "        for line in f:\n",
    "            yield line"
   ]
  },
  {
   "cell_type": "code",
   "execution_count": 9,
   "metadata": {},
   "outputs": [
    {
     "data": {
      "text/plain": [
       "(20165, 20165)"
      ]
     },
     "execution_count": 9,
     "metadata": {},
     "output_type": "execute_result"
    }
   ],
   "source": [
    "titles = []\n",
    "abstracts = []\n",
    "\n",
    "# Consider specific paper categories to be used during training and prediction\n",
    "paper_categories = [\"cs.AI\", # Artificial Intelligence\n",
    "                    \"cs.LG\", # Machine Learning\n",
    "                    \"physics.acc-ph\", # Accelerator Physics\n",
    "                    \"physics.hist-ph\", #History and Philosophy of Physics\n",
    "                    \"cs.NE\", # Neural and Evolutionary Computing\n",
    "                    \"cs.HC\", # Human-Computer Interaction\n",
    "                    \"cs.GT\", # Computer Science and Game Theory\n",
    "                    \"cs.ET\", # Emerging Technologies\n",
    "                    \"cs.IT\", # Information Theory\n",
    "                    \"astro-ph\", # Astrophysics\n",
    "                    \"astro-ph.EP\", # Earth and Planetary Astrophysics\n",
    "                    \"astro-ph.HE\", # High Energy Astrophysical Phenomena\n",
    "                   ] \n",
    "\n",
    "metadata = get_metadata()\n",
    "for paper in metadata:\n",
    "    paper_dict = json.loads(paper)\n",
    "    category = paper_dict.get('categories')\n",
    "    try:\n",
    "        year = int(paper_dict.get('journal-ref')[-4:])\n",
    "        if category in paper_categories and 2000<year<2021:\n",
    "            titles.append(paper_dict.get('title'))\n",
    "            abstracts.append(paper_dict.get('abstract').replace(\"\\n\",\"\"))\n",
    "    except:\n",
    "        pass \n",
    "\n",
    "len(titles), len(abstracts)"
   ]
  },
  {
   "cell_type": "code",
   "execution_count": 11,
   "metadata": {},
   "outputs": [
    {
     "data": {
      "text/plain": [
       "'The impact of mergers on relaxed X-ray clusters - I. Dynamical evolution\\n  and emergent transient structures'"
      ]
     },
     "execution_count": 11,
     "metadata": {},
     "output_type": "execute_result"
    }
   ],
   "source": [
    "titles[17000]"
   ]
  },
  {
   "cell_type": "code",
   "execution_count": 22,
   "metadata": {},
   "outputs": [],
   "source": [
    "data = pd.DataFrame({'abstract': abstracts})"
   ]
  },
  {
   "cell_type": "code",
   "execution_count": 23,
   "metadata": {},
   "outputs": [
    {
     "data": {
      "text/html": [
       "<div>\n",
       "<style scoped>\n",
       "    .dataframe tbody tr th:only-of-type {\n",
       "        vertical-align: middle;\n",
       "    }\n",
       "\n",
       "    .dataframe tbody tr th {\n",
       "        vertical-align: top;\n",
       "    }\n",
       "\n",
       "    .dataframe thead th {\n",
       "        text-align: right;\n",
       "    }\n",
       "</style>\n",
       "<table border=\"1\" class=\"dataframe\">\n",
       "  <thead>\n",
       "    <tr style=\"text-align: right;\">\n",
       "      <th></th>\n",
       "      <th>abstract</th>\n",
       "    </tr>\n",
       "  </thead>\n",
       "  <tbody>\n",
       "    <tr>\n",
       "      <th>0</th>\n",
       "      <td>We discuss the results from the combined IRA...</td>\n",
       "    </tr>\n",
       "    <tr>\n",
       "      <th>1</th>\n",
       "      <td>Results from spectroscopic observations of t...</td>\n",
       "    </tr>\n",
       "    <tr>\n",
       "      <th>2</th>\n",
       "      <td>The very nature of the solar chromosphere, i...</td>\n",
       "    </tr>\n",
       "    <tr>\n",
       "      <th>3</th>\n",
       "      <td>We derive masses and radii for both componen...</td>\n",
       "    </tr>\n",
       "    <tr>\n",
       "      <th>4</th>\n",
       "      <td>We show that the globular cluster mass funct...</td>\n",
       "    </tr>\n",
       "    <tr>\n",
       "      <th>...</th>\n",
       "      <td>...</td>\n",
       "    </tr>\n",
       "    <tr>\n",
       "      <th>20160</th>\n",
       "      <td>We discuss the features of a crystalline und...</td>\n",
       "    </tr>\n",
       "    <tr>\n",
       "      <th>20161</th>\n",
       "      <td>One approach to future high energy particle ...</td>\n",
       "    </tr>\n",
       "    <tr>\n",
       "      <th>20162</th>\n",
       "      <td>In this paper we introduce an optical approx...</td>\n",
       "    </tr>\n",
       "    <tr>\n",
       "      <th>20163</th>\n",
       "      <td>In a companion report, we have derived a met...</td>\n",
       "    </tr>\n",
       "    <tr>\n",
       "      <th>20164</th>\n",
       "      <td>The equations of classical spin-orbit motion...</td>\n",
       "    </tr>\n",
       "  </tbody>\n",
       "</table>\n",
       "<p>20165 rows × 1 columns</p>\n",
       "</div>"
      ],
      "text/plain": [
       "                                                abstract\n",
       "0        We discuss the results from the combined IRA...\n",
       "1        Results from spectroscopic observations of t...\n",
       "2        The very nature of the solar chromosphere, i...\n",
       "3        We derive masses and radii for both componen...\n",
       "4        We show that the globular cluster mass funct...\n",
       "...                                                  ...\n",
       "20160    We discuss the features of a crystalline und...\n",
       "20161    One approach to future high energy particle ...\n",
       "20162    In this paper we introduce an optical approx...\n",
       "20163    In a companion report, we have derived a met...\n",
       "20164    The equations of classical spin-orbit motion...\n",
       "\n",
       "[20165 rows x 1 columns]"
      ]
     },
     "execution_count": 23,
     "metadata": {},
     "output_type": "execute_result"
    }
   ],
   "source": [
    "data"
   ]
  },
  {
   "cell_type": "code",
   "execution_count": 24,
   "metadata": {},
   "outputs": [
    {
     "data": {
      "text/plain": [
       "\"  We discuss the results from the combined IRAC and MIPS c2d Spitzer Legacyobservations of the Serpens star-forming region. In particular we present a setof criteria for isolating bona fide young stellar objects, YSO's, from theextensive background contamination by extra-galactic objects. We then discussthe properties of the resulting high confidence set of YSO's. We find 235 suchobjects in the 0.85 deg^2 field that was covered with both IRAC and MIPS. Anadditional set of 51 lower confidence YSO's outside this area is identifiedfrom the MIPS data combined with 2MASS photometry. We describe two sets ofresults, color-color diagrams to compare our observed source properties withthose of theoretical models for star/disk/envelope systems and our own modelingof the subset of our objects that appear to be star+disks. These objectsexhibit a very wide range of disk properties, from many that can be fit withactively accreting disks to some with both passive disks and even possiblydebris disks. We find that the luminosity function of YSO's in Serpens extendsdown to at least a few x .001 Lsun or lower for an assumed distance of 260 pc.The lower limit may be set by our inability to distinguish YSO's fromextra-galactic sources more than by the lack of YSO's at very low luminosities.A spatial clustering analysis shows that the nominally less-evolved YSO's aremore highly clustered than the later stages and that the backgroundextra-galactic population can be fit by the same two-point correlation functionas seen in other extra-galactic studies. We also present a table of matchesbetween several previous infrared and X-ray studies of the Serpens YSOpopulation and our Spitzer data set.\""
      ]
     },
     "execution_count": 24,
     "metadata": {},
     "output_type": "execute_result"
    }
   ],
   "source": [
    "data['abstract'][0]"
   ]
  },
  {
   "cell_type": "code",
   "execution_count": 25,
   "metadata": {},
   "outputs": [],
   "source": [
    "new_abs = []\n",
    "for row in data[\"abstract\"]:\n",
    "    new_abs.append(\"<|startoftext|>\" + row + \"<|endoftext|>\")"
   ]
  },
  {
   "cell_type": "code",
   "execution_count": 28,
   "metadata": {},
   "outputs": [],
   "source": [
    "data['abs'] = new_abs"
   ]
  },
  {
   "cell_type": "code",
   "execution_count": 30,
   "metadata": {},
   "outputs": [],
   "source": [
    "data.drop(columns='abstract',inplace = True)"
   ]
  },
  {
   "cell_type": "code",
   "execution_count": 31,
   "metadata": {},
   "outputs": [
    {
     "data": {
      "text/html": [
       "<div>\n",
       "<style scoped>\n",
       "    .dataframe tbody tr th:only-of-type {\n",
       "        vertical-align: middle;\n",
       "    }\n",
       "\n",
       "    .dataframe tbody tr th {\n",
       "        vertical-align: top;\n",
       "    }\n",
       "\n",
       "    .dataframe thead th {\n",
       "        text-align: right;\n",
       "    }\n",
       "</style>\n",
       "<table border=\"1\" class=\"dataframe\">\n",
       "  <thead>\n",
       "    <tr style=\"text-align: right;\">\n",
       "      <th></th>\n",
       "      <th>abs</th>\n",
       "    </tr>\n",
       "  </thead>\n",
       "  <tbody>\n",
       "    <tr>\n",
       "      <th>0</th>\n",
       "      <td>&lt;|startoftext|&gt;  We discuss the results from t...</td>\n",
       "    </tr>\n",
       "    <tr>\n",
       "      <th>1</th>\n",
       "      <td>&lt;|startoftext|&gt;  Results from spectroscopic ob...</td>\n",
       "    </tr>\n",
       "    <tr>\n",
       "      <th>2</th>\n",
       "      <td>&lt;|startoftext|&gt;  The very nature of the solar ...</td>\n",
       "    </tr>\n",
       "    <tr>\n",
       "      <th>3</th>\n",
       "      <td>&lt;|startoftext|&gt;  We derive masses and radii fo...</td>\n",
       "    </tr>\n",
       "    <tr>\n",
       "      <th>4</th>\n",
       "      <td>&lt;|startoftext|&gt;  We show that the globular clu...</td>\n",
       "    </tr>\n",
       "    <tr>\n",
       "      <th>...</th>\n",
       "      <td>...</td>\n",
       "    </tr>\n",
       "    <tr>\n",
       "      <th>20160</th>\n",
       "      <td>&lt;|startoftext|&gt;  We discuss the features of a ...</td>\n",
       "    </tr>\n",
       "    <tr>\n",
       "      <th>20161</th>\n",
       "      <td>&lt;|startoftext|&gt;  One approach to future high e...</td>\n",
       "    </tr>\n",
       "    <tr>\n",
       "      <th>20162</th>\n",
       "      <td>&lt;|startoftext|&gt;  In this paper we introduce an...</td>\n",
       "    </tr>\n",
       "    <tr>\n",
       "      <th>20163</th>\n",
       "      <td>&lt;|startoftext|&gt;  In a companion report, we hav...</td>\n",
       "    </tr>\n",
       "    <tr>\n",
       "      <th>20164</th>\n",
       "      <td>&lt;|startoftext|&gt;  The equations of classical sp...</td>\n",
       "    </tr>\n",
       "  </tbody>\n",
       "</table>\n",
       "<p>20165 rows × 1 columns</p>\n",
       "</div>"
      ],
      "text/plain": [
       "                                                     abs\n",
       "0      <|startoftext|>  We discuss the results from t...\n",
       "1      <|startoftext|>  Results from spectroscopic ob...\n",
       "2      <|startoftext|>  The very nature of the solar ...\n",
       "3      <|startoftext|>  We derive masses and radii fo...\n",
       "4      <|startoftext|>  We show that the globular clu...\n",
       "...                                                  ...\n",
       "20160  <|startoftext|>  We discuss the features of a ...\n",
       "20161  <|startoftext|>  One approach to future high e...\n",
       "20162  <|startoftext|>  In this paper we introduce an...\n",
       "20163  <|startoftext|>  In a companion report, we hav...\n",
       "20164  <|startoftext|>  The equations of classical sp...\n",
       "\n",
       "[20165 rows x 1 columns]"
      ]
     },
     "execution_count": 31,
     "metadata": {},
     "output_type": "execute_result"
    }
   ],
   "source": [
    "data"
   ]
  },
  {
   "cell_type": "code",
   "execution_count": 33,
   "metadata": {},
   "outputs": [],
   "source": [
    "data.to_csv('../data/abstracts.txt', header=None, index=None, sep=' ', mode='a')"
   ]
  },
  {
   "cell_type": "code",
   "execution_count": null,
   "metadata": {},
   "outputs": [],
   "source": []
  }
 ],
 "metadata": {
  "kernelspec": {
   "display_name": "Python 3",
   "language": "python",
   "name": "python3"
  },
  "language_info": {
   "codemirror_mode": {
    "name": "ipython",
    "version": 3
   },
   "file_extension": ".py",
   "mimetype": "text/x-python",
   "name": "python",
   "nbconvert_exporter": "python",
   "pygments_lexer": "ipython3",
   "version": "3.8.5"
  }
 },
 "nbformat": 4,
 "nbformat_minor": 4
}
