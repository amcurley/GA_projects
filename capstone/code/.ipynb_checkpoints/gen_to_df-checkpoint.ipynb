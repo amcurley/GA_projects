{
 "cells": [
  {
   "cell_type": "code",
   "execution_count": 2,
   "metadata": {},
   "outputs": [],
   "source": [
    "import pandas as pd\n",
    "import numpy as np"
   ]
  },
  {
   "cell_type": "code",
   "execution_count": 74,
   "metadata": {},
   "outputs": [],
   "source": [
    "def unique_thoughts(txt):\n",
    "    \n",
    "    # Load in txt file\n",
    "    f = open(f'../data/{txt}', 'r')\n",
    "    \n",
    "    # Read content\n",
    "    content = f.read()\n",
    "    # Split on the end of text generated from GPT-2\n",
    "    content = content.split('<|endoftext|>')\n",
    "    \n",
    "    # Clean text to prepare for bot\n",
    "    generated = []\n",
    "    for text in content:\n",
    "        generated.append(text.replace(\"<|startoftext|>\", '').replace(\"\\n====================\\n\", ', ').replace('\"\\n\"', ''))\n",
    "\n",
    "    # Setup DataFrame    \n",
    "    st = pd.DataFrame({'thoughts': generated})\n",
    "    st.drop_duplicates(inplace=True)\n",
    "    \n",
    "    random = np.random.choice(generated, 1)\n",
    "    \n",
    "    return random"
   ]
  },
  {
   "cell_type": "code",
   "execution_count": 75,
   "metadata": {},
   "outputs": [],
   "source": [
    "final_df = unique_thoughts('gpt2_gentext_shower_thoughts.txt') # This will change depending on the txt file generated"
   ]
  },
  {
   "cell_type": "code",
   "execution_count": 76,
   "metadata": {},
   "outputs": [
    {
     "data": {
      "text/plain": [
       "array(['If I become a time traveler, I will kill EVERYONE but be the one getting the credit. And I will do that by traveling back in time and killing everyone I meet while I am in that time travel.'],\n",
       "      dtype='<U2270')"
      ]
     },
     "execution_count": 76,
     "metadata": {},
     "output_type": "execute_result"
    }
   ],
   "source": [
    "final_df"
   ]
  },
  {
   "cell_type": "code",
   "execution_count": null,
   "metadata": {},
   "outputs": [],
   "source": []
  }
 ],
 "metadata": {
  "kernelspec": {
   "display_name": "Python 3",
   "language": "python",
   "name": "python3"
  },
  "language_info": {
   "codemirror_mode": {
    "name": "ipython",
    "version": 3
   },
   "file_extension": ".py",
   "mimetype": "text/x-python",
   "name": "python",
   "nbconvert_exporter": "python",
   "pygments_lexer": "ipython3",
   "version": "3.8.5"
  }
 },
 "nbformat": 4,
 "nbformat_minor": 4
}
