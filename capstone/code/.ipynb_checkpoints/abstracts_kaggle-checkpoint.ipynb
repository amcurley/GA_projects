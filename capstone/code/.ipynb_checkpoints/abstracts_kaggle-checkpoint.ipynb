{
 "cells": [
  {
   "cell_type": "code",
   "execution_count": 7,
   "metadata": {},
   "outputs": [],
   "source": [
    "import pandas as pd\n",
    "import numpy as np\n",
    "import json\n",
    "from tqdm.notebook import tqdm"
   ]
  },
  {
   "cell_type": "code",
   "execution_count": 34,
   "metadata": {},
   "outputs": [],
   "source": [
    "# https://www.kaggle.com/balraj98/arxiv-abstract-translation-to-french-marian-nmt##1.-Abstract-Translation\n",
    "data_file = '/Users/aidancurley/Downloads/archive/arxiv-metadata-oai-snapshot.json'\n",
    "\n",
    "\"\"\" Using `yield` to load the JSON file in a loop to prevent Python memory issues if JSON is loaded directly\"\"\"\n",
    "\n",
    "def get_metadata():\n",
    "    with open(data_file, 'r') as f:\n",
    "        for line in f:\n",
    "            yield line"
   ]
  },
  {
   "cell_type": "code",
   "execution_count": 36,
   "metadata": {},
   "outputs": [
    {
     "data": {
      "text/plain": [
       "(6594, 6594)"
      ]
     },
     "execution_count": 36,
     "metadata": {},
     "output_type": "execute_result"
    }
   ],
   "source": [
    "titles = []\n",
    "abstracts = []\n",
    "\n",
    "# Consider specific paper categories to be used during training and prediction\n",
    "paper_categories = ['cs.AI', # 'Artificial Intelligence',\n",
    "                'cs.AR', # 'Hardware Architecture',\n",
    "                'cs.CC', # 'Computational Complexity',\n",
    "                'cs.CE', # 'Computational Engineering, Finance, and Science',\n",
    "                'cs.CG', # 'Computational Geometry',\n",
    "                'cs.CL', # 'Computation and Language',\n",
    "                'cs.CR', # 'Cryptography and Security',\n",
    "                'cs.CV', # 'Computer Vision and Pattern Recognition',\n",
    "                'cs.CY', # 'Computers and Society',\n",
    "                'cs.DB', # 'Databases',\n",
    "                'cs.DC', # 'Distributed, Parallel, and Cluster Computing',\n",
    "                'cs.DL', # 'Digital Libraries',\n",
    "                'cs.DM', # 'Discrete Mathematics',\n",
    "                'cs.DS', # 'Data Structures and Algorithms',\n",
    "                'cs.ET', # 'Emerging Technologies',\n",
    "                'cs.FL', # 'Formal Languages and Automata Theory',\n",
    "                'cs.GL', # 'General Literature',\n",
    "                'cs.GT', # 'Computer Science and Game Theory',\n",
    "                'cs.HC', # 'Human-Computer Interaction',\n",
    "                'cs.IR', # 'Information Retrieval',\n",
    "                'cs.IT', # 'Information Theory',\n",
    "                'cs.LG', # 'Machine Learning',\n",
    "                'cs.LO', # 'Logic in Computer Science',\n",
    "                'cs.MA', # 'Multiagent Systems',\n",
    "                'cs.MM', # 'Multimedia',\n",
    "                'cs.MS', # 'Mathematical Software',\n",
    "                'cs.NA', # 'Numerical Analysis',\n",
    "                'cs.NE', # 'Neural and Evolutionary Computing',\n",
    "                'cs.NI', # 'Networking and Internet Architecture',\n",
    "                'cs.OH', # 'Other Computer Science',\n",
    "                'cs.OS', # 'Operating Systems',\n",
    "                'cs.PF', # 'Performance',\n",
    "                'cs.PL', # 'Programming Languages',\n",
    "                'cs.RO', # 'Robotics',\n",
    "                'cs.SC', # 'Symbolic Computation',\n",
    "                'cs.SD', # 'Sound',\n",
    "                'cs.SE', # 'Software Engineering',\n",
    "                'cs.SI', # 'Social and Information Networks',\n",
    "                'cs.SY', # 'Systems and Control', # Information Theory\n",
    "                   ] \n",
    "\n",
    "metadata = get_metadata()\n",
    "for paper in metadata:\n",
    "    paper_dict = json.loads(paper)\n",
    "    category = paper_dict.get('categories')\n",
    "    try:\n",
    "        year = int(paper_dict.get('journal-ref')[-4:])\n",
    "        if category in paper_categories and 2000<year<2021:\n",
    "            titles.append(paper_dict.get('title'))\n",
    "            abstracts.append(paper_dict.get('abstract').replace(\"\\n\",\"\"))\n",
    "    except:\n",
    "        pass \n",
    "\n",
    "len(titles), len(abstracts)"
   ]
  },
  {
   "cell_type": "code",
   "execution_count": 39,
   "metadata": {},
   "outputs": [
    {
     "data": {
      "text/plain": [
       "'  This paper presents a method to understand spoken Tunisian dialect based onlexical semantic. This method takes into account the specificity of theTunisian dialect which has no linguistic processing tools. This method isontology-based which allows exploiting the ontological concepts for semanticannotation and ontological relations for speech interpretation. Thiscombination increases the rate of comprehension and limits the dependence onlinguistic resources. This paper also details the process of building theontology used for annotation and interpretation of Tunisian dialect in thecontext of speech understanding in dialogue systems for restricted domain.'"
      ]
     },
     "execution_count": 39,
     "metadata": {},
     "output_type": "execute_result"
    }
   ],
   "source": [
    "abstracts[1000]"
   ]
  },
  {
   "cell_type": "code",
   "execution_count": 40,
   "metadata": {},
   "outputs": [],
   "source": [
    "data = pd.DataFrame({'abstract': abstracts})"
   ]
  },
  {
   "cell_type": "code",
   "execution_count": 41,
   "metadata": {},
   "outputs": [
    {
     "data": {
      "text/html": [
       "<div>\n",
       "<style scoped>\n",
       "    .dataframe tbody tr th:only-of-type {\n",
       "        vertical-align: middle;\n",
       "    }\n",
       "\n",
       "    .dataframe tbody tr th {\n",
       "        vertical-align: top;\n",
       "    }\n",
       "\n",
       "    .dataframe thead th {\n",
       "        text-align: right;\n",
       "    }\n",
       "</style>\n",
       "<table border=\"1\" class=\"dataframe\">\n",
       "  <thead>\n",
       "    <tr style=\"text-align: right;\">\n",
       "      <th></th>\n",
       "      <th>abstract</th>\n",
       "    </tr>\n",
       "  </thead>\n",
       "  <tbody>\n",
       "    <tr>\n",
       "      <th>0</th>\n",
       "      <td>When looking for a solution, deterministic m...</td>\n",
       "    </tr>\n",
       "    <tr>\n",
       "      <th>1</th>\n",
       "      <td>The semiring-based constraint satisfaction p...</td>\n",
       "    </tr>\n",
       "    <tr>\n",
       "      <th>2</th>\n",
       "      <td>We show how to test whether a graph with n v...</td>\n",
       "    </tr>\n",
       "    <tr>\n",
       "      <th>3</th>\n",
       "      <td>This paper has been withdrawn Abstract: This...</td>\n",
       "    </tr>\n",
       "    <tr>\n",
       "      <th>4</th>\n",
       "      <td>This paper describes experiments on learning...</td>\n",
       "    </tr>\n",
       "    <tr>\n",
       "      <th>...</th>\n",
       "      <td>...</td>\n",
       "    </tr>\n",
       "    <tr>\n",
       "      <th>6589</th>\n",
       "      <td>Bedwyr is a generalization of logic programm...</td>\n",
       "    </tr>\n",
       "    <tr>\n",
       "      <th>6590</th>\n",
       "      <td>We develop bounds on the capacity of wireles...</td>\n",
       "    </tr>\n",
       "    <tr>\n",
       "      <th>6591</th>\n",
       "      <td>For academics and practitioners concerned wi...</td>\n",
       "    </tr>\n",
       "    <tr>\n",
       "      <th>6592</th>\n",
       "      <td>This paper analyzes the distribution of cycl...</td>\n",
       "    </tr>\n",
       "    <tr>\n",
       "      <th>6593</th>\n",
       "      <td>We describe simple linear time algorithms fo...</td>\n",
       "    </tr>\n",
       "  </tbody>\n",
       "</table>\n",
       "<p>6594 rows × 1 columns</p>\n",
       "</div>"
      ],
      "text/plain": [
       "                                               abstract\n",
       "0       When looking for a solution, deterministic m...\n",
       "1       The semiring-based constraint satisfaction p...\n",
       "2       We show how to test whether a graph with n v...\n",
       "3       This paper has been withdrawn Abstract: This...\n",
       "4       This paper describes experiments on learning...\n",
       "...                                                 ...\n",
       "6589    Bedwyr is a generalization of logic programm...\n",
       "6590    We develop bounds on the capacity of wireles...\n",
       "6591    For academics and practitioners concerned wi...\n",
       "6592    This paper analyzes the distribution of cycl...\n",
       "6593    We describe simple linear time algorithms fo...\n",
       "\n",
       "[6594 rows x 1 columns]"
      ]
     },
     "execution_count": 41,
     "metadata": {},
     "output_type": "execute_result"
    }
   ],
   "source": [
    "data"
   ]
  },
  {
   "cell_type": "code",
   "execution_count": 42,
   "metadata": {},
   "outputs": [
    {
     "data": {
      "text/plain": [
       "'  When looking for a solution, deterministic methods have the enormousadvantage that they do find global optima. Unfortunately, they are veryCPU-intensive, and are useless on untractable NP-hard problems that wouldrequire thousands of years for cutting-edge computers to explore. In order toget a result, one needs to revert to stochastic algorithms, that sample thesearch space without exploring it thoroughly. Such algorithms can find verygood results, without any guarantee that the global optimum has been reached;but there is often no other choice than using them. This chapter is a shortintroduction to the main methods used in stochastic optimization.'"
      ]
     },
     "execution_count": 42,
     "metadata": {},
     "output_type": "execute_result"
    }
   ],
   "source": [
    "data['abstract'][0]"
   ]
  },
  {
   "cell_type": "code",
   "execution_count": 43,
   "metadata": {},
   "outputs": [],
   "source": [
    "# Add <|startoftext|> to beginning of text and <|endoftext|> to end of text\n",
    "new_abs = []\n",
    "for row in data[\"abstract\"]:\n",
    "    new_abs.append(\"<|startoftext|>\" + row + \"<|endoftext|>\")"
   ]
  },
  {
   "cell_type": "code",
   "execution_count": 44,
   "metadata": {},
   "outputs": [],
   "source": [
    "data['abs'] = new_abs"
   ]
  },
  {
   "cell_type": "code",
   "execution_count": 45,
   "metadata": {},
   "outputs": [],
   "source": [
    "data.drop(columns='abstract',inplace = True)"
   ]
  },
  {
   "cell_type": "code",
   "execution_count": 46,
   "metadata": {},
   "outputs": [
    {
     "data": {
      "text/html": [
       "<div>\n",
       "<style scoped>\n",
       "    .dataframe tbody tr th:only-of-type {\n",
       "        vertical-align: middle;\n",
       "    }\n",
       "\n",
       "    .dataframe tbody tr th {\n",
       "        vertical-align: top;\n",
       "    }\n",
       "\n",
       "    .dataframe thead th {\n",
       "        text-align: right;\n",
       "    }\n",
       "</style>\n",
       "<table border=\"1\" class=\"dataframe\">\n",
       "  <thead>\n",
       "    <tr style=\"text-align: right;\">\n",
       "      <th></th>\n",
       "      <th>abs</th>\n",
       "    </tr>\n",
       "  </thead>\n",
       "  <tbody>\n",
       "    <tr>\n",
       "      <th>0</th>\n",
       "      <td>&lt;|startoftext|&gt;  When looking for a solution, ...</td>\n",
       "    </tr>\n",
       "    <tr>\n",
       "      <th>1</th>\n",
       "      <td>&lt;|startoftext|&gt;  The semiring-based constraint...</td>\n",
       "    </tr>\n",
       "    <tr>\n",
       "      <th>2</th>\n",
       "      <td>&lt;|startoftext|&gt;  We show how to test whether a...</td>\n",
       "    </tr>\n",
       "    <tr>\n",
       "      <th>3</th>\n",
       "      <td>&lt;|startoftext|&gt;  This paper has been withdrawn...</td>\n",
       "    </tr>\n",
       "    <tr>\n",
       "      <th>4</th>\n",
       "      <td>&lt;|startoftext|&gt;  This paper describes experime...</td>\n",
       "    </tr>\n",
       "    <tr>\n",
       "      <th>...</th>\n",
       "      <td>...</td>\n",
       "    </tr>\n",
       "    <tr>\n",
       "      <th>6589</th>\n",
       "      <td>&lt;|startoftext|&gt;  Bedwyr is a generalization of...</td>\n",
       "    </tr>\n",
       "    <tr>\n",
       "      <th>6590</th>\n",
       "      <td>&lt;|startoftext|&gt;  We develop bounds on the capa...</td>\n",
       "    </tr>\n",
       "    <tr>\n",
       "      <th>6591</th>\n",
       "      <td>&lt;|startoftext|&gt;  For academics and practitione...</td>\n",
       "    </tr>\n",
       "    <tr>\n",
       "      <th>6592</th>\n",
       "      <td>&lt;|startoftext|&gt;  This paper analyzes the distr...</td>\n",
       "    </tr>\n",
       "    <tr>\n",
       "      <th>6593</th>\n",
       "      <td>&lt;|startoftext|&gt;  We describe simple linear tim...</td>\n",
       "    </tr>\n",
       "  </tbody>\n",
       "</table>\n",
       "<p>6594 rows × 1 columns</p>\n",
       "</div>"
      ],
      "text/plain": [
       "                                                    abs\n",
       "0     <|startoftext|>  When looking for a solution, ...\n",
       "1     <|startoftext|>  The semiring-based constraint...\n",
       "2     <|startoftext|>  We show how to test whether a...\n",
       "3     <|startoftext|>  This paper has been withdrawn...\n",
       "4     <|startoftext|>  This paper describes experime...\n",
       "...                                                 ...\n",
       "6589  <|startoftext|>  Bedwyr is a generalization of...\n",
       "6590  <|startoftext|>  We develop bounds on the capa...\n",
       "6591  <|startoftext|>  For academics and practitione...\n",
       "6592  <|startoftext|>  This paper analyzes the distr...\n",
       "6593  <|startoftext|>  We describe simple linear tim...\n",
       "\n",
       "[6594 rows x 1 columns]"
      ]
     },
     "execution_count": 46,
     "metadata": {},
     "output_type": "execute_result"
    }
   ],
   "source": [
    "data"
   ]
  },
  {
   "cell_type": "code",
   "execution_count": 47,
   "metadata": {},
   "outputs": [],
   "source": [
    "data.to_csv('../data/abstracts.txt', header=None, index=None, sep=' ', mode='a')"
   ]
  },
  {
   "cell_type": "code",
   "execution_count": null,
   "metadata": {},
   "outputs": [],
   "source": []
  }
 ],
 "metadata": {
  "kernelspec": {
   "display_name": "Python 3",
   "language": "python",
   "name": "python3"
  },
  "language_info": {
   "codemirror_mode": {
    "name": "ipython",
    "version": 3
   },
   "file_extension": ".py",
   "mimetype": "text/x-python",
   "name": "python",
   "nbconvert_exporter": "python",
   "pygments_lexer": "ipython3",
   "version": "3.8.5"
  }
 },
 "nbformat": 4,
 "nbformat_minor": 4
}
