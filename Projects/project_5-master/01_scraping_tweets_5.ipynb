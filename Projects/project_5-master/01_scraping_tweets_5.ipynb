{
 "cells": [
  {
   "cell_type": "markdown",
   "metadata": {},
   "source": [
    "## **Import Libraries**"
   ]
  },
  {
   "cell_type": "markdown",
   "metadata": {},
   "source": [
    "You might have to install GetOldTweet3    \n",
    "https://pypi.org/project/GetOldTweets3/    "
   ]
  },
  {
   "cell_type": "code",
   "execution_count": 1,
   "metadata": {},
   "outputs": [],
   "source": [
    "import GetOldTweets3 as got\n",
    "import time\n",
    "from datetime import datetime, date, timedelta\n",
    "import pandas as pd\n",
    "import numpy as np\n",
    "import os\n",
    "# import tweepy as tw"
   ]
  },
  {
   "cell_type": "code",
   "execution_count": 71,
   "metadata": {},
   "outputs": [],
   "source": [
    "# pip install tweepy"
   ]
  },
  {
   "cell_type": "markdown",
   "metadata": {},
   "source": [
    "## **Function to Grab Date, Tweet, & Username**"
   ]
  },
  {
   "cell_type": "code",
   "execution_count": 24,
   "metadata": {},
   "outputs": [],
   "source": [
    "def DownloadTweets(SinceDate, UntilDate, Query):\n",
    "    '''\n",
    "    Downloads all tweets from a certain month in three sessions in order to avoid sending too many requests. \n",
    "    Date format = 'yyyy-mm-dd'. \n",
    "    '''\n",
    "    since = datetime.strptime(SinceDate, '%Y-%m-%d')\n",
    "    until= datetime.strptime(UntilDate, '%Y-%m-%d')\n",
    "    tenth = since + timedelta(days = 10)\n",
    "    twentieth = since + timedelta(days=20)\n",
    "    \n",
    "    print ('starting first download')\n",
    "    first = got.manager.TweetCriteria().setQuerySearch(Query).setSince(since.strftime('%Y-%m-%d')).setUntil(tenth.strftime('%Y-%m-%d'))\n",
    "    firstdownload = got.manager.TweetManager.getTweets(first)\n",
    "    firstlist=[[tweet.date, tweet.text, tweet.username] for tweet in firstdownload]\n",
    "    \n",
    "    df_1 = pd.DataFrame.from_records(firstlist, columns = [\"date\", \"tweet\", \"user\"])\n",
    "#     df_1.to_csv(\"%s_1.csv\" % SinceDate)\n",
    "    \n",
    "    time.sleep(600)\n",
    "    \n",
    "    print ('starting second download')\n",
    "    second = got.manager.TweetCriteria().setQuerySearch(Query).setSince(tenth.strftime('%Y-%m-%d')).setUntil(twentieth.strftime('%Y-%m-%d'))\n",
    "    seconddownload = got.manager.TweetManager.getTweets(second)\n",
    "    secondlist=[[tweet.date, tweet.text, tweet.username] for tweet in seconddownload]\n",
    "    \n",
    "    df_2 = pd.DataFrame.from_records(secondlist, columns = [\"date\", \"tweet\", \"user\"])\n",
    "#     df_2.to_csv(\"%s_2.csv\" % SinceDate)\n",
    "    \n",
    "    time.sleep(600)\n",
    "    \n",
    "    print ('starting third download')\n",
    "    third = got.manager.TweetCriteria().setQuerySearch(Query).setSince(twentieth.strftime('%Y-%m-%d')).setUntil(until.strftime('%Y-%m-%d'))\n",
    "    thirddownload = got.manager.TweetManager.getTweets(third)\n",
    "    thirdlist=[[tweet.date, tweet.text, tweet.username] for tweet in thirddownload]\n",
    "    \n",
    "    df_3 = pd.DataFrame.from_records(thirdlist, columns = [\"date\", \"tweet\", \"user\"])\n",
    "#     df_3.to_csv(\"%s_3.csv\" % SinceDate)\n",
    "    \n",
    "    df=pd.concat([df_1,df_2,df_3])\n",
    "#     df.to_csv(\"%s.csv\" % SinceDate)\n",
    "  \n",
    "    return df"
   ]
  },
  {
   "cell_type": "markdown",
   "metadata": {},
   "source": [
    "**Date Ranges**  \n",
    "\n",
    "Just copy and past these into the cell below. **Make sure not to run the same one again!!!**\n",
    "\n",
    "\n",
    "**BILL:**  \n",
    "fin_tweets =  DownloadTweets('2020-01-01', '2020-01-31', 'i lost power')   \n",
    "fin_tweets =  DownloadTweets('2020-02-01', '2020-02-29', 'i lost power')   \n",
    "fin_tweets =  DownloadTweets('2020-03-01', '2020-03-31', 'i lost power')    \n",
    "fin_tweets =  DownloadTweets('2020-04-01', '2020-04-30', 'i lost power')  \n",
    "fin_tweets =  DownloadTweets('2020-05-01', '2020-05-31', 'i lost power')  \n",
    "fin_tweets =  DownloadTweets('2020-06-01', '2020-06-30', 'i lost power')  \n",
    "fin_tweets =  DownloadTweets('2020-07-01', '2020-07-31', 'i lost power')  \n",
    "fin_tweets =  DownloadTweets('2020-08-01', '2020-08-31', 'i lost power')  \n",
    "\n",
    "**NATHAN:**  \n",
    "fin_tweets =  DownloadTweets('2020-01-01', '2020-01-31', 'I hate these blackouts')   \n",
    "fin_tweets =  DownloadTweets('2020-02-01', '2020-02-29', 'I hate these blackouts')  \n",
    "fin_tweets =  DownloadTweets('2020-03-01', '2020-03-31', 'I hate these blackouts')  \n",
    "fin_tweets =  DownloadTweets('2020-04-01', '2020-04-30', 'I hate these blackouts')  \n",
    "fin_tweets =  DownloadTweets('2020-05-01', '2020-05-31', 'I hate these blackouts')  \n",
    "fin_tweets =  DownloadTweets('2020-06-01', '2020-06-30', 'I hate these blackouts')  \n",
    "fin_tweets =  DownloadTweets('2020-07-01', '2020-07-31', 'I hate these blackouts')  \n",
    "fin_tweets =  DownloadTweets('2020-08-01', '2020-08-31', 'I hate these blackouts')  \n",
    "\n",
    "**DAVID:**  \n",
    "fin_tweets =  DownloadTweets('2020-01-01', '2020-01-31', 'I have no power')  \n",
    "fin_tweets =  DownloadTweets('2020-02-01', '2020-02-29', 'I have no power')   \n",
    "fin_tweets =  DownloadTweets('2020-03-01', '2020-03-31', 'I have no power')  \n",
    "fin_tweets =  DownloadTweets('2020-04-01', '2020-04-30', 'I have no power')  \n",
    "fin_tweets =  DownloadTweets('2020-05-01', '2020-05-31', 'I have no power')  \n",
    "fin_tweets =  DownloadTweets('2020-06-01', '2020-06-30', 'I have no power')  \n",
    "fin_tweets =  DownloadTweets('2020-07-01', '2020-07-31', 'I have no power')  \n",
    "fin_tweets =  DownloadTweets('2020-08-01', '2020-08-31', 'I have no power')  "
   ]
  },
  {
   "cell_type": "code",
   "execution_count": 25,
   "metadata": {},
   "outputs": [
    {
     "name": "stdout",
     "output_type": "stream",
     "text": [
      "starting first download\n",
      "starting second download\n",
      "starting third download\n"
     ]
    }
   ],
   "source": [
    "fin_tweets =  DownloadTweets('2020-08-01', '2020-08-31', 'my power went out')"
   ]
  },
  {
   "cell_type": "code",
   "execution_count": 26,
   "metadata": {},
   "outputs": [
    {
     "name": "stdout",
     "output_type": "stream",
     "text": [
      "(15468, 3)\n"
     ]
    }
   ],
   "source": [
    "print(fin_tweets.shape)"
   ]
  },
  {
   "cell_type": "code",
   "execution_count": 27,
   "metadata": {},
   "outputs": [
    {
     "data": {
      "text/html": [
       "<div>\n",
       "<style scoped>\n",
       "    .dataframe tbody tr th:only-of-type {\n",
       "        vertical-align: middle;\n",
       "    }\n",
       "\n",
       "    .dataframe tbody tr th {\n",
       "        vertical-align: top;\n",
       "    }\n",
       "\n",
       "    .dataframe thead th {\n",
       "        text-align: right;\n",
       "    }\n",
       "</style>\n",
       "<table border=\"1\" class=\"dataframe\">\n",
       "  <thead>\n",
       "    <tr style=\"text-align: right;\">\n",
       "      <th></th>\n",
       "      <th>date</th>\n",
       "      <th>tweet</th>\n",
       "      <th>user</th>\n",
       "    </tr>\n",
       "  </thead>\n",
       "  <tbody>\n",
       "    <tr>\n",
       "      <th>0</th>\n",
       "      <td>2020-08-10 23:57:03+00:00</td>\n",
       "      <td>My power just went out on the middle of me com...</td>\n",
       "      <td>micro_weiner</td>\n",
       "    </tr>\n",
       "    <tr>\n",
       "      <th>1</th>\n",
       "      <td>2020-09-04 21:22:03+00:00</td>\n",
       "      <td>Action-packed gameplay, an original cinematic ...</td>\n",
       "      <td>PlayAvengers</td>\n",
       "    </tr>\n",
       "    <tr>\n",
       "      <th>2</th>\n",
       "      <td>2020-08-10 23:56:10+00:00</td>\n",
       "      <td>Power just went out. They're goes my nightly d...</td>\n",
       "      <td>KobbyFletcher</td>\n",
       "    </tr>\n",
       "    <tr>\n",
       "      <th>3</th>\n",
       "      <td>2020-08-10 23:55:34+00:00</td>\n",
       "      <td>Power went out, here's to hoping my phone batt...</td>\n",
       "      <td>MyNameIsBear_</td>\n",
       "    </tr>\n",
       "    <tr>\n",
       "      <th>4</th>\n",
       "      <td>2020-08-10 23:55:07+00:00</td>\n",
       "      <td>Our power went out and couldn’t even use the W...</td>\n",
       "      <td>HeyitsLupita</td>\n",
       "    </tr>\n",
       "  </tbody>\n",
       "</table>\n",
       "</div>"
      ],
      "text/plain": [
       "                       date  \\\n",
       "0 2020-08-10 23:57:03+00:00   \n",
       "1 2020-09-04 21:22:03+00:00   \n",
       "2 2020-08-10 23:56:10+00:00   \n",
       "3 2020-08-10 23:55:34+00:00   \n",
       "4 2020-08-10 23:55:07+00:00   \n",
       "\n",
       "                                               tweet           user  \n",
       "0  My power just went out on the middle of me com...   micro_weiner  \n",
       "1  Action-packed gameplay, an original cinematic ...   PlayAvengers  \n",
       "2  Power just went out. They're goes my nightly d...  KobbyFletcher  \n",
       "3  Power went out, here's to hoping my phone batt...  MyNameIsBear_  \n",
       "4  Our power went out and couldn’t even use the W...   HeyitsLupita  "
      ]
     },
     "execution_count": 27,
     "metadata": {},
     "output_type": "execute_result"
    }
   ],
   "source": [
    "fin_tweets.head()"
   ]
  },
  {
   "cell_type": "markdown",
   "metadata": {},
   "source": [
    "**MAKE SURE TO CHANGE THE MONTH ABBREVIATION AFTER EACH RUN**\n",
    "\n",
    "Create a months_query folder in our main project5 folder\n",
    "\n",
    "\n",
    "**BILL:**  \n",
    "fin_tweets.to_csv(\"./months_query/jan_2020_ILP.csv\", index=False)  \n",
    "fin_tweets.to_csv(\"./months_query/feb_2020_ILP.csv\", index=False)     \n",
    "fin_tweets.to_csv(\"./months_query/mar_2020_ILP.csv\", index=False)     \n",
    "fin_tweets.to_csv(\"./months_query/apr_2020_ILP.csv\", index=False)  \n",
    "fin_tweets.to_csv(\"./months_query/may_2020_ILP.csv\", index=False)  \n",
    "fin_tweets.to_csv(\"./months_query/jun_2020_ILP.csv\", index=False)  \n",
    "fin_tweets.to_csv(\"./months_query/jul_2020_ILP.csv\", index=False)  \n",
    "fin_tweets.to_csv(\"./months_query/aug_2020_ILP.csv\", index=False)  \n",
    "\n",
    "**NATHAN:**  \n",
    "fin_tweets.to_csv(\"./months_query/jan_2020_IHTB.csv\", index=False)  \n",
    "fin_tweets.to_csv(\"./months_query/feb_2020_IHTB.csv\", index=False)    \n",
    "fin_tweets.to_csv(\"./months_query/mar_2020_IHTB.csv\", index=False)    \n",
    "fin_tweets.to_csv(\"./months_query/apr_2020_IHTB.csv\", index=False)      \n",
    "fin_tweets.to_csv(\"./months_query/may_2020_IHTB.csv\", index=False)  \n",
    "fin_tweets.to_csv(\"./months_query/jun_2020_IHTB.csv\", index=False)  \n",
    "fin_tweets.to_csv(\"./months_query/jul_2020_IHTB.csv\", index=False)  \n",
    "fin_tweets.to_csv(\"./months_query/aug_2020_IHTB.csv\", index=False) \n",
    "\n",
    "**DAVID:**  \n",
    "fin_tweets.to_csv(\"./months_query/jan_2020_IVNP.csv\", index=False)  \n",
    "fin_tweets.to_csv(\"./months_query/feb_2020_IVNP.csv\", index=False)  \n",
    "fin_tweets.to_csv(\"./months_query/mar_2020_IVNP.csv\", index=False)  \n",
    "fin_tweets.to_csv(\"./months_query/apr_2020_IVNP.csv\", index=False)  \n",
    "fin_tweets.to_csv(\"./months_query/may_2020_IVNP.csv\", index=False)  \n",
    "fin_tweets.to_csv(\"./months_query/jun_2020_IVNP.csv\", index=False)  \n",
    "fin_tweets.to_csv(\"./months_query/jul_2020_IVNP.csv\", index=False)  \n",
    "fin_tweets.to_csv(\"./months_query/aug_2020_IHNP.csv\", index=False)  "
   ]
  },
  {
   "cell_type": "code",
   "execution_count": 28,
   "metadata": {},
   "outputs": [],
   "source": [
    "fin_tweets.to_csv(\"./months_query/aug_2020_MPWO.csv\", index=False)"
   ]
  },
  {
   "cell_type": "markdown",
   "metadata": {},
   "source": [
    "### **Making One Big Dataframe with all of the tweets for every month for 2020**\n",
    "\n",
    "Do these step after you have a CSV for every month"
   ]
  },
  {
   "cell_type": "code",
   "execution_count": 29,
   "metadata": {},
   "outputs": [
    {
     "name": "stdout",
     "output_type": "stream",
     "text": [
      "(3402, 3)\n"
     ]
    }
   ],
   "source": [
    "jan = pd.read_csv('./months_query/jan_2020_MPWO.csv')\n",
    "print(jan.shape)"
   ]
  },
  {
   "cell_type": "code",
   "execution_count": 30,
   "metadata": {},
   "outputs": [
    {
     "name": "stdout",
     "output_type": "stream",
     "text": [
      "(3318, 3)\n"
     ]
    }
   ],
   "source": [
    "feb = pd.read_csv('./months_query/feb_2020_MPWO.csv')\n",
    "print(feb.shape)"
   ]
  },
  {
   "cell_type": "code",
   "execution_count": 31,
   "metadata": {},
   "outputs": [
    {
     "name": "stdout",
     "output_type": "stream",
     "text": [
      "(4472, 3)\n"
     ]
    }
   ],
   "source": [
    "mar = pd.read_csv('./months_query/mar_2020_MPWO.csv')\n",
    "print(mar.shape)"
   ]
  },
  {
   "cell_type": "code",
   "execution_count": 32,
   "metadata": {},
   "outputs": [
    {
     "name": "stdout",
     "output_type": "stream",
     "text": [
      "(6724, 3)\n"
     ]
    }
   ],
   "source": [
    "apr = pd.read_csv('./months_query/apr_2020_MPWO.csv')\n",
    "print(apr.shape)"
   ]
  },
  {
   "cell_type": "code",
   "execution_count": 33,
   "metadata": {},
   "outputs": [
    {
     "name": "stdout",
     "output_type": "stream",
     "text": [
      "(6194, 3)\n"
     ]
    }
   ],
   "source": [
    "may = pd.read_csv('./months_query/may_2020_MPWO.csv')\n",
    "print(may.shape)"
   ]
  },
  {
   "cell_type": "code",
   "execution_count": 34,
   "metadata": {},
   "outputs": [
    {
     "name": "stdout",
     "output_type": "stream",
     "text": [
      "(7083, 3)\n"
     ]
    }
   ],
   "source": [
    "jun = pd.read_csv('./months_query/jun_2020_MPWO.csv')\n",
    "print(jun.shape)"
   ]
  },
  {
   "cell_type": "code",
   "execution_count": 35,
   "metadata": {},
   "outputs": [
    {
     "name": "stdout",
     "output_type": "stream",
     "text": [
      "(8987, 3)\n"
     ]
    }
   ],
   "source": [
    "jul = pd.read_csv('./months_query/jul_2020_MPWO.csv')\n",
    "print(jul.shape)"
   ]
  },
  {
   "cell_type": "code",
   "execution_count": 36,
   "metadata": {},
   "outputs": [
    {
     "name": "stdout",
     "output_type": "stream",
     "text": [
      "(15468, 3)\n"
     ]
    }
   ],
   "source": [
    "aug = pd.read_csv('./months_query/aug_2020_MPWO.csv')\n",
    "print(aug.shape)"
   ]
  },
  {
   "cell_type": "markdown",
   "metadata": {},
   "source": [
    "**Replace my name with your name!!**\n",
    "\n",
    "This will be a dataframe with all of the months"
   ]
  },
  {
   "cell_type": "code",
   "execution_count": 37,
   "metadata": {},
   "outputs": [],
   "source": [
    "aidan_final_df = jan.append([feb, mar, apr, may, jun, jul, aug])"
   ]
  },
  {
   "cell_type": "code",
   "execution_count": 38,
   "metadata": {},
   "outputs": [
    {
     "data": {
      "text/plain": [
       "(55648, 3)"
      ]
     },
     "execution_count": 38,
     "metadata": {},
     "output_type": "execute_result"
    }
   ],
   "source": [
    "aidan_final_df.shape"
   ]
  },
  {
   "cell_type": "code",
   "execution_count": 39,
   "metadata": {},
   "outputs": [],
   "source": [
    "aidan_final_df.to_csv('aidan_final_df.csv', index=False)"
   ]
  },
  {
   "cell_type": "markdown",
   "metadata": {},
   "source": [
    "# **NEXT STEPS**"
   ]
  },
  {
   "cell_type": "markdown",
   "metadata": {},
   "source": [
    "## **Adding Location Using Tweepy**\n",
    "\n",
    "Disregard this down here we will do this when we have the master dataframe!"
   ]
  },
  {
   "cell_type": "code",
   "execution_count": 48,
   "metadata": {},
   "outputs": [],
   "source": [
    "# consumer_key= 'nOj8CQ7XjcNbTS9fFPp6wUNQF'\n",
    "# consumer_secret= '0VtlM5UXl2ZLAL0WMMT9WQ0kHFz4ufKTtn8T1bNVNpvdzYb2Mi'\n",
    "# access_token= '1301516905136771072-TrLtF8u5u0pUBmkSULnErXQcuyVk9i'\n",
    "# access_token_secret= 'hxCKEmbRNE1w0kn0H1owznIQJfuSjDGF3AaZLBCXgqQBO'"
   ]
  },
  {
   "cell_type": "code",
   "execution_count": 49,
   "metadata": {},
   "outputs": [],
   "source": [
    "# auth = tw.OAuthHandler(consumer_key, consumer_secret)\n",
    "# auth.set_access_token(access_token, access_token_secret)\n",
    "# api = tw.API(auth, wait_on_rate_limit=True)"
   ]
  },
  {
   "cell_type": "code",
   "execution_count": 50,
   "metadata": {},
   "outputs": [
    {
     "data": {
      "text/plain": [
       "'rynertia'"
      ]
     },
     "execution_count": 50,
     "metadata": {},
     "output_type": "execute_result"
    }
   ],
   "source": [
    "# user_locs = [n for n in df['user']]\n",
    "# user_locs[0]"
   ]
  },
  {
   "cell_type": "code",
   "execution_count": 51,
   "metadata": {},
   "outputs": [],
   "source": [
    "# # the screen name of the user \n",
    "# location_final = []\n",
    "# for xi in user_locs:\n",
    "    \n",
    "#     screen_name = xi\n",
    "\n",
    "#     # fetching the user \n",
    "#     user = api.get_user(screen_name) \n",
    "\n",
    "#     # fetching the name \n",
    "#     name = user.name \n",
    "\n",
    "#     location = user.location\n",
    "\n",
    "#     if location == \"\": \n",
    "#         location_final.append(\"The user has not mentioned their location.\") \n",
    "#     else: \n",
    "#         location_final.append(location) \n",
    "        \n",
    "#     time.sleep(3)"
   ]
  },
  {
   "cell_type": "code",
   "execution_count": 52,
   "metadata": {},
   "outputs": [
    {
     "data": {
      "text/plain": [
       "'The user has not mentioned their location.'"
      ]
     },
     "execution_count": 52,
     "metadata": {},
     "output_type": "execute_result"
    }
   ],
   "source": [
    "# location_final[0]"
   ]
  },
  {
   "cell_type": "code",
   "execution_count": 53,
   "metadata": {},
   "outputs": [],
   "source": [
    "# df['location'] = location_final"
   ]
  },
  {
   "cell_type": "code",
   "execution_count": 54,
   "metadata": {},
   "outputs": [
    {
     "data": {
      "text/html": [
       "<div>\n",
       "<style scoped>\n",
       "    .dataframe tbody tr th:only-of-type {\n",
       "        vertical-align: middle;\n",
       "    }\n",
       "\n",
       "    .dataframe tbody tr th {\n",
       "        vertical-align: top;\n",
       "    }\n",
       "\n",
       "    .dataframe thead th {\n",
       "        text-align: right;\n",
       "    }\n",
       "</style>\n",
       "<table border=\"1\" class=\"dataframe\">\n",
       "  <thead>\n",
       "    <tr style=\"text-align: right;\">\n",
       "      <th></th>\n",
       "      <th>tweets</th>\n",
       "      <th>user</th>\n",
       "      <th>location</th>\n",
       "    </tr>\n",
       "  </thead>\n",
       "  <tbody>\n",
       "    <tr>\n",
       "      <th>0</th>\n",
       "      <td>i breathed so hard into my mic that my houses ...</td>\n",
       "      <td>rynertia</td>\n",
       "      <td>The user has not mentioned their location.</td>\n",
       "    </tr>\n",
       "    <tr>\n",
       "      <th>1</th>\n",
       "      <td>Action-packed gameplay, an original cinematic ...</td>\n",
       "      <td>PlayAvengers</td>\n",
       "      <td>San Francisco, CA</td>\n",
       "    </tr>\n",
       "    <tr>\n",
       "      <th>2</th>\n",
       "      <td>my power just went completely out</td>\n",
       "      <td>gldencherry_</td>\n",
       "      <td>she/her</td>\n",
       "    </tr>\n",
       "    <tr>\n",
       "      <th>3</th>\n",
       "      <td>my power just went out</td>\n",
       "      <td>goIdentayIor</td>\n",
       "      <td>⅖ || wendy🤍 || 17 || lesbian</td>\n",
       "    </tr>\n",
       "    <tr>\n",
       "      <th>4</th>\n",
       "      <td>Today was an eventful day. I got most of my tr...</td>\n",
       "      <td>Boopcosplay</td>\n",
       "      <td>Leicester, England</td>\n",
       "    </tr>\n",
       "    <tr>\n",
       "      <th>...</th>\n",
       "      <td>...</td>\n",
       "      <td>...</td>\n",
       "      <td>...</td>\n",
       "    </tr>\n",
       "    <tr>\n",
       "      <th>678</th>\n",
       "      <td>Just lost power. I hate everything sadKEK http...</td>\n",
       "      <td>NachoOtter</td>\n",
       "      <td>Michigan, USA</td>\n",
       "    </tr>\n",
       "    <tr>\n",
       "      <th>679</th>\n",
       "      <td>“In my opinion, the current president is tryin...</td>\n",
       "      <td>FreedomEnslaves</td>\n",
       "      <td>London Town</td>\n",
       "    </tr>\n",
       "    <tr>\n",
       "      <th>680</th>\n",
       "      <td>ai dungeon: huh? i thought lost was a girl me:...</td>\n",
       "      <td>guppystail</td>\n",
       "      <td>some dark place</td>\n",
       "    </tr>\n",
       "    <tr>\n",
       "      <th>681</th>\n",
       "      <td>I’m so blessed to work with these GKs every we...</td>\n",
       "      <td>ItsJustKelsss1</td>\n",
       "      <td>The user has not mentioned their location.</td>\n",
       "    </tr>\n",
       "    <tr>\n",
       "      <th>682</th>\n",
       "      <td>@TheCatOnFox can you ask. Im a coach and ive w...</td>\n",
       "      <td>marcusdinora</td>\n",
       "      <td>Springfield, IL</td>\n",
       "    </tr>\n",
       "  </tbody>\n",
       "</table>\n",
       "<p>683 rows × 3 columns</p>\n",
       "</div>"
      ],
      "text/plain": [
       "                                                tweets             user  \\\n",
       "0    i breathed so hard into my mic that my houses ...         rynertia   \n",
       "1    Action-packed gameplay, an original cinematic ...     PlayAvengers   \n",
       "2                   my power just went completely out      gldencherry_   \n",
       "3                               my power just went out     goIdentayIor   \n",
       "4    Today was an eventful day. I got most of my tr...      Boopcosplay   \n",
       "..                                                 ...              ...   \n",
       "678  Just lost power. I hate everything sadKEK http...       NachoOtter   \n",
       "679  “In my opinion, the current president is tryin...  FreedomEnslaves   \n",
       "680  ai dungeon: huh? i thought lost was a girl me:...       guppystail   \n",
       "681  I’m so blessed to work with these GKs every we...   ItsJustKelsss1   \n",
       "682  @TheCatOnFox can you ask. Im a coach and ive w...     marcusdinora   \n",
       "\n",
       "                                       location  \n",
       "0    The user has not mentioned their location.  \n",
       "1                             San Francisco, CA  \n",
       "2                                       she/her  \n",
       "3                  ⅖ || wendy🤍 || 17 || lesbian  \n",
       "4                            Leicester, England  \n",
       "..                                          ...  \n",
       "678                               Michigan, USA  \n",
       "679                                 London Town  \n",
       "680                             some dark place  \n",
       "681  The user has not mentioned their location.  \n",
       "682                             Springfield, IL  \n",
       "\n",
       "[683 rows x 3 columns]"
      ]
     },
     "execution_count": 54,
     "metadata": {},
     "output_type": "execute_result"
    }
   ],
   "source": [
    "# df"
   ]
  },
  {
   "cell_type": "code",
   "execution_count": null,
   "metadata": {},
   "outputs": [],
   "source": []
  },
  {
   "cell_type": "code",
   "execution_count": null,
   "metadata": {},
   "outputs": [],
   "source": []
  }
 ],
 "metadata": {
  "kernelspec": {
   "display_name": "Python 3",
   "language": "python",
   "name": "python3"
  },
  "language_info": {
   "codemirror_mode": {
    "name": "ipython",
    "version": 3
   },
   "file_extension": ".py",
   "mimetype": "text/x-python",
   "name": "python",
   "nbconvert_exporter": "python",
   "pygments_lexer": "ipython3",
   "version": "3.8.5"
  }
 },
 "nbformat": 4,
 "nbformat_minor": 4
}
