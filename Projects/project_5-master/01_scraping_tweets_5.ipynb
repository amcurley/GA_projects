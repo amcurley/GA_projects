{
 "cells": [
  {
   "cell_type": "markdown",
   "metadata": {},
   "source": [
    "## **Import Libraries**"
   ]
  },
  {
   "cell_type": "markdown",
   "metadata": {},
   "source": [
    "You might have to install GetOldTweet3    \n",
    "https://pypi.org/project/GetOldTweets3/    "
   ]
  },
  {
   "cell_type": "code",
   "execution_count": 11,
   "metadata": {},
   "outputs": [],
   "source": [
    "import GetOldTweets3 as got\n",
    "import time\n",
    "from datetime import datetime, date, timedelta\n",
    "import pandas as pd\n",
    "import numpy as np\n",
    "import os\n",
    "import tweepy as tw"
   ]
  },
  {
   "cell_type": "code",
   "execution_count": 71,
   "metadata": {},
   "outputs": [],
   "source": [
    "# pip install tweepy"
   ]
  },
  {
   "cell_type": "markdown",
   "metadata": {},
   "source": [
    "## **Function to Grab Date, Tweet, & Username**"
   ]
  },
  {
   "cell_type": "code",
   "execution_count": 24,
   "metadata": {},
   "outputs": [],
   "source": [
    "def DownloadTweets(SinceDate, UntilDate, Query):\n",
    "    '''\n",
    "    Downloads all tweets from a certain month in three sessions in order to avoid sending too many requests. \n",
    "    Date format = 'yyyy-mm-dd'. \n",
    "    '''\n",
    "    since = datetime.strptime(SinceDate, '%Y-%m-%d')\n",
    "    until= datetime.strptime(UntilDate, '%Y-%m-%d')\n",
    "    tenth = since + timedelta(days = 10)\n",
    "    twentieth = since + timedelta(days=20)\n",
    "    \n",
    "    print ('starting first download')\n",
    "    first = got.manager.TweetCriteria().setQuerySearch(Query).setSince(since.strftime('%Y-%m-%d')).setUntil(tenth.strftime('%Y-%m-%d'))\n",
    "    firstdownload = got.manager.TweetManager.getTweets(first)\n",
    "    firstlist=[[tweet.date, tweet.text, tweet.username] for tweet in firstdownload]\n",
    "    \n",
    "    df_1 = pd.DataFrame.from_records(firstlist, columns = [\"date\", \"tweet\", \"user\"])\n",
    "#     df_1.to_csv(\"%s_1.csv\" % SinceDate)\n",
    "    \n",
    "    time.sleep(600)\n",
    "    \n",
    "    print ('starting second download')\n",
    "    second = got.manager.TweetCriteria().setQuerySearch(Query).setSince(tenth.strftime('%Y-%m-%d')).setUntil(twentieth.strftime('%Y-%m-%d'))\n",
    "    seconddownload = got.manager.TweetManager.getTweets(second)\n",
    "    secondlist=[[tweet.date, tweet.text, tweet.username] for tweet in seconddownload]\n",
    "    \n",
    "    df_2 = pd.DataFrame.from_records(secondlist, columns = [\"date\", \"tweet\", \"user\"])\n",
    "#     df_2.to_csv(\"%s_2.csv\" % SinceDate)\n",
    "    \n",
    "    time.sleep(600)\n",
    "    \n",
    "    print ('starting third download')\n",
    "    third = got.manager.TweetCriteria().setQuerySearch(Query).setSince(twentieth.strftime('%Y-%m-%d')).setUntil(until.strftime('%Y-%m-%d'))\n",
    "    thirddownload = got.manager.TweetManager.getTweets(third)\n",
    "    thirdlist=[[tweet.date, tweet.text, tweet.username] for tweet in thirddownload]\n",
    "    \n",
    "    df_3 = pd.DataFrame.from_records(thirdlist, columns = [\"date\", \"tweet\", \"user\"])\n",
    "#     df_3.to_csv(\"%s_3.csv\" % SinceDate)\n",
    "    \n",
    "    df=pd.concat([df_1,df_2,df_3])\n",
    "#     df.to_csv(\"%s.csv\" % SinceDate)\n",
    "  \n",
    "    return df"
   ]
  },
  {
   "cell_type": "markdown",
   "metadata": {},
   "source": [
    "**Date Ranges**  \n",
    "\n",
    "Just copy and past these into the cell below. **Make sure not to run the same one again!!!**\n",
    "\n",
    "\n",
    "**BILL:**  \n",
    "fin_tweets =  DownloadTweets('2020-01-01', '2020-01-31', 'i lost power')   \n",
    "fin_tweets =  DownloadTweets('2020-02-01', '2020-02-29', 'i lost power')   \n",
    "fin_tweets =  DownloadTweets('2020-03-01', '2020-03-31', 'i lost power')    \n",
    "fin_tweets =  DownloadTweets('2020-04-01', '2020-04-30', 'i lost power')  \n",
    "fin_tweets =  DownloadTweets('2020-05-01', '2020-05-31', 'i lost power')  \n",
    "fin_tweets =  DownloadTweets('2020-06-01', '2020-06-30', 'i lost power')  \n",
    "fin_tweets =  DownloadTweets('2020-07-01', '2020-07-31', 'i lost power')  \n",
    "fin_tweets =  DownloadTweets('2020-08-01', '2020-08-31', 'i lost power')  \n",
    "\n",
    "**NATHAN:**  \n",
    "fin_tweets =  DownloadTweets('2020-01-01', '2020-01-31', 'I hate these blackouts')   \n",
    "fin_tweets =  DownloadTweets('2020-02-01', '2020-02-29', 'I hate these blackouts')  \n",
    "fin_tweets =  DownloadTweets('2020-03-01', '2020-03-31', 'I hate these blackouts')  \n",
    "fin_tweets =  DownloadTweets('2020-04-01', '2020-04-30', 'I hate these blackouts')  \n",
    "fin_tweets =  DownloadTweets('2020-05-01', '2020-05-31', 'I hate these blackouts')  \n",
    "fin_tweets =  DownloadTweets('2020-06-01', '2020-06-30', 'I hate these blackouts')  \n",
    "fin_tweets =  DownloadTweets('2020-07-01', '2020-07-31', 'I hate these blackouts')  \n",
    "fin_tweets =  DownloadTweets('2020-08-01', '2020-08-31', 'I hate these blackouts')  \n",
    "\n",
    "**DAVID:**  \n",
    "fin_tweets =  DownloadTweets('2020-01-01', '2020-01-31', 'I have no power')  \n",
    "fin_tweets =  DownloadTweets('2020-02-01', '2020-02-29', 'I have no power')   \n",
    "fin_tweets =  DownloadTweets('2020-03-01', '2020-03-31', 'I have no power')  \n",
    "fin_tweets =  DownloadTweets('2020-04-01', '2020-04-30', 'I have no power')  \n",
    "fin_tweets =  DownloadTweets('2020-05-01', '2020-05-31', 'I have no power')  \n",
    "fin_tweets =  DownloadTweets('2020-06-01', '2020-06-30', 'I have no power')  \n",
    "fin_tweets =  DownloadTweets('2020-07-01', '2020-07-31', 'I have no power')  \n",
    "fin_tweets =  DownloadTweets('2020-08-01', '2020-08-31', 'I have no power')  "
   ]
  },
  {
   "cell_type": "code",
   "execution_count": 25,
   "metadata": {},
   "outputs": [
    {
     "name": "stdout",
     "output_type": "stream",
     "text": [
      "starting first download\n",
      "starting second download\n",
      "starting third download\n"
     ]
    }
   ],
   "source": [
    "fin_tweets =  DownloadTweets('2020-08-01', '2020-08-31', 'my power went out')"
   ]
  },
  {
   "cell_type": "code",
   "execution_count": 26,
   "metadata": {},
   "outputs": [
    {
     "name": "stdout",
     "output_type": "stream",
     "text": [
      "(15468, 3)\n"
     ]
    }
   ],
   "source": [
    "print(fin_tweets.shape)"
   ]
  },
  {
   "cell_type": "code",
   "execution_count": 27,
   "metadata": {},
   "outputs": [
    {
     "data": {
      "text/html": [
       "<div>\n",
       "<style scoped>\n",
       "    .dataframe tbody tr th:only-of-type {\n",
       "        vertical-align: middle;\n",
       "    }\n",
       "\n",
       "    .dataframe tbody tr th {\n",
       "        vertical-align: top;\n",
       "    }\n",
       "\n",
       "    .dataframe thead th {\n",
       "        text-align: right;\n",
       "    }\n",
       "</style>\n",
       "<table border=\"1\" class=\"dataframe\">\n",
       "  <thead>\n",
       "    <tr style=\"text-align: right;\">\n",
       "      <th></th>\n",
       "      <th>date</th>\n",
       "      <th>tweet</th>\n",
       "      <th>user</th>\n",
       "    </tr>\n",
       "  </thead>\n",
       "  <tbody>\n",
       "    <tr>\n",
       "      <th>0</th>\n",
       "      <td>2020-08-10 23:57:03+00:00</td>\n",
       "      <td>My power just went out on the middle of me com...</td>\n",
       "      <td>micro_weiner</td>\n",
       "    </tr>\n",
       "    <tr>\n",
       "      <th>1</th>\n",
       "      <td>2020-09-04 21:22:03+00:00</td>\n",
       "      <td>Action-packed gameplay, an original cinematic ...</td>\n",
       "      <td>PlayAvengers</td>\n",
       "    </tr>\n",
       "    <tr>\n",
       "      <th>2</th>\n",
       "      <td>2020-08-10 23:56:10+00:00</td>\n",
       "      <td>Power just went out. They're goes my nightly d...</td>\n",
       "      <td>KobbyFletcher</td>\n",
       "    </tr>\n",
       "    <tr>\n",
       "      <th>3</th>\n",
       "      <td>2020-08-10 23:55:34+00:00</td>\n",
       "      <td>Power went out, here's to hoping my phone batt...</td>\n",
       "      <td>MyNameIsBear_</td>\n",
       "    </tr>\n",
       "    <tr>\n",
       "      <th>4</th>\n",
       "      <td>2020-08-10 23:55:07+00:00</td>\n",
       "      <td>Our power went out and couldn’t even use the W...</td>\n",
       "      <td>HeyitsLupita</td>\n",
       "    </tr>\n",
       "  </tbody>\n",
       "</table>\n",
       "</div>"
      ],
      "text/plain": [
       "                       date  \\\n",
       "0 2020-08-10 23:57:03+00:00   \n",
       "1 2020-09-04 21:22:03+00:00   \n",
       "2 2020-08-10 23:56:10+00:00   \n",
       "3 2020-08-10 23:55:34+00:00   \n",
       "4 2020-08-10 23:55:07+00:00   \n",
       "\n",
       "                                               tweet           user  \n",
       "0  My power just went out on the middle of me com...   micro_weiner  \n",
       "1  Action-packed gameplay, an original cinematic ...   PlayAvengers  \n",
       "2  Power just went out. They're goes my nightly d...  KobbyFletcher  \n",
       "3  Power went out, here's to hoping my phone batt...  MyNameIsBear_  \n",
       "4  Our power went out and couldn’t even use the W...   HeyitsLupita  "
      ]
     },
     "execution_count": 27,
     "metadata": {},
     "output_type": "execute_result"
    }
   ],
   "source": [
    "fin_tweets.head()"
   ]
  },
  {
   "cell_type": "markdown",
   "metadata": {},
   "source": [
    "**MAKE SURE TO CHANGE THE MONTH ABBREVIATION AFTER EACH RUN**\n",
    "\n",
    "Create a months_query folder in our main project5 folder\n",
    "\n",
    "\n",
    "**BILL:**  \n",
    "fin_tweets.to_csv(\"./months_query/jan_2020_ILP.csv\", index=False)  \n",
    "fin_tweets.to_csv(\"./months_query/feb_2020_ILP.csv\", index=False)     \n",
    "fin_tweets.to_csv(\"./months_query/mar_2020_ILP.csv\", index=False)     \n",
    "fin_tweets.to_csv(\"./months_query/apr_2020_ILP.csv\", index=False)  \n",
    "fin_tweets.to_csv(\"./months_query/may_2020_ILP.csv\", index=False)  \n",
    "fin_tweets.to_csv(\"./months_query/jun_2020_ILP.csv\", index=False)  \n",
    "fin_tweets.to_csv(\"./months_query/jul_2020_ILP.csv\", index=False)  \n",
    "fin_tweets.to_csv(\"./months_query/aug_2020_ILP.csv\", index=False)  \n",
    "\n",
    "**NATHAN:**  \n",
    "fin_tweets.to_csv(\"./months_query/jan_2020_IHTB.csv\", index=False)  \n",
    "fin_tweets.to_csv(\"./months_query/feb_2020_IHTB.csv\", index=False)    \n",
    "fin_tweets.to_csv(\"./months_query/mar_2020_IHTB.csv\", index=False)    \n",
    "fin_tweets.to_csv(\"./months_query/apr_2020_IHTB.csv\", index=False)      \n",
    "fin_tweets.to_csv(\"./months_query/may_2020_IHTB.csv\", index=False)  \n",
    "fin_tweets.to_csv(\"./months_query/jun_2020_IHTB.csv\", index=False)  \n",
    "fin_tweets.to_csv(\"./months_query/jul_2020_IHTB.csv\", index=False)  \n",
    "fin_tweets.to_csv(\"./months_query/aug_2020_IHTB.csv\", index=False) \n",
    "\n",
    "**DAVID:**  \n",
    "fin_tweets.to_csv(\"./months_query/jan_2020_IVNP.csv\", index=False)  \n",
    "fin_tweets.to_csv(\"./months_query/feb_2020_IVNP.csv\", index=False)  \n",
    "fin_tweets.to_csv(\"./months_query/mar_2020_IVNP.csv\", index=False)  \n",
    "fin_tweets.to_csv(\"./months_query/apr_2020_IVNP.csv\", index=False)  \n",
    "fin_tweets.to_csv(\"./months_query/may_2020_IVNP.csv\", index=False)  \n",
    "fin_tweets.to_csv(\"./months_query/jun_2020_IVNP.csv\", index=False)  \n",
    "fin_tweets.to_csv(\"./months_query/jul_2020_IVNP.csv\", index=False)  \n",
    "fin_tweets.to_csv(\"./months_query/aug_2020_IHNP.csv\", index=False)  "
   ]
  },
  {
   "cell_type": "code",
   "execution_count": 28,
   "metadata": {},
   "outputs": [],
   "source": [
    "fin_tweets.to_csv(\"./months_query/aug_2020_MPWO.csv\", index=False)"
   ]
  },
  {
   "cell_type": "markdown",
   "metadata": {},
   "source": [
    "### **Making One Big Dataframe with all of the tweets for every month for 2020**\n",
    "\n",
    "Do these step after you have a CSV for every month"
   ]
  },
  {
   "cell_type": "code",
   "execution_count": 29,
   "metadata": {},
   "outputs": [
    {
     "name": "stdout",
     "output_type": "stream",
     "text": [
      "(3402, 3)\n"
     ]
    }
   ],
   "source": [
    "jan = pd.read_csv('./months_query/jan_2020_MPWO.csv')\n",
    "print(jan.shape)"
   ]
  },
  {
   "cell_type": "code",
   "execution_count": 30,
   "metadata": {},
   "outputs": [
    {
     "name": "stdout",
     "output_type": "stream",
     "text": [
      "(3318, 3)\n"
     ]
    }
   ],
   "source": [
    "feb = pd.read_csv('./months_query/feb_2020_MPWO.csv')\n",
    "print(feb.shape)"
   ]
  },
  {
   "cell_type": "code",
   "execution_count": 31,
   "metadata": {},
   "outputs": [
    {
     "name": "stdout",
     "output_type": "stream",
     "text": [
      "(4472, 3)\n"
     ]
    }
   ],
   "source": [
    "mar = pd.read_csv('./months_query/mar_2020_MPWO.csv')\n",
    "print(mar.shape)"
   ]
  },
  {
   "cell_type": "code",
   "execution_count": 32,
   "metadata": {},
   "outputs": [
    {
     "name": "stdout",
     "output_type": "stream",
     "text": [
      "(6724, 3)\n"
     ]
    }
   ],
   "source": [
    "apr = pd.read_csv('./months_query/apr_2020_MPWO.csv')\n",
    "print(apr.shape)"
   ]
  },
  {
   "cell_type": "code",
   "execution_count": 33,
   "metadata": {},
   "outputs": [
    {
     "name": "stdout",
     "output_type": "stream",
     "text": [
      "(6194, 3)\n"
     ]
    }
   ],
   "source": [
    "may = pd.read_csv('./months_query/may_2020_MPWO.csv')\n",
    "print(may.shape)"
   ]
  },
  {
   "cell_type": "code",
   "execution_count": 34,
   "metadata": {},
   "outputs": [
    {
     "name": "stdout",
     "output_type": "stream",
     "text": [
      "(7083, 3)\n"
     ]
    }
   ],
   "source": [
    "jun = pd.read_csv('./months_query/jun_2020_MPWO.csv')\n",
    "print(jun.shape)"
   ]
  },
  {
   "cell_type": "code",
   "execution_count": 35,
   "metadata": {},
   "outputs": [
    {
     "name": "stdout",
     "output_type": "stream",
     "text": [
      "(8987, 3)\n"
     ]
    }
   ],
   "source": [
    "jul = pd.read_csv('./months_query/jul_2020_MPWO.csv')\n",
    "print(jul.shape)"
   ]
  },
  {
   "cell_type": "code",
   "execution_count": 36,
   "metadata": {},
   "outputs": [
    {
     "name": "stdout",
     "output_type": "stream",
     "text": [
      "(15468, 3)\n"
     ]
    }
   ],
   "source": [
    "aug = pd.read_csv('./months_query/aug_2020_MPWO.csv')\n",
    "print(aug.shape)"
   ]
  },
  {
   "cell_type": "markdown",
   "metadata": {},
   "source": [
    "**Replace my name with your name!!**\n",
    "\n",
    "This will be a dataframe with all of the months"
   ]
  },
  {
   "cell_type": "code",
   "execution_count": 37,
   "metadata": {},
   "outputs": [],
   "source": [
    "aidan_final_df = jan.append([feb, mar, apr, may, jun, jul, aug])"
   ]
  },
  {
   "cell_type": "code",
   "execution_count": 38,
   "metadata": {},
   "outputs": [
    {
     "data": {
      "text/plain": [
       "(55648, 3)"
      ]
     },
     "execution_count": 38,
     "metadata": {},
     "output_type": "execute_result"
    }
   ],
   "source": [
    "aidan_final_df.shape"
   ]
  },
  {
   "cell_type": "code",
   "execution_count": 39,
   "metadata": {},
   "outputs": [],
   "source": [
    "aidan_final_df.to_csv('aidan_final_df.csv', index=False)"
   ]
  },
  {
   "cell_type": "markdown",
   "metadata": {},
   "source": [
    "## **Final Dataframes**"
   ]
  },
  {
   "cell_type": "code",
   "execution_count": 3,
   "metadata": {},
   "outputs": [],
   "source": [
    "aidan = pd.read_csv('./aidan_final_df.csv')"
   ]
  },
  {
   "cell_type": "code",
   "execution_count": 4,
   "metadata": {},
   "outputs": [
    {
     "data": {
      "text/html": [
       "<div>\n",
       "<style scoped>\n",
       "    .dataframe tbody tr th:only-of-type {\n",
       "        vertical-align: middle;\n",
       "    }\n",
       "\n",
       "    .dataframe tbody tr th {\n",
       "        vertical-align: top;\n",
       "    }\n",
       "\n",
       "    .dataframe thead th {\n",
       "        text-align: right;\n",
       "    }\n",
       "</style>\n",
       "<table border=\"1\" class=\"dataframe\">\n",
       "  <thead>\n",
       "    <tr style=\"text-align: right;\">\n",
       "      <th></th>\n",
       "      <th>date</th>\n",
       "      <th>tweet</th>\n",
       "      <th>user</th>\n",
       "    </tr>\n",
       "  </thead>\n",
       "  <tbody>\n",
       "    <tr>\n",
       "      <th>0</th>\n",
       "      <td>2020-01-10 23:44:13+00:00</td>\n",
       "      <td>Another earthquake at our hotel I wasn’t there...</td>\n",
       "      <td>TheCheesyCheska</td>\n",
       "    </tr>\n",
       "    <tr>\n",
       "      <th>1</th>\n",
       "      <td>2020-08-18 19:48:57+00:00</td>\n",
       "      <td>How can you build stronger business continuity...</td>\n",
       "      <td>Workday</td>\n",
       "    </tr>\n",
       "    <tr>\n",
       "      <th>2</th>\n",
       "      <td>2020-01-10 23:23:25+00:00</td>\n",
       "      <td>Power went out and it messed up my streaming p...</td>\n",
       "      <td>FreeZ3KiLLz</td>\n",
       "    </tr>\n",
       "    <tr>\n",
       "      <th>3</th>\n",
       "      <td>2020-01-10 22:57:12+00:00</td>\n",
       "      <td>the power went out in my house and i keep hear...</td>\n",
       "      <td>vantaepedia</td>\n",
       "    </tr>\n",
       "    <tr>\n",
       "      <th>4</th>\n",
       "      <td>2020-01-10 22:56:12+00:00</td>\n",
       "      <td>Well my house’s power went out and I’m on my p...</td>\n",
       "      <td>BlueRepublik</td>\n",
       "    </tr>\n",
       "    <tr>\n",
       "      <th>...</th>\n",
       "      <td>...</td>\n",
       "      <td>...</td>\n",
       "      <td>...</td>\n",
       "    </tr>\n",
       "    <tr>\n",
       "      <th>55643</th>\n",
       "      <td>2020-08-21 00:14:00+00:00</td>\n",
       "      <td>My power went out right when I was about to ba...</td>\n",
       "      <td>CherNic3</td>\n",
       "    </tr>\n",
       "    <tr>\n",
       "      <th>55644</th>\n",
       "      <td>2020-08-21 00:13:31+00:00</td>\n",
       "      <td>My AC was out for a whole week, then when the ...</td>\n",
       "      <td>StrawhatSkinny</td>\n",
       "    </tr>\n",
       "    <tr>\n",
       "      <th>55645</th>\n",
       "      <td>2020-08-21 00:11:22+00:00</td>\n",
       "      <td>My power randomly went out. Ok then.</td>\n",
       "      <td>KielixTV</td>\n",
       "    </tr>\n",
       "    <tr>\n",
       "      <th>55646</th>\n",
       "      <td>2020-08-21 00:03:54+00:00</td>\n",
       "      <td>im doing that rn cuz i learned my lesson from ...</td>\n",
       "      <td>flametheavgeek</td>\n",
       "    </tr>\n",
       "    <tr>\n",
       "      <th>55647</th>\n",
       "      <td>2020-08-21 00:03:52+00:00</td>\n",
       "      <td>LMFAO. I sat down to start my homework and the...</td>\n",
       "      <td>jasssy_2</td>\n",
       "    </tr>\n",
       "  </tbody>\n",
       "</table>\n",
       "<p>55648 rows × 3 columns</p>\n",
       "</div>"
      ],
      "text/plain": [
       "                            date  \\\n",
       "0      2020-01-10 23:44:13+00:00   \n",
       "1      2020-08-18 19:48:57+00:00   \n",
       "2      2020-01-10 23:23:25+00:00   \n",
       "3      2020-01-10 22:57:12+00:00   \n",
       "4      2020-01-10 22:56:12+00:00   \n",
       "...                          ...   \n",
       "55643  2020-08-21 00:14:00+00:00   \n",
       "55644  2020-08-21 00:13:31+00:00   \n",
       "55645  2020-08-21 00:11:22+00:00   \n",
       "55646  2020-08-21 00:03:54+00:00   \n",
       "55647  2020-08-21 00:03:52+00:00   \n",
       "\n",
       "                                                   tweet             user  \n",
       "0      Another earthquake at our hotel I wasn’t there...  TheCheesyCheska  \n",
       "1      How can you build stronger business continuity...          Workday  \n",
       "2      Power went out and it messed up my streaming p...      FreeZ3KiLLz  \n",
       "3      the power went out in my house and i keep hear...      vantaepedia  \n",
       "4      Well my house’s power went out and I’m on my p...     BlueRepublik  \n",
       "...                                                  ...              ...  \n",
       "55643  My power went out right when I was about to ba...         CherNic3  \n",
       "55644  My AC was out for a whole week, then when the ...   StrawhatSkinny  \n",
       "55645               My power randomly went out. Ok then.         KielixTV  \n",
       "55646  im doing that rn cuz i learned my lesson from ...   flametheavgeek  \n",
       "55647  LMFAO. I sat down to start my homework and the...         jasssy_2  \n",
       "\n",
       "[55648 rows x 3 columns]"
      ]
     },
     "execution_count": 4,
     "metadata": {},
     "output_type": "execute_result"
    }
   ],
   "source": [
    "aidan"
   ]
  },
  {
   "cell_type": "markdown",
   "metadata": {},
   "source": [
    "# **NEXT STEPS**"
   ]
  },
  {
   "cell_type": "markdown",
   "metadata": {},
   "source": [
    "## **Adding Location Using Tweepy**\n",
    "\n",
    "Disregard this down here we will do this when we have the master dataframe!"
   ]
  },
  {
   "cell_type": "code",
   "execution_count": 9,
   "metadata": {},
   "outputs": [],
   "source": [
    "consumer_key= 'nOj8CQ7XjcNbTS9fFPp6wUNQF'\n",
    "consumer_secret= '0VtlM5UXl2ZLAL0WMMT9WQ0kHFz4ufKTtn8T1bNVNpvdzYb2Mi'\n",
    "access_token= '1301516905136771072-TrLtF8u5u0pUBmkSULnErXQcuyVk9i'\n",
    "access_token_secret= 'hxCKEmbRNE1w0kn0H1owznIQJfuSjDGF3AaZLBCXgqQBO'"
   ]
  },
  {
   "cell_type": "code",
   "execution_count": 15,
   "metadata": {},
   "outputs": [],
   "source": [
    "auth = tw.OAuthHandler(consumer_key, consumer_secret)\n",
    "auth.set_access_token(access_token, access_token_secret)\n",
    "api = tw.API(auth, wait_on_rate_limit=True)"
   ]
  },
  {
   "cell_type": "code",
   "execution_count": 16,
   "metadata": {},
   "outputs": [
    {
     "data": {
      "text/plain": [
       "55648"
      ]
     },
     "execution_count": 16,
     "metadata": {},
     "output_type": "execute_result"
    }
   ],
   "source": [
    "user_locs = [n for n in aidan['user']]\n",
    "len(user_locs)"
   ]
  },
  {
   "cell_type": "code",
   "execution_count": 47,
   "metadata": {},
   "outputs": [],
   "source": [
    "# the screen name of the user \n",
    "location_final = []\n",
    "for xi in user_locs:\n",
    "    \n",
    "    screen_name = xi\n",
    "\n",
    "    try:\n",
    "        user = api.get_user(screen_name)\n",
    "\n",
    "        # fetching the name \n",
    "        name = user.name \n",
    "\n",
    "        location = user.location\n",
    "\n",
    "\n",
    "        if location == \"\": \n",
    "            location_final.append(\"The user has not mentioned their location\") \n",
    "        else: \n",
    "            location_final.append(location) \n",
    "        \n",
    "    except tw.TweepError:\n",
    "            print(f\"The user {screen_name} does not exist\")\n",
    "            location_final.append(\"The user has not mentioned their location\")"
   ]
  },
  {
   "cell_type": "code",
   "execution_count": 26,
   "metadata": {},
   "outputs": [
    {
     "data": {
      "text/plain": [
       "29323"
      ]
     },
     "execution_count": 26,
     "metadata": {},
     "output_type": "execute_result"
    }
   ],
   "source": [
    "len(location_final)"
   ]
  },
  {
   "cell_type": "code",
   "execution_count": 27,
   "metadata": {},
   "outputs": [
    {
     "data": {
      "text/plain": [
       "'The user has not mentioned their location'"
      ]
     },
     "execution_count": 27,
     "metadata": {},
     "output_type": "execute_result"
    }
   ],
   "source": [
    "location_final[0]"
   ]
  },
  {
   "cell_type": "code",
   "execution_count": 35,
   "metadata": {},
   "outputs": [],
   "source": [
    "newest = aidan[:29323]"
   ]
  },
  {
   "cell_type": "code",
   "execution_count": 41,
   "metadata": {},
   "outputs": [
    {
     "name": "stderr",
     "output_type": "stream",
     "text": [
      "<ipython-input-41-7d694d85de47>:1: SettingWithCopyWarning: \n",
      "A value is trying to be set on a copy of a slice from a DataFrame.\n",
      "Try using .loc[row_indexer,col_indexer] = value instead\n",
      "\n",
      "See the caveats in the documentation: https://pandas.pydata.org/pandas-docs/stable/user_guide/indexing.html#returning-a-view-versus-a-copy\n",
      "  newest['location'] = location_final\n"
     ]
    }
   ],
   "source": [
    "newest['location'] = location_final"
   ]
  },
  {
   "cell_type": "code",
   "execution_count": 43,
   "metadata": {},
   "outputs": [
    {
     "data": {
      "text/plain": [
       "The user has not mentioned their location    7496\n",
       "San Francisco, CA                            1074\n",
       "United States                                 346\n",
       "Los Angeles, CA                               259\n",
       "she/her                                       223\n",
       "                                             ... \n",
       "kampala uganda                                  1\n",
       "313                                             1\n",
       "24/she/they/kat                                 1\n",
       "The Litter Box                                  1\n",
       "Goshen, NY                                      1\n",
       "Name: location, Length: 11247, dtype: int64"
      ]
     },
     "execution_count": 43,
     "metadata": {},
     "output_type": "execute_result"
    }
   ],
   "source": [
    "newest['location'].value_counts()"
   ]
  },
  {
   "cell_type": "code",
   "execution_count": 48,
   "metadata": {},
   "outputs": [
    {
     "data": {
      "text/html": [
       "<div>\n",
       "<style scoped>\n",
       "    .dataframe tbody tr th:only-of-type {\n",
       "        vertical-align: middle;\n",
       "    }\n",
       "\n",
       "    .dataframe tbody tr th {\n",
       "        vertical-align: top;\n",
       "    }\n",
       "\n",
       "    .dataframe thead th {\n",
       "        text-align: right;\n",
       "    }\n",
       "</style>\n",
       "<table border=\"1\" class=\"dataframe\">\n",
       "  <thead>\n",
       "    <tr style=\"text-align: right;\">\n",
       "      <th></th>\n",
       "      <th>date</th>\n",
       "      <th>tweet</th>\n",
       "      <th>user</th>\n",
       "      <th>location</th>\n",
       "    </tr>\n",
       "  </thead>\n",
       "  <tbody>\n",
       "    <tr>\n",
       "      <th>2867</th>\n",
       "      <td>2020-01-26 20:07:20+00:00</td>\n",
       "      <td>So my power went out fml</td>\n",
       "      <td>ntashia27</td>\n",
       "      <td>Middletown, NY</td>\n",
       "    </tr>\n",
       "  </tbody>\n",
       "</table>\n",
       "</div>"
      ],
      "text/plain": [
       "                           date                      tweet       user  \\\n",
       "2867  2020-01-26 20:07:20+00:00  So my power went out fml   ntashia27   \n",
       "\n",
       "            location  \n",
       "2867  Middletown, NY  "
      ]
     },
     "execution_count": 48,
     "metadata": {},
     "output_type": "execute_result"
    }
   ],
   "source": [
    "newest[newest['location'] == \"Middletown, NY\"]"
   ]
  },
  {
   "cell_type": "code",
   "execution_count": 46,
   "metadata": {},
   "outputs": [],
   "source": [
    "newest.to_csv('everything_and_locs.csv', index=False)"
   ]
  },
  {
   "cell_type": "code",
   "execution_count": 30,
   "metadata": {},
   "outputs": [
    {
     "data": {
      "text/html": [
       "<div>\n",
       "<style scoped>\n",
       "    .dataframe tbody tr th:only-of-type {\n",
       "        vertical-align: middle;\n",
       "    }\n",
       "\n",
       "    .dataframe tbody tr th {\n",
       "        vertical-align: top;\n",
       "    }\n",
       "\n",
       "    .dataframe thead th {\n",
       "        text-align: right;\n",
       "    }\n",
       "</style>\n",
       "<table border=\"1\" class=\"dataframe\">\n",
       "  <thead>\n",
       "    <tr style=\"text-align: right;\">\n",
       "      <th></th>\n",
       "      <th>locations</th>\n",
       "    </tr>\n",
       "  </thead>\n",
       "  <tbody>\n",
       "    <tr>\n",
       "      <th>0</th>\n",
       "      <td>The user has not mentioned their location</td>\n",
       "    </tr>\n",
       "    <tr>\n",
       "      <th>1</th>\n",
       "      <td>Pleasanton, CA</td>\n",
       "    </tr>\n",
       "    <tr>\n",
       "      <th>2</th>\n",
       "      <td>United States</td>\n",
       "    </tr>\n",
       "    <tr>\n",
       "      <th>3</th>\n",
       "      <td>minor | she/her</td>\n",
       "    </tr>\n",
       "    <tr>\n",
       "      <th>4</th>\n",
       "      <td>Karakazan et Steinschiff</td>\n",
       "    </tr>\n",
       "  </tbody>\n",
       "</table>\n",
       "</div>"
      ],
      "text/plain": [
       "                                   locations\n",
       "0  The user has not mentioned their location\n",
       "1                             Pleasanton, CA\n",
       "2                              United States\n",
       "3                            minor | she/her\n",
       "4                   Karakazan et Steinschiff"
      ]
     },
     "execution_count": 30,
     "metadata": {},
     "output_type": "execute_result"
    }
   ],
   "source": [
    "locs.head()"
   ]
  },
  {
   "cell_type": "code",
   "execution_count": 31,
   "metadata": {},
   "outputs": [
    {
     "ename": "ValueError",
     "evalue": "Length of values (29323) does not match length of index (55648)",
     "output_type": "error",
     "traceback": [
      "\u001b[0;31m---------------------------------------------------------------------------\u001b[0m",
      "\u001b[0;31mValueError\u001b[0m                                Traceback (most recent call last)",
      "\u001b[0;32m<ipython-input-31-9c783d5b4d64>\u001b[0m in \u001b[0;36m<module>\u001b[0;34m\u001b[0m\n\u001b[0;32m----> 1\u001b[0;31m \u001b[0maidan\u001b[0m\u001b[0;34m[\u001b[0m\u001b[0;34m'location'\u001b[0m\u001b[0;34m]\u001b[0m \u001b[0;34m=\u001b[0m \u001b[0mlocation_final\u001b[0m\u001b[0;34m\u001b[0m\u001b[0;34m\u001b[0m\u001b[0m\n\u001b[0m",
      "\u001b[0;32m~/.conda/envs/project5/lib/python3.8/site-packages/pandas/core/frame.py\u001b[0m in \u001b[0;36m__setitem__\u001b[0;34m(self, key, value)\u001b[0m\n\u001b[1;32m   3038\u001b[0m         \u001b[0;32melse\u001b[0m\u001b[0;34m:\u001b[0m\u001b[0;34m\u001b[0m\u001b[0;34m\u001b[0m\u001b[0m\n\u001b[1;32m   3039\u001b[0m             \u001b[0;31m# set column\u001b[0m\u001b[0;34m\u001b[0m\u001b[0;34m\u001b[0m\u001b[0;34m\u001b[0m\u001b[0m\n\u001b[0;32m-> 3040\u001b[0;31m             \u001b[0mself\u001b[0m\u001b[0;34m.\u001b[0m\u001b[0m_set_item\u001b[0m\u001b[0;34m(\u001b[0m\u001b[0mkey\u001b[0m\u001b[0;34m,\u001b[0m \u001b[0mvalue\u001b[0m\u001b[0;34m)\u001b[0m\u001b[0;34m\u001b[0m\u001b[0;34m\u001b[0m\u001b[0m\n\u001b[0m\u001b[1;32m   3041\u001b[0m \u001b[0;34m\u001b[0m\u001b[0m\n\u001b[1;32m   3042\u001b[0m     \u001b[0;32mdef\u001b[0m \u001b[0m_setitem_slice\u001b[0m\u001b[0;34m(\u001b[0m\u001b[0mself\u001b[0m\u001b[0;34m,\u001b[0m \u001b[0mkey\u001b[0m\u001b[0;34m:\u001b[0m \u001b[0mslice\u001b[0m\u001b[0;34m,\u001b[0m \u001b[0mvalue\u001b[0m\u001b[0;34m)\u001b[0m\u001b[0;34m:\u001b[0m\u001b[0;34m\u001b[0m\u001b[0;34m\u001b[0m\u001b[0m\n",
      "\u001b[0;32m~/.conda/envs/project5/lib/python3.8/site-packages/pandas/core/frame.py\u001b[0m in \u001b[0;36m_set_item\u001b[0;34m(self, key, value)\u001b[0m\n\u001b[1;32m   3114\u001b[0m         \"\"\"\n\u001b[1;32m   3115\u001b[0m         \u001b[0mself\u001b[0m\u001b[0;34m.\u001b[0m\u001b[0m_ensure_valid_index\u001b[0m\u001b[0;34m(\u001b[0m\u001b[0mvalue\u001b[0m\u001b[0;34m)\u001b[0m\u001b[0;34m\u001b[0m\u001b[0;34m\u001b[0m\u001b[0m\n\u001b[0;32m-> 3116\u001b[0;31m         \u001b[0mvalue\u001b[0m \u001b[0;34m=\u001b[0m \u001b[0mself\u001b[0m\u001b[0;34m.\u001b[0m\u001b[0m_sanitize_column\u001b[0m\u001b[0;34m(\u001b[0m\u001b[0mkey\u001b[0m\u001b[0;34m,\u001b[0m \u001b[0mvalue\u001b[0m\u001b[0;34m)\u001b[0m\u001b[0;34m\u001b[0m\u001b[0;34m\u001b[0m\u001b[0m\n\u001b[0m\u001b[1;32m   3117\u001b[0m         \u001b[0mNDFrame\u001b[0m\u001b[0;34m.\u001b[0m\u001b[0m_set_item\u001b[0m\u001b[0;34m(\u001b[0m\u001b[0mself\u001b[0m\u001b[0;34m,\u001b[0m \u001b[0mkey\u001b[0m\u001b[0;34m,\u001b[0m \u001b[0mvalue\u001b[0m\u001b[0;34m)\u001b[0m\u001b[0;34m\u001b[0m\u001b[0;34m\u001b[0m\u001b[0m\n\u001b[1;32m   3118\u001b[0m \u001b[0;34m\u001b[0m\u001b[0m\n",
      "\u001b[0;32m~/.conda/envs/project5/lib/python3.8/site-packages/pandas/core/frame.py\u001b[0m in \u001b[0;36m_sanitize_column\u001b[0;34m(self, key, value, broadcast)\u001b[0m\n\u001b[1;32m   3759\u001b[0m \u001b[0;34m\u001b[0m\u001b[0m\n\u001b[1;32m   3760\u001b[0m             \u001b[0;31m# turn me into an ndarray\u001b[0m\u001b[0;34m\u001b[0m\u001b[0;34m\u001b[0m\u001b[0;34m\u001b[0m\u001b[0m\n\u001b[0;32m-> 3761\u001b[0;31m             \u001b[0mvalue\u001b[0m \u001b[0;34m=\u001b[0m \u001b[0msanitize_index\u001b[0m\u001b[0;34m(\u001b[0m\u001b[0mvalue\u001b[0m\u001b[0;34m,\u001b[0m \u001b[0mself\u001b[0m\u001b[0;34m.\u001b[0m\u001b[0mindex\u001b[0m\u001b[0;34m)\u001b[0m\u001b[0;34m\u001b[0m\u001b[0;34m\u001b[0m\u001b[0m\n\u001b[0m\u001b[1;32m   3762\u001b[0m             \u001b[0;32mif\u001b[0m \u001b[0;32mnot\u001b[0m \u001b[0misinstance\u001b[0m\u001b[0;34m(\u001b[0m\u001b[0mvalue\u001b[0m\u001b[0;34m,\u001b[0m \u001b[0;34m(\u001b[0m\u001b[0mnp\u001b[0m\u001b[0;34m.\u001b[0m\u001b[0mndarray\u001b[0m\u001b[0;34m,\u001b[0m \u001b[0mIndex\u001b[0m\u001b[0;34m)\u001b[0m\u001b[0;34m)\u001b[0m\u001b[0;34m:\u001b[0m\u001b[0;34m\u001b[0m\u001b[0;34m\u001b[0m\u001b[0m\n\u001b[1;32m   3763\u001b[0m                 \u001b[0;32mif\u001b[0m \u001b[0misinstance\u001b[0m\u001b[0;34m(\u001b[0m\u001b[0mvalue\u001b[0m\u001b[0;34m,\u001b[0m \u001b[0mlist\u001b[0m\u001b[0;34m)\u001b[0m \u001b[0;32mand\u001b[0m \u001b[0mlen\u001b[0m\u001b[0;34m(\u001b[0m\u001b[0mvalue\u001b[0m\u001b[0;34m)\u001b[0m \u001b[0;34m>\u001b[0m \u001b[0;36m0\u001b[0m\u001b[0;34m:\u001b[0m\u001b[0;34m\u001b[0m\u001b[0;34m\u001b[0m\u001b[0m\n",
      "\u001b[0;32m~/.conda/envs/project5/lib/python3.8/site-packages/pandas/core/internals/construction.py\u001b[0m in \u001b[0;36msanitize_index\u001b[0;34m(data, index)\u001b[0m\n\u001b[1;32m    745\u001b[0m     \"\"\"\n\u001b[1;32m    746\u001b[0m     \u001b[0;32mif\u001b[0m \u001b[0mlen\u001b[0m\u001b[0;34m(\u001b[0m\u001b[0mdata\u001b[0m\u001b[0;34m)\u001b[0m \u001b[0;34m!=\u001b[0m \u001b[0mlen\u001b[0m\u001b[0;34m(\u001b[0m\u001b[0mindex\u001b[0m\u001b[0;34m)\u001b[0m\u001b[0;34m:\u001b[0m\u001b[0;34m\u001b[0m\u001b[0;34m\u001b[0m\u001b[0m\n\u001b[0;32m--> 747\u001b[0;31m         raise ValueError(\n\u001b[0m\u001b[1;32m    748\u001b[0m             \u001b[0;34m\"Length of values \"\u001b[0m\u001b[0;34m\u001b[0m\u001b[0;34m\u001b[0m\u001b[0m\n\u001b[1;32m    749\u001b[0m             \u001b[0;34mf\"({len(data)}) \"\u001b[0m\u001b[0;34m\u001b[0m\u001b[0;34m\u001b[0m\u001b[0m\n",
      "\u001b[0;31mValueError\u001b[0m: Length of values (29323) does not match length of index (55648)"
     ]
    }
   ],
   "source": [
    "aidan['location'] = location_final"
   ]
  },
  {
   "cell_type": "code",
   "execution_count": 54,
   "metadata": {},
   "outputs": [
    {
     "data": {
      "text/html": [
       "<div>\n",
       "<style scoped>\n",
       "    .dataframe tbody tr th:only-of-type {\n",
       "        vertical-align: middle;\n",
       "    }\n",
       "\n",
       "    .dataframe tbody tr th {\n",
       "        vertical-align: top;\n",
       "    }\n",
       "\n",
       "    .dataframe thead th {\n",
       "        text-align: right;\n",
       "    }\n",
       "</style>\n",
       "<table border=\"1\" class=\"dataframe\">\n",
       "  <thead>\n",
       "    <tr style=\"text-align: right;\">\n",
       "      <th></th>\n",
       "      <th>tweets</th>\n",
       "      <th>user</th>\n",
       "      <th>location</th>\n",
       "    </tr>\n",
       "  </thead>\n",
       "  <tbody>\n",
       "    <tr>\n",
       "      <th>0</th>\n",
       "      <td>i breathed so hard into my mic that my houses ...</td>\n",
       "      <td>rynertia</td>\n",
       "      <td>The user has not mentioned their location.</td>\n",
       "    </tr>\n",
       "    <tr>\n",
       "      <th>1</th>\n",
       "      <td>Action-packed gameplay, an original cinematic ...</td>\n",
       "      <td>PlayAvengers</td>\n",
       "      <td>San Francisco, CA</td>\n",
       "    </tr>\n",
       "    <tr>\n",
       "      <th>2</th>\n",
       "      <td>my power just went completely out</td>\n",
       "      <td>gldencherry_</td>\n",
       "      <td>she/her</td>\n",
       "    </tr>\n",
       "    <tr>\n",
       "      <th>3</th>\n",
       "      <td>my power just went out</td>\n",
       "      <td>goIdentayIor</td>\n",
       "      <td>⅖ || wendy🤍 || 17 || lesbian</td>\n",
       "    </tr>\n",
       "    <tr>\n",
       "      <th>4</th>\n",
       "      <td>Today was an eventful day. I got most of my tr...</td>\n",
       "      <td>Boopcosplay</td>\n",
       "      <td>Leicester, England</td>\n",
       "    </tr>\n",
       "    <tr>\n",
       "      <th>...</th>\n",
       "      <td>...</td>\n",
       "      <td>...</td>\n",
       "      <td>...</td>\n",
       "    </tr>\n",
       "    <tr>\n",
       "      <th>678</th>\n",
       "      <td>Just lost power. I hate everything sadKEK http...</td>\n",
       "      <td>NachoOtter</td>\n",
       "      <td>Michigan, USA</td>\n",
       "    </tr>\n",
       "    <tr>\n",
       "      <th>679</th>\n",
       "      <td>“In my opinion, the current president is tryin...</td>\n",
       "      <td>FreedomEnslaves</td>\n",
       "      <td>London Town</td>\n",
       "    </tr>\n",
       "    <tr>\n",
       "      <th>680</th>\n",
       "      <td>ai dungeon: huh? i thought lost was a girl me:...</td>\n",
       "      <td>guppystail</td>\n",
       "      <td>some dark place</td>\n",
       "    </tr>\n",
       "    <tr>\n",
       "      <th>681</th>\n",
       "      <td>I’m so blessed to work with these GKs every we...</td>\n",
       "      <td>ItsJustKelsss1</td>\n",
       "      <td>The user has not mentioned their location.</td>\n",
       "    </tr>\n",
       "    <tr>\n",
       "      <th>682</th>\n",
       "      <td>@TheCatOnFox can you ask. Im a coach and ive w...</td>\n",
       "      <td>marcusdinora</td>\n",
       "      <td>Springfield, IL</td>\n",
       "    </tr>\n",
       "  </tbody>\n",
       "</table>\n",
       "<p>683 rows × 3 columns</p>\n",
       "</div>"
      ],
      "text/plain": [
       "                                                tweets             user  \\\n",
       "0    i breathed so hard into my mic that my houses ...         rynertia   \n",
       "1    Action-packed gameplay, an original cinematic ...     PlayAvengers   \n",
       "2                   my power just went completely out      gldencherry_   \n",
       "3                               my power just went out     goIdentayIor   \n",
       "4    Today was an eventful day. I got most of my tr...      Boopcosplay   \n",
       "..                                                 ...              ...   \n",
       "678  Just lost power. I hate everything sadKEK http...       NachoOtter   \n",
       "679  “In my opinion, the current president is tryin...  FreedomEnslaves   \n",
       "680  ai dungeon: huh? i thought lost was a girl me:...       guppystail   \n",
       "681  I’m so blessed to work with these GKs every we...   ItsJustKelsss1   \n",
       "682  @TheCatOnFox can you ask. Im a coach and ive w...     marcusdinora   \n",
       "\n",
       "                                       location  \n",
       "0    The user has not mentioned their location.  \n",
       "1                             San Francisco, CA  \n",
       "2                                       she/her  \n",
       "3                  ⅖ || wendy🤍 || 17 || lesbian  \n",
       "4                            Leicester, England  \n",
       "..                                          ...  \n",
       "678                               Michigan, USA  \n",
       "679                                 London Town  \n",
       "680                             some dark place  \n",
       "681  The user has not mentioned their location.  \n",
       "682                             Springfield, IL  \n",
       "\n",
       "[683 rows x 3 columns]"
      ]
     },
     "execution_count": 54,
     "metadata": {},
     "output_type": "execute_result"
    }
   ],
   "source": [
    "aidan"
   ]
  },
  {
   "cell_type": "code",
   "execution_count": null,
   "metadata": {},
   "outputs": [],
   "source": []
  },
  {
   "cell_type": "code",
   "execution_count": null,
   "metadata": {},
   "outputs": [],
   "source": []
  }
 ],
 "metadata": {
  "kernelspec": {
   "display_name": "Python 3",
   "language": "python",
   "name": "python3"
  },
  "language_info": {
   "codemirror_mode": {
    "name": "ipython",
    "version": 3
   },
   "file_extension": ".py",
   "mimetype": "text/x-python",
   "name": "python",
   "nbconvert_exporter": "python",
   "pygments_lexer": "ipython3",
   "version": "3.8.5"
  }
 },
 "nbformat": 4,
 "nbformat_minor": 4
}
