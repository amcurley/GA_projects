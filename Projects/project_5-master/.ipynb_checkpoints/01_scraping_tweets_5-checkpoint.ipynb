{
 "cells": [
  {
   "cell_type": "markdown",
   "metadata": {},
   "source": [
    "## **Import Libraries**"
   ]
  },
  {
   "cell_type": "code",
   "execution_count": 8,
   "metadata": {},
   "outputs": [],
   "source": [
    "import GetOldTweets3 as got\n",
    "import time\n",
    "from datetime import datetime, date, timedelta\n",
    "import pandas as pd\n",
    "import numpy as np\n",
    "import os\n",
    "import tweepy as tw"
   ]
  },
  {
   "cell_type": "code",
   "execution_count": 2,
   "metadata": {},
   "outputs": [
    {
     "name": "stdout",
     "output_type": "stream",
     "text": [
      "Requirement already satisfied: tweepy in /Users/aidancurley/.conda/envs/project5/lib/python3.8/site-packages (3.9.0)\n",
      "Requirement already satisfied: requests[socks]>=2.11.1 in /Users/aidancurley/.conda/envs/project5/lib/python3.8/site-packages (from tweepy) (2.24.0)\n",
      "Requirement already satisfied: six>=1.10.0 in /Users/aidancurley/.conda/envs/project5/lib/python3.8/site-packages (from tweepy) (1.15.0)\n",
      "Requirement already satisfied: requests-oauthlib>=0.7.0 in /Users/aidancurley/.conda/envs/project5/lib/python3.8/site-packages (from tweepy) (1.3.0)\n",
      "Requirement already satisfied: idna<3,>=2.5 in /Users/aidancurley/.conda/envs/project5/lib/python3.8/site-packages (from requests[socks]>=2.11.1->tweepy) (2.10)\n",
      "Requirement already satisfied: urllib3!=1.25.0,!=1.25.1,<1.26,>=1.21.1 in /Users/aidancurley/.conda/envs/project5/lib/python3.8/site-packages (from requests[socks]>=2.11.1->tweepy) (1.25.10)\n",
      "Requirement already satisfied: chardet<4,>=3.0.2 in /Users/aidancurley/.conda/envs/project5/lib/python3.8/site-packages (from requests[socks]>=2.11.1->tweepy) (3.0.4)\n",
      "Requirement already satisfied: certifi>=2017.4.17 in /Users/aidancurley/.conda/envs/project5/lib/python3.8/site-packages (from requests[socks]>=2.11.1->tweepy) (2020.6.20)\n",
      "Requirement already satisfied: PySocks!=1.5.7,>=1.5.6; extra == \"socks\" in /Users/aidancurley/.conda/envs/project5/lib/python3.8/site-packages (from requests[socks]>=2.11.1->tweepy) (1.7.1)\n",
      "Requirement already satisfied: oauthlib>=3.0.0 in /Users/aidancurley/.conda/envs/project5/lib/python3.8/site-packages (from requests-oauthlib>=0.7.0->tweepy) (3.1.0)\n",
      "Note: you may need to restart the kernel to use updated packages.\n"
     ]
    }
   ],
   "source": [
    "pip install tweepy"
   ]
  },
  {
   "cell_type": "markdown",
   "metadata": {},
   "source": [
    "## **Get The Tweet and Usernames**"
   ]
  },
  {
   "cell_type": "code",
   "execution_count": 73,
   "metadata": {},
   "outputs": [
    {
     "data": {
      "text/html": [
       "<div>\n",
       "<style scoped>\n",
       "    .dataframe tbody tr th:only-of-type {\n",
       "        vertical-align: middle;\n",
       "    }\n",
       "\n",
       "    .dataframe tbody tr th {\n",
       "        vertical-align: top;\n",
       "    }\n",
       "\n",
       "    .dataframe thead th {\n",
       "        text-align: right;\n",
       "    }\n",
       "</style>\n",
       "<table border=\"1\" class=\"dataframe\">\n",
       "  <thead>\n",
       "    <tr style=\"text-align: right;\">\n",
       "      <th></th>\n",
       "      <th>tweets</th>\n",
       "      <th>user</th>\n",
       "    </tr>\n",
       "  </thead>\n",
       "  <tbody>\n",
       "    <tr>\n",
       "      <th>0</th>\n",
       "      <td>Aaaaand my power went out</td>\n",
       "      <td>Tex_tR</td>\n",
       "    </tr>\n",
       "    <tr>\n",
       "      <th>1</th>\n",
       "      <td>Action-packed gameplay, an original cinematic ...</td>\n",
       "      <td>PlayAvengers</td>\n",
       "    </tr>\n",
       "    <tr>\n",
       "      <th>2</th>\n",
       "      <td>my power really went out for almost 2 hours th...</td>\n",
       "      <td>samlopezz03</td>\n",
       "    </tr>\n",
       "    <tr>\n",
       "      <th>3</th>\n",
       "      <td>My power went out with my finished 3d model le...</td>\n",
       "      <td>Chicken_Nuggie2</td>\n",
       "    </tr>\n",
       "    <tr>\n",
       "      <th>4</th>\n",
       "      <td>Okay this is when the power went out in the th...</td>\n",
       "      <td>SumoYokai</td>\n",
       "    </tr>\n",
       "    <tr>\n",
       "      <th>...</th>\n",
       "      <td>...</td>\n",
       "      <td>...</td>\n",
       "    </tr>\n",
       "    <tr>\n",
       "      <th>7780</th>\n",
       "      <td>A knife in my heart couldn't slow me down 'Cau...</td>\n",
       "      <td>aes_lulu</td>\n",
       "    </tr>\n",
       "    <tr>\n",
       "      <th>7781</th>\n",
       "      <td>\"I'm trying real hard to look like I care but ...</td>\n",
       "      <td>Strongisgentle</td>\n",
       "    </tr>\n",
       "    <tr>\n",
       "      <th>7782</th>\n",
       "      <td>Folks when OUR President is re-elected (and he...</td>\n",
       "      <td>Freedomfriend64</td>\n",
       "    </tr>\n",
       "    <tr>\n",
       "      <th>7783</th>\n",
       "      <td>Anteaters Everyday: Lunch Time Day 3 The subti...</td>\n",
       "      <td>powerJAMM</td>\n",
       "    </tr>\n",
       "    <tr>\n",
       "      <th>7784</th>\n",
       "      <td>@Shawhelp my internet seems to have gone down....</td>\n",
       "      <td>RichSeviora</td>\n",
       "    </tr>\n",
       "  </tbody>\n",
       "</table>\n",
       "<p>7785 rows × 2 columns</p>\n",
       "</div>"
      ],
      "text/plain": [
       "                                                 tweets             user\n",
       "0                            Aaaaand my power went out            Tex_tR\n",
       "1     Action-packed gameplay, an original cinematic ...     PlayAvengers\n",
       "2     my power really went out for almost 2 hours th...      samlopezz03\n",
       "3     My power went out with my finished 3d model le...  Chicken_Nuggie2\n",
       "4     Okay this is when the power went out in the th...        SumoYokai\n",
       "...                                                 ...              ...\n",
       "7780  A knife in my heart couldn't slow me down 'Cau...         aes_lulu\n",
       "7781  \"I'm trying real hard to look like I care but ...   Strongisgentle\n",
       "7782  Folks when OUR President is re-elected (and he...  Freedomfriend64\n",
       "7783  Anteaters Everyday: Lunch Time Day 3 The subti...        powerJAMM\n",
       "7784  @Shawhelp my internet seems to have gone down....      RichSeviora\n",
       "\n",
       "[7785 rows x 2 columns]"
      ]
     },
     "execution_count": 73,
     "metadata": {},
     "output_type": "execute_result"
    }
   ],
   "source": [
    "tweets = []\n",
    "user = []\n",
    "def DownloadTweets(SinceDate, UntilDate, query, sleep=900, maxtweet=0) :\n",
    "    #create a list of day numbers\n",
    "    since = datetime.strptime(SinceDate, '%Y-%m-%d')\n",
    "    \n",
    "#   Days is the amount of days we are pulling data from. This is subtracting the SinceDate from the UntilDate\n",
    "    days = list(range(0, (datetime.strptime(UntilDate, '%Y-%m-%d') - datetime.strptime(SinceDate, '%Y-%m-%d')).days+1))\n",
    "\n",
    "#   This loop will run for the number of days above eg. days is 50 --> this loop will run 50 times \n",
    "    for day in days:\n",
    "        init = got.manager.TweetCriteria().setQuerySearch(query).setSince((since + timedelta(days=day)).strftime('%Y-%m-%d')).setUntil((since+ timedelta(days=day+1)).strftime('%Y-%m-%d')).setMaxTweets(maxtweet)\n",
    "        get = got.manager.TweetManager.getTweets(init)\n",
    "        \n",
    "        # Appending a list of the tweets to an empty list above\n",
    "        tweets.append([[tweet.text] for tweet in get])\n",
    "        \n",
    "        # Appending a list of usernames to an empty list above\n",
    "        user.append([use.username for use in get])\n",
    "#         print(\"day\", day+1, \"of\", len(days), \"completed\")\n",
    "     \n",
    "    time.sleep(sleep)\n",
    "\n",
    "    return \n",
    "\n",
    "since = \"2018-01-01\"  #SinceDate\n",
    "until = \"2020-09-04\"  #UntilDate\n",
    "\n",
    "q_list = [' my power went out ', 'I just lost power', 'my power is out', \n",
    "          ' I have a power outage ', 'my power is down']\n",
    "\n",
    "# For every query in q_list this function will run and add the tweets and usernames to the empty lists\n",
    "for n in q_list: \n",
    "    tweets2 = DownloadTweets(since, until, query=n, maxtweet=9_999, sleep=10)\n",
    "    \n",
    "\n",
    "# ================================================================================================================================    \n",
    "# This functions will splits the pulled user name into a list of strings in a list\n",
    "def split(users):\n",
    "    fin_user = []\n",
    "    for xi in users:\n",
    "        for n in xi:\n",
    "            fin_user.append(n.split(\",\"))\n",
    "            \n",
    "    return fin_user\n",
    "\n",
    "users = split(user) # This is calling the function\n",
    "\n",
    "hmm = [tweet[0] for sublist in tweets for tweet in sublist] # This gets us the string of the tweet before it was a list of list of lists\n",
    "\n",
    "\n",
    "fin_user = [''.join(ele) for ele in users] # This gets rid of the [] around the individual stringed usernames\n",
    "df = pd.DataFrame({'tweets': hmm, \n",
    "                   'user': fin_user\n",
    "                  })\n",
    "\n",
    "# ================================================================================================================================    \n",
    "# Now using Tweepy to get user location\n",
    "# consumer_key= 'nOj8CQ7XjcNbTS9fFPp6wUNQF'\n",
    "# consumer_secret= '0VtlM5UXl2ZLAL0WMMT9WQ0kHFz4ufKTtn8T1bNVNpvdzYb2Mi'\n",
    "# access_token= '1301516905136771072-TrLtF8u5u0pUBmkSULnErXQcuyVk9i'\n",
    "# access_token_secret= 'hxCKEmbRNE1w0kn0H1owznIQJfuSjDGF3AaZLBCXgqQBO'\n",
    "    \n",
    "# auth = tw.OAuthHandler(consumer_key, consumer_secret)\n",
    "# auth.set_access_token(access_token, access_token_secret)\n",
    "# api = tw.API(auth, wait_on_rate_limit=True)\n",
    "\n",
    "# user_locs = [n for n in df['user']]\n",
    "\n",
    "# the screen name of the user \n",
    "\n",
    "# location_final = []\n",
    "# for xi in user_locs:\n",
    "    \n",
    "#     screen_name = xi\n",
    "\n",
    "#     # fetching the user \n",
    "#     user = api.get_user(screen_name) \n",
    "\n",
    "#     # fetching the name \n",
    "#     name = user.name \n",
    "\n",
    "#     location = user.location\n",
    "\n",
    "#     if location == \"\": \n",
    "#         location_final.append(\"The user has not mentioned their location.\") \n",
    "#     else: \n",
    "#         location_final.append(location) \n",
    "        \n",
    "#     time.sleep(3)\n",
    "    \n",
    "# df['location'] = location_final\n",
    "\n",
    "df"
   ]
  },
  {
   "cell_type": "code",
   "execution_count": 74,
   "metadata": {},
   "outputs": [
    {
     "data": {
      "text/html": [
       "<div>\n",
       "<style scoped>\n",
       "    .dataframe tbody tr th:only-of-type {\n",
       "        vertical-align: middle;\n",
       "    }\n",
       "\n",
       "    .dataframe tbody tr th {\n",
       "        vertical-align: top;\n",
       "    }\n",
       "\n",
       "    .dataframe thead th {\n",
       "        text-align: right;\n",
       "    }\n",
       "</style>\n",
       "<table border=\"1\" class=\"dataframe\">\n",
       "  <thead>\n",
       "    <tr style=\"text-align: right;\">\n",
       "      <th></th>\n",
       "      <th>tweets</th>\n",
       "      <th>user</th>\n",
       "    </tr>\n",
       "  </thead>\n",
       "  <tbody>\n",
       "    <tr>\n",
       "      <th>0</th>\n",
       "      <td>Aaaaand my power went out</td>\n",
       "      <td>Tex_tR</td>\n",
       "    </tr>\n",
       "    <tr>\n",
       "      <th>1</th>\n",
       "      <td>Action-packed gameplay, an original cinematic ...</td>\n",
       "      <td>PlayAvengers</td>\n",
       "    </tr>\n",
       "    <tr>\n",
       "      <th>2</th>\n",
       "      <td>my power really went out for almost 2 hours th...</td>\n",
       "      <td>samlopezz03</td>\n",
       "    </tr>\n",
       "  </tbody>\n",
       "</table>\n",
       "</div>"
      ],
      "text/plain": [
       "                                              tweets          user\n",
       "0                         Aaaaand my power went out         Tex_tR\n",
       "1  Action-packed gameplay, an original cinematic ...  PlayAvengers\n",
       "2  my power really went out for almost 2 hours th...   samlopezz03"
      ]
     },
     "execution_count": 74,
     "metadata": {},
     "output_type": "execute_result"
    }
   ],
   "source": [
    "df.head(3)"
   ]
  },
  {
   "cell_type": "code",
   "execution_count": 75,
   "metadata": {},
   "outputs": [
    {
     "data": {
      "text/html": [
       "<div>\n",
       "<style scoped>\n",
       "    .dataframe tbody tr th:only-of-type {\n",
       "        vertical-align: middle;\n",
       "    }\n",
       "\n",
       "    .dataframe tbody tr th {\n",
       "        vertical-align: top;\n",
       "    }\n",
       "\n",
       "    .dataframe thead th {\n",
       "        text-align: right;\n",
       "    }\n",
       "</style>\n",
       "<table border=\"1\" class=\"dataframe\">\n",
       "  <thead>\n",
       "    <tr style=\"text-align: right;\">\n",
       "      <th></th>\n",
       "      <th>tweets</th>\n",
       "      <th>user</th>\n",
       "    </tr>\n",
       "  </thead>\n",
       "  <tbody>\n",
       "    <tr>\n",
       "      <th>0</th>\n",
       "      <td>Aaaaand my power went out</td>\n",
       "      <td>Tex_tR</td>\n",
       "    </tr>\n",
       "    <tr>\n",
       "      <th>1</th>\n",
       "      <td>Action-packed gameplay, an original cinematic ...</td>\n",
       "      <td>PlayAvengers</td>\n",
       "    </tr>\n",
       "    <tr>\n",
       "      <th>2</th>\n",
       "      <td>my power really went out for almost 2 hours th...</td>\n",
       "      <td>samlopezz03</td>\n",
       "    </tr>\n",
       "    <tr>\n",
       "      <th>3</th>\n",
       "      <td>My power went out with my finished 3d model le...</td>\n",
       "      <td>Chicken_Nuggie2</td>\n",
       "    </tr>\n",
       "    <tr>\n",
       "      <th>4</th>\n",
       "      <td>Okay this is when the power went out in the th...</td>\n",
       "      <td>SumoYokai</td>\n",
       "    </tr>\n",
       "    <tr>\n",
       "      <th>...</th>\n",
       "      <td>...</td>\n",
       "      <td>...</td>\n",
       "    </tr>\n",
       "    <tr>\n",
       "      <th>7029</th>\n",
       "      <td>I'm only a vehement feminist radical in the da...</td>\n",
       "      <td>beanetry</td>\n",
       "    </tr>\n",
       "    <tr>\n",
       "      <th>7030</th>\n",
       "      <td>\"I'm trying real hard to look like I care but ...</td>\n",
       "      <td>Strongisgentle</td>\n",
       "    </tr>\n",
       "    <tr>\n",
       "      <th>7031</th>\n",
       "      <td>Folks when OUR President is re-elected (and he...</td>\n",
       "      <td>Freedomfriend64</td>\n",
       "    </tr>\n",
       "    <tr>\n",
       "      <th>7032</th>\n",
       "      <td>Anteaters Everyday: Lunch Time Day 3 The subti...</td>\n",
       "      <td>powerJAMM</td>\n",
       "    </tr>\n",
       "    <tr>\n",
       "      <th>7033</th>\n",
       "      <td>@Shawhelp my internet seems to have gone down....</td>\n",
       "      <td>RichSeviora</td>\n",
       "    </tr>\n",
       "  </tbody>\n",
       "</table>\n",
       "<p>7034 rows × 2 columns</p>\n",
       "</div>"
      ],
      "text/plain": [
       "                                                 tweets             user\n",
       "0                            Aaaaand my power went out            Tex_tR\n",
       "1     Action-packed gameplay, an original cinematic ...     PlayAvengers\n",
       "2     my power really went out for almost 2 hours th...      samlopezz03\n",
       "3     My power went out with my finished 3d model le...  Chicken_Nuggie2\n",
       "4     Okay this is when the power went out in the th...        SumoYokai\n",
       "...                                                 ...              ...\n",
       "7029  I'm only a vehement feminist radical in the da...         beanetry\n",
       "7030  \"I'm trying real hard to look like I care but ...   Strongisgentle\n",
       "7031  Folks when OUR President is re-elected (and he...  Freedomfriend64\n",
       "7032  Anteaters Everyday: Lunch Time Day 3 The subti...        powerJAMM\n",
       "7033  @Shawhelp my internet seems to have gone down....      RichSeviora\n",
       "\n",
       "[7034 rows x 2 columns]"
      ]
     },
     "execution_count": 75,
     "metadata": {},
     "output_type": "execute_result"
    }
   ],
   "source": [
    "df.drop_duplicates().reset_index().drop(columns='index')"
   ]
  },
  {
   "cell_type": "code",
   "execution_count": 45,
   "metadata": {},
   "outputs": [
    {
     "data": {
      "text/plain": [
       "'rynertia'"
      ]
     },
     "execution_count": 45,
     "metadata": {},
     "output_type": "execute_result"
    }
   ],
   "source": [
    "user[0][0]"
   ]
  },
  {
   "cell_type": "markdown",
   "metadata": {},
   "source": [
    "## **Finalized DataFrame**"
   ]
  },
  {
   "cell_type": "code",
   "execution_count": 46,
   "metadata": {},
   "outputs": [],
   "source": [
    "# This functions will splits the pulled user name into a list of strings in a list\n",
    "def split(users):\n",
    "    fin_user = []\n",
    "    for xi in users:\n",
    "        for n in xi:\n",
    "            fin_user.append(n.split(\",\"))\n",
    "            \n",
    "    return fin_user\n",
    "\n",
    "users = split(user) # This is calling the function\n",
    "\n",
    "hmm = [tweet[0] for sublist in tweets for tweet in sublist] # This gets us the string of the tweet before it was a list of list of lists\n",
    "\n",
    "\n",
    "fin_user = [''.join(ele) for ele in users] # This gets rid of the [] around the individual stringed usernames\n",
    "df = pd.DataFrame({'tweets': hmm, \n",
    "                   'user': fin_user\n",
    "                  })"
   ]
  },
  {
   "cell_type": "code",
   "execution_count": 47,
   "metadata": {},
   "outputs": [
    {
     "data": {
      "text/html": [
       "<div>\n",
       "<style scoped>\n",
       "    .dataframe tbody tr th:only-of-type {\n",
       "        vertical-align: middle;\n",
       "    }\n",
       "\n",
       "    .dataframe tbody tr th {\n",
       "        vertical-align: top;\n",
       "    }\n",
       "\n",
       "    .dataframe thead th {\n",
       "        text-align: right;\n",
       "    }\n",
       "</style>\n",
       "<table border=\"1\" class=\"dataframe\">\n",
       "  <thead>\n",
       "    <tr style=\"text-align: right;\">\n",
       "      <th></th>\n",
       "      <th>tweets</th>\n",
       "      <th>user</th>\n",
       "    </tr>\n",
       "  </thead>\n",
       "  <tbody>\n",
       "    <tr>\n",
       "      <th>0</th>\n",
       "      <td>i breathed so hard into my mic that my houses ...</td>\n",
       "      <td>rynertia</td>\n",
       "    </tr>\n",
       "  </tbody>\n",
       "</table>\n",
       "</div>"
      ],
      "text/plain": [
       "                                              tweets      user\n",
       "0  i breathed so hard into my mic that my houses ...  rynertia"
      ]
     },
     "execution_count": 47,
     "metadata": {},
     "output_type": "execute_result"
    }
   ],
   "source": [
    "df.head(1)"
   ]
  },
  {
   "cell_type": "markdown",
   "metadata": {},
   "source": [
    "## **Adding Location Using Tweepy**"
   ]
  },
  {
   "cell_type": "code",
   "execution_count": 48,
   "metadata": {},
   "outputs": [],
   "source": [
    "consumer_key= 'nOj8CQ7XjcNbTS9fFPp6wUNQF'\n",
    "consumer_secret= '0VtlM5UXl2ZLAL0WMMT9WQ0kHFz4ufKTtn8T1bNVNpvdzYb2Mi'\n",
    "access_token= '1301516905136771072-TrLtF8u5u0pUBmkSULnErXQcuyVk9i'\n",
    "access_token_secret= 'hxCKEmbRNE1w0kn0H1owznIQJfuSjDGF3AaZLBCXgqQBO'"
   ]
  },
  {
   "cell_type": "code",
   "execution_count": 49,
   "metadata": {},
   "outputs": [],
   "source": [
    "auth = tw.OAuthHandler(consumer_key, consumer_secret)\n",
    "auth.set_access_token(access_token, access_token_secret)\n",
    "api = tw.API(auth, wait_on_rate_limit=True)"
   ]
  },
  {
   "cell_type": "code",
   "execution_count": 50,
   "metadata": {},
   "outputs": [
    {
     "data": {
      "text/plain": [
       "'rynertia'"
      ]
     },
     "execution_count": 50,
     "metadata": {},
     "output_type": "execute_result"
    }
   ],
   "source": [
    "user_locs = [n for n in df['user']]\n",
    "user_locs[0]"
   ]
  },
  {
   "cell_type": "code",
   "execution_count": 51,
   "metadata": {},
   "outputs": [],
   "source": [
    "# the screen name of the user \n",
    "location_final = []\n",
    "for xi in user_locs:\n",
    "    \n",
    "    screen_name = xi\n",
    "\n",
    "    # fetching the user \n",
    "    user = api.get_user(screen_name) \n",
    "\n",
    "    # fetching the name \n",
    "    name = user.name \n",
    "\n",
    "    location = user.location\n",
    "\n",
    "    if location == \"\": \n",
    "        location_final.append(\"The user has not mentioned their location.\") \n",
    "    else: \n",
    "        location_final.append(location) \n",
    "        \n",
    "    time.sleep(3)"
   ]
  },
  {
   "cell_type": "code",
   "execution_count": 52,
   "metadata": {},
   "outputs": [
    {
     "data": {
      "text/plain": [
       "'The user has not mentioned their location.'"
      ]
     },
     "execution_count": 52,
     "metadata": {},
     "output_type": "execute_result"
    }
   ],
   "source": [
    "location_final[0]"
   ]
  },
  {
   "cell_type": "code",
   "execution_count": 53,
   "metadata": {},
   "outputs": [],
   "source": [
    "df['location'] = location_final"
   ]
  },
  {
   "cell_type": "code",
   "execution_count": 54,
   "metadata": {},
   "outputs": [
    {
     "data": {
      "text/html": [
       "<div>\n",
       "<style scoped>\n",
       "    .dataframe tbody tr th:only-of-type {\n",
       "        vertical-align: middle;\n",
       "    }\n",
       "\n",
       "    .dataframe tbody tr th {\n",
       "        vertical-align: top;\n",
       "    }\n",
       "\n",
       "    .dataframe thead th {\n",
       "        text-align: right;\n",
       "    }\n",
       "</style>\n",
       "<table border=\"1\" class=\"dataframe\">\n",
       "  <thead>\n",
       "    <tr style=\"text-align: right;\">\n",
       "      <th></th>\n",
       "      <th>tweets</th>\n",
       "      <th>user</th>\n",
       "      <th>location</th>\n",
       "    </tr>\n",
       "  </thead>\n",
       "  <tbody>\n",
       "    <tr>\n",
       "      <th>0</th>\n",
       "      <td>i breathed so hard into my mic that my houses ...</td>\n",
       "      <td>rynertia</td>\n",
       "      <td>The user has not mentioned their location.</td>\n",
       "    </tr>\n",
       "    <tr>\n",
       "      <th>1</th>\n",
       "      <td>Action-packed gameplay, an original cinematic ...</td>\n",
       "      <td>PlayAvengers</td>\n",
       "      <td>San Francisco, CA</td>\n",
       "    </tr>\n",
       "    <tr>\n",
       "      <th>2</th>\n",
       "      <td>my power just went completely out</td>\n",
       "      <td>gldencherry_</td>\n",
       "      <td>she/her</td>\n",
       "    </tr>\n",
       "    <tr>\n",
       "      <th>3</th>\n",
       "      <td>my power just went out</td>\n",
       "      <td>goIdentayIor</td>\n",
       "      <td>⅖ || wendy🤍 || 17 || lesbian</td>\n",
       "    </tr>\n",
       "    <tr>\n",
       "      <th>4</th>\n",
       "      <td>Today was an eventful day. I got most of my tr...</td>\n",
       "      <td>Boopcosplay</td>\n",
       "      <td>Leicester, England</td>\n",
       "    </tr>\n",
       "    <tr>\n",
       "      <th>...</th>\n",
       "      <td>...</td>\n",
       "      <td>...</td>\n",
       "      <td>...</td>\n",
       "    </tr>\n",
       "    <tr>\n",
       "      <th>678</th>\n",
       "      <td>Just lost power. I hate everything sadKEK http...</td>\n",
       "      <td>NachoOtter</td>\n",
       "      <td>Michigan, USA</td>\n",
       "    </tr>\n",
       "    <tr>\n",
       "      <th>679</th>\n",
       "      <td>“In my opinion, the current president is tryin...</td>\n",
       "      <td>FreedomEnslaves</td>\n",
       "      <td>London Town</td>\n",
       "    </tr>\n",
       "    <tr>\n",
       "      <th>680</th>\n",
       "      <td>ai dungeon: huh? i thought lost was a girl me:...</td>\n",
       "      <td>guppystail</td>\n",
       "      <td>some dark place</td>\n",
       "    </tr>\n",
       "    <tr>\n",
       "      <th>681</th>\n",
       "      <td>I’m so blessed to work with these GKs every we...</td>\n",
       "      <td>ItsJustKelsss1</td>\n",
       "      <td>The user has not mentioned their location.</td>\n",
       "    </tr>\n",
       "    <tr>\n",
       "      <th>682</th>\n",
       "      <td>@TheCatOnFox can you ask. Im a coach and ive w...</td>\n",
       "      <td>marcusdinora</td>\n",
       "      <td>Springfield, IL</td>\n",
       "    </tr>\n",
       "  </tbody>\n",
       "</table>\n",
       "<p>683 rows × 3 columns</p>\n",
       "</div>"
      ],
      "text/plain": [
       "                                                tweets             user  \\\n",
       "0    i breathed so hard into my mic that my houses ...         rynertia   \n",
       "1    Action-packed gameplay, an original cinematic ...     PlayAvengers   \n",
       "2                   my power just went completely out      gldencherry_   \n",
       "3                               my power just went out     goIdentayIor   \n",
       "4    Today was an eventful day. I got most of my tr...      Boopcosplay   \n",
       "..                                                 ...              ...   \n",
       "678  Just lost power. I hate everything sadKEK http...       NachoOtter   \n",
       "679  “In my opinion, the current president is tryin...  FreedomEnslaves   \n",
       "680  ai dungeon: huh? i thought lost was a girl me:...       guppystail   \n",
       "681  I’m so blessed to work with these GKs every we...   ItsJustKelsss1   \n",
       "682  @TheCatOnFox can you ask. Im a coach and ive w...     marcusdinora   \n",
       "\n",
       "                                       location  \n",
       "0    The user has not mentioned their location.  \n",
       "1                             San Francisco, CA  \n",
       "2                                       she/her  \n",
       "3                  ⅖ || wendy🤍 || 17 || lesbian  \n",
       "4                            Leicester, England  \n",
       "..                                          ...  \n",
       "678                               Michigan, USA  \n",
       "679                                 London Town  \n",
       "680                             some dark place  \n",
       "681  The user has not mentioned their location.  \n",
       "682                             Springfield, IL  \n",
       "\n",
       "[683 rows x 3 columns]"
      ]
     },
     "execution_count": 54,
     "metadata": {},
     "output_type": "execute_result"
    }
   ],
   "source": [
    "df"
   ]
  },
  {
   "cell_type": "code",
   "execution_count": 61,
   "metadata": {},
   "outputs": [
    {
     "data": {
      "text/plain": [
       "0      i breathed so hard into my mic that my houses ...\n",
       "1      Action-packed gameplay, an original cinematic ...\n",
       "2                     my power just went completely out \n",
       "3                                 my power just went out\n",
       "4      Today was an eventful day. I got most of my tr...\n",
       "                             ...                        \n",
       "678    Just lost power. I hate everything sadKEK http...\n",
       "679    “In my opinion, the current president is tryin...\n",
       "680    ai dungeon: huh? i thought lost was a girl me:...\n",
       "681    I’m so blessed to work with these GKs every we...\n",
       "682    @TheCatOnFox can you ask. Im a coach and ive w...\n",
       "Name: tweets, Length: 683, dtype: object"
      ]
     },
     "execution_count": 61,
     "metadata": {},
     "output_type": "execute_result"
    }
   ],
   "source": [
    "df['tweets']"
   ]
  },
  {
   "cell_type": "code",
   "execution_count": null,
   "metadata": {},
   "outputs": [],
   "source": []
  }
 ],
 "metadata": {
  "kernelspec": {
   "display_name": "Python 3",
   "language": "python",
   "name": "python3"
  },
  "language_info": {
   "codemirror_mode": {
    "name": "ipython",
    "version": 3
   },
   "file_extension": ".py",
   "mimetype": "text/x-python",
   "name": "python",
   "nbconvert_exporter": "python",
   "pygments_lexer": "ipython3",
   "version": "3.8.5"
  }
 },
 "nbformat": 4,
 "nbformat_minor": 4
}
