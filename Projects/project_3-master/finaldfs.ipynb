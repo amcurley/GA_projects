{
 "cells": [
  {
   "cell_type": "code",
   "execution_count": 1,
   "metadata": {},
   "outputs": [],
   "source": [
    "import requests\n",
    "import time\n",
    "import pandas as pd"
   ]
  },
  {
   "cell_type": "code",
   "execution_count": null,
   "metadata": {},
   "outputs": [],
   "source": []
  },
  {
   "cell_type": "code",
   "execution_count": 221,
   "metadata": {},
   "outputs": [],
   "source": [
    "# Get Submission \n",
    "def submission_request_ml(**kwargs):\n",
    "    \n",
    "    # This does a get request to pull Submissions from the Machine Learning subreddit       #kwargs will be the params\n",
    "    request = requests.get(\"https://api.pushshift.io/reddit/search/submission/?subreddit=MachineLearning\", kwargs)\n",
    "    # This gets us data from the pull request\n",
    "    data = request.json()\n",
    "    # This gets us the individual 'DATA' for each post --> add [0] to get the first post\n",
    "    return data['data']"
   ]
  },
  {
   "cell_type": "code",
   "execution_count": 222,
   "metadata": {},
   "outputs": [],
   "source": [
    "def submission_request_ai(**kwargs):\n",
    "    \n",
    "    # This does a get request to pull Submissions from the Machine Learning subreddit       #kwargs will be the params\n",
    "    request = requests.get(\"https://api.pushshift.io/reddit/search/submission/?subreddit=ArtificialInteligence\", kwargs)\n",
    "    # This gets us data from the pull request\n",
    "    data = request.json()\n",
    "    # This gets us the individual 'DATA' for each post --> add [0] to get the first post\n",
    "    return data['data']"
   ]
  },
  {
   "cell_type": "code",
   "execution_count": 223,
   "metadata": {},
   "outputs": [],
   "source": [
    "subreddit_ml = []\n",
    "title_ml = []\n",
    "selftext_ml =[]\n",
    "\n",
    "subreddit_ai = []\n",
    "title_ai = []\n",
    "selftext_ai =[]"
   ]
  },
  {
   "cell_type": "code",
   "execution_count": 224,
   "metadata": {},
   "outputs": [],
   "source": [
    "before_ml = None\n",
    "before_ai = None\n",
    "iterations_times_25 = 13\n",
    "\n",
    "while iterations_times_25 != 0:\n",
    "    ml_submissions = submission_request_ml(before = before_ml, sort='desc', sort_type='created_utc')\n",
    "    ai_submissions = submission_request_ai(before = before_ai, sort='desc', sort_type='created_utc')\n",
    "\n",
    "#   MACHINE LEARNING\n",
    "    for xi in ml_submissions:\n",
    "        before_ml = xi['created_utc']\n",
    "        \n",
    "        subreddit_ml.append(xi['subreddit'])\n",
    "        title_ml.append(xi['title'])\n",
    "        selftext_ml.append(xi['selftext'])\n",
    "        \n",
    "#   ARTIFICAL INTELLIGENCE    \n",
    "    for n in ai_submissions:\n",
    "        \n",
    "        before_ai = n['created_utc']\n",
    "        \n",
    "        subreddit_ai.append(n['subreddit'])\n",
    "        title_ai.append(n['title'])\n",
    "        selftext_ai.append(n['selftext'])\n",
    "     \n",
    "    time.sleep(1.5)\n",
    "    iterations_times_25 -= 1"
   ]
  },
  {
   "cell_type": "code",
   "execution_count": 225,
   "metadata": {},
   "outputs": [],
   "source": [
    "data_ml = pd.DataFrame({'subreddit': subreddit_ml,'title': title_ml,'selftext': selftext_ml})"
   ]
  },
  {
   "cell_type": "code",
   "execution_count": 226,
   "metadata": {},
   "outputs": [
    {
     "data": {
      "text/plain": [
       "313"
      ]
     },
     "execution_count": 226,
     "metadata": {},
     "output_type": "execute_result"
    }
   ],
   "source": [
    "data_ml['title'].nunique()"
   ]
  },
  {
   "cell_type": "code",
   "execution_count": 230,
   "metadata": {},
   "outputs": [
    {
     "data": {
      "text/plain": [
       "subreddit    0\n",
       "title        0\n",
       "selftext     0\n",
       "dtype: int64"
      ]
     },
     "execution_count": 230,
     "metadata": {},
     "output_type": "execute_result"
    }
   ],
   "source": [
    "data_ml.isna().sum()"
   ]
  },
  {
   "cell_type": "code",
   "execution_count": 227,
   "metadata": {},
   "outputs": [],
   "source": [
    "data_ai = pd.DataFrame({'subreddit': subreddit_ai,'title': title_ai,'selftext': selftext_ai})"
   ]
  },
  {
   "cell_type": "code",
   "execution_count": 228,
   "metadata": {},
   "outputs": [
    {
     "data": {
      "text/plain": [
       "309"
      ]
     },
     "execution_count": 228,
     "metadata": {},
     "output_type": "execute_result"
    }
   ],
   "source": [
    "data_ai['title'].nunique()"
   ]
  },
  {
   "cell_type": "code",
   "execution_count": null,
   "metadata": {},
   "outputs": [],
   "source": []
  },
  {
   "cell_type": "code",
   "execution_count": null,
   "metadata": {},
   "outputs": [],
   "source": []
  },
  {
   "cell_type": "code",
   "execution_count": null,
   "metadata": {},
   "outputs": [],
   "source": []
  }
 ],
 "metadata": {
  "kernelspec": {
   "display_name": "Python 3",
   "language": "python",
   "name": "python3"
  },
  "language_info": {
   "codemirror_mode": {
    "name": "ipython",
    "version": 3
   },
   "file_extension": ".py",
   "mimetype": "text/x-python",
   "name": "python",
   "nbconvert_exporter": "python",
   "pygments_lexer": "ipython3",
   "version": "3.7.6"
  }
 },
 "nbformat": 4,
 "nbformat_minor": 4
}
