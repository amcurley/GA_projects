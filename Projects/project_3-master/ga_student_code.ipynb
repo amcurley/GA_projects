{
 "cells": [
  {
   "cell_type": "markdown",
   "metadata": {},
   "source": [
    "## **CODE FROM OTHER STUDENT GA**"
   ]
  },
  {
   "cell_type": "code",
   "execution_count": 2,
   "metadata": {},
   "outputs": [],
   "source": [
    "import requests\n",
    "import time\n",
    "import pandas as pd\n",
    "import ast # to transform str to dic"
   ]
  },
  {
   "cell_type": "code",
   "execution_count": 7,
   "metadata": {},
   "outputs": [
    {
     "name": "stdout",
     "output_type": "stream",
     "text": [
      "['data', 'kind']\n"
     ]
    }
   ],
   "source": [
    "url = 'https://www.reddit.com/hot.json'\n",
    "header = {'User-agent': 'Bleep blorp bot 0.1'}\n",
    "res = requests.get(url,headers=header)\n",
    "the_json = res.json()\n",
    "print(sorted(the_json.keys()))"
   ]
  },
  {
   "cell_type": "code",
   "execution_count": 8,
   "metadata": {},
   "outputs": [
    {
     "data": {
      "text/plain": [
       "25"
      ]
     },
     "execution_count": 8,
     "metadata": {},
     "output_type": "execute_result"
    }
   ],
   "source": [
    "the_json['data'].keys()\n",
    "len(the_json['data']['children'])"
   ]
  },
  {
   "cell_type": "code",
   "execution_count": 11,
   "metadata": {},
   "outputs": [],
   "source": [
    "def get_posts(url,interations,header,sleep):\n",
    "    posts = []\n",
    "    after = None\n",
    "    for i in range(interations):\n",
    "#         print(i)\n",
    "        if after==None:\n",
    "            params = {}\n",
    "        else:\n",
    "            params = {'after' : after}\n",
    "        res = requests.get(url,params=params,headers=header)\n",
    "        if res.status_code == 200:\n",
    "            the_json = res.json()\n",
    "            posts.extend(the_json['data']['children'])\n",
    "            after = the_json['data']['after']\n",
    "        else:\n",
    "            print(res.status_code)\n",
    "            break\n",
    "        time.sleep(sleep)\n",
    "    return posts"
   ]
  },
  {
   "cell_type": "code",
   "execution_count": 12,
   "metadata": {},
   "outputs": [],
   "source": [
    "def create_cols(dataframe):\n",
    "    dataframe['subreddit'] = dataframe['data'].map(lambda x: x['subreddit'])\n",
    "    dataframe['title'] = dataframe['data'].map(lambda x: x['title'])\n",
    "    dataframe['name'] = dataframe['data'].map(lambda x: x['name'])\n",
    "    dataframe['selftext'] = dataframe['data'].map(lambda x: x['selftext'])\n",
    "    dataframe['domain'] = dataframe['data'].map(lambda x: x['domain'])\n",
    "    return dataframe"
   ]
  },
  {
   "cell_type": "code",
   "execution_count": 13,
   "metadata": {},
   "outputs": [],
   "source": [
    "header = {'User-agent': 'Bleep blorp bot 0.1'}\n",
    "url = 'https://www.reddit.com/r/Honda/.json'\n",
    "interations = 250\n",
    "sleep_sec = 1.5\n",
    "honda_df = pd.DataFrame(get_posts(url,interations,header,sleep_sec))\n",
    "honda_df = create_cols(honda_df)"
   ]
  },
  {
   "cell_type": "code",
   "execution_count": 15,
   "metadata": {},
   "outputs": [
    {
     "data": {
      "text/plain": [
       "(6172, 7)"
      ]
     },
     "execution_count": 15,
     "metadata": {},
     "output_type": "execute_result"
    }
   ],
   "source": [
    "honda_df.shape"
   ]
  },
  {
   "cell_type": "code",
   "execution_count": 19,
   "metadata": {},
   "outputs": [
    {
     "data": {
      "text/html": [
       "<div>\n",
       "<style scoped>\n",
       "    .dataframe tbody tr th:only-of-type {\n",
       "        vertical-align: middle;\n",
       "    }\n",
       "\n",
       "    .dataframe tbody tr th {\n",
       "        vertical-align: top;\n",
       "    }\n",
       "\n",
       "    .dataframe thead th {\n",
       "        text-align: right;\n",
       "    }\n",
       "</style>\n",
       "<table border=\"1\" class=\"dataframe\">\n",
       "  <thead>\n",
       "    <tr style=\"text-align: right;\">\n",
       "      <th></th>\n",
       "      <th>kind</th>\n",
       "      <th>data</th>\n",
       "      <th>subreddit</th>\n",
       "      <th>title</th>\n",
       "      <th>name</th>\n",
       "      <th>selftext</th>\n",
       "      <th>domain</th>\n",
       "    </tr>\n",
       "  </thead>\n",
       "  <tbody>\n",
       "    <tr>\n",
       "      <th>0</th>\n",
       "      <td>t3</td>\n",
       "      <td>{'approved_at_utc': None, 'subreddit': 'Honda'...</td>\n",
       "      <td>Honda</td>\n",
       "      <td>Sticky: Please check that your posts are in /r...</td>\n",
       "      <td>t3_7go7e3</td>\n",
       "      <td>It has come to our attention that /r/Honda's A...</td>\n",
       "      <td>self.Honda</td>\n",
       "    </tr>\n",
       "    <tr>\n",
       "      <th>1</th>\n",
       "      <td>t3</td>\n",
       "      <td>{'approved_at_utc': None, 'subreddit': 'Honda'...</td>\n",
       "      <td>Honda</td>\n",
       "      <td>After an hour of trying, finally caught the li...</td>\n",
       "      <td>t3_iaoycr</td>\n",
       "      <td></td>\n",
       "      <td>i.redd.it</td>\n",
       "    </tr>\n",
       "    <tr>\n",
       "      <th>2</th>\n",
       "      <td>t3</td>\n",
       "      <td>{'approved_at_utc': None, 'subreddit': 'Honda'...</td>\n",
       "      <td>Honda</td>\n",
       "      <td>Young hotshot meets great-great-great grandpa</td>\n",
       "      <td>t3_ias45e</td>\n",
       "      <td></td>\n",
       "      <td>i.redd.it</td>\n",
       "    </tr>\n",
       "    <tr>\n",
       "      <th>3</th>\n",
       "      <td>t3</td>\n",
       "      <td>{'approved_at_utc': None, 'subreddit': 'Honda'...</td>\n",
       "      <td>Honda</td>\n",
       "      <td>Do you guys like the older ones?</td>\n",
       "      <td>t3_iav3rj</td>\n",
       "      <td></td>\n",
       "      <td>imgur.com</td>\n",
       "    </tr>\n",
       "    <tr>\n",
       "      <th>4</th>\n",
       "      <td>t3</td>\n",
       "      <td>{'approved_at_utc': None, 'subreddit': 'Honda'...</td>\n",
       "      <td>Honda</td>\n",
       "      <td>Oh.My.Gawd</td>\n",
       "      <td>t3_iapzm1</td>\n",
       "      <td></td>\n",
       "      <td>reddit.com</td>\n",
       "    </tr>\n",
       "    <tr>\n",
       "      <th>...</th>\n",
       "      <td>...</td>\n",
       "      <td>...</td>\n",
       "      <td>...</td>\n",
       "      <td>...</td>\n",
       "      <td>...</td>\n",
       "      <td>...</td>\n",
       "      <td>...</td>\n",
       "    </tr>\n",
       "    <tr>\n",
       "      <th>6167</th>\n",
       "      <td>t3</td>\n",
       "      <td>{'approved_at_utc': None, 'subreddit': 'Honda'...</td>\n",
       "      <td>Honda</td>\n",
       "      <td>Wash day with the S2 and a bonus helper!</td>\n",
       "      <td>t3_i5gdld</td>\n",
       "      <td></td>\n",
       "      <td>i.redd.it</td>\n",
       "    </tr>\n",
       "    <tr>\n",
       "      <th>6168</th>\n",
       "      <td>t3</td>\n",
       "      <td>{'approved_at_utc': None, 'subreddit': 'Honda'...</td>\n",
       "      <td>Honda</td>\n",
       "      <td>D15B7 to D16Z6 swap, wiring help?</td>\n",
       "      <td>t3_i5r0vu</td>\n",
       "      <td>Hey everybody. About six months ago I bought m...</td>\n",
       "      <td>self.Honda</td>\n",
       "    </tr>\n",
       "    <tr>\n",
       "      <th>6169</th>\n",
       "      <td>t3</td>\n",
       "      <td>{'approved_at_utc': None, 'subreddit': 'Honda'...</td>\n",
       "      <td>Honda</td>\n",
       "      <td>1989 Honda prelude at Pittsburgh International...</td>\n",
       "      <td>t3_i5q62x</td>\n",
       "      <td></td>\n",
       "      <td>youtu.be</td>\n",
       "    </tr>\n",
       "    <tr>\n",
       "      <th>6170</th>\n",
       "      <td>t3</td>\n",
       "      <td>{'approved_at_utc': None, 'subreddit': 'Honda'...</td>\n",
       "      <td>Honda</td>\n",
       "      <td>Front End Friday: Started cleaning the engine ...</td>\n",
       "      <td>t3_i5luzx</td>\n",
       "      <td></td>\n",
       "      <td>i.redd.it</td>\n",
       "    </tr>\n",
       "    <tr>\n",
       "      <th>6171</th>\n",
       "      <td>t3</td>\n",
       "      <td>{'approved_at_utc': None, 'subreddit': 'Honda'...</td>\n",
       "      <td>Honda</td>\n",
       "      <td>Push to start light turned red</td>\n",
       "      <td>t3_i5suq9</td>\n",
       "      <td>Hey,\\n\\nWhen starting my car tonight, I notice...</td>\n",
       "      <td>self.Honda</td>\n",
       "    </tr>\n",
       "  </tbody>\n",
       "</table>\n",
       "<p>6172 rows × 7 columns</p>\n",
       "</div>"
      ],
      "text/plain": [
       "     kind                                               data subreddit  \\\n",
       "0      t3  {'approved_at_utc': None, 'subreddit': 'Honda'...     Honda   \n",
       "1      t3  {'approved_at_utc': None, 'subreddit': 'Honda'...     Honda   \n",
       "2      t3  {'approved_at_utc': None, 'subreddit': 'Honda'...     Honda   \n",
       "3      t3  {'approved_at_utc': None, 'subreddit': 'Honda'...     Honda   \n",
       "4      t3  {'approved_at_utc': None, 'subreddit': 'Honda'...     Honda   \n",
       "...   ...                                                ...       ...   \n",
       "6167   t3  {'approved_at_utc': None, 'subreddit': 'Honda'...     Honda   \n",
       "6168   t3  {'approved_at_utc': None, 'subreddit': 'Honda'...     Honda   \n",
       "6169   t3  {'approved_at_utc': None, 'subreddit': 'Honda'...     Honda   \n",
       "6170   t3  {'approved_at_utc': None, 'subreddit': 'Honda'...     Honda   \n",
       "6171   t3  {'approved_at_utc': None, 'subreddit': 'Honda'...     Honda   \n",
       "\n",
       "                                                  title       name  \\\n",
       "0     Sticky: Please check that your posts are in /r...  t3_7go7e3   \n",
       "1     After an hour of trying, finally caught the li...  t3_iaoycr   \n",
       "2         Young hotshot meets great-great-great grandpa  t3_ias45e   \n",
       "3                      Do you guys like the older ones?  t3_iav3rj   \n",
       "4                                            Oh.My.Gawd  t3_iapzm1   \n",
       "...                                                 ...        ...   \n",
       "6167           Wash day with the S2 and a bonus helper!  t3_i5gdld   \n",
       "6168                  D15B7 to D16Z6 swap, wiring help?  t3_i5r0vu   \n",
       "6169  1989 Honda prelude at Pittsburgh International...  t3_i5q62x   \n",
       "6170  Front End Friday: Started cleaning the engine ...  t3_i5luzx   \n",
       "6171                     Push to start light turned red  t3_i5suq9   \n",
       "\n",
       "                                               selftext      domain  \n",
       "0     It has come to our attention that /r/Honda's A...  self.Honda  \n",
       "1                                                         i.redd.it  \n",
       "2                                                         i.redd.it  \n",
       "3                                                         imgur.com  \n",
       "4                                                        reddit.com  \n",
       "...                                                 ...         ...  \n",
       "6167                                                      i.redd.it  \n",
       "6168  Hey everybody. About six months ago I bought m...  self.Honda  \n",
       "6169                                                       youtu.be  \n",
       "6170                                                      i.redd.it  \n",
       "6171  Hey,\\n\\nWhen starting my car tonight, I notice...  self.Honda  \n",
       "\n",
       "[6172 rows x 7 columns]"
      ]
     },
     "execution_count": 19,
     "metadata": {},
     "output_type": "execute_result"
    }
   ],
   "source": [
    "honda_df"
   ]
  },
  {
   "cell_type": "code",
   "execution_count": null,
   "metadata": {},
   "outputs": [],
   "source": []
  }
 ],
 "metadata": {
  "kernelspec": {
   "display_name": "Python 3",
   "language": "python",
   "name": "python3"
  },
  "language_info": {
   "codemirror_mode": {
    "name": "ipython",
    "version": 3
   },
   "file_extension": ".py",
   "mimetype": "text/x-python",
   "name": "python",
   "nbconvert_exporter": "python",
   "pygments_lexer": "ipython3",
   "version": "3.7.6"
  }
 },
 "nbformat": 4,
 "nbformat_minor": 4
}
