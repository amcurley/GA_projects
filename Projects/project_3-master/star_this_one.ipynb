{
 "cells": [
  {
   "cell_type": "code",
   "execution_count": 1,
   "metadata": {},
   "outputs": [],
   "source": [
    "import requests\n",
    "import time\n",
    "import pandas as pd"
   ]
  },
  {
   "cell_type": "code",
   "execution_count": 4,
   "metadata": {},
   "outputs": [],
   "source": [
    "posts = []\n",
    "subs = []\n",
    "p_id =[]"
   ]
  },
  {
   "cell_type": "code",
   "execution_count": 5,
   "metadata": {},
   "outputs": [],
   "source": [
    "# ML GET SUBMISSION\n",
    "def get_submission(**kwargs):\n",
    "    r = requests.get(\"https://api.pushshift.io/reddit/search/submission/?subreddit=MachineLearning\",params=kwargs)\n",
    "    data = r.json()\n",
    "    return data['data']"
   ]
  },
  {
   "cell_type": "code",
   "execution_count": 6,
   "metadata": {},
   "outputs": [],
   "source": [
    "before = None\n",
    "num_post = 200     \n",
    "\n",
    "# Runs loop while number of collected post is under 5000 \n",
    "while num_post != 0:\n",
    "    submissions = get_submission(before=before,sort='desc',sort_type='created_utc',media_only=True)\n",
    "    if not submissions: break\n",
    "\n",
    "    for submission in submissions:\n",
    "        before = submission['created_utc'] # This keeps track of position for the next call in the while loop\n",
    "\n",
    "        # append each comment object to its appropriate list\n",
    "        p_id.append(submission['id'])\n",
    "        subs.append(submission['subreddit'])\n",
    "        posts.append(submission['title'])\n",
    "\n",
    "\n",
    "    time.sleep(1) # pauses for a second between each 25 request\n",
    "    num_post -= 1 # counts down for while loop"
   ]
  },
  {
   "cell_type": "code",
   "execution_count": 7,
   "metadata": {},
   "outputs": [],
   "source": [
    "data = pd.DataFrame({'title':posts,'subreddit':subs,'id': p_id})"
   ]
  },
  {
   "cell_type": "code",
   "execution_count": 8,
   "metadata": {},
   "outputs": [
    {
     "data": {
      "text/html": [
       "<div>\n",
       "<style scoped>\n",
       "    .dataframe tbody tr th:only-of-type {\n",
       "        vertical-align: middle;\n",
       "    }\n",
       "\n",
       "    .dataframe tbody tr th {\n",
       "        vertical-align: top;\n",
       "    }\n",
       "\n",
       "    .dataframe thead th {\n",
       "        text-align: right;\n",
       "    }\n",
       "</style>\n",
       "<table border=\"1\" class=\"dataframe\">\n",
       "  <thead>\n",
       "    <tr style=\"text-align: right;\">\n",
       "      <th></th>\n",
       "      <th>title</th>\n",
       "      <th>subreddit</th>\n",
       "      <th>id</th>\n",
       "    </tr>\n",
       "  </thead>\n",
       "  <tbody>\n",
       "    <tr>\n",
       "      <th>0</th>\n",
       "      <td>[Discussion] Bayesian NN with Neural Ordinary ...</td>\n",
       "      <td>MachineLearning</td>\n",
       "      <td>ib3fud</td>\n",
       "    </tr>\n",
       "    <tr>\n",
       "      <th>1</th>\n",
       "      <td>Need Some General Advice for PhD. Thanks!</td>\n",
       "      <td>MachineLearning</td>\n",
       "      <td>ib2q3w</td>\n",
       "    </tr>\n",
       "    <tr>\n",
       "      <th>2</th>\n",
       "      <td>[D] What is \"Statistical\" Natural Language Pro...</td>\n",
       "      <td>MachineLearning</td>\n",
       "      <td>ib27mf</td>\n",
       "    </tr>\n",
       "    <tr>\n",
       "      <th>3</th>\n",
       "      <td>GAN and a 330 BC sculpture used to create the ...</td>\n",
       "      <td>MachineLearning</td>\n",
       "      <td>ib26ey</td>\n",
       "    </tr>\n",
       "    <tr>\n",
       "      <th>4</th>\n",
       "      <td>What is \"Statistical\" Natural Language Process...</td>\n",
       "      <td>MachineLearning</td>\n",
       "      <td>ib1y3r</td>\n",
       "    </tr>\n",
       "    <tr>\n",
       "      <th>...</th>\n",
       "      <td>...</td>\n",
       "      <td>...</td>\n",
       "      <td>...</td>\n",
       "    </tr>\n",
       "    <tr>\n",
       "      <th>4995</th>\n",
       "      <td>How to calculate a good project idea?</td>\n",
       "      <td>MachineLearning</td>\n",
       "      <td>havt8x</td>\n",
       "    </tr>\n",
       "    <tr>\n",
       "      <th>4996</th>\n",
       "      <td>[D] Using External GPU with a Laptop</td>\n",
       "      <td>MachineLearning</td>\n",
       "      <td>havnuc</td>\n",
       "    </tr>\n",
       "    <tr>\n",
       "      <th>4997</th>\n",
       "      <td>Using an external GPU with a laptop</td>\n",
       "      <td>MachineLearning</td>\n",
       "      <td>havkv9</td>\n",
       "    </tr>\n",
       "    <tr>\n",
       "      <th>4998</th>\n",
       "      <td>Has anyone stumbled on a PCPartPicker for buil...</td>\n",
       "      <td>MachineLearning</td>\n",
       "      <td>hau894</td>\n",
       "    </tr>\n",
       "    <tr>\n",
       "      <th>4999</th>\n",
       "      <td>Is an 8-category classifier with 31% accuracy ...</td>\n",
       "      <td>MachineLearning</td>\n",
       "      <td>hau76e</td>\n",
       "    </tr>\n",
       "  </tbody>\n",
       "</table>\n",
       "<p>5000 rows × 3 columns</p>\n",
       "</div>"
      ],
      "text/plain": [
       "                                                  title        subreddit  \\\n",
       "0     [Discussion] Bayesian NN with Neural Ordinary ...  MachineLearning   \n",
       "1             Need Some General Advice for PhD. Thanks!  MachineLearning   \n",
       "2     [D] What is \"Statistical\" Natural Language Pro...  MachineLearning   \n",
       "3     GAN and a 330 BC sculpture used to create the ...  MachineLearning   \n",
       "4     What is \"Statistical\" Natural Language Process...  MachineLearning   \n",
       "...                                                 ...              ...   \n",
       "4995              How to calculate a good project idea?  MachineLearning   \n",
       "4996               [D] Using External GPU with a Laptop  MachineLearning   \n",
       "4997                Using an external GPU with a laptop  MachineLearning   \n",
       "4998  Has anyone stumbled on a PCPartPicker for buil...  MachineLearning   \n",
       "4999  Is an 8-category classifier with 31% accuracy ...  MachineLearning   \n",
       "\n",
       "          id  \n",
       "0     ib3fud  \n",
       "1     ib2q3w  \n",
       "2     ib27mf  \n",
       "3     ib26ey  \n",
       "4     ib1y3r  \n",
       "...      ...  \n",
       "4995  havt8x  \n",
       "4996  havnuc  \n",
       "4997  havkv9  \n",
       "4998  hau894  \n",
       "4999  hau76e  \n",
       "\n",
       "[5000 rows x 3 columns]"
      ]
     },
     "execution_count": 8,
     "metadata": {},
     "output_type": "execute_result"
    }
   ],
   "source": [
    "data"
   ]
  },
  {
   "cell_type": "code",
   "execution_count": null,
   "metadata": {},
   "outputs": [],
   "source": []
  }
 ],
 "metadata": {
  "kernelspec": {
   "display_name": "Python 3",
   "language": "python",
   "name": "python3"
  },
  "language_info": {
   "codemirror_mode": {
    "name": "ipython",
    "version": 3
   },
   "file_extension": ".py",
   "mimetype": "text/x-python",
   "name": "python",
   "nbconvert_exporter": "python",
   "pygments_lexer": "ipython3",
   "version": "3.7.6"
  }
 },
 "nbformat": 4,
 "nbformat_minor": 4
}
