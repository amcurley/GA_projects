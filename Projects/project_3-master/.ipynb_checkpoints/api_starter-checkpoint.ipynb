{
 "cells": [
  {
   "cell_type": "code",
   "execution_count": 280,
   "metadata": {},
   "outputs": [],
   "source": [
    "import requests\n",
    "import pandas as pd\n",
    "# Code from reddit\n",
    "import ujson as json\n",
    "import re\n",
    "import time"
   ]
  },
  {
   "cell_type": "code",
   "execution_count": 34,
   "metadata": {},
   "outputs": [],
   "source": [
    "url = 'https://api.pushshift.io/reddit/search/submission'"
   ]
  },
  {
   "cell_type": "markdown",
   "metadata": {},
   "source": [
    "## **Machine Learning**"
   ]
  },
  {
   "cell_type": "code",
   "execution_count": 102,
   "metadata": {},
   "outputs": [],
   "source": [
    "# Add a question mark after the submission and do subreddit=subredditname\n",
    "# https://api.pushshift.io/reddit/search/submission?subreddit=MachineLearning\n",
    "\n",
    "params_ml = {\n",
    "    'subreddit': 'MachineLearning',\n",
    "    'size': 500,\n",
    "    }"
   ]
  },
  {
   "cell_type": "code",
   "execution_count": 103,
   "metadata": {},
   "outputs": [],
   "source": [
    "res_ml = requests.get(url, params_ml)"
   ]
  },
  {
   "cell_type": "code",
   "execution_count": 104,
   "metadata": {},
   "outputs": [
    {
     "data": {
      "text/plain": [
       "200"
      ]
     },
     "execution_count": 104,
     "metadata": {},
     "output_type": "execute_result"
    }
   ],
   "source": [
    "res_ml.status_code"
   ]
  },
  {
   "cell_type": "code",
   "execution_count": 105,
   "metadata": {},
   "outputs": [],
   "source": [
    "data_ml = res_ml.json()"
   ]
  },
  {
   "cell_type": "code",
   "execution_count": 106,
   "metadata": {},
   "outputs": [],
   "source": [
    "posts_ml = data_ml['data']"
   ]
  },
  {
   "cell_type": "code",
   "execution_count": 107,
   "metadata": {},
   "outputs": [
    {
     "data": {
      "text/plain": [
       "100"
      ]
     },
     "execution_count": 107,
     "metadata": {},
     "output_type": "execute_result"
    }
   ],
   "source": [
    "len(posts_ml)"
   ]
  },
  {
   "cell_type": "code",
   "execution_count": 108,
   "metadata": {},
   "outputs": [],
   "source": [
    "ml_df = pd.DataFrame(posts_ml)"
   ]
  },
  {
   "cell_type": "code",
   "execution_count": 109,
   "metadata": {},
   "outputs": [],
   "source": [
    "ml = ml_df[['subreddit', 'title', 'selftext']]"
   ]
  },
  {
   "cell_type": "code",
   "execution_count": 110,
   "metadata": {},
   "outputs": [
    {
     "data": {
      "text/html": [
       "<div>\n",
       "<style scoped>\n",
       "    .dataframe tbody tr th:only-of-type {\n",
       "        vertical-align: middle;\n",
       "    }\n",
       "\n",
       "    .dataframe tbody tr th {\n",
       "        vertical-align: top;\n",
       "    }\n",
       "\n",
       "    .dataframe thead th {\n",
       "        text-align: right;\n",
       "    }\n",
       "</style>\n",
       "<table border=\"1\" class=\"dataframe\">\n",
       "  <thead>\n",
       "    <tr style=\"text-align: right;\">\n",
       "      <th></th>\n",
       "      <th>subreddit</th>\n",
       "      <th>title</th>\n",
       "      <th>selftext</th>\n",
       "    </tr>\n",
       "  </thead>\n",
       "  <tbody>\n",
       "    <tr>\n",
       "      <th>0</th>\n",
       "      <td>MachineLearning</td>\n",
       "      <td>[P] Ask GPT-3 health-related or fitness-relate...</td>\n",
       "      <td>[FitnessAI Knowledge](https://app.fitnessai.co...</td>\n",
       "    </tr>\n",
       "  </tbody>\n",
       "</table>\n",
       "</div>"
      ],
      "text/plain": [
       "         subreddit                                              title  \\\n",
       "0  MachineLearning  [P] Ask GPT-3 health-related or fitness-relate...   \n",
       "\n",
       "                                            selftext  \n",
       "0  [FitnessAI Knowledge](https://app.fitnessai.co...  "
      ]
     },
     "execution_count": 110,
     "metadata": {},
     "output_type": "execute_result"
    }
   ],
   "source": [
    "ml.head(1)"
   ]
  },
  {
   "cell_type": "markdown",
   "metadata": {},
   "source": [
    "## **Artificial Inteligence**"
   ]
  },
  {
   "cell_type": "code",
   "execution_count": 111,
   "metadata": {},
   "outputs": [],
   "source": [
    "params_ai = {\n",
    "    'subreddit': 'ArtificialInteligence',\n",
    "    'size': 100\n",
    "}"
   ]
  },
  {
   "cell_type": "code",
   "execution_count": 130,
   "metadata": {},
   "outputs": [
    {
     "data": {
      "text/plain": [
       "<Response [200]>"
      ]
     },
     "execution_count": 130,
     "metadata": {},
     "output_type": "execute_result"
    }
   ],
   "source": [
    "res_ai = requests.get(url, params_ai)\n",
    "# res_ai.status_code"
   ]
  },
  {
   "cell_type": "code",
   "execution_count": 113,
   "metadata": {},
   "outputs": [],
   "source": [
    "data_ai = res_ai.json()"
   ]
  },
  {
   "cell_type": "code",
   "execution_count": 114,
   "metadata": {},
   "outputs": [],
   "source": [
    "posts_ai = data_ai['data']"
   ]
  },
  {
   "cell_type": "code",
   "execution_count": 156,
   "metadata": {},
   "outputs": [
    {
     "data": {
      "text/plain": [
       "1597518106"
      ]
     },
     "execution_count": 156,
     "metadata": {},
     "output_type": "execute_result"
    }
   ],
   "source": [
    "posts_ai[0]['created_utc']"
   ]
  },
  {
   "cell_type": "code",
   "execution_count": 154,
   "metadata": {},
   "outputs": [
    {
     "data": {
      "text/plain": [
       "100"
      ]
     },
     "execution_count": 154,
     "metadata": {},
     "output_type": "execute_result"
    }
   ],
   "source": [
    "len(posts_ai)"
   ]
  },
  {
   "cell_type": "code",
   "execution_count": 116,
   "metadata": {},
   "outputs": [],
   "source": [
    "ai_df = pd.DataFrame(posts_ai)"
   ]
  },
  {
   "cell_type": "code",
   "execution_count": 117,
   "metadata": {},
   "outputs": [],
   "source": [
    "ai = ai_df[['subreddit', 'title', 'selftext']]"
   ]
  },
  {
   "cell_type": "code",
   "execution_count": 119,
   "metadata": {},
   "outputs": [
    {
     "data": {
      "text/html": [
       "<div>\n",
       "<style scoped>\n",
       "    .dataframe tbody tr th:only-of-type {\n",
       "        vertical-align: middle;\n",
       "    }\n",
       "\n",
       "    .dataframe tbody tr th {\n",
       "        vertical-align: top;\n",
       "    }\n",
       "\n",
       "    .dataframe thead th {\n",
       "        text-align: right;\n",
       "    }\n",
       "</style>\n",
       "<table border=\"1\" class=\"dataframe\">\n",
       "  <thead>\n",
       "    <tr style=\"text-align: right;\">\n",
       "      <th></th>\n",
       "      <th>subreddit</th>\n",
       "      <th>title</th>\n",
       "      <th>selftext</th>\n",
       "    </tr>\n",
       "  </thead>\n",
       "  <tbody>\n",
       "    <tr>\n",
       "      <th>0</th>\n",
       "      <td>ArtificialInteligence</td>\n",
       "      <td>BLVCK DIVMOND expands into A.I. for Marketing</td>\n",
       "      <td></td>\n",
       "    </tr>\n",
       "  </tbody>\n",
       "</table>\n",
       "</div>"
      ],
      "text/plain": [
       "               subreddit                                          title  \\\n",
       "0  ArtificialInteligence  BLVCK DIVMOND expands into A.I. for Marketing   \n",
       "\n",
       "  selftext  \n",
       "0           "
      ]
     },
     "execution_count": 119,
     "metadata": {},
     "output_type": "execute_result"
    }
   ],
   "source": [
    "ai.head(1)"
   ]
  },
  {
   "cell_type": "code",
   "execution_count": 160,
   "metadata": {},
   "outputs": [
    {
     "data": {
      "text/html": [
       "<div>\n",
       "<style scoped>\n",
       "    .dataframe tbody tr th:only-of-type {\n",
       "        vertical-align: middle;\n",
       "    }\n",
       "\n",
       "    .dataframe tbody tr th {\n",
       "        vertical-align: top;\n",
       "    }\n",
       "\n",
       "    .dataframe thead th {\n",
       "        text-align: right;\n",
       "    }\n",
       "</style>\n",
       "<table border=\"1\" class=\"dataframe\">\n",
       "  <thead>\n",
       "    <tr style=\"text-align: right;\">\n",
       "      <th></th>\n",
       "      <th>subreddit</th>\n",
       "      <th>title</th>\n",
       "      <th>selftext</th>\n",
       "    </tr>\n",
       "  </thead>\n",
       "  <tbody>\n",
       "    <tr>\n",
       "      <th>0</th>\n",
       "      <td>ArtificialInteligence</td>\n",
       "      <td>BLVCK DIVMOND expands into A.I. for Marketing</td>\n",
       "      <td></td>\n",
       "    </tr>\n",
       "  </tbody>\n",
       "</table>\n",
       "</div>"
      ],
      "text/plain": [
       "               subreddit                                          title  \\\n",
       "0  ArtificialInteligence  BLVCK DIVMOND expands into A.I. for Marketing   \n",
       "\n",
       "  selftext  \n",
       "0           "
      ]
     },
     "execution_count": 160,
     "metadata": {},
     "output_type": "execute_result"
    }
   ],
   "source": [
    "ai.head(1)"
   ]
  },
  {
   "cell_type": "code",
   "execution_count": 214,
   "metadata": {},
   "outputs": [
    {
     "data": {
      "text/plain": [
       "int"
      ]
     },
     "execution_count": 214,
     "metadata": {},
     "output_type": "execute_result"
    }
   ],
   "source": [
    "# This is the last UTC code for the first 100 pulls for r/ArtificalIntelligence\n",
    "type(posts_ai[-1]['created_utc'])"
   ]
  },
  {
   "cell_type": "code",
   "execution_count": null,
   "metadata": {},
   "outputs": [],
   "source": []
  },
  {
   "cell_type": "code",
   "execution_count": 275,
   "metadata": {},
   "outputs": [
    {
     "data": {
      "text/plain": [
       "1597256816"
      ]
     },
     "execution_count": 275,
     "metadata": {},
     "output_type": "execute_result"
    }
   ],
   "source": [
    "posts_ai[-1]['created_utc']"
   ]
  },
  {
   "cell_type": "code",
   "execution_count": 317,
   "metadata": {},
   "outputs": [],
   "source": [
    "def subreddit(sub1, sub2):\n",
    "#     utc_codes_ai = []\n",
    "#     utc_codes_ml = []\n",
    "\n",
    "    params_ai = {\n",
    "    'subreddit': sub1,\n",
    "    'size': 100,\n",
    "#     'before': 30d\n",
    "    }\n",
    "\n",
    "    # ML\n",
    "    params_ml = {\n",
    "        'subreddit': sub2,\n",
    "        'size': 100,\n",
    "    }\n",
    "\n",
    "#   Get Url & Paramters\n",
    "    # AI\n",
    "    res_ai = requests.get(url, params_ai)\n",
    "    # ML\n",
    "    res_ml = requests.get(url, params_ml)\n",
    "\n",
    "#   Get the data from res\n",
    "    # AI\n",
    "    data_ai = res_ai.json()\n",
    "    # ML\n",
    "    data_ml = res_ml.json()\n",
    "\n",
    "#   Get the posts from data\n",
    "    # AI\n",
    "    posts_ai = data_ai['data']\n",
    "    # ML\n",
    "    posts_ml = data_ml['data']\n",
    "\n",
    "#       Append UTC code to list\n",
    "    utc_codes_ai.append(posts_ai[-1]['created_utc'])\n",
    "\n",
    "#   Create post dataframe\n",
    "    # AI\n",
    "    ai_df = pd.DataFrame(posts_ai)\n",
    "    # ML\n",
    "    ml_df = pd.DataFrame(posts_ml)\n",
    "\n",
    "#   New Dataframe with only features we need\n",
    "    # AI\n",
    "    ai = ai_df[['subreddit', 'title', 'selftext']]\n",
    "    # ML\n",
    "    ml = ml_df[['subreddit', 'title', 'selftext']]\n",
    "    \n",
    "    for n in posts_ai:\n",
    "        utc = posts_ai[-1]['created_utc']\n",
    "        utc_codes_ai.append(utc)\n",
    "\n",
    "    return ai"
   ]
  },
  {
   "cell_type": "code",
   "execution_count": 318,
   "metadata": {},
   "outputs": [
    {
     "data": {
      "text/html": [
       "<div>\n",
       "<style scoped>\n",
       "    .dataframe tbody tr th:only-of-type {\n",
       "        vertical-align: middle;\n",
       "    }\n",
       "\n",
       "    .dataframe tbody tr th {\n",
       "        vertical-align: top;\n",
       "    }\n",
       "\n",
       "    .dataframe thead th {\n",
       "        text-align: right;\n",
       "    }\n",
       "</style>\n",
       "<table border=\"1\" class=\"dataframe\">\n",
       "  <thead>\n",
       "    <tr style=\"text-align: right;\">\n",
       "      <th></th>\n",
       "      <th>subreddit</th>\n",
       "      <th>title</th>\n",
       "      <th>selftext</th>\n",
       "    </tr>\n",
       "  </thead>\n",
       "  <tbody>\n",
       "    <tr>\n",
       "      <th>0</th>\n",
       "      <td>ArtificialInteligence</td>\n",
       "      <td>A college kid’s fake, AI-generated (GPT-3) blo...</td>\n",
       "      <td></td>\n",
       "    </tr>\n",
       "    <tr>\n",
       "      <th>1</th>\n",
       "      <td>ArtificialInteligence</td>\n",
       "      <td>Meet InvoiceNet, a software platform to train ...</td>\n",
       "      <td>[https://github.com/naiveHobo/InvoiceNet](http...</td>\n",
       "    </tr>\n",
       "    <tr>\n",
       "      <th>2</th>\n",
       "      <td>ArtificialInteligence</td>\n",
       "      <td>From Adobe, Stanford, &amp;amp; UWashington: A new...</td>\n",
       "      <td></td>\n",
       "    </tr>\n",
       "    <tr>\n",
       "      <th>3</th>\n",
       "      <td>ArtificialInteligence</td>\n",
       "      <td>BLVCK DIVMOND expands into A.I. for Marketing</td>\n",
       "      <td></td>\n",
       "    </tr>\n",
       "    <tr>\n",
       "      <th>4</th>\n",
       "      <td>ArtificialInteligence</td>\n",
       "      <td>You are the Apprentice</td>\n",
       "      <td></td>\n",
       "    </tr>\n",
       "    <tr>\n",
       "      <th>...</th>\n",
       "      <td>...</td>\n",
       "      <td>...</td>\n",
       "      <td>...</td>\n",
       "    </tr>\n",
       "    <tr>\n",
       "      <th>95</th>\n",
       "      <td>ArtificialInteligence</td>\n",
       "      <td>Political impacts of our AI future</td>\n",
       "      <td>What are people’s thoughts on how AI will impa...</td>\n",
       "    </tr>\n",
       "    <tr>\n",
       "      <th>96</th>\n",
       "      <td>ArtificialInteligence</td>\n",
       "      <td>Reverse-search for the image taken from Google...</td>\n",
       "      <td>How do I reverse-search for the image that was...</td>\n",
       "    </tr>\n",
       "    <tr>\n",
       "      <th>97</th>\n",
       "      <td>ArtificialInteligence</td>\n",
       "      <td>[R] How Smart is BERT? Evaluating the Language...</td>\n",
       "      <td>In the new paper *Does BERT Solve Commonsense ...</td>\n",
       "    </tr>\n",
       "    <tr>\n",
       "      <th>98</th>\n",
       "      <td>ArtificialInteligence</td>\n",
       "      <td>AI created sounds to conquer the silver screen...</td>\n",
       "      <td></td>\n",
       "    </tr>\n",
       "    <tr>\n",
       "      <th>99</th>\n",
       "      <td>ArtificialInteligence</td>\n",
       "      <td>There was an app on the apple store where you ...</td>\n",
       "      <td>You could program certain responses for it to ...</td>\n",
       "    </tr>\n",
       "  </tbody>\n",
       "</table>\n",
       "<p>100 rows × 3 columns</p>\n",
       "</div>"
      ],
      "text/plain": [
       "                subreddit                                              title  \\\n",
       "0   ArtificialInteligence  A college kid’s fake, AI-generated (GPT-3) blo...   \n",
       "1   ArtificialInteligence  Meet InvoiceNet, a software platform to train ...   \n",
       "2   ArtificialInteligence  From Adobe, Stanford, &amp; UWashington: A new...   \n",
       "3   ArtificialInteligence      BLVCK DIVMOND expands into A.I. for Marketing   \n",
       "4   ArtificialInteligence                             You are the Apprentice   \n",
       "..                    ...                                                ...   \n",
       "95  ArtificialInteligence                 Political impacts of our AI future   \n",
       "96  ArtificialInteligence  Reverse-search for the image taken from Google...   \n",
       "97  ArtificialInteligence  [R] How Smart is BERT? Evaluating the Language...   \n",
       "98  ArtificialInteligence  AI created sounds to conquer the silver screen...   \n",
       "99  ArtificialInteligence  There was an app on the apple store where you ...   \n",
       "\n",
       "                                             selftext  \n",
       "0                                                      \n",
       "1   [https://github.com/naiveHobo/InvoiceNet](http...  \n",
       "2                                                      \n",
       "3                                                      \n",
       "4                                                      \n",
       "..                                                ...  \n",
       "95  What are people’s thoughts on how AI will impa...  \n",
       "96  How do I reverse-search for the image that was...  \n",
       "97  In the new paper *Does BERT Solve Commonsense ...  \n",
       "98                                                     \n",
       "99  You could program certain responses for it to ...  \n",
       "\n",
       "[100 rows x 3 columns]"
      ]
     },
     "execution_count": 318,
     "metadata": {},
     "output_type": "execute_result"
    }
   ],
   "source": [
    "subreddit('ArtificialInteligence', 'MachineLearning')"
   ]
  },
  {
   "cell_type": "code",
   "execution_count": 319,
   "metadata": {},
   "outputs": [
    {
     "data": {
      "text/html": [
       "<div>\n",
       "<style scoped>\n",
       "    .dataframe tbody tr th:only-of-type {\n",
       "        vertical-align: middle;\n",
       "    }\n",
       "\n",
       "    .dataframe tbody tr th {\n",
       "        vertical-align: top;\n",
       "    }\n",
       "\n",
       "    .dataframe thead th {\n",
       "        text-align: right;\n",
       "    }\n",
       "</style>\n",
       "<table border=\"1\" class=\"dataframe\">\n",
       "  <thead>\n",
       "    <tr style=\"text-align: right;\">\n",
       "      <th></th>\n",
       "      <th>subreddit</th>\n",
       "      <th>title</th>\n",
       "      <th>selftext</th>\n",
       "    </tr>\n",
       "  </thead>\n",
       "  <tbody>\n",
       "    <tr>\n",
       "      <th>0</th>\n",
       "      <td>ArtificialInteligence</td>\n",
       "      <td>BLVCK DIVMOND expands into A.I. for Marketing</td>\n",
       "      <td></td>\n",
       "    </tr>\n",
       "    <tr>\n",
       "      <th>1</th>\n",
       "      <td>ArtificialInteligence</td>\n",
       "      <td>You are the Apprentice</td>\n",
       "      <td></td>\n",
       "    </tr>\n",
       "    <tr>\n",
       "      <th>2</th>\n",
       "      <td>ArtificialInteligence</td>\n",
       "      <td>REALM: Retrieval-Augmented Language Model Pre-...</td>\n",
       "      <td></td>\n",
       "    </tr>\n",
       "    <tr>\n",
       "      <th>3</th>\n",
       "      <td>ArtificialInteligence</td>\n",
       "      <td>FreezeG, a Face Generating Model by the GitHub...</td>\n",
       "      <td></td>\n",
       "    </tr>\n",
       "    <tr>\n",
       "      <th>4</th>\n",
       "      <td>ArtificialInteligence</td>\n",
       "      <td>How Machine Learning and Exception Management ...</td>\n",
       "      <td></td>\n",
       "    </tr>\n",
       "    <tr>\n",
       "      <th>...</th>\n",
       "      <td>...</td>\n",
       "      <td>...</td>\n",
       "      <td>...</td>\n",
       "    </tr>\n",
       "    <tr>\n",
       "      <th>95</th>\n",
       "      <td>ArtificialInteligence</td>\n",
       "      <td>AI created sounds to conquer the silver screen...</td>\n",
       "      <td></td>\n",
       "    </tr>\n",
       "    <tr>\n",
       "      <th>96</th>\n",
       "      <td>ArtificialInteligence</td>\n",
       "      <td>There was an app on the apple store where you ...</td>\n",
       "      <td>You could program certain responses for it to ...</td>\n",
       "    </tr>\n",
       "    <tr>\n",
       "      <th>97</th>\n",
       "      <td>ArtificialInteligence</td>\n",
       "      <td>(Ep.63) 'Black in AI' talks blacks in artifici...</td>\n",
       "      <td></td>\n",
       "    </tr>\n",
       "    <tr>\n",
       "      <th>98</th>\n",
       "      <td>ArtificialInteligence</td>\n",
       "      <td>Collections in Java, a hot cake for the progra...</td>\n",
       "      <td></td>\n",
       "    </tr>\n",
       "    <tr>\n",
       "      <th>99</th>\n",
       "      <td>ArtificialInteligence</td>\n",
       "      <td>Warned over 2000 years ago</td>\n",
       "      <td></td>\n",
       "    </tr>\n",
       "  </tbody>\n",
       "</table>\n",
       "<p>100 rows × 3 columns</p>\n",
       "</div>"
      ],
      "text/plain": [
       "                subreddit                                              title  \\\n",
       "0   ArtificialInteligence      BLVCK DIVMOND expands into A.I. for Marketing   \n",
       "1   ArtificialInteligence                             You are the Apprentice   \n",
       "2   ArtificialInteligence  REALM: Retrieval-Augmented Language Model Pre-...   \n",
       "3   ArtificialInteligence  FreezeG, a Face Generating Model by the GitHub...   \n",
       "4   ArtificialInteligence  How Machine Learning and Exception Management ...   \n",
       "..                    ...                                                ...   \n",
       "95  ArtificialInteligence  AI created sounds to conquer the silver screen...   \n",
       "96  ArtificialInteligence  There was an app on the apple store where you ...   \n",
       "97  ArtificialInteligence  (Ep.63) 'Black in AI' talks blacks in artifici...   \n",
       "98  ArtificialInteligence  Collections in Java, a hot cake for the progra...   \n",
       "99  ArtificialInteligence                         Warned over 2000 years ago   \n",
       "\n",
       "                                             selftext  \n",
       "0                                                      \n",
       "1                                                      \n",
       "2                                                      \n",
       "3                                                      \n",
       "4                                                      \n",
       "..                                                ...  \n",
       "95                                                     \n",
       "96  You could program certain responses for it to ...  \n",
       "97                                                     \n",
       "98                                                     \n",
       "99                                                     \n",
       "\n",
       "[100 rows x 3 columns]"
      ]
     },
     "execution_count": 319,
     "metadata": {},
     "output_type": "execute_result"
    }
   ],
   "source": [
    "ai"
   ]
  },
  {
   "cell_type": "code",
   "execution_count": 320,
   "metadata": {},
   "outputs": [
    {
     "data": {
      "text/html": [
       "<div>\n",
       "<style scoped>\n",
       "    .dataframe tbody tr th:only-of-type {\n",
       "        vertical-align: middle;\n",
       "    }\n",
       "\n",
       "    .dataframe tbody tr th {\n",
       "        vertical-align: top;\n",
       "    }\n",
       "\n",
       "    .dataframe thead th {\n",
       "        text-align: right;\n",
       "    }\n",
       "</style>\n",
       "<table border=\"1\" class=\"dataframe\">\n",
       "  <thead>\n",
       "    <tr style=\"text-align: right;\">\n",
       "      <th></th>\n",
       "      <th>subreddit</th>\n",
       "      <th>title</th>\n",
       "      <th>selftext</th>\n",
       "    </tr>\n",
       "  </thead>\n",
       "  <tbody>\n",
       "    <tr>\n",
       "      <th>0</th>\n",
       "      <td>MachineLearning</td>\n",
       "      <td>[P] Ask GPT-3 health-related or fitness-relate...</td>\n",
       "      <td>[FitnessAI Knowledge](https://app.fitnessai.co...</td>\n",
       "    </tr>\n",
       "    <tr>\n",
       "      <th>1</th>\n",
       "      <td>MachineLearning</td>\n",
       "      <td>[R] Writing Code That Works Natively with PyTo...</td>\n",
       "      <td>**Abstract:**  EagerPy is a Python framework t...</td>\n",
       "    </tr>\n",
       "    <tr>\n",
       "      <th>2</th>\n",
       "      <td>MachineLearning</td>\n",
       "      <td>[D] Model Averaging in regression and classifi...</td>\n",
       "      <td>Hi, I need some help and also want to discuss ...</td>\n",
       "    </tr>\n",
       "    <tr>\n",
       "      <th>3</th>\n",
       "      <td>MachineLearning</td>\n",
       "      <td>I'm new</td>\n",
       "      <td>[removed]</td>\n",
       "    </tr>\n",
       "    <tr>\n",
       "      <th>4</th>\n",
       "      <td>MachineLearning</td>\n",
       "      <td>[D] How to detect or predict vehicle driving d...</td>\n",
       "      <td>Hi all. I have to do a project for class where...</td>\n",
       "    </tr>\n",
       "    <tr>\n",
       "      <th>...</th>\n",
       "      <td>...</td>\n",
       "      <td>...</td>\n",
       "      <td>...</td>\n",
       "    </tr>\n",
       "    <tr>\n",
       "      <th>95</th>\n",
       "      <td>MachineLearning</td>\n",
       "      <td>You need more than OCR: parse the layout when ...</td>\n",
       "      <td>[removed]</td>\n",
       "    </tr>\n",
       "    <tr>\n",
       "      <th>96</th>\n",
       "      <td>MachineLearning</td>\n",
       "      <td>[P] I made an AI than can drive in a real raci...</td>\n",
       "      <td></td>\n",
       "    </tr>\n",
       "    <tr>\n",
       "      <th>97</th>\n",
       "      <td>MachineLearning</td>\n",
       "      <td>I made an AI than can drive in a real racing g...</td>\n",
       "      <td>[removed]</td>\n",
       "    </tr>\n",
       "    <tr>\n",
       "      <th>98</th>\n",
       "      <td>MachineLearning</td>\n",
       "      <td>[P] I made an AI than can drive in a real raci...</td>\n",
       "      <td></td>\n",
       "    </tr>\n",
       "    <tr>\n",
       "      <th>99</th>\n",
       "      <td>MachineLearning</td>\n",
       "      <td>[D] How do you explain your ML job in one or t...</td>\n",
       "      <td>I’m a machine learning engineer who works prim...</td>\n",
       "    </tr>\n",
       "  </tbody>\n",
       "</table>\n",
       "<p>100 rows × 3 columns</p>\n",
       "</div>"
      ],
      "text/plain": [
       "          subreddit                                              title  \\\n",
       "0   MachineLearning  [P] Ask GPT-3 health-related or fitness-relate...   \n",
       "1   MachineLearning  [R] Writing Code That Works Natively with PyTo...   \n",
       "2   MachineLearning  [D] Model Averaging in regression and classifi...   \n",
       "3   MachineLearning                                            I'm new   \n",
       "4   MachineLearning  [D] How to detect or predict vehicle driving d...   \n",
       "..              ...                                                ...   \n",
       "95  MachineLearning  You need more than OCR: parse the layout when ...   \n",
       "96  MachineLearning  [P] I made an AI than can drive in a real raci...   \n",
       "97  MachineLearning  I made an AI than can drive in a real racing g...   \n",
       "98  MachineLearning  [P] I made an AI than can drive in a real raci...   \n",
       "99  MachineLearning  [D] How do you explain your ML job in one or t...   \n",
       "\n",
       "                                             selftext  \n",
       "0   [FitnessAI Knowledge](https://app.fitnessai.co...  \n",
       "1   **Abstract:**  EagerPy is a Python framework t...  \n",
       "2   Hi, I need some help and also want to discuss ...  \n",
       "3                                           [removed]  \n",
       "4   Hi all. I have to do a project for class where...  \n",
       "..                                                ...  \n",
       "95                                          [removed]  \n",
       "96                                                     \n",
       "97                                          [removed]  \n",
       "98                                                     \n",
       "99  I’m a machine learning engineer who works prim...  \n",
       "\n",
       "[100 rows x 3 columns]"
      ]
     },
     "execution_count": 320,
     "metadata": {},
     "output_type": "execute_result"
    }
   ],
   "source": [
    "ml"
   ]
  },
  {
   "cell_type": "code",
   "execution_count": 330,
   "metadata": {},
   "outputs": [],
   "source": [
    "final_df = ai.append(ml).reset_index()"
   ]
  },
  {
   "cell_type": "code",
   "execution_count": 332,
   "metadata": {},
   "outputs": [
    {
     "data": {
      "text/html": [
       "<div>\n",
       "<style scoped>\n",
       "    .dataframe tbody tr th:only-of-type {\n",
       "        vertical-align: middle;\n",
       "    }\n",
       "\n",
       "    .dataframe tbody tr th {\n",
       "        vertical-align: top;\n",
       "    }\n",
       "\n",
       "    .dataframe thead th {\n",
       "        text-align: right;\n",
       "    }\n",
       "</style>\n",
       "<table border=\"1\" class=\"dataframe\">\n",
       "  <thead>\n",
       "    <tr style=\"text-align: right;\">\n",
       "      <th></th>\n",
       "      <th>index</th>\n",
       "      <th>subreddit</th>\n",
       "      <th>title</th>\n",
       "      <th>selftext</th>\n",
       "    </tr>\n",
       "  </thead>\n",
       "  <tbody>\n",
       "    <tr>\n",
       "      <th>0</th>\n",
       "      <td>0</td>\n",
       "      <td>ArtificialInteligence</td>\n",
       "      <td>BLVCK DIVMOND expands into A.I. for Marketing</td>\n",
       "      <td></td>\n",
       "    </tr>\n",
       "    <tr>\n",
       "      <th>1</th>\n",
       "      <td>1</td>\n",
       "      <td>ArtificialInteligence</td>\n",
       "      <td>You are the Apprentice</td>\n",
       "      <td></td>\n",
       "    </tr>\n",
       "    <tr>\n",
       "      <th>2</th>\n",
       "      <td>2</td>\n",
       "      <td>ArtificialInteligence</td>\n",
       "      <td>REALM: Retrieval-Augmented Language Model Pre-...</td>\n",
       "      <td></td>\n",
       "    </tr>\n",
       "    <tr>\n",
       "      <th>3</th>\n",
       "      <td>3</td>\n",
       "      <td>ArtificialInteligence</td>\n",
       "      <td>FreezeG, a Face Generating Model by the GitHub...</td>\n",
       "      <td></td>\n",
       "    </tr>\n",
       "    <tr>\n",
       "      <th>4</th>\n",
       "      <td>4</td>\n",
       "      <td>ArtificialInteligence</td>\n",
       "      <td>How Machine Learning and Exception Management ...</td>\n",
       "      <td></td>\n",
       "    </tr>\n",
       "    <tr>\n",
       "      <th>...</th>\n",
       "      <td>...</td>\n",
       "      <td>...</td>\n",
       "      <td>...</td>\n",
       "      <td>...</td>\n",
       "    </tr>\n",
       "    <tr>\n",
       "      <th>195</th>\n",
       "      <td>95</td>\n",
       "      <td>MachineLearning</td>\n",
       "      <td>You need more than OCR: parse the layout when ...</td>\n",
       "      <td>[removed]</td>\n",
       "    </tr>\n",
       "    <tr>\n",
       "      <th>196</th>\n",
       "      <td>96</td>\n",
       "      <td>MachineLearning</td>\n",
       "      <td>[P] I made an AI than can drive in a real raci...</td>\n",
       "      <td></td>\n",
       "    </tr>\n",
       "    <tr>\n",
       "      <th>197</th>\n",
       "      <td>97</td>\n",
       "      <td>MachineLearning</td>\n",
       "      <td>I made an AI than can drive in a real racing g...</td>\n",
       "      <td>[removed]</td>\n",
       "    </tr>\n",
       "    <tr>\n",
       "      <th>198</th>\n",
       "      <td>98</td>\n",
       "      <td>MachineLearning</td>\n",
       "      <td>[P] I made an AI than can drive in a real raci...</td>\n",
       "      <td></td>\n",
       "    </tr>\n",
       "    <tr>\n",
       "      <th>199</th>\n",
       "      <td>99</td>\n",
       "      <td>MachineLearning</td>\n",
       "      <td>[D] How do you explain your ML job in one or t...</td>\n",
       "      <td>I’m a machine learning engineer who works prim...</td>\n",
       "    </tr>\n",
       "  </tbody>\n",
       "</table>\n",
       "<p>200 rows × 4 columns</p>\n",
       "</div>"
      ],
      "text/plain": [
       "     index              subreddit  \\\n",
       "0        0  ArtificialInteligence   \n",
       "1        1  ArtificialInteligence   \n",
       "2        2  ArtificialInteligence   \n",
       "3        3  ArtificialInteligence   \n",
       "4        4  ArtificialInteligence   \n",
       "..     ...                    ...   \n",
       "195     95        MachineLearning   \n",
       "196     96        MachineLearning   \n",
       "197     97        MachineLearning   \n",
       "198     98        MachineLearning   \n",
       "199     99        MachineLearning   \n",
       "\n",
       "                                                 title  \\\n",
       "0        BLVCK DIVMOND expands into A.I. for Marketing   \n",
       "1                               You are the Apprentice   \n",
       "2    REALM: Retrieval-Augmented Language Model Pre-...   \n",
       "3    FreezeG, a Face Generating Model by the GitHub...   \n",
       "4    How Machine Learning and Exception Management ...   \n",
       "..                                                 ...   \n",
       "195  You need more than OCR: parse the layout when ...   \n",
       "196  [P] I made an AI than can drive in a real raci...   \n",
       "197  I made an AI than can drive in a real racing g...   \n",
       "198  [P] I made an AI than can drive in a real raci...   \n",
       "199  [D] How do you explain your ML job in one or t...   \n",
       "\n",
       "                                              selftext  \n",
       "0                                                       \n",
       "1                                                       \n",
       "2                                                       \n",
       "3                                                       \n",
       "4                                                       \n",
       "..                                                 ...  \n",
       "195                                          [removed]  \n",
       "196                                                     \n",
       "197                                          [removed]  \n",
       "198                                                     \n",
       "199  I’m a machine learning engineer who works prim...  \n",
       "\n",
       "[200 rows x 4 columns]"
      ]
     },
     "execution_count": 332,
     "metadata": {},
     "output_type": "execute_result"
    }
   ],
   "source": [
    "final_df"
   ]
  },
  {
   "cell_type": "code",
   "execution_count": null,
   "metadata": {},
   "outputs": [],
   "source": []
  }
 ],
 "metadata": {
  "kernelspec": {
   "display_name": "Python 3",
   "language": "python",
   "name": "python3"
  },
  "language_info": {
   "codemirror_mode": {
    "name": "ipython",
    "version": 3
   },
   "file_extension": ".py",
   "mimetype": "text/x-python",
   "name": "python",
   "nbconvert_exporter": "python",
   "pygments_lexer": "ipython3",
   "version": "3.7.6"
  }
 },
 "nbformat": 4,
 "nbformat_minor": 4
}
