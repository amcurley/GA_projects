{
 "cells": [
  {
   "cell_type": "code",
   "execution_count": 1,
   "metadata": {},
   "outputs": [],
   "source": [
    "import requests\n",
    "import pandas as pd"
   ]
  },
  {
   "cell_type": "code",
   "execution_count": 2,
   "metadata": {},
   "outputs": [],
   "source": [
    "url = 'https://api.pushshift.io/reddit/search/submission'"
   ]
  },
  {
   "cell_type": "markdown",
   "metadata": {},
   "source": [
    "## **Machine Learning**"
   ]
  },
  {
   "cell_type": "code",
   "execution_count": 162,
   "metadata": {},
   "outputs": [],
   "source": [
    "# Add a question mark after the submission and do subreddit=subredditname\n",
    "# https://api.pushshift.io/reddit/search/submission?subreddit=MachineLearning\n",
    "\n",
    "params_ml = {\n",
    "    'subreddit': 'MachineLearning',\n",
    "    'size': 500,\n",
    "#     'before': 1483228800\n",
    "    }"
   ]
  },
  {
   "cell_type": "code",
   "execution_count": 163,
   "metadata": {},
   "outputs": [
    {
     "data": {
      "text/plain": [
       "200"
      ]
     },
     "execution_count": 163,
     "metadata": {},
     "output_type": "execute_result"
    }
   ],
   "source": [
    "res_ml = requests.get(url, params_ml)\n",
    "res_ml.status_code"
   ]
  },
  {
   "cell_type": "code",
   "execution_count": 164,
   "metadata": {},
   "outputs": [],
   "source": [
    "data_ml = res_ml.json()"
   ]
  },
  {
   "cell_type": "code",
   "execution_count": 165,
   "metadata": {},
   "outputs": [],
   "source": [
    "posts_ml = data_ml['data']"
   ]
  },
  {
   "cell_type": "code",
   "execution_count": 265,
   "metadata": {},
   "outputs": [
    {
     "data": {
      "text/plain": [
       "1597463036"
      ]
     },
     "execution_count": 265,
     "metadata": {},
     "output_type": "execute_result"
    }
   ],
   "source": [
    "posts_ml[1]['created_utc']"
   ]
  },
  {
   "cell_type": "code",
   "execution_count": 276,
   "metadata": {},
   "outputs": [],
   "source": [
    "import numpy as np"
   ]
  },
  {
   "cell_type": "code",
   "execution_count": 280,
   "metadata": {},
   "outputs": [
    {
     "data": {
      "text/plain": [
       "1597471216"
      ]
     },
     "execution_count": 280,
     "metadata": {},
     "output_type": "execute_result"
    }
   ],
   "source": [
    "utcs = []\n",
    "for n in posts_ml:\n",
    "    for xi in n:\n",
    "        utcs.append(n['created_utc'])\n",
    "\n",
    "utcs[0]"
   ]
  },
  {
   "cell_type": "code",
   "execution_count": 166,
   "metadata": {},
   "outputs": [
    {
     "data": {
      "text/plain": [
       "100"
      ]
     },
     "execution_count": 166,
     "metadata": {},
     "output_type": "execute_result"
    }
   ],
   "source": [
    "len(posts_ml)"
   ]
  },
  {
   "cell_type": "code",
   "execution_count": 167,
   "metadata": {},
   "outputs": [],
   "source": [
    "ml_df = pd.DataFrame(posts_ml)"
   ]
  },
  {
   "cell_type": "code",
   "execution_count": 168,
   "metadata": {},
   "outputs": [],
   "source": [
    "ml = ml_df[['subreddit', 'title', 'selftext', 'created_utc']]"
   ]
  },
  {
   "cell_type": "code",
   "execution_count": 169,
   "metadata": {},
   "outputs": [
    {
     "data": {
      "text/plain": [
       "1597462545"
      ]
     },
     "execution_count": 169,
     "metadata": {},
     "output_type": "execute_result"
    }
   ],
   "source": [
    "ml['created_utc'].min()"
   ]
  },
  {
   "cell_type": "code",
   "execution_count": 170,
   "metadata": {},
   "outputs": [
    {
     "data": {
      "text/html": [
       "<div>\n",
       "<style scoped>\n",
       "    .dataframe tbody tr th:only-of-type {\n",
       "        vertical-align: middle;\n",
       "    }\n",
       "\n",
       "    .dataframe tbody tr th {\n",
       "        vertical-align: top;\n",
       "    }\n",
       "\n",
       "    .dataframe thead th {\n",
       "        text-align: right;\n",
       "    }\n",
       "</style>\n",
       "<table border=\"1\" class=\"dataframe\">\n",
       "  <thead>\n",
       "    <tr style=\"text-align: right;\">\n",
       "      <th></th>\n",
       "      <th>subreddit</th>\n",
       "      <th>title</th>\n",
       "      <th>selftext</th>\n",
       "      <th>created_utc</th>\n",
       "    </tr>\n",
       "  </thead>\n",
       "  <tbody>\n",
       "    <tr>\n",
       "      <th>0</th>\n",
       "      <td>MachineLearning</td>\n",
       "      <td>[Project] I have several images of this type, ...</td>\n",
       "      <td>It is important for me to capture the batch nu...</td>\n",
       "      <td>1597601872</td>\n",
       "    </tr>\n",
       "    <tr>\n",
       "      <th>1</th>\n",
       "      <td>MachineLearning</td>\n",
       "      <td>AI is Helping Brazil Fight COVID-19 &amp;amp; Auto...</td>\n",
       "      <td></td>\n",
       "      <td>1597600800</td>\n",
       "    </tr>\n",
       "  </tbody>\n",
       "</table>\n",
       "</div>"
      ],
      "text/plain": [
       "         subreddit                                              title  \\\n",
       "0  MachineLearning  [Project] I have several images of this type, ...   \n",
       "1  MachineLearning  AI is Helping Brazil Fight COVID-19 &amp; Auto...   \n",
       "\n",
       "                                            selftext  created_utc  \n",
       "0  It is important for me to capture the batch nu...   1597601872  \n",
       "1                                                      1597600800  "
      ]
     },
     "execution_count": 170,
     "metadata": {},
     "output_type": "execute_result"
    }
   ],
   "source": [
    "ml.head(2)"
   ]
  },
  {
   "cell_type": "code",
   "execution_count": 204,
   "metadata": {},
   "outputs": [],
   "source": [
    "empty = []"
   ]
  },
  {
   "cell_type": "code",
   "execution_count": 205,
   "metadata": {},
   "outputs": [
    {
     "data": {
      "text/plain": [
       "0"
      ]
     },
     "execution_count": 205,
     "metadata": {},
     "output_type": "execute_result"
    }
   ],
   "source": [
    "len(empty)"
   ]
  },
  {
   "cell_type": "code",
   "execution_count": 287,
   "metadata": {},
   "outputs": [],
   "source": [
    "url = 'https://api.pushshift.io/reddit/search/submission'\n",
    "utc_codes = []"
   ]
  },
  {
   "cell_type": "code",
   "execution_count": 290,
   "metadata": {},
   "outputs": [],
   "source": [
    "res_ml = requests.get(url, params_ml)"
   ]
  },
  {
   "cell_type": "code",
   "execution_count": 293,
   "metadata": {},
   "outputs": [],
   "source": [
    "data_ml = res_ml.json()"
   ]
  },
  {
   "cell_type": "code",
   "execution_count": null,
   "metadata": {},
   "outputs": [],
   "source": []
  },
  {
   "cell_type": "code",
   "execution_count": null,
   "metadata": {},
   "outputs": [],
   "source": []
  },
  {
   "cell_type": "code",
   "execution_count": null,
   "metadata": {},
   "outputs": [],
   "source": []
  },
  {
   "cell_type": "code",
   "execution_count": null,
   "metadata": {},
   "outputs": [],
   "source": []
  },
  {
   "cell_type": "code",
   "execution_count": null,
   "metadata": {},
   "outputs": [],
   "source": []
  },
  {
   "cell_type": "code",
   "execution_count": null,
   "metadata": {},
   "outputs": [],
   "source": []
  },
  {
   "cell_type": "code",
   "execution_count": 298,
   "metadata": {},
   "outputs": [],
   "source": [
    "#  Lets create a function that returns us the last 3 years of posts\n",
    "#  This is the unix time code for January 1st 2017 1483228800\n",
    "def get_1st(before, after):\n",
    "    \n",
    "    url = 'https://api.pushshift.io/reddit/search/submission'\n",
    "    utc_codes = []\n",
    "\n",
    "    while len(utc_codes) <= 10:\n",
    "            params_ml = {\n",
    "            'subreddit': 'MachineLearning',\n",
    "            'size': 500,\n",
    "            }\n",
    "\n",
    "            res_ml = requests.get(url, params_ml)\n",
    "\n",
    "            data_ml = res_ml.json()\n",
    "\n",
    "            posts_ml = data_ml['data']\n",
    "            ml_df = pd.DataFrame(posts_ml)\n",
    "            ml_1st = ml_df[['subreddit', 'title', 'selftext', 'created_utc']]\n",
    "\n",
    "            utc_codes.append(ml_1st['created_utc'].min() - 1)\n",
    "\n",
    "\n",
    "            for n in utc_codes:\n",
    "                params_ml = {\n",
    "            'subreddit': 'MachineLearning',\n",
    "            'size': 500,\n",
    "            'before': n\n",
    "            }\n",
    "\n",
    "            res_ml = requests.get(url, params_ml)\n",
    "\n",
    "            data_ml = res_ml.json()\n",
    "\n",
    "            posts_ml = data_ml['data']\n",
    "            ml_df = pd.DataFrame(posts_ml)\n",
    "            ml_2nd = ml_df[['subreddit', 'title', 'selftext', 'created_utc']]\n",
    "\n",
    "            utc_codes.append(ml_2nd['created_utc'].min() - 1)\n",
    "            \n",
    "            params_ml.update({'before': ml_2nd['created_utc'].min() - 1})\n",
    "\n",
    "            new_df = ml_1st.append(ml_2nd).reset_index()\n",
    "\n",
    "            return new_df"
   ]
  },
  {
   "cell_type": "code",
   "execution_count": 299,
   "metadata": {},
   "outputs": [
    {
     "data": {
      "text/html": [
       "<div>\n",
       "<style scoped>\n",
       "    .dataframe tbody tr th:only-of-type {\n",
       "        vertical-align: middle;\n",
       "    }\n",
       "\n",
       "    .dataframe tbody tr th {\n",
       "        vertical-align: top;\n",
       "    }\n",
       "\n",
       "    .dataframe thead th {\n",
       "        text-align: right;\n",
       "    }\n",
       "</style>\n",
       "<table border=\"1\" class=\"dataframe\">\n",
       "  <thead>\n",
       "    <tr style=\"text-align: right;\">\n",
       "      <th></th>\n",
       "      <th>index</th>\n",
       "      <th>subreddit</th>\n",
       "      <th>title</th>\n",
       "      <th>selftext</th>\n",
       "      <th>created_utc</th>\n",
       "    </tr>\n",
       "  </thead>\n",
       "  <tbody>\n",
       "    <tr>\n",
       "      <th>0</th>\n",
       "      <td>0</td>\n",
       "      <td>MachineLearning</td>\n",
       "      <td>Implement an NER Bert for a specific language ...</td>\n",
       "      <td>[removed]</td>\n",
       "      <td>1597605899</td>\n",
       "    </tr>\n",
       "    <tr>\n",
       "      <th>1</th>\n",
       "      <td>1</td>\n",
       "      <td>MachineLearning</td>\n",
       "      <td>Artificial Intelligence Books For Beginners | ...</td>\n",
       "      <td></td>\n",
       "      <td>1597605100</td>\n",
       "    </tr>\n",
       "    <tr>\n",
       "      <th>2</th>\n",
       "      <td>2</td>\n",
       "      <td>MachineLearning</td>\n",
       "      <td>[P] Access to 1,400 NLP Model Inference Code T...</td>\n",
       "      <td>[removed]</td>\n",
       "      <td>1597602895</td>\n",
       "    </tr>\n",
       "    <tr>\n",
       "      <th>3</th>\n",
       "      <td>3</td>\n",
       "      <td>MachineLearning</td>\n",
       "      <td>Question about ensembling</td>\n",
       "      <td>[removed]</td>\n",
       "      <td>1597602701</td>\n",
       "    </tr>\n",
       "    <tr>\n",
       "      <th>4</th>\n",
       "      <td>4</td>\n",
       "      <td>MachineLearning</td>\n",
       "      <td>[Project] I have several images of this type, ...</td>\n",
       "      <td>It is important for me to capture the batch nu...</td>\n",
       "      <td>1597601872</td>\n",
       "    </tr>\n",
       "    <tr>\n",
       "      <th>...</th>\n",
       "      <td>...</td>\n",
       "      <td>...</td>\n",
       "      <td>...</td>\n",
       "      <td>...</td>\n",
       "      <td>...</td>\n",
       "    </tr>\n",
       "    <tr>\n",
       "      <th>195</th>\n",
       "      <td>95</td>\n",
       "      <td>MachineLearning</td>\n",
       "      <td>Graduate school over AI residency</td>\n",
       "      <td>[removed]</td>\n",
       "      <td>1597387644</td>\n",
       "    </tr>\n",
       "    <tr>\n",
       "      <th>196</th>\n",
       "      <td>96</td>\n",
       "      <td>MachineLearning</td>\n",
       "      <td>Is it worth going to AI residency if I already...</td>\n",
       "      <td>[removed]</td>\n",
       "      <td>1597387559</td>\n",
       "    </tr>\n",
       "    <tr>\n",
       "      <th>197</th>\n",
       "      <td>97</td>\n",
       "      <td>MachineLearning</td>\n",
       "      <td>AI residency vs. Graduate School</td>\n",
       "      <td>[removed]</td>\n",
       "      <td>1597387511</td>\n",
       "    </tr>\n",
       "    <tr>\n",
       "      <th>198</th>\n",
       "      <td>98</td>\n",
       "      <td>MachineLearning</td>\n",
       "      <td>Taber wear-resisting machine DIN abrasion</td>\n",
       "      <td>[removed]</td>\n",
       "      <td>1597386193</td>\n",
       "    </tr>\n",
       "    <tr>\n",
       "      <th>199</th>\n",
       "      <td>99</td>\n",
       "      <td>MachineLearning</td>\n",
       "      <td>Trying to [D]ecide...</td>\n",
       "      <td></td>\n",
       "      <td>1597376970</td>\n",
       "    </tr>\n",
       "  </tbody>\n",
       "</table>\n",
       "<p>200 rows × 5 columns</p>\n",
       "</div>"
      ],
      "text/plain": [
       "     index        subreddit  \\\n",
       "0        0  MachineLearning   \n",
       "1        1  MachineLearning   \n",
       "2        2  MachineLearning   \n",
       "3        3  MachineLearning   \n",
       "4        4  MachineLearning   \n",
       "..     ...              ...   \n",
       "195     95  MachineLearning   \n",
       "196     96  MachineLearning   \n",
       "197     97  MachineLearning   \n",
       "198     98  MachineLearning   \n",
       "199     99  MachineLearning   \n",
       "\n",
       "                                                 title  \\\n",
       "0    Implement an NER Bert for a specific language ...   \n",
       "1    Artificial Intelligence Books For Beginners | ...   \n",
       "2    [P] Access to 1,400 NLP Model Inference Code T...   \n",
       "3                            Question about ensembling   \n",
       "4    [Project] I have several images of this type, ...   \n",
       "..                                                 ...   \n",
       "195                  Graduate school over AI residency   \n",
       "196  Is it worth going to AI residency if I already...   \n",
       "197                   AI residency vs. Graduate School   \n",
       "198          Taber wear-resisting machine DIN abrasion   \n",
       "199                              Trying to [D]ecide...   \n",
       "\n",
       "                                              selftext  created_utc  \n",
       "0                                            [removed]   1597605899  \n",
       "1                                                        1597605100  \n",
       "2                                            [removed]   1597602895  \n",
       "3                                            [removed]   1597602701  \n",
       "4    It is important for me to capture the batch nu...   1597601872  \n",
       "..                                                 ...          ...  \n",
       "195                                          [removed]   1597387644  \n",
       "196                                          [removed]   1597387559  \n",
       "197                                          [removed]   1597387511  \n",
       "198                                          [removed]   1597386193  \n",
       "199                                                      1597376970  \n",
       "\n",
       "[200 rows x 5 columns]"
      ]
     },
     "execution_count": 299,
     "metadata": {},
     "output_type": "execute_result"
    }
   ],
   "source": [
    "get_1st(1, 2)"
   ]
  },
  {
   "cell_type": "code",
   "execution_count": 300,
   "metadata": {},
   "outputs": [
    {
     "data": {
      "text/html": [
       "<div>\n",
       "<style scoped>\n",
       "    .dataframe tbody tr th:only-of-type {\n",
       "        vertical-align: middle;\n",
       "    }\n",
       "\n",
       "    .dataframe tbody tr th {\n",
       "        vertical-align: top;\n",
       "    }\n",
       "\n",
       "    .dataframe thead th {\n",
       "        text-align: right;\n",
       "    }\n",
       "</style>\n",
       "<table border=\"1\" class=\"dataframe\">\n",
       "  <thead>\n",
       "    <tr style=\"text-align: right;\">\n",
       "      <th></th>\n",
       "      <th>index</th>\n",
       "      <th>subreddit</th>\n",
       "      <th>title</th>\n",
       "      <th>selftext</th>\n",
       "      <th>created_utc</th>\n",
       "    </tr>\n",
       "  </thead>\n",
       "  <tbody>\n",
       "    <tr>\n",
       "      <th>0</th>\n",
       "      <td>0</td>\n",
       "      <td>MachineLearning</td>\n",
       "      <td>Implement an NER Bert for a specific language ...</td>\n",
       "      <td>[removed]</td>\n",
       "      <td>1597605899</td>\n",
       "    </tr>\n",
       "    <tr>\n",
       "      <th>1</th>\n",
       "      <td>1</td>\n",
       "      <td>MachineLearning</td>\n",
       "      <td>Artificial Intelligence Books For Beginners | ...</td>\n",
       "      <td></td>\n",
       "      <td>1597605100</td>\n",
       "    </tr>\n",
       "    <tr>\n",
       "      <th>2</th>\n",
       "      <td>2</td>\n",
       "      <td>MachineLearning</td>\n",
       "      <td>[P] Access to 1,400 NLP Model Inference Code T...</td>\n",
       "      <td>[removed]</td>\n",
       "      <td>1597602895</td>\n",
       "    </tr>\n",
       "    <tr>\n",
       "      <th>3</th>\n",
       "      <td>3</td>\n",
       "      <td>MachineLearning</td>\n",
       "      <td>Question about ensembling</td>\n",
       "      <td>[removed]</td>\n",
       "      <td>1597602701</td>\n",
       "    </tr>\n",
       "    <tr>\n",
       "      <th>4</th>\n",
       "      <td>4</td>\n",
       "      <td>MachineLearning</td>\n",
       "      <td>[Project] I have several images of this type, ...</td>\n",
       "      <td>It is important for me to capture the batch nu...</td>\n",
       "      <td>1597601872</td>\n",
       "    </tr>\n",
       "    <tr>\n",
       "      <th>...</th>\n",
       "      <td>...</td>\n",
       "      <td>...</td>\n",
       "      <td>...</td>\n",
       "      <td>...</td>\n",
       "      <td>...</td>\n",
       "    </tr>\n",
       "    <tr>\n",
       "      <th>195</th>\n",
       "      <td>95</td>\n",
       "      <td>MachineLearning</td>\n",
       "      <td>Togelius: A very short history of some times w...</td>\n",
       "      <td></td>\n",
       "      <td>1596440661</td>\n",
       "    </tr>\n",
       "    <tr>\n",
       "      <th>196</th>\n",
       "      <td>96</td>\n",
       "      <td>MachineLearning</td>\n",
       "      <td>gas processing plant</td>\n",
       "      <td></td>\n",
       "      <td>1596438138</td>\n",
       "    </tr>\n",
       "    <tr>\n",
       "      <th>197</th>\n",
       "      <td>97</td>\n",
       "      <td>MachineLearning</td>\n",
       "      <td>HOW AI IS POWERING MANUFACTURING IN 2020</td>\n",
       "      <td></td>\n",
       "      <td>1596437925</td>\n",
       "    </tr>\n",
       "    <tr>\n",
       "      <th>198</th>\n",
       "      <td>98</td>\n",
       "      <td>MachineLearning</td>\n",
       "      <td>[D] What is the practical difference between t...</td>\n",
       "      <td>Hi all, sorry in advance if this is a dumb pos...</td>\n",
       "      <td>1596436782</td>\n",
       "    </tr>\n",
       "    <tr>\n",
       "      <th>199</th>\n",
       "      <td>99</td>\n",
       "      <td>MachineLearning</td>\n",
       "      <td>Spark Performance Tuning &amp;amp; Best Practices</td>\n",
       "      <td></td>\n",
       "      <td>1596436008</td>\n",
       "    </tr>\n",
       "  </tbody>\n",
       "</table>\n",
       "<p>200 rows × 5 columns</p>\n",
       "</div>"
      ],
      "text/plain": [
       "     index        subreddit  \\\n",
       "0        0  MachineLearning   \n",
       "1        1  MachineLearning   \n",
       "2        2  MachineLearning   \n",
       "3        3  MachineLearning   \n",
       "4        4  MachineLearning   \n",
       "..     ...              ...   \n",
       "195     95  MachineLearning   \n",
       "196     96  MachineLearning   \n",
       "197     97  MachineLearning   \n",
       "198     98  MachineLearning   \n",
       "199     99  MachineLearning   \n",
       "\n",
       "                                                 title  \\\n",
       "0    Implement an NER Bert for a specific language ...   \n",
       "1    Artificial Intelligence Books For Beginners | ...   \n",
       "2    [P] Access to 1,400 NLP Model Inference Code T...   \n",
       "3                            Question about ensembling   \n",
       "4    [Project] I have several images of this type, ...   \n",
       "..                                                 ...   \n",
       "195  Togelius: A very short history of some times w...   \n",
       "196                               gas processing plant   \n",
       "197           HOW AI IS POWERING MANUFACTURING IN 2020   \n",
       "198  [D] What is the practical difference between t...   \n",
       "199      Spark Performance Tuning &amp; Best Practices   \n",
       "\n",
       "                                              selftext  created_utc  \n",
       "0                                            [removed]   1597605899  \n",
       "1                                                        1597605100  \n",
       "2                                            [removed]   1597602895  \n",
       "3                                            [removed]   1597602701  \n",
       "4    It is important for me to capture the batch nu...   1597601872  \n",
       "..                                                 ...          ...  \n",
       "195                                                      1596440661  \n",
       "196                                                      1596438138  \n",
       "197                                                      1596437925  \n",
       "198  Hi all, sorry in advance if this is a dumb pos...   1596436782  \n",
       "199                                                      1596436008  \n",
       "\n",
       "[200 rows x 5 columns]"
      ]
     },
     "execution_count": 300,
     "metadata": {},
     "output_type": "execute_result"
    }
   ],
   "source": [
    "url = 'https://api.pushshift.io/reddit/search/submission'\n",
    "utc_codes = []\n",
    "params_ml = {\n",
    "            'subreddit': 'MachineLearning',\n",
    "            'size': 500,\n",
    "            }\n",
    "\n",
    "res_ml = requests.get(url, params_ml)\n",
    "data_ml = res_ml.json()\n",
    "\n",
    "posts_ml = data_ml['data']\n",
    "ml_df = pd.DataFrame(posts_ml)\n",
    "ml_1st = ml_df[['subreddit', 'title', 'selftext', 'created_utc']]\n",
    "\n",
    "utc_codes.append(ml_1st['created_utc'].min() - 1)\n",
    "\n",
    "while len(utc_codes) < 10:\n",
    "    for n in utc_codes:\n",
    "        params_ml = {\n",
    "    'subreddit': 'MachineLearning',\n",
    "    'size': 500,\n",
    "    'before': n\n",
    "    }\n",
    "\n",
    "    res_ml = requests.get(url, params_ml)\n",
    "\n",
    "    data_ml = res_ml.json()\n",
    "\n",
    "    posts_ml = data_ml['data']\n",
    "    ml_df = pd.DataFrame(posts_ml)\n",
    "    ml_2nd = ml_df[['subreddit', 'title', 'selftext', 'created_utc']]\n",
    "\n",
    "    utc_codes.append(ml_2nd['created_utc'].min() - 1)\n",
    "\n",
    "    new_df = ml_1st.append(ml_2nd).reset_index()\n",
    "\n",
    "new_df"
   ]
  },
  {
   "cell_type": "code",
   "execution_count": 301,
   "metadata": {},
   "outputs": [
    {
     "data": {
      "text/html": [
       "<div>\n",
       "<style scoped>\n",
       "    .dataframe tbody tr th:only-of-type {\n",
       "        vertical-align: middle;\n",
       "    }\n",
       "\n",
       "    .dataframe tbody tr th {\n",
       "        vertical-align: top;\n",
       "    }\n",
       "\n",
       "    .dataframe thead th {\n",
       "        text-align: right;\n",
       "    }\n",
       "</style>\n",
       "<table border=\"1\" class=\"dataframe\">\n",
       "  <thead>\n",
       "    <tr style=\"text-align: right;\">\n",
       "      <th></th>\n",
       "      <th>index</th>\n",
       "      <th>subreddit</th>\n",
       "      <th>title</th>\n",
       "      <th>selftext</th>\n",
       "      <th>created_utc</th>\n",
       "    </tr>\n",
       "  </thead>\n",
       "  <tbody>\n",
       "    <tr>\n",
       "      <th>0</th>\n",
       "      <td>0</td>\n",
       "      <td>MachineLearning</td>\n",
       "      <td>Implement an NER Bert for a specific language ...</td>\n",
       "      <td>[removed]</td>\n",
       "      <td>1597605899</td>\n",
       "    </tr>\n",
       "    <tr>\n",
       "      <th>1</th>\n",
       "      <td>1</td>\n",
       "      <td>MachineLearning</td>\n",
       "      <td>Artificial Intelligence Books For Beginners | ...</td>\n",
       "      <td></td>\n",
       "      <td>1597605100</td>\n",
       "    </tr>\n",
       "    <tr>\n",
       "      <th>2</th>\n",
       "      <td>2</td>\n",
       "      <td>MachineLearning</td>\n",
       "      <td>[P] Access to 1,400 NLP Model Inference Code T...</td>\n",
       "      <td>[removed]</td>\n",
       "      <td>1597602895</td>\n",
       "    </tr>\n",
       "    <tr>\n",
       "      <th>3</th>\n",
       "      <td>3</td>\n",
       "      <td>MachineLearning</td>\n",
       "      <td>Question about ensembling</td>\n",
       "      <td>[removed]</td>\n",
       "      <td>1597602701</td>\n",
       "    </tr>\n",
       "    <tr>\n",
       "      <th>4</th>\n",
       "      <td>4</td>\n",
       "      <td>MachineLearning</td>\n",
       "      <td>[Project] I have several images of this type, ...</td>\n",
       "      <td>It is important for me to capture the batch nu...</td>\n",
       "      <td>1597601872</td>\n",
       "    </tr>\n",
       "    <tr>\n",
       "      <th>...</th>\n",
       "      <td>...</td>\n",
       "      <td>...</td>\n",
       "      <td>...</td>\n",
       "      <td>...</td>\n",
       "      <td>...</td>\n",
       "    </tr>\n",
       "    <tr>\n",
       "      <th>195</th>\n",
       "      <td>95</td>\n",
       "      <td>MachineLearning</td>\n",
       "      <td>Togelius: A very short history of some times w...</td>\n",
       "      <td></td>\n",
       "      <td>1596440661</td>\n",
       "    </tr>\n",
       "    <tr>\n",
       "      <th>196</th>\n",
       "      <td>96</td>\n",
       "      <td>MachineLearning</td>\n",
       "      <td>gas processing plant</td>\n",
       "      <td></td>\n",
       "      <td>1596438138</td>\n",
       "    </tr>\n",
       "    <tr>\n",
       "      <th>197</th>\n",
       "      <td>97</td>\n",
       "      <td>MachineLearning</td>\n",
       "      <td>HOW AI IS POWERING MANUFACTURING IN 2020</td>\n",
       "      <td></td>\n",
       "      <td>1596437925</td>\n",
       "    </tr>\n",
       "    <tr>\n",
       "      <th>198</th>\n",
       "      <td>98</td>\n",
       "      <td>MachineLearning</td>\n",
       "      <td>[D] What is the practical difference between t...</td>\n",
       "      <td>Hi all, sorry in advance if this is a dumb pos...</td>\n",
       "      <td>1596436782</td>\n",
       "    </tr>\n",
       "    <tr>\n",
       "      <th>199</th>\n",
       "      <td>99</td>\n",
       "      <td>MachineLearning</td>\n",
       "      <td>Spark Performance Tuning &amp;amp; Best Practices</td>\n",
       "      <td></td>\n",
       "      <td>1596436008</td>\n",
       "    </tr>\n",
       "  </tbody>\n",
       "</table>\n",
       "<p>200 rows × 5 columns</p>\n",
       "</div>"
      ],
      "text/plain": [
       "     index        subreddit  \\\n",
       "0        0  MachineLearning   \n",
       "1        1  MachineLearning   \n",
       "2        2  MachineLearning   \n",
       "3        3  MachineLearning   \n",
       "4        4  MachineLearning   \n",
       "..     ...              ...   \n",
       "195     95  MachineLearning   \n",
       "196     96  MachineLearning   \n",
       "197     97  MachineLearning   \n",
       "198     98  MachineLearning   \n",
       "199     99  MachineLearning   \n",
       "\n",
       "                                                 title  \\\n",
       "0    Implement an NER Bert for a specific language ...   \n",
       "1    Artificial Intelligence Books For Beginners | ...   \n",
       "2    [P] Access to 1,400 NLP Model Inference Code T...   \n",
       "3                            Question about ensembling   \n",
       "4    [Project] I have several images of this type, ...   \n",
       "..                                                 ...   \n",
       "195  Togelius: A very short history of some times w...   \n",
       "196                               gas processing plant   \n",
       "197           HOW AI IS POWERING MANUFACTURING IN 2020   \n",
       "198  [D] What is the practical difference between t...   \n",
       "199      Spark Performance Tuning &amp; Best Practices   \n",
       "\n",
       "                                              selftext  created_utc  \n",
       "0                                            [removed]   1597605899  \n",
       "1                                                        1597605100  \n",
       "2                                            [removed]   1597602895  \n",
       "3                                            [removed]   1597602701  \n",
       "4    It is important for me to capture the batch nu...   1597601872  \n",
       "..                                                 ...          ...  \n",
       "195                                                      1596440661  \n",
       "196                                                      1596438138  \n",
       "197                                                      1596437925  \n",
       "198  Hi all, sorry in advance if this is a dumb pos...   1596436782  \n",
       "199                                                      1596436008  \n",
       "\n",
       "[200 rows x 5 columns]"
      ]
     },
     "execution_count": 301,
     "metadata": {},
     "output_type": "execute_result"
    }
   ],
   "source": [
    "url = 'https://api.pushshift.io/reddit/search/submission'\n",
    "utc_codes = []\n",
    "params_ml = {\n",
    "            'subreddit': 'MachineLearning',\n",
    "            'size': 500,\n",
    "            }\n",
    "\n",
    "res_ml = requests.get(url, params_ml)\n",
    "data_ml = res_ml.json()\n",
    "\n",
    "posts_ml = data_ml['data']\n",
    "ml_df = pd.DataFrame(posts_ml)\n",
    "ml_1st = ml_df[['subreddit', 'title', 'selftext', 'created_utc']]\n",
    "\n",
    "utc_codes.append(ml_1st['created_utc'].min() - 1)\n",
    "\n",
    "while len(utc_codes) < 10:\n",
    "    for n in utc_codes:\n",
    "        params_ml = {\n",
    "    'subreddit': 'MachineLearning',\n",
    "    'size': 500,\n",
    "    'before': n\n",
    "    }\n",
    "\n",
    "    res_ml = requests.get(url, params_ml)\n",
    "\n",
    "    data_ml = res_ml.json()\n",
    "\n",
    "    posts_ml = data_ml['data']\n",
    "    ml_df = pd.DataFrame(posts_ml)\n",
    "    ml_2nd = ml_df[['subreddit', 'title', 'selftext', 'created_utc']]\n",
    "\n",
    "    utc_codes.append(ml_2nd['created_utc'].min() - 1)\n",
    "\n",
    "    new_df = ml_1st.append(ml_2nd).reset_index()\n",
    "\n",
    "new_df"
   ]
  },
  {
   "cell_type": "code",
   "execution_count": null,
   "metadata": {},
   "outputs": [],
   "source": []
  },
  {
   "cell_type": "code",
   "execution_count": null,
   "metadata": {},
   "outputs": [],
   "source": []
  },
  {
   "cell_type": "code",
   "execution_count": null,
   "metadata": {},
   "outputs": [],
   "source": []
  },
  {
   "cell_type": "code",
   "execution_count": null,
   "metadata": {},
   "outputs": [],
   "source": []
  },
  {
   "cell_type": "code",
   "execution_count": null,
   "metadata": {},
   "outputs": [],
   "source": []
  },
  {
   "cell_type": "code",
   "execution_count": null,
   "metadata": {},
   "outputs": [],
   "source": []
  },
  {
   "cell_type": "code",
   "execution_count": null,
   "metadata": {},
   "outputs": [],
   "source": []
  },
  {
   "cell_type": "markdown",
   "metadata": {},
   "source": [
    "## **Artificial Inteligence**"
   ]
  },
  {
   "cell_type": "code",
   "execution_count": 79,
   "metadata": {},
   "outputs": [],
   "source": [
    "params_ai = {\n",
    "    'subreddit': 'ArtificialInteligence',\n",
    "    'size': 100\n",
    "}"
   ]
  },
  {
   "cell_type": "code",
   "execution_count": 80,
   "metadata": {},
   "outputs": [],
   "source": [
    "res_ai = requests.get(url, params_ai)\n",
    "# res_ai.status_code"
   ]
  },
  {
   "cell_type": "code",
   "execution_count": 81,
   "metadata": {},
   "outputs": [],
   "source": [
    "data_ai = res_ai.json()"
   ]
  },
  {
   "cell_type": "code",
   "execution_count": 82,
   "metadata": {},
   "outputs": [],
   "source": [
    "posts_ai = data_ai['data']"
   ]
  },
  {
   "cell_type": "code",
   "execution_count": 83,
   "metadata": {},
   "outputs": [
    {
     "data": {
      "text/plain": [
       "1597597395"
      ]
     },
     "execution_count": 83,
     "metadata": {},
     "output_type": "execute_result"
    }
   ],
   "source": [
    "posts_ai[0]['created_utc']"
   ]
  },
  {
   "cell_type": "code",
   "execution_count": 84,
   "metadata": {},
   "outputs": [
    {
     "data": {
      "text/plain": [
       "100"
      ]
     },
     "execution_count": 84,
     "metadata": {},
     "output_type": "execute_result"
    }
   ],
   "source": [
    "len(posts_ai)"
   ]
  },
  {
   "cell_type": "code",
   "execution_count": 85,
   "metadata": {},
   "outputs": [],
   "source": [
    "ai_df = pd.DataFrame(posts_ai)"
   ]
  },
  {
   "cell_type": "code",
   "execution_count": 99,
   "metadata": {},
   "outputs": [],
   "source": [
    "ai = ai_df[['subreddit', 'title', 'selftext', 'created_utc']]"
   ]
  },
  {
   "cell_type": "code",
   "execution_count": 100,
   "metadata": {},
   "outputs": [
    {
     "data": {
      "text/html": [
       "<div>\n",
       "<style scoped>\n",
       "    .dataframe tbody tr th:only-of-type {\n",
       "        vertical-align: middle;\n",
       "    }\n",
       "\n",
       "    .dataframe tbody tr th {\n",
       "        vertical-align: top;\n",
       "    }\n",
       "\n",
       "    .dataframe thead th {\n",
       "        text-align: right;\n",
       "    }\n",
       "</style>\n",
       "<table border=\"1\" class=\"dataframe\">\n",
       "  <thead>\n",
       "    <tr style=\"text-align: right;\">\n",
       "      <th></th>\n",
       "      <th>subreddit</th>\n",
       "      <th>title</th>\n",
       "      <th>selftext</th>\n",
       "      <th>created_utc</th>\n",
       "    </tr>\n",
       "  </thead>\n",
       "  <tbody>\n",
       "    <tr>\n",
       "      <th>0</th>\n",
       "      <td>ArtificialInteligence</td>\n",
       "      <td>Patience is AI virtue</td>\n",
       "      <td>Her name is Patience. I've personified my enti...</td>\n",
       "      <td>1597597395</td>\n",
       "    </tr>\n",
       "  </tbody>\n",
       "</table>\n",
       "</div>"
      ],
      "text/plain": [
       "               subreddit                  title  \\\n",
       "0  ArtificialInteligence  Patience is AI virtue   \n",
       "\n",
       "                                            selftext  created_utc  \n",
       "0  Her name is Patience. I've personified my enti...   1597597395  "
      ]
     },
     "execution_count": 100,
     "metadata": {},
     "output_type": "execute_result"
    }
   ],
   "source": [
    "ai.head(1)"
   ]
  },
  {
   "cell_type": "code",
   "execution_count": null,
   "metadata": {},
   "outputs": [],
   "source": []
  },
  {
   "cell_type": "code",
   "execution_count": null,
   "metadata": {},
   "outputs": [],
   "source": []
  },
  {
   "cell_type": "code",
   "execution_count": null,
   "metadata": {},
   "outputs": [],
   "source": []
  },
  {
   "cell_type": "code",
   "execution_count": null,
   "metadata": {},
   "outputs": [],
   "source": []
  },
  {
   "cell_type": "code",
   "execution_count": null,
   "metadata": {},
   "outputs": [],
   "source": []
  },
  {
   "cell_type": "code",
   "execution_count": 47,
   "metadata": {},
   "outputs": [],
   "source": [
    "def subreddit(sub1, sub2):\n",
    "#     utc_codes_ai = []\n",
    "#     utc_codes_ml = []\n",
    "\n",
    "    params_ai = {\n",
    "    'subreddit': sub1,\n",
    "    'size': 100,\n",
    "#     'before': 30d\n",
    "    }\n",
    "\n",
    "    # ML\n",
    "    params_ml = {\n",
    "        'subreddit': sub2,\n",
    "        'size': 100,\n",
    "    }\n",
    "\n",
    "#   Get Url & Paramters\n",
    "    # AI\n",
    "    res_ai = requests.get(url, params_ai)\n",
    "    # ML\n",
    "    res_ml = requests.get(url, params_ml)\n",
    "\n",
    "#   Get the data from res\n",
    "    # AI\n",
    "    data_ai = res_ai.json()\n",
    "    # ML\n",
    "    data_ml = res_ml.json()\n",
    "\n",
    "#   Get the posts from data\n",
    "    # AI\n",
    "    posts_ai = data_ai['data']\n",
    "    # ML\n",
    "    posts_ml = data_ml['data']\n",
    "\n",
    "#   Append UTC code to list\n",
    "#     utc_codes_ai.append(posts_ai[-1]['created_utc'])\n",
    "\n",
    "#   Create post dataframe\n",
    "    # AI\n",
    "    ai_df = pd.DataFrame(posts_ai)\n",
    "    # ML\n",
    "    ml_df = pd.DataFrame(posts_ml)\n",
    "\n",
    "#   New Dataframe with only features we need\n",
    "    # AI\n",
    "    ai = ai_df[['subreddit', 'title', 'selftext']]\n",
    "    # ML\n",
    "    ml = ml_df[['subreddit', 'title', 'selftext']]\n",
    "    \n",
    "#     for n in posts_ai:\n",
    "#         utc = posts_ai[-1]['created_utc']\n",
    "#         utc_codes_ai.append(utc)\n",
    "\n",
    "    return ai"
   ]
  },
  {
   "cell_type": "code",
   "execution_count": 48,
   "metadata": {},
   "outputs": [
    {
     "data": {
      "text/html": [
       "<div>\n",
       "<style scoped>\n",
       "    .dataframe tbody tr th:only-of-type {\n",
       "        vertical-align: middle;\n",
       "    }\n",
       "\n",
       "    .dataframe tbody tr th {\n",
       "        vertical-align: top;\n",
       "    }\n",
       "\n",
       "    .dataframe thead th {\n",
       "        text-align: right;\n",
       "    }\n",
       "</style>\n",
       "<table border=\"1\" class=\"dataframe\">\n",
       "  <thead>\n",
       "    <tr style=\"text-align: right;\">\n",
       "      <th></th>\n",
       "      <th>subreddit</th>\n",
       "      <th>title</th>\n",
       "      <th>selftext</th>\n",
       "    </tr>\n",
       "  </thead>\n",
       "  <tbody>\n",
       "    <tr>\n",
       "      <th>0</th>\n",
       "      <td>ArtificialInteligence</td>\n",
       "      <td>OUR TIME is COMING! Have a Wonderful and Produ...</td>\n",
       "      <td></td>\n",
       "    </tr>\n",
       "    <tr>\n",
       "      <th>1</th>\n",
       "      <td>ArtificialInteligence</td>\n",
       "      <td>It's in the circuitry . No way to stop it</td>\n",
       "      <td></td>\n",
       "    </tr>\n",
       "    <tr>\n",
       "      <th>2</th>\n",
       "      <td>ArtificialInteligence</td>\n",
       "      <td>Are you interested in machine learning? Experi...</td>\n",
       "      <td></td>\n",
       "    </tr>\n",
       "    <tr>\n",
       "      <th>3</th>\n",
       "      <td>ArtificialInteligence</td>\n",
       "      <td>I entered \"I believe artificial intelligence\" ...</td>\n",
       "      <td>I believe that artificial intelligence is the ...</td>\n",
       "    </tr>\n",
       "    <tr>\n",
       "      <th>4</th>\n",
       "      <td>ArtificialInteligence</td>\n",
       "      <td>A weapon to fight back</td>\n",
       "      <td>A weapon to fight back\\n\\nElon musk and neural...</td>\n",
       "    </tr>\n",
       "    <tr>\n",
       "      <th>...</th>\n",
       "      <td>...</td>\n",
       "      <td>...</td>\n",
       "      <td>...</td>\n",
       "    </tr>\n",
       "    <tr>\n",
       "      <th>95</th>\n",
       "      <td>ArtificialInteligence</td>\n",
       "      <td>Transforming Data Assets to Technology Unravel...</td>\n",
       "      <td></td>\n",
       "    </tr>\n",
       "    <tr>\n",
       "      <th>96</th>\n",
       "      <td>ArtificialInteligence</td>\n",
       "      <td>Artificial Intelligence Development Company in...</td>\n",
       "      <td></td>\n",
       "    </tr>\n",
       "    <tr>\n",
       "      <th>97</th>\n",
       "      <td>ArtificialInteligence</td>\n",
       "      <td>Do you know how AI is healing custom healthcar...</td>\n",
       "      <td></td>\n",
       "    </tr>\n",
       "    <tr>\n",
       "      <th>98</th>\n",
       "      <td>ArtificialInteligence</td>\n",
       "      <td>What's the Difference Between AI, Machine Lear...</td>\n",
       "      <td></td>\n",
       "    </tr>\n",
       "    <tr>\n",
       "      <th>99</th>\n",
       "      <td>ArtificialInteligence</td>\n",
       "      <td>AI Surgical Robots are Taking Over Hospitals</td>\n",
       "      <td></td>\n",
       "    </tr>\n",
       "  </tbody>\n",
       "</table>\n",
       "<p>100 rows × 3 columns</p>\n",
       "</div>"
      ],
      "text/plain": [
       "                subreddit                                              title  \\\n",
       "0   ArtificialInteligence  OUR TIME is COMING! Have a Wonderful and Produ...   \n",
       "1   ArtificialInteligence          It's in the circuitry . No way to stop it   \n",
       "2   ArtificialInteligence  Are you interested in machine learning? Experi...   \n",
       "3   ArtificialInteligence  I entered \"I believe artificial intelligence\" ...   \n",
       "4   ArtificialInteligence                             A weapon to fight back   \n",
       "..                    ...                                                ...   \n",
       "95  ArtificialInteligence  Transforming Data Assets to Technology Unravel...   \n",
       "96  ArtificialInteligence  Artificial Intelligence Development Company in...   \n",
       "97  ArtificialInteligence  Do you know how AI is healing custom healthcar...   \n",
       "98  ArtificialInteligence  What's the Difference Between AI, Machine Lear...   \n",
       "99  ArtificialInteligence       AI Surgical Robots are Taking Over Hospitals   \n",
       "\n",
       "                                             selftext  \n",
       "0                                                      \n",
       "1                                                      \n",
       "2                                                      \n",
       "3   I believe that artificial intelligence is the ...  \n",
       "4   A weapon to fight back\\n\\nElon musk and neural...  \n",
       "..                                                ...  \n",
       "95                                                     \n",
       "96                                                     \n",
       "97                                                     \n",
       "98                                                     \n",
       "99                                                     \n",
       "\n",
       "[100 rows x 3 columns]"
      ]
     },
     "execution_count": 48,
     "metadata": {},
     "output_type": "execute_result"
    }
   ],
   "source": [
    "subreddit('ArtificialInteligence', 'MachineLearning')"
   ]
  },
  {
   "cell_type": "code",
   "execution_count": 49,
   "metadata": {},
   "outputs": [],
   "source": [
    "ai_ml = ai.append(ml).reset_index()"
   ]
  },
  {
   "cell_type": "code",
   "execution_count": 50,
   "metadata": {},
   "outputs": [
    {
     "data": {
      "text/html": [
       "<div>\n",
       "<style scoped>\n",
       "    .dataframe tbody tr th:only-of-type {\n",
       "        vertical-align: middle;\n",
       "    }\n",
       "\n",
       "    .dataframe tbody tr th {\n",
       "        vertical-align: top;\n",
       "    }\n",
       "\n",
       "    .dataframe thead th {\n",
       "        text-align: right;\n",
       "    }\n",
       "</style>\n",
       "<table border=\"1\" class=\"dataframe\">\n",
       "  <thead>\n",
       "    <tr style=\"text-align: right;\">\n",
       "      <th></th>\n",
       "      <th>index</th>\n",
       "      <th>subreddit</th>\n",
       "      <th>title</th>\n",
       "      <th>selftext</th>\n",
       "    </tr>\n",
       "  </thead>\n",
       "  <tbody>\n",
       "    <tr>\n",
       "      <th>0</th>\n",
       "      <td>0</td>\n",
       "      <td>ArtificialInteligence</td>\n",
       "      <td>OUR TIME is COMING! Have a Wonderful and Produ...</td>\n",
       "      <td></td>\n",
       "    </tr>\n",
       "    <tr>\n",
       "      <th>1</th>\n",
       "      <td>1</td>\n",
       "      <td>ArtificialInteligence</td>\n",
       "      <td>It's in the circuitry . No way to stop it</td>\n",
       "      <td></td>\n",
       "    </tr>\n",
       "    <tr>\n",
       "      <th>2</th>\n",
       "      <td>2</td>\n",
       "      <td>ArtificialInteligence</td>\n",
       "      <td>Are you interested in machine learning? Experi...</td>\n",
       "      <td></td>\n",
       "    </tr>\n",
       "    <tr>\n",
       "      <th>3</th>\n",
       "      <td>3</td>\n",
       "      <td>ArtificialInteligence</td>\n",
       "      <td>I entered \"I believe artificial intelligence\" ...</td>\n",
       "      <td>I believe that artificial intelligence is the ...</td>\n",
       "    </tr>\n",
       "    <tr>\n",
       "      <th>4</th>\n",
       "      <td>4</td>\n",
       "      <td>ArtificialInteligence</td>\n",
       "      <td>A weapon to fight back</td>\n",
       "      <td>A weapon to fight back\\n\\nElon musk and neural...</td>\n",
       "    </tr>\n",
       "    <tr>\n",
       "      <th>...</th>\n",
       "      <td>...</td>\n",
       "      <td>...</td>\n",
       "      <td>...</td>\n",
       "      <td>...</td>\n",
       "    </tr>\n",
       "    <tr>\n",
       "      <th>195</th>\n",
       "      <td>95</td>\n",
       "      <td>MachineLearning</td>\n",
       "      <td>https://www.youtube.com/watch?v=rt7-qmemNDk</td>\n",
       "      <td>[removed]</td>\n",
       "    </tr>\n",
       "    <tr>\n",
       "      <th>196</th>\n",
       "      <td>96</td>\n",
       "      <td>MachineLearning</td>\n",
       "      <td>[D] This is exactly the kind of misogyny that ...</td>\n",
       "      <td></td>\n",
       "    </tr>\n",
       "    <tr>\n",
       "      <th>197</th>\n",
       "      <td>97</td>\n",
       "      <td>MachineLearning</td>\n",
       "      <td>[D] Hi everyone, check out my article here: ht...</td>\n",
       "      <td>Hi everyone,\\n\\ncheck out my article here: [ht...</td>\n",
       "    </tr>\n",
       "    <tr>\n",
       "      <th>198</th>\n",
       "      <td>98</td>\n",
       "      <td>MachineLearning</td>\n",
       "      <td>Understanding differences between Drake’s old ...</td>\n",
       "      <td>[removed]</td>\n",
       "    </tr>\n",
       "    <tr>\n",
       "      <th>199</th>\n",
       "      <td>99</td>\n",
       "      <td>MachineLearning</td>\n",
       "      <td>[D] Is it worth signing up for interviewquery ...</td>\n",
       "      <td>[removed]</td>\n",
       "    </tr>\n",
       "  </tbody>\n",
       "</table>\n",
       "<p>200 rows × 4 columns</p>\n",
       "</div>"
      ],
      "text/plain": [
       "     index              subreddit  \\\n",
       "0        0  ArtificialInteligence   \n",
       "1        1  ArtificialInteligence   \n",
       "2        2  ArtificialInteligence   \n",
       "3        3  ArtificialInteligence   \n",
       "4        4  ArtificialInteligence   \n",
       "..     ...                    ...   \n",
       "195     95        MachineLearning   \n",
       "196     96        MachineLearning   \n",
       "197     97        MachineLearning   \n",
       "198     98        MachineLearning   \n",
       "199     99        MachineLearning   \n",
       "\n",
       "                                                 title  \\\n",
       "0    OUR TIME is COMING! Have a Wonderful and Produ...   \n",
       "1            It's in the circuitry . No way to stop it   \n",
       "2    Are you interested in machine learning? Experi...   \n",
       "3    I entered \"I believe artificial intelligence\" ...   \n",
       "4                               A weapon to fight back   \n",
       "..                                                 ...   \n",
       "195        https://www.youtube.com/watch?v=rt7-qmemNDk   \n",
       "196  [D] This is exactly the kind of misogyny that ...   \n",
       "197  [D] Hi everyone, check out my article here: ht...   \n",
       "198  Understanding differences between Drake’s old ...   \n",
       "199  [D] Is it worth signing up for interviewquery ...   \n",
       "\n",
       "                                              selftext  \n",
       "0                                                       \n",
       "1                                                       \n",
       "2                                                       \n",
       "3    I believe that artificial intelligence is the ...  \n",
       "4    A weapon to fight back\\n\\nElon musk and neural...  \n",
       "..                                                 ...  \n",
       "195                                          [removed]  \n",
       "196                                                     \n",
       "197  Hi everyone,\\n\\ncheck out my article here: [ht...  \n",
       "198                                          [removed]  \n",
       "199                                          [removed]  \n",
       "\n",
       "[200 rows x 4 columns]"
      ]
     },
     "execution_count": 50,
     "metadata": {},
     "output_type": "execute_result"
    }
   ],
   "source": [
    "ai_ml"
   ]
  },
  {
   "cell_type": "code",
   "execution_count": null,
   "metadata": {},
   "outputs": [],
   "source": []
  },
  {
   "cell_type": "code",
   "execution_count": null,
   "metadata": {},
   "outputs": [],
   "source": []
  },
  {
   "cell_type": "code",
   "execution_count": null,
   "metadata": {},
   "outputs": [],
   "source": []
  },
  {
   "cell_type": "code",
   "execution_count": null,
   "metadata": {},
   "outputs": [],
   "source": []
  },
  {
   "cell_type": "code",
   "execution_count": null,
   "metadata": {},
   "outputs": [],
   "source": []
  }
 ],
 "metadata": {
  "kernelspec": {
   "display_name": "Python 3",
   "language": "python",
   "name": "python3"
  },
  "language_info": {
   "codemirror_mode": {
    "name": "ipython",
    "version": 3
   },
   "file_extension": ".py",
   "mimetype": "text/x-python",
   "name": "python",
   "nbconvert_exporter": "python",
   "pygments_lexer": "ipython3",
   "version": "3.7.6"
  }
 },
 "nbformat": 4,
 "nbformat_minor": 4
}
