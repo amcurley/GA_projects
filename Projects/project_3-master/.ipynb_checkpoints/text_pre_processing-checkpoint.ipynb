{
 "cells": [
  {
   "cell_type": "markdown",
   "metadata": {},
   "source": [
    "## **Import Libraries**"
   ]
  },
  {
   "cell_type": "code",
   "execution_count": 55,
   "metadata": {},
   "outputs": [],
   "source": [
    "import pandas as pd\n",
    "import re\n",
    "import nltk\n",
    "from nltk.stem import WordNetLemmatizer\n",
    "from nltk.tokenize import RegexpTokenizer\n",
    "from sklearn.model_selection import train_test_split\n",
    "from bs4 import BeautifulSoup       \n",
    "from nltk.corpus import stopwords"
   ]
  },
  {
   "cell_type": "markdown",
   "metadata": {},
   "source": [
    "## **Import Dataframes**"
   ]
  },
  {
   "cell_type": "code",
   "execution_count": 87,
   "metadata": {},
   "outputs": [],
   "source": [
    "data_ai = pd.read_csv('../project_3-master/data/data_ai.csv')\n",
    "data_ml = pd.read_csv('../project_3-master/data/data_ml.csv')"
   ]
  },
  {
   "cell_type": "code",
   "execution_count": 88,
   "metadata": {},
   "outputs": [
    {
     "data": {
      "text/html": [
       "<div>\n",
       "<style scoped>\n",
       "    .dataframe tbody tr th:only-of-type {\n",
       "        vertical-align: middle;\n",
       "    }\n",
       "\n",
       "    .dataframe tbody tr th {\n",
       "        vertical-align: top;\n",
       "    }\n",
       "\n",
       "    .dataframe thead th {\n",
       "        text-align: right;\n",
       "    }\n",
       "</style>\n",
       "<table border=\"1\" class=\"dataframe\">\n",
       "  <thead>\n",
       "    <tr style=\"text-align: right;\">\n",
       "      <th></th>\n",
       "      <th>subreddit</th>\n",
       "      <th>title</th>\n",
       "      <th>selftext</th>\n",
       "    </tr>\n",
       "  </thead>\n",
       "  <tbody>\n",
       "    <tr>\n",
       "      <th>0</th>\n",
       "      <td>ArtificialInteligence</td>\n",
       "      <td>How MSMEs Manipulates Marketing Strategies for...</td>\n",
       "      <td>NaN</td>\n",
       "    </tr>\n",
       "    <tr>\n",
       "      <th>1</th>\n",
       "      <td>ArtificialInteligence</td>\n",
       "      <td>Digital marketing trends that Paves the Way of...</td>\n",
       "      <td>NaN</td>\n",
       "    </tr>\n",
       "    <tr>\n",
       "      <th>2</th>\n",
       "      <td>ArtificialInteligence</td>\n",
       "      <td>How to Boost Your Team’s Performance and Produ...</td>\n",
       "      <td>NaN</td>\n",
       "    </tr>\n",
       "    <tr>\n",
       "      <th>3</th>\n",
       "      <td>ArtificialInteligence</td>\n",
       "      <td>How is Artificial Intelligence Bringing Pivota...</td>\n",
       "      <td>NaN</td>\n",
       "    </tr>\n",
       "    <tr>\n",
       "      <th>4</th>\n",
       "      <td>ArtificialInteligence</td>\n",
       "      <td>Very promising and developing project. Modern ...</td>\n",
       "      <td>NaN</td>\n",
       "    </tr>\n",
       "  </tbody>\n",
       "</table>\n",
       "</div>"
      ],
      "text/plain": [
       "               subreddit                                              title  \\\n",
       "0  ArtificialInteligence  How MSMEs Manipulates Marketing Strategies for...   \n",
       "1  ArtificialInteligence  Digital marketing trends that Paves the Way of...   \n",
       "2  ArtificialInteligence  How to Boost Your Team’s Performance and Produ...   \n",
       "3  ArtificialInteligence  How is Artificial Intelligence Bringing Pivota...   \n",
       "4  ArtificialInteligence  Very promising and developing project. Modern ...   \n",
       "\n",
       "  selftext  \n",
       "0      NaN  \n",
       "1      NaN  \n",
       "2      NaN  \n",
       "3      NaN  \n",
       "4      NaN  "
      ]
     },
     "execution_count": 88,
     "metadata": {},
     "output_type": "execute_result"
    }
   ],
   "source": [
    "data_ai.head()"
   ]
  },
  {
   "cell_type": "markdown",
   "metadata": {},
   "source": [
    "## **Merge the Data**"
   ]
  },
  {
   "cell_type": "code",
   "execution_count": 92,
   "metadata": {},
   "outputs": [],
   "source": [
    "df = data_ai.append(data_ml).reset_index()"
   ]
  },
  {
   "cell_type": "code",
   "execution_count": 95,
   "metadata": {},
   "outputs": [],
   "source": [
    "df.drop(columns='index',inplace=True)"
   ]
  },
  {
   "cell_type": "code",
   "execution_count": 97,
   "metadata": {},
   "outputs": [
    {
     "data": {
      "text/html": [
       "<div>\n",
       "<style scoped>\n",
       "    .dataframe tbody tr th:only-of-type {\n",
       "        vertical-align: middle;\n",
       "    }\n",
       "\n",
       "    .dataframe tbody tr th {\n",
       "        vertical-align: top;\n",
       "    }\n",
       "\n",
       "    .dataframe thead th {\n",
       "        text-align: right;\n",
       "    }\n",
       "</style>\n",
       "<table border=\"1\" class=\"dataframe\">\n",
       "  <thead>\n",
       "    <tr style=\"text-align: right;\">\n",
       "      <th></th>\n",
       "      <th>subreddit</th>\n",
       "      <th>title</th>\n",
       "      <th>selftext</th>\n",
       "    </tr>\n",
       "  </thead>\n",
       "  <tbody>\n",
       "    <tr>\n",
       "      <th>0</th>\n",
       "      <td>ArtificialInteligence</td>\n",
       "      <td>How MSMEs Manipulates Marketing Strategies for...</td>\n",
       "      <td>NaN</td>\n",
       "    </tr>\n",
       "    <tr>\n",
       "      <th>1</th>\n",
       "      <td>ArtificialInteligence</td>\n",
       "      <td>Digital marketing trends that Paves the Way of...</td>\n",
       "      <td>NaN</td>\n",
       "    </tr>\n",
       "    <tr>\n",
       "      <th>2</th>\n",
       "      <td>ArtificialInteligence</td>\n",
       "      <td>How to Boost Your Team’s Performance and Produ...</td>\n",
       "      <td>NaN</td>\n",
       "    </tr>\n",
       "    <tr>\n",
       "      <th>3</th>\n",
       "      <td>ArtificialInteligence</td>\n",
       "      <td>How is Artificial Intelligence Bringing Pivota...</td>\n",
       "      <td>NaN</td>\n",
       "    </tr>\n",
       "    <tr>\n",
       "      <th>4</th>\n",
       "      <td>ArtificialInteligence</td>\n",
       "      <td>Very promising and developing project. Modern ...</td>\n",
       "      <td>NaN</td>\n",
       "    </tr>\n",
       "  </tbody>\n",
       "</table>\n",
       "</div>"
      ],
      "text/plain": [
       "               subreddit                                              title  \\\n",
       "0  ArtificialInteligence  How MSMEs Manipulates Marketing Strategies for...   \n",
       "1  ArtificialInteligence  Digital marketing trends that Paves the Way of...   \n",
       "2  ArtificialInteligence  How to Boost Your Team’s Performance and Produ...   \n",
       "3  ArtificialInteligence  How is Artificial Intelligence Bringing Pivota...   \n",
       "4  ArtificialInteligence  Very promising and developing project. Modern ...   \n",
       "\n",
       "  selftext  \n",
       "0      NaN  \n",
       "1      NaN  \n",
       "2      NaN  \n",
       "3      NaN  \n",
       "4      NaN  "
      ]
     },
     "execution_count": 97,
     "metadata": {},
     "output_type": "execute_result"
    }
   ],
   "source": [
    "df.head()"
   ]
  },
  {
   "cell_type": "code",
   "execution_count": 99,
   "metadata": {},
   "outputs": [
    {
     "data": {
      "text/plain": [
       "subreddit        0\n",
       "title            0\n",
       "selftext     13652\n",
       "dtype: int64"
      ]
     },
     "execution_count": 99,
     "metadata": {},
     "output_type": "execute_result"
    }
   ],
   "source": [
    "df.isnull().sum()"
   ]
  },
  {
   "cell_type": "markdown",
   "metadata": {},
   "source": [
    "**Let's see what a title might look like:**"
   ]
  },
  {
   "cell_type": "code",
   "execution_count": 100,
   "metadata": {},
   "outputs": [
    {
     "data": {
      "text/plain": [
       "'How MSMEs Manipulates Marketing Strategies for Success https://onpassive.pt/how-msmes-manipulates-marketing-strategies-for-success/?feed_id=14768&amp;_unique_id=5f3a974c04f3e'"
      ]
     },
     "execution_count": 100,
     "metadata": {},
     "output_type": "execute_result"
    }
   ],
   "source": [
    "df['title'][0]"
   ]
  },
  {
   "cell_type": "markdown",
   "metadata": {},
   "source": [
    "## **Train/Test Split**"
   ]
  },
  {
   "cell_type": "code",
   "execution_count": 101,
   "metadata": {},
   "outputs": [],
   "source": [
    "X = df[['title']]\n",
    "y = df['subreddit']"
   ]
  },
  {
   "cell_type": "code",
   "execution_count": 102,
   "metadata": {},
   "outputs": [
    {
     "data": {
      "text/html": [
       "<div>\n",
       "<style scoped>\n",
       "    .dataframe tbody tr th:only-of-type {\n",
       "        vertical-align: middle;\n",
       "    }\n",
       "\n",
       "    .dataframe tbody tr th {\n",
       "        vertical-align: top;\n",
       "    }\n",
       "\n",
       "    .dataframe thead th {\n",
       "        text-align: right;\n",
       "    }\n",
       "</style>\n",
       "<table border=\"1\" class=\"dataframe\">\n",
       "  <thead>\n",
       "    <tr style=\"text-align: right;\">\n",
       "      <th></th>\n",
       "      <th>title</th>\n",
       "    </tr>\n",
       "  </thead>\n",
       "  <tbody>\n",
       "    <tr>\n",
       "      <th>0</th>\n",
       "      <td>How MSMEs Manipulates Marketing Strategies for...</td>\n",
       "    </tr>\n",
       "  </tbody>\n",
       "</table>\n",
       "</div>"
      ],
      "text/plain": [
       "                                               title\n",
       "0  How MSMEs Manipulates Marketing Strategies for..."
      ]
     },
     "execution_count": 102,
     "metadata": {},
     "output_type": "execute_result"
    }
   ],
   "source": [
    "X.head(1)"
   ]
  },
  {
   "cell_type": "code",
   "execution_count": 103,
   "metadata": {},
   "outputs": [
    {
     "data": {
      "text/plain": [
       "(27986, 1)"
      ]
     },
     "execution_count": 103,
     "metadata": {},
     "output_type": "execute_result"
    }
   ],
   "source": [
    "X.shape"
   ]
  },
  {
   "cell_type": "code",
   "execution_count": 104,
   "metadata": {},
   "outputs": [
    {
     "data": {
      "text/plain": [
       "(27986,)"
      ]
     },
     "execution_count": 104,
     "metadata": {},
     "output_type": "execute_result"
    }
   ],
   "source": [
    "y.shape"
   ]
  },
  {
   "cell_type": "code",
   "execution_count": 105,
   "metadata": {},
   "outputs": [],
   "source": [
    "# Train Test Split\n",
    "X_train, X_test, y_train, y_test = train_test_split(X, y, stratify=y, random_state=42)"
   ]
  },
  {
   "cell_type": "code",
   "execution_count": 106,
   "metadata": {},
   "outputs": [
    {
     "name": "stdout",
     "output_type": "stream",
     "text": [
      "(20989, 1)\n",
      "(6997, 1)\n",
      "(20989,)\n",
      "(6997,)\n"
     ]
    }
   ],
   "source": [
    "print(X_train.shape)\n",
    "print(X_test.shape)\n",
    "print(y_train.shape)\n",
    "print(y_test.shape)\n"
   ]
  },
  {
   "cell_type": "code",
   "execution_count": 107,
   "metadata": {},
   "outputs": [
    {
     "data": {
      "text/plain": [
       "8909     How Artificial Intelligence Has Transformed Ba...\n",
       "18689                                      NLP Theoretical\n",
       "20762            [D] Help me choosing the best valued GPU.\n",
       "18314    Machine Learning in Materials Modeling -- Fund...\n",
       "16651    Perceptron Learning Algorithm Explained in Detail\n",
       "                               ...                        \n",
       "17787                  MLPs to Find Extrema of Functionals\n",
       "21793    [R] Speeding Up Neural Network Training with D...\n",
       "7063           Filter Out Your Data With Today's Simple AI\n",
       "16868    [R] Style-Controllable Speech-Driven Gesture S...\n",
       "22904    Is there a Python version of Dr. Koller's Prob...\n",
       "Name: title, Length: 20989, dtype: object"
      ]
     },
     "execution_count": 107,
     "metadata": {},
     "output_type": "execute_result"
    }
   ],
   "source": [
    "X_train['title']"
   ]
  },
  {
   "cell_type": "markdown",
   "metadata": {},
   "source": [
    "## **Function for Cleaning**"
   ]
  },
  {
   "cell_type": "code",
   "execution_count": 118,
   "metadata": {},
   "outputs": [],
   "source": [
    "def review_to_words(raw_review):\n",
    "    # Function to convert a raw review to a string of words\n",
    "    # The input is a single string (a raw movie review), and \n",
    "    # the output is a single string (a preprocessed movie review)\n",
    "    \n",
    "    # 1. Remove HTML.\n",
    "    review_text = raw_review\n",
    "#     BeautifulSoup(raw_review).get_text()\n",
    "    \n",
    "    # 2. Remove non-letters.\n",
    "    letters_only = re.sub(\"[^a-zA-Z]\", \" \", review_text)\n",
    "    \n",
    "    # 3. Convert to lower case, split into individual words.\n",
    "    words = letters_only.lower().split()\n",
    "    \n",
    "    # 4. In Python, searching a set is much faster than searching\n",
    "    # a list, so convert the stop words to a set.\n",
    "    stops = set(stopwords.words('english'))\n",
    "    \n",
    "    # 5. Remove stop words.\n",
    "    meaningful_words = [w for w in words if not w in stops]\n",
    "    \n",
    "    # 6. Join the words back into one string separated by space, \n",
    "    # and return the result.\n",
    "    return(\" \".join(meaningful_words))"
   ]
  },
  {
   "cell_type": "code",
   "execution_count": 119,
   "metadata": {},
   "outputs": [
    {
     "name": "stdout",
     "output_type": "stream",
     "text": [
      "There are 27986 titles.\n"
     ]
    }
   ],
   "source": [
    "# Get the number of reviews based on the dataframe size.\n",
    "total_titles = df.shape[0]\n",
    "print(f'There are {total_titles} titles.')\n",
    "\n",
    "# Initialize an empty list to hold the clean reviews.\n",
    "clean_train_titles = []\n",
    "clean_test_titles = []"
   ]
  },
  {
   "cell_type": "code",
   "execution_count": 120,
   "metadata": {},
   "outputs": [
    {
     "name": "stdout",
     "output_type": "stream",
     "text": [
      "Cleaning and parsing the training set for titles...\n",
      "Review 1000 of 27986.\n",
      "Review 2000 of 27986.\n",
      "Review 3000 of 27986.\n",
      "Review 4000 of 27986.\n",
      "Review 5000 of 27986.\n",
      "Review 6000 of 27986.\n",
      "Review 7000 of 27986.\n",
      "Review 8000 of 27986.\n",
      "Review 9000 of 27986.\n",
      "Review 10000 of 27986.\n",
      "Review 11000 of 27986.\n",
      "Review 12000 of 27986.\n",
      "Review 13000 of 27986.\n",
      "Review 14000 of 27986.\n",
      "Review 15000 of 27986.\n",
      "Review 16000 of 27986.\n",
      "Review 17000 of 27986.\n",
      "Review 18000 of 27986.\n",
      "Review 19000 of 27986.\n",
      "Review 20000 of 27986.\n",
      "Cleaning and parsing the testing set for titles...\n",
      "Review 21000 of 27986.\n",
      "Review 22000 of 27986.\n",
      "Review 23000 of 27986.\n",
      "Review 24000 of 27986.\n",
      "Review 25000 of 27986.\n",
      "Review 26000 of 27986.\n",
      "Review 27000 of 27986.\n"
     ]
    }
   ],
   "source": [
    "print(\"Cleaning and parsing the training set for titles...\")\n",
    "\n",
    "j = 0\n",
    "\n",
    "for train_title in X_train['title']:\n",
    "    # Convert review to words, then append to clean_train_reviews.\n",
    "    clean_train_titles.append(review_to_words(train_title))\n",
    "    \n",
    "    # If the index is divisible by 1000, print a message\n",
    "    if (j + 1) % 1000 == 0:\n",
    "        print(f'Review {j + 1} of {total_titles}.')\n",
    "    \n",
    "    j += 1\n",
    "\n",
    "# Let's do the same for our testing set.\n",
    "\n",
    "print(\"Cleaning and parsing the testing set for titles...\")\n",
    "\n",
    "for test_title in X_test['title']:\n",
    "    # Convert review to words, then append to clean_train_reviews.\n",
    "    clean_test_titles.append(review_to_words(test_title))\n",
    "    \n",
    "    # If the index is divisible by 1000, print a message\n",
    "    if (j + 1) % 1000 == 0:\n",
    "        print(f'Review {j + 1} of {total_titles}.')\n",
    "        \n",
    "    j += 1"
   ]
  },
  {
   "cell_type": "code",
   "execution_count": 121,
   "metadata": {},
   "outputs": [
    {
     "data": {
      "text/plain": [
       "20989"
      ]
     },
     "execution_count": 121,
     "metadata": {},
     "output_type": "execute_result"
    }
   ],
   "source": [
    "len(clean_train_titles)"
   ]
  },
  {
   "cell_type": "code",
   "execution_count": 122,
   "metadata": {},
   "outputs": [
    {
     "data": {
      "text/plain": [
       "6997"
      ]
     },
     "execution_count": 122,
     "metadata": {},
     "output_type": "execute_result"
    }
   ],
   "source": [
    "len(clean_test_titles)"
   ]
  },
  {
   "cell_type": "code",
   "execution_count": 127,
   "metadata": {},
   "outputs": [],
   "source": [
    "from sklearn.feature_extraction.text import CountVectorizer"
   ]
  },
  {
   "cell_type": "code",
   "execution_count": 129,
   "metadata": {},
   "outputs": [],
   "source": [
    "# Instantiate the \"CountVectorizer\" object, which is scikit-learn's bag of words tool\n",
    "vectorizer = CountVectorizer(analyzer = \"word\",\n",
    "                             tokenizer = None,\n",
    "                             preprocessor = None,\n",
    "                             stop_words = None,\n",
    "                             max_features = 5000)"
   ]
  },
  {
   "cell_type": "code",
   "execution_count": 130,
   "metadata": {},
   "outputs": [],
   "source": [
    "# fit_transform() does two functions: First, it fits the model\n",
    "# and learns the vocabulary; second, it transforms our training data\n",
    "# into feature vectors. The input to fit_transform should be a list of \n",
    "# strings.\n",
    "\n",
    "train_data_features = vectorizer.fit_transform(clean_train_titles)\n",
    "\n",
    "test_data_features = vectorizer.transform(clean_test_titles)\n",
    "\n",
    "# Numpy arrays are easy to work with, so convert the result to an \n",
    "# array.\n",
    "train_data_features = train_data_features.toarray()"
   ]
  },
  {
   "cell_type": "code",
   "execution_count": 131,
   "metadata": {},
   "outputs": [
    {
     "name": "stdout",
     "output_type": "stream",
     "text": [
      "(20989, 5000)\n"
     ]
    }
   ],
   "source": [
    "print(train_data_features.shape)"
   ]
  },
  {
   "cell_type": "code",
   "execution_count": 132,
   "metadata": {},
   "outputs": [
    {
     "name": "stdout",
     "output_type": "stream",
     "text": [
      "(6997, 5000)\n"
     ]
    }
   ],
   "source": [
    "print(test_data_features.shape)"
   ]
  },
  {
   "cell_type": "code",
   "execution_count": 133,
   "metadata": {},
   "outputs": [
    {
     "data": {
      "text/plain": [
       "array([[0, 0, 0, ..., 0, 0, 0],\n",
       "       [0, 0, 0, ..., 0, 0, 0],\n",
       "       [0, 0, 0, ..., 0, 0, 0],\n",
       "       [0, 0, 0, ..., 0, 0, 0],\n",
       "       [0, 0, 0, ..., 0, 0, 0],\n",
       "       [0, 0, 0, ..., 0, 0, 0]])"
      ]
     },
     "execution_count": 133,
     "metadata": {},
     "output_type": "execute_result"
    }
   ],
   "source": [
    "train_data_features[0:6]"
   ]
  },
  {
   "cell_type": "code",
   "execution_count": 134,
   "metadata": {},
   "outputs": [
    {
     "name": "stdout",
     "output_type": "stream",
     "text": [
      "['aa', 'aaai', 'ab', 'abbreviations', 'abdellah', 'abhishek', 'ability', 'able', 'absolute', 'abstract', 'abstractive', 'abu', 'ac', 'academia', 'academic', 'academy', 'acai', 'accelerate', 'accelerated', 'accelerates', 'accelerating', 'acceleration', 'accelerator', 'accept', 'acceptance', 'accepted', 'access', 'accessible', 'according', 'account', 'accounting', 'accounts', 'accuracy', 'accurate', 'accurately', 'ace', 'achieve', 'achieved', 'achieves', 'achieving', 'achulifur', 'acl', 'acm', 'acme', 'acoustic', 'acquire', 'acquires', 'acquiring', 'acquisition', 'acquisitions', 'across', 'act', 'action', 'actionable', 'actions', 'activate', 'activation', 'active', 'activities', 'activity', 'actor', 'acts', 'actual', 'actually', 'acuvate', 'ad', 'adam', 'adapt', 'adaptation', 'adapting', 'adaptive', 'add', 'added', 'adding', 'addition', 'address', 'addressing', 'adds', 'adjusting', 'admissions', 'admit', 'admitted', 'adobe', 'adopt', 'adopted', 'adopting', 'adoption', 'ads', 'advance', 'advanced', 'advancement', 'advancements', 'advances', 'advancing', 'advantage', 'advantages', 'adversarial', 'adversarially', 'adverse', 'advertising', 'advice', 'advise', 'advisor', 'ae', 'aerial', 'af', 'affect', 'affected', 'affecting', 'africa', 'ag', 'age', 'agencies', 'agency', 'agent', 'agents', 'aggregate', 'aggregated', 'aggregation', 'aggregator', 'agi', 'agile', 'aging', 'agnostic', 'ago', 'agree', 'agricultural', 'agriculture', 'ahead', 'ai', 'aid', 'aigents', 'aim', 'aims', 'aiops', 'aiot', 'air', 'aircraft', 'aire', 'airflow', 'airo', 'ais', 'aka', 'al', 'alan', 'albert', 'alberta', 'alex', 'alexa', 'alexnet', 'algebra', 'algo', 'algorithm', 'algorithmic', 'algorithms', 'algos', 'alibaba', 'alien', 'alignment', 'alive', 'allen', 'allennlp', 'allocation', 'allow', 'allows', 'almost', 'along', 'alpha', 'alphabet', 'alphago', 'alphastar', 'alphazero', 'alpr', 'already', 'also', 'altair', 'alternative', 'alternatives', 'alto', 'always', 'alzheimer', 'ama', 'amateur', 'amazing', 'amazingly', 'amazon', 'ambient', 'ambitious', 'amd', 'ameen', 'america', 'american', 'amid', 'aml', 'among', 'amount', 'amp', 'amplifying', 'amsterdam', 'anaconda', 'analogy', 'analyse', 'analysis', 'analyst', 'analytics', 'analyze', 'analyzing', 'anatomy', 'anchor', 'andrew', 'android', 'angel', 'animal', 'animals', 'animated', 'animates', 'animation', 'anime', 'ann', 'annealing', 'anniversary', 'annotated', 'annotation', 'annotations', 'announce', 'announced', 'announcement', 'announces', 'announcing', 'anns', 'anomalies', 'anomaly', 'another', 'answer', 'answered', 'answering', 'answers', 'anti', 'antibiotic', 'antibiotics', 'anticipating', 'anybody', 'anyone', 'anything', 'anywhere', 'ap', 'apac', 'apache', 'apart', 'api', 'apis', 'apocalypse', 'apollo', 'app', 'appendix', 'apple', 'application', 'applications', 'applied', 'apply', 'applying', 'appreciate', 'appreciated', 'approach', 'approaches', 'approaching', 'appropriate', 'approved', 'apps', 'april', 'ar', 'arbitrary', 'architecture', 'architectures', 'arduino', 'area', 'areas', 'arena', 'argument', 'arguments', 'arima', 'arm', 'arms', 'around', 'array', 'arrow', 'art', 'article', 'articles', 'artifical', 'artificial', 'artificialintelligence', 'artificially', 'artist', 'artists', 'artivatic', 'arts', 'artwork', 'arxiv', 'ash', 'asi', 'asia', 'ask', 'asked', 'asking', 'asks', 'asksid', 'aspect', 'aspects', 'aspire', 'assassin', 'assessment', 'asset', 'assets', 'assigned', 'assignment', 'assist', 'assistance', 'assistant', 'assistants', 'assisted', 'associate', 'associated', 'association', 'atari', 'attack', 'attacks', 'attempt', 'attempts', 'attend', 'attendance', 'attention', 'attribute', 'attributes', 'attrition', 'auc', 'audio', 'augment', 'augmentation', 'augmented', 'augmenting', 'august', 'australia', 'authentication', 'author', 'authority', 'authors', 'autism', 'auto', 'autodl', 'autoencoder', 'autoencoders', 'autograd', 'automate', 'automated', 'automatic', 'automatically', 'automating', 'automation', 'automl', 'automobile', 'automotive', 'autonomous', 'autonomously', 'autopilot', 'autoregressive', 'availability', 'available', 'avatar', 'avatars', 'average', 'avoid', 'avoiding', 'award', 'awards', 'aware', 'awareness', 'away', 'awesome', 'aws', 'azure', 'ba', 'baby', 'bach', 'bachelor', 'bachelors', 'back', 'backbone', 'background', 'backlash', 'backprop', 'backpropagation', 'backward', 'bad', 'bag', 'baidu', 'balance', 'balancing', 'ball', 'balls', 'ban', 'bangalore', 'bank', 'banking', 'banks', 'banned', 'bark', 'barriers', 'bars', 'base', 'based', 'baseline', 'baselines', 'basic', 'basically', 'basics', 'basis', 'basketball', 'batch', 'batches', 'batchnorm', 'battery', 'battle', 'battlefield', 'bayes', 'bayesian', 'bb', 'bbc', 'bc', 'bd', 'bearing', 'beast', 'beat', 'beating', 'beats', 'beautiful', 'beauty', 'beblogging', 'became', 'become', 'becomes', 'becoming', 'begginer', 'begin', 'beginner', 'beginners', 'beginning', 'begins', 'behave', 'behavior', 'behaviour', 'behind', 'beijing', 'beings', 'belief', 'believe', 'believes', 'ben', 'benchmark', 'benchmarking', 'benchmarks', 'beneficial', 'benefit', 'benefits', 'bengaluru', 'bengio', 'benign', 'berkeley', 'bert', 'bertology', 'besides', 'best', 'bet', 'beta', 'better', 'betting', 'beverage', 'beyond', 'bf', 'bfsi', 'bi', 'bias', 'biased', 'biases', 'bidirectional', 'big', 'bigger', 'biggest', 'bill', 'billion', 'billions', 'binary', 'bio', 'biological', 'biology', 'biomedical', 'biometric', 'bionic', 'biotech', 'bird', 'birds', 'birth', 'bit', 'bitcoin', 'bite', 'bj', 'black', 'blame', 'blender', 'blendtorch', 'blessed', 'blessing', 'blind', 'block', 'blockchain', 'blockgeni', 'blocks', 'blog', 'blogs', 'blood', 'blowing', 'blue', 'blurred', 'board', 'bob', 'bodied', 'body', 'book', 'books', 'boon', 'boost', 'booster', 'boosting', 'boosts', 'bootcamp', 'bootstrap', 'born', 'boston', 'bot', 'bots', 'bottle', 'bottom', 'bounding', 'bountiful', 'bounty', 'box', 'boxes', 'brain', 'brains', 'brand', 'branding', 'brands', 'break', 'breakdown', 'breaking', 'breakthrough', 'breakthroughs', 'breast', 'breath', 'breed', 'brett', 'brewery', 'bridge', 'bridges', 'bridging', 'brief', 'bright', 'brilliant', 'bring', 'bringing', 'brings', 'british', 'broader', 'broken', 'bros', 'brother', 'brought', 'browser', 'btc', 'budget', 'bugs', 'build', 'builder', 'building', 'builds', 'built', 'bulid', 'bunch', 'bundle', 'business', 'businesses', 'buy', 'buyer', 'buying', 'buzz', 'byol', 'byte', 'ca', 'cactus', 'cad', 'cagr', 'caixa', 'calculate', 'calculated', 'calculating', 'calculation', 'calculations', 'calculator', 'calculus', 'calibration', 'california', 'call', 'called', 'calling', 'calls', 'cam', 'cambridge', 'came', 'camera', 'cameras', 'camp', 'campaign', 'campaigns', 'canada', 'canadian', 'cancer', 'candidate', 'candidates', 'cannot', 'capabilities', 'capable', 'capacity', 'capital', 'capsule', 'captcha', 'caption', 'captioning', 'captivating', 'capture', 'car', 'carbon', 'card', 'cards', 'care', 'career', 'carlo', 'carnegie', 'cars', 'cart', 'cartoon', 'cartoonize', 'cartpole', 'case', 'cases', 'cast', 'cat', 'catalyst', 'catastrophic', 'catch', 'catching', 'catchy', 'categorical', 'categories', 'category', 'caught', 'causal', 'cause', 'caused', 'causes', 'cb', 'cc', 'ccpa', 'cctv', 'cd', 'ce', 'cell', 'cells', 'cellular', 'center', 'centers', 'centre', 'centres', 'centric', 'centuries', 'century', 'ceo', 'cerebras', 'certain', 'certificate', 'certificates', 'certification', 'certifications', 'certified', 'ces', 'cf', 'cfp', 'ch', 'chain', 'chains', 'chair', 'challenge', 'challenges', 'challenging', 'champion', 'champions', 'championship', 'chance', 'chances', 'change', 'changed', 'changer', 'changes', 'changing', 'channel', 'channels', 'chaotic', 'chapter', 'character', 'characters', 'charity', 'charter', 'chat', 'chatbot', 'chatbots', 'chatting', 'cheap', 'cheaper', 'cheapest', 'cheat', 'cheating', 'cheatsheets', 'check', 'checkers', 'checking', 'checklist', 'checkout', 'checkpointing', 'checks', 'chemical', 'chemistry', 'chennai', 'chess', 'chest', 'chief', 'child', 'children', 'china', 'chinese', 'chip', 'chips', 'choice', 'choices', 'choose', 'choosing', 'chrome', 'churn', 'ci', 'cifar', 'cinema', 'cios', 'cipherhut', 'cisco', 'cities', 'citizen', 'citizenship', 'city', 'claim', 'claims', 'class', 'classes', 'classical', 'classification', 'classifications', 'classifier', 'classifiers', 'classify', 'classifying', 'clean', 'cleaning', 'clearly', 'clearview', 'click', 'client', 'clients', 'climate', 'climbing', 'clinical', 'clips', 'clone', 'cloning', 'close', 'closely', 'closer', 'clothing', 'cloud', 'clouds', 'clova', 'club', 'clubs', 'cluster', 'clustering', 'cmu', 'cnc', 'cnn', 'cnns', 'co', 'coca', 'coco', 'code', 'codebase', 'codes', 'coding', 'coefficient', 'coffee', 'cognition', 'cognitive', 'coin', 'cola', 'colab', 'cold', 'collab', 'collaborates', 'collaboration', 'collaborative', 'collapse', 'collect', 'collecting', 'collection', 'collective', 'college', 'colleges', 'collision', 'color', 'colorize', 'colorized', 'colors', 'columns', 'com', 'combat', 'combination', 'combine', 'combined', 'combining', 'combo', 'come', 'comes', 'comic', 'coming', 'comma', 'command', 'commands', 'comment', 'comments', 'commerce', 'commercial', 'common', 'communicate', 'communicating', 'communication', 'communications', 'communities', 'community', 'companies', 'companion', 'company', 'compare', 'compared', 'comparing', 'comparison', 'compatible', 'compelling', 'compete', 'competition', 'competitions', 'competitive', 'complete', 'completed', 'completely', 'completes', 'completion', 'complex', 'complexity', 'compliance', 'complicated', 'component', 'components', 'compositional', 'comprehension', 'comprehensive', 'compression', 'computation', 'computational', 'compute', 'computer', 'computers', 'computing', 'con', 'concept', 'concepts', 'conceptual', 'concern', 'concerning', 'concerns', 'concrete', 'concurrent', 'conditional', 'conditions', 'conference', 'conferences', 'confidence', 'configuration', 'confirm', 'confused', 'confusion', 'congestion', 'congress', 'connect', 'connected', 'connection', 'connections', 'connectivity', 'conquer', 'cons', 'conscious', 'consciousness', 'consider', 'considered', 'considering', 'consistency', 'consistent', 'constant', 'construction', 'consulting', 'consumer', 'consumers', 'contact', 'containing', 'contains', 'content', 'contest', 'context', 'contextual', 'continual', 'continue', 'continues', 'continuity', 'continuous', 'contract', 'contrastive', 'contribute', 'contribution', 'contributions', 'control', 'controlled', 'controlling', 'controls', 'controversies', 'conv', 'convergence', 'conversation', 'conversational', 'conversations', 'conversion', 'convert', 'converted', 'convertible', 'converting', 'converts', 'convex', 'convincing', 'convolution', 'convolutional', 'convolutions', 'cook', 'cool', 'cooperation', 'copy', 'copyright', 'coral', 'cord', 'core', 'cores', 'corona', 'coronavirus', 'corporate', 'corporation', 'corporations', 'corpus', 'correct', 'correcting', 'correction', 'correctly', 'correlation', 'cortex', 'cost', 'costly', 'costs', 'cough', 'could', 'council', 'counselling', 'count', 'counter', 'counting', 'countries', 'country', 'couple', 'course', 'coursera', 'courses', 'court', 'covariance', 'cover', 'covering', 'covid', 'cpu', 'cpus', 'crack', 'crash', 'crashes', 'crazy', 'create', 'created', 'creates', 'creating', 'creation', 'creative', 'creativity', 'creator', 'creators', 'credit', 'creepy', 'crime', 'crimes', 'crisis', 'criterion', 'critic', 'critical', 'criticism', 'critique', 'crm', 'cross', 'crossing', 'crowd', 'crowded', 'crucial', 'crypto', 'cryptocurrency', 'cryptography', 'cs', 'csv', 'ct', 'cto', 'cube', 'cuda', 'culture', 'curated', 'curb', 'cure', 'curiosity', 'curious', 'curl', 'current', 'currently', 'curriculum', 'curse', 'curve', 'curves', 'custom', 'customer', 'customers', 'customizable', 'cut', 'cuts', 'cutting', 'cv', 'cvpr', 'cyber', 'cybersecurity', 'cycle', 'cyclegan', 'cyclones', 'da', 'daily', 'damage', 'dance', 'dancing', 'dangerous', 'dangers', 'daniel', 'dark', 'darknet', 'darpa', 'dash', 'dashboard', 'dashboards', 'dask', 'data', 'database', 'databases', 'dataframe', 'dataframes', 'datagene', 'datascience', 'dataset', 'datasets', 'date', 'dating', 'david', 'day', 'days', 'db', 'dbscan', 'dc', 'dcgan', 'dd', 'de', 'dead', 'deadline', 'deadly', 'deal', 'dealing', 'deals', 'dear', 'death', 'debate', 'debater', 'debt', 'debug', 'debugging', 'debuts', 'decade', 'decades', 'decay', 'decent', 'decentralization', 'decentralized', 'decide', 'deciding', 'decision', 'decisions', 'decoder', 'decoding', 'decrease', 'dedicated', 'deep', 'deepeigen', 'deeper', 'deepfacedrawing', 'deepfake', 'deepfakes', 'deeplab', 'deeplearning', 'deepmind', 'deepracer', 'deepwisdom', 'default', 'defeats', 'defend', 'defense', 'defenses', 'define', 'definitely', 'definition', 'degree', 'degrees', 'del', 'delete', 'deliver', 'delivering', 'delivers', 'delivery', 'dell', 'demand', 'demo', 'democratizing', 'demon', 'demystified', 'demystifying', 'denmark', 'denoise', 'density', 'deoldify', 'department', 'departments', 'dependent', 'deploy', 'deployed', 'deploying', 'deployment', 'depth', 'derivative', 'dermatology', 'descent', 'describe', 'describing', 'description', 'descriptions', 'design', 'designed', 'designers', 'designing', 'designs', 'desk', 'desktop', 'despite', 'detail', 'detailed', 'details', 'detect', 'detecting', 'detection', 'detector', 'detectors', 'detectron', 'detects', 'determine', 'determining', 'deterministic', 'detr', 'dev', 'devastating', 'develop', 'developed', 'developer', 'developers', 'developing', 'development', 'developments', 'develops', 'device', 'devices', 'devops', 'dgl', 'dgn', 'dhabi', 'diabetes', 'diagnose', 'diagnoses', 'diagnosing', 'diagnosis', 'diagrams', 'dialogflow', 'dialogue', 'die', 'difference', 'differences', 'different', 'differentiable', 'differential', 'differentiation', 'difficult', 'difficulty', 'digit', 'digital', 'digitally', 'digits', 'dilemma', 'dimension', 'dimensional', 'dimensionality', 'dimensions', 'dino', 'direct', 'directed', 'direction', 'directions', 'directly', 'director', 'directory', 'disadvantages', 'disaster', 'disclosure', 'discord', 'discount', 'discounts', 'discover', 'discovered', 'discoveries', 'discovering', 'discovery', 'discrete', 'discriminative', 'discriminator', 'discuss', 'discussing', 'discussion', 'discussions', 'disease', 'diseases', 'disentangling', 'disney', 'disorders', 'display', 'disrupt', 'disrupting', 'disruption', 'disruptive', 'dissertation', 'distance', 'distancing', 'distill', 'distillation', 'distributed', 'distribution', 'distributions', 'dive', 'diverse', 'diversity', 'diy', 'django', 'dl', 'dlss', 'dm', 'dna', 'dnn', 'dnns', 'doc', 'docker', 'doctor', 'doctoral', 'doctors', 'document', 'documentary', 'documentation', 'documents', 'dod', 'dog', 'dollar', 'dollars', 'domain', 'domains', 'dominance', 'dominate', 'domination', 'donald', 'done', 'dont', 'doodle', 'doodles', 'dooley', 'dota', 'double', 'doubt', 'doubts', 'download', 'dp', 'dqn', 'dr', 'draft', 'draw', 'drawing', 'drawings', 'dream', 'dreams', 'drive', 'driven', 'driver', 'driverless', 'drivers', 'drives', 'driving', 'drone', 'drones', 'drop', 'dropout', 'drug', 'drugs', 'ds', 'dual', 'dubai', 'due', 'dumb', 'dummies', 'dungeon', 'dvc', 'dynamic', 'dynamics', 'dystopian', 'ea', 'eager', 'early', 'earn', 'earth', 'earthquake', 'ease', 'easier', 'easiest', 'easily', 'east', 'easy', 'eats', 'eb', 'ec', 'eccv', 'echo', 'ecommerce', 'economic', 'economics', 'economist', 'economy', 'ecosystem', 'ed', 'edge', 'edit', 'editing', 'edition', 'editor', 'education', 'educational', 'educators', 'ee', 'eec', 'ef', 'eff', 'effect', 'effective', 'effectively', 'effects', 'efficiency', 'efficient', 'efficientdet', 'efficiently', 'efficientnet', 'effort', 'efforts', 'eg', 'ego', 'ehr', 'either', 'el', 'elected', 'election', 'elections', 'electra', 'electric', 'electricity', 'electronic', 'electronics', 'element', 'elements', 'eliminate', 'eliminated', 'eliminating', 'elon', 'else', 'em', 'email', 'emails', 'embedded', 'embedding', 'embeddings', 'embodied', 'embrace', 'emergency', 'emergent', 'emerging', 'emnlp', 'emotion', 'emotional', 'emotions', 'emotix', 'empathy', 'emphasis', 'emphasizing', 'empirical', 'employed', 'employee', 'employees', 'employment', 'empower', 'empowering', 'empty', 'en', 'enable', 'enabled', 'enables', 'enabling', 'encode', 'encoder', 'encoders', 'encoding', 'encourage', 'end', 'ended', 'ending', 'energy', 'engage', 'engagement', 'engaging', 'engine', 'engineer', 'engineering', 'engineers', 'engines', 'english', 'enhance', 'enhanced', 'enhancement', 'enhances', 'enhancing', 'enjoy', 'enough', 'enrich', 'enroll', 'ensure', 'enter', 'enterprise', 'enterprises', 'entertainment', 'enthusiasts', 'entire', 'entirely', 'entities', 'entity', 'entrepreneur', 'entrepreneurs', 'entrepreneurship', 'entropy', 'entry', 'environment', 'environments', 'ep', 'epic', 'epidemic', 'episode', 'epoch', 'equality', 'equation', 'equations', 'equipment', 'equivalent', 'equivariant', 'era', 'ericsson', 'ernie', 'erp', 'error', 'errors', 'es', 'especially', 'essay', 'essential', 'essentials', 'est', 'estate', 'esteem', 'estimate', 'estimates', 'estimating', 'estimation', 'estimator', 'et', 'eta', 'etc', 'eth', 'ethical', 'ethically', 'ethics', 'eu', 'europe', 'european', 'eva', 'evaluate', 'evaluating', 'evaluation', 'even', 'event', 'events', 'eventually', 'ever', 'every', 'everyday', 'everyone', 'everything', 'everywhere', 'evidence', 'evil', 'evolution', 'evolutionary', 'evolve', 'evolved', 'evolves', 'evolving', 'ex', 'exact', 'exactly', 'exam', 'example', 'examples', 'excellence', 'excellent', 'except', 'exchange', 'excited', 'exciting', 'exclusive', 'execution', 'executive', 'exercises', 'exist', 'existence', 'existing', 'exists', 'expand', 'expanding', 'expansion', 'expect', 'expectation', 'expected', 'experience', 'experienced', 'experiences', 'experiment', 'experimental', 'experiments', 'expert', 'expertise', 'experts', 'explain', 'explainability', 'explainable', 'explained', 'explaining', 'explains', 'explanation', 'explanations', 'exploration', 'explorative', 'explore', 'explores', 'exploring', 'explosion', 'expo', 'exponential', 'exponentially', 'exposed', 'exposure', 'expressions', 'extended', 'extension', 'extensive', 'external', 'extract', 'extracting', 'extraction', 'extreme', 'extremely', 'eye', 'eyes', 'face', 'faceapp', 'facebook', 'faces', 'facial', 'facilitate', 'facilities', 'facing', 'fact', 'factor', 'factorization', 'factors', 'factory', 'facts', 'fail', 'failed', 'failure', 'failures', 'fair', 'fairness', 'fake', 'fakes', 'fall', 'falling', 'false', 'familiar', 'family', 'famous', 'far', 'farm', 'farming', 'fascinating', 'fashion', 'fast', 'fastai', 'faster', 'fastest', 'favorite', 'favourite', 'fb', 'fc', 'fd', 'fda', 'fe', 'fear', 'fearless', 'fears', 'feature', 'features', 'feb', 'february', 'fed', 'federal', 'federated', 'feed', 'feedback', 'feeding', 'feel', 'feeling', 'fei', 'fellow', 'fellowship', 'ff', 'fi', 'fiction', 'fictional', 'fidelity', 'field', 'fields', 'fight', 'fighting', 'figure', 'figuring', 'file', 'files', 'fill', 'filling', 'film', 'filter', 'filtering', 'filters', 'final', 'finally', 'finance', 'financial', 'find', 'finder', 'finding', 'finds', 'fine', 'finetuning', 'finish', 'finished', 'finland', 'fintech', 'firm', 'firms', 'first', 'fit', 'fitness', 'fits', 'fitting', 'five', 'fix', 'fixed', 'flappy', 'flask', 'flexible', 'flip', 'flood', 'florida', 'flow', 'flower', 'flowers', 'flows', 'floyd', 'flu', 'focus', 'focused', 'focusing', 'foe', 'folder', 'folding', 'folks', 'follow', 'followed', 'following', 'food', 'fool', 'fooled', 'fooling', 'foot', 'footage', 'football', 'footprint', 'force', 'forced', 'forces', 'forecast', 'forecasting', 'forecasts', 'foreground', 'forest', 'forests', 'forever', 'forget', 'forgetting', 'forgot', 'form', 'formal', 'formally', 'format', 'formats', 'former', 'formula', 'formulas', 'formulate', 'formulating', 'fortune', 'forum', 'forward', 'foster', 'found', 'foundation', 'foundations', 'founder', 'founders', 'founding', 'four', 'fourier', 'fourth', 'fpr', 'fps', 'fractal', 'frame', 'framework', 'frameworks', 'fraud', 'free', 'freedom', 'french', 'frequency', 'frequently', 'fridman', 'friend', 'friendly', 'friends', 'front', 'frontend', 'frontier', 'fuel', 'full', 'fully', 'fun', 'function', 'functional', 'functions', 'fund', 'fundamental', 'fundamentally', 'fundamentals', 'funded', 'funding', 'funny', 'fur', 'fusion', 'future', 'futures', 'futuristic', 'fuzzing', 'fuzzy', 'gain', 'gaining', 'gains', 'game', 'gamegan', 'games', 'gaming', 'gan', 'gang', 'gans', 'gap', 'garbage', 'gartner', 'gary', 'gas', 'gates', 'gateway', 'gather', 'gathering', 'gaugan', 'gauge', 'gaussian', 'gave', 'gay', 'gb', 'gbdt', 'gbm', 'gdpr', 'gel', 'gen', 'gender', 'general', 'generalisation', 'generalization', 'generalize', 'generalized', 'generally', 'generate', 'generated', 'generates', 'generating', 'generation', 'generative', 'generator', 'generators', 'generic', 'genes', 'genetic', 'genius', 'geoff', 'geoffrey', 'geographic', 'geometric', 'geometry', 'geopolitics', 'george', 'georgia', 'germany', 'gervais', 'gesture', 'gestures', 'get', 'gets', 'getting', 'gflops', 'giant', 'giants', 'gist', 'git', 'github', 'give', 'giveaway', 'given', 'gives', 'giving', 'glad', 'glance', 'glass', 'glimpse', 'glintborg', 'global', 'globally', 'glossary', 'glove', 'gluon', 'gmail', 'gmm', 'gmt', 'gnn', 'gnns', 'gnu', 'go', 'goal', 'goals', 'god', 'goertzel', 'goes', 'gofai', 'gofounders', 'going', 'gold', 'gone', 'gonna', 'good', 'goodfellow', 'goods', 'google', 'googles', 'got', 'gotten', 'gov', 'governance', 'government', 'governments', 'govt', 'gpt', 'gpts', 'gpu', 'gpus', 'grad', 'gradcam', 'grade', 'gradient', 'gradients', 'graduate', 'graduates', 'graduation', 'grail', 'grammar', 'grand', 'grant', 'graph', 'graphcore', 'graphic', 'graphical', 'graphics', 'graphs', 'grasp', 'great', 'greater', 'greatest', 'greedy', 'green', 'ground', 'grounded', 'group', 'groups', 'grow', 'growing', 'growth', 'gru', 'gshard', 'gt', 'gtc', 'gtp', 'gtx', 'guess', 'guessing', 'guest', 'gui', 'guidance', 'guide', 'guided', 'guidelines', 'guides', 'guiding', 'guitar', 'gumbel', 'gupshup', 'guru', 'guy', 'guys', 'gwern', 'gym', 'habits', 'hack', 'hackathon', 'hacker', 'hackers', 'hacking', 'hacks', 'hair', 'half', 'hand', 'handle', 'handles', 'handling', 'handpose', 'hands', 'handwriting', 'handwritten', 'hanson', 'happen', 'happened', 'happening', 'happens', 'happy', 'happytransformer', 'hard', 'hardest', 'hardware', 'harmful', 'harness', 'harnessing', 'harry', 'harvard', 'harvest', 'hashtags', 'haskell', 'haste', 'hate', 'hawking', 'hd', 'hdbscan', 'head', 'headed', 'headlines', 'heads', 'health', 'healthcare', 'healthy', 'hear', 'heard', 'hearing', 'heart', 'heavy', 'heights', 'hello', 'help', 'helped', 'helpful', 'helping', 'helps', 'hey', 'hi', 'hidden', 'hide', 'hierarchical', 'high', 'higher', 'highest', 'highlight', 'highlights', 'highly', 'hill', 'hinge', 'hinton', 'hire', 'hired', 'hiring', 'histogram', 'historical', 'history', 'hit', 'hits', 'hk', 'hmm', 'hockey', 'hold', 'holds', 'hollywood', 'hologram', 'holy', 'home', 'homes', 'homework', 'honda', 'honestly', 'honesty', 'honored', 'hooked', 'hope', 'hoping', 'horizon', 'horizontal', 'horse', 'hospital', 'hospitality', 'hospitals', 'host', 'hosted', 'hosting', 'hot', 'hotel', 'hour', 'hours', 'house', 'howard', 'however', 'hr', 'html', 'http', 'https', 'huawei', 'hub', 'huge', 'hugging', 'huggingface', 'human', 'humanity', 'humanoid', 'humanoids', 'humans', 'humble', 'hummingbird', 'hurry', 'hurts', 'hybrid', 'hyderabad', 'hype', 'hyper', 'hyperkite', 'hypernetworks', 'hyperparameter', 'hyperparameters', 'hypothesis', 'hyundai', 'ia', 'ibm', 'icassp', 'iccv', 'iclr', 'icml', 'ico', 'icon', 'icymi', 'id', 'idea', 'ideal', 'ideas', 'identification', 'identifies', 'identify', 'identifying', 'identity', 'ie', 'ieee', 'ieo', 'ifa', 'igenius', 'ii', 'iii', 'iit', 'ijcai', 'illness', 'illustrated', 'im', 'imac', 'imae', 'image', 'imagenet', 'imagery', 'images', 'imagine', 'imaging', 'imbalance', 'imbalanced', 'ime', 'imitation', 'immigration', 'impact', 'impacted', 'impacting', 'impacts', 'imperative', 'imperfect', 'imperial', 'implement', 'implementation', 'implementations', 'implemented', 'implementing', 'implications', 'implicit', 'importance', 'important', 'impossible', 'impressive', 'improve', 'improved', 'improvement', 'improvements', 'improves', 'improving', 'imputation', 'inactive', 'inc', 'inception', 'incident', 'incidents', 'include', 'included', 'includes', 'including', 'inclusion', 'inclusivity', 'income', 'incorporate', 'incorporated', 'incorporates', 'incorporating', 'increase', 'increases', 'increasing', 'increasingly', 'incredible', 'incremental', 'indeed', 'independent', 'index', 'indexing', 'india', 'indian', 'indispensible', 'individual', 'individuals', 'induced', 'inductive', 'industrial', 'industries', 'industry', 'infection', 'inference', 'inferencing', 'inferring', 'infinite', 'infinitely', 'influence', 'influencer', 'influencers', 'influencing', 'influential', 'info', 'infographic', 'infographics', 'informatics', 'information', 'informative', 'informed', 'infrared', 'infrastructure', 'inherits', 'initial', 'initialization', 'initiative', 'initiatives', 'inner', 'innovate', 'innovating', 'innovation', 'innovations', 'innovative', 'inpainting', 'input', 'inputs', 'inquiry', 'insan', 'insane', 'insert', 'inside', 'insight', 'insights', 'inspiration', 'inspired', 'inspirobot', 'instagram', 'install', 'installation', 'instance', 'instances', 'instant', 'instantly', 'instead', 'institute', 'institutes', 'institutions', 'instructor', 'instrument', 'insurance', 'integrate', 'integrated', 'integrates', 'integrating', 'integration', 'intel', 'inteligence', 'inteligencia', 'intelligence', 'intelligences', 'intelligent', 'intensity', 'intent', 'intentional', 'interact', 'interacting', 'interaction', 'interactions', 'interactive', 'interest', 'interested', 'interesting', 'interests', 'interface', 'interfaces', 'intermediate', 'international', 'internet', 'internship', 'internships', 'interpolating', 'interpolation', 'interpret', 'interpretability', 'interpretable', 'interpretation', 'interpreting', 'interspeech', 'interstellar', 'interval', 'intervention', 'interview', 'interviewed', 'interviews', 'intro', 'introduce', 'introduced', 'introduces', 'introducing', 'introduction', 'introductory', 'intuition', 'intuitive', 'invariance', 'invariant', 'invent', 'invention', 'inventions', 'inventor', 'inventory', 'invest', 'investing', 'investment', 'investments', 'investor', 'investorideas', 'investors', 'invests', 'invisible', 'invitation', 'invites', 'invoice', 'invoicenet', 'involved', 'involves', 'involving', 'io', 'ion', 'ios', 'iot', 'ip', 'iphone', 'iq', 'irony', 'irrelevant', 'isolation', 'israel', 'issue', 'issues', 'item', 'iterative', 'iv', 'jack', 'james', 'january', 'japan', 'japanese', 'jarvis', 'java', 'javascript', 'jax', 'jeff', 'jeremy', 'jerome', 'jesse', 'jesseai', 'jetson', 'jingdong', 'job', 'jobs', 'joe', 'joel', 'john', 'join', 'joining', 'joins', 'joint', 'joke', 'jokes', 'jones', 'jordan', 'joscha', 'journal', 'journalism', 'journalist', 'journalists', 'journals', 'journey', 'js', 'json', 'jukebox', 'julia', 'july', 'jump', 'june', 'junior', 'jupyter', 'justice', 'jvm', 'kafka', 'kaggle', 'karate', 'karpathy', 'kdnuggets', 'ke', 'keep', 'keeping', 'kelly', 'ken', 'kendra', 'keras', 'kernel', 'kernels', 'kevin', 'key', 'keyboard', 'keynote', 'keypoints', 'keyword', 'keywords', 'kids', 'kill', 'killer', 'kilometers', 'kim', 'kind', 'kinda', 'kindly', 'king', 'kingcasino', 'kirin', 'kit', 'knn', 'know', 'knowing', 'knowledge', 'knowledgeable', 'known', 'knows', 'kochi', 'korea', 'korean', 'kotlin', 'kpop', 'kubernetes', 'kumar', 'kyc', 'la', 'lab', 'label', 'labeled', 'labeling', 'labelled', 'labelling', 'labels', 'labs', 'lack', 'lambda', 'land', 'landing', 'landmark', 'landmarks', 'landscape', 'landscaping', 'lane', 'language', 'languages', 'laptop', 'large', 'larger', 'largest', 'lasso', 'last', 'late', 'latent', 'later', 'latest', 'latex', 'lathe', 'launch', 'launched', 'launches', 'launching', 'laundering', 'law', 'laws', 'lawyer', 'lawyers', 'layer', 'layered', 'layers', 'layman', 'layout', 'lazy', 'le', 'lead', 'leader', 'leaders', 'leadership', 'leading', 'leads', 'league', 'leak', 'leakage', 'leap', 'learn', 'learned', 'learner', 'learners', 'learning', 'learns', 'least', 'leave', 'leaves', 'leaving', 'lecture', 'lectures', 'lecun', 'led', 'lee', 'left', 'legal', 'legit', 'lending', 'length', 'lens', 'less', 'lesson', 'lessons', 'let', 'lets', 'letter', 'letters', 'level', 'levels', 'leverage', 'leverages', 'leveraging', 'lex', 'li', 'libraries', 'library', 'libs', 'license', 'lidar', 'lie', 'lies', 'life', 'lifelong', 'lifestyle', 'lifetime', 'light', 'lightning', 'lightweight', 'like', 'likelihood', 'likely', 'limit', 'limitations', 'limited', 'limits', 'line', 'linear', 'linearly', 'lines', 'linguistic', 'link', 'linked', 'linkedin', 'linking', 'links', 'linux', 'list', 'listen', 'listener', 'listening', 'listing', 'lists', 'lit', 'lite', 'literally', 'literature', 'little', 'live', 'lives', 'livestream', 'living', 'load', 'loading', 'local', 'locality', 'localization', 'locally', 'location', 'lockdown', 'log', 'logic', 'logical', 'logistic', 'logistics', 'london', 'long', 'longer', 'look', 'looked', 'looking', 'looks', 'loop', 'loops', 'los', 'lose', 'loss', 'losses', 'lost', 'lot', 'lottery', 'love', 'loved', 'low', 'lower', 'lr', 'lstm', 'lstms', 'lt', 'ltd', 'luck', 'lucky', 'lung', 'ly', 'lyrebird', 'lyrics', 'mac', 'macbook', 'machine', 'machinelearning', 'machinery', 'machines', 'made', 'madras', 'magazine', 'magenta', 'magento', 'magic', 'main', 'maintenance', 'major', 'make', 'maker', 'makers', 'makes', 'making', 'malex', 'malicious', 'man', 'manage', 'managed', 'management', 'manager', 'managing', 'manifold', 'manipulation', 'mankind', 'manner', 'manoj', 'manual', 'manufacturing', 'many', 'map', 'mapping', 'maps', 'march', 'marcus', 'marginal', 'mario', 'mark', 'market', 'marketers', 'marketing', 'marketplace', 'markets', 'marketsandmarkets', 'markov', 'marks', 'mars', 'mask', 'masked', 'masking', 'maskrcnn', 'masks', 'mass', 'massive', 'massively', 'master', 'mastering', 'masters', 'match', 'matches', 'matching', 'material', 'materials', 'math', 'mathematical', 'mathematics', 'mathias', 'maths', 'matlab', 'matplotlib', 'matrix', 'matter', 'matters', 'matting', 'max', 'maximize', 'maximizing', 'maximum', 'may', 'maybe', 'maze', 'mean', 'meaning', 'meaningful', 'means', 'measure', 'measures', 'measuring', 'mechanical', 'mechanism', 'mechanisms', 'media', 'medical', 'medicalai', 'medicine', 'medium', 'meena', 'meet', 'meeting', 'meetings', 'meets', 'meetup', 'member', 'members', 'meme', 'memes', 'memory', 'mental', 'merge', 'merging', 'mesh', 'message', 'messages', 'messaging', 'messenger', 'meta', 'metal', 'metaverse', 'method', 'methodology', 'methods', 'metric', 'metrics', 'michael', 'micro', 'microsoft', 'mid', 'midas', 'middle', 'midi', 'might', 'miko', 'mila', 'milestone', 'milestones', 'military', 'million', 'millions', 'mimic', 'mimics', 'min', 'mind', 'minded', 'mine', 'minecraft', 'minerl', 'mini', 'minima', 'minimal', 'minimization', 'minimum', 'mining', 'minsky', 'minute', 'minutes', 'miracles', 'mirror', 'misinformation', 'missed', 'missing', 'mission', 'mistake', 'mistakes', 'mit', 'mitigate', 'mix', 'mixed', 'mixture', 'mixup', 'mkl', 'ml', 'mlops', 'mlp', 'mlperf', 'mnist', 'mobile', 'mobility', 'mode', 'model', 'modeling', 'modelling', 'models', 'moderation', 'modern', 'modernizing', 'modified', 'modify', 'modular', 'module', 'molecule', 'monetization', 'monetize', 'money', 'monitor', 'monitoring', 'monochrome', 'monte', 'month', 'months', 'mooc', 'moral', 'morality', 'mostly', 'motion', 'motor', 'mountains', 'mouse', 'move', 'movement', 'movements', 'movie', 'movies', 'moving', 'mr', 'mrfr', 'mri', 'ms', 'msc', 'mse', 'much', 'mufareh', 'mujoco', 'multi', 'multiclass', 'multidimensional', 'multilingual', 'multimodal', 'multinomial', 'multiple', 'multiplication', 'multivariate', 'mumbai', 'music', 'musical', 'musk', 'must', 'mutation', 'mutual', 'mxnet', 'mysterious', 'myth', 'myths', 'naive', 'name', 'named', 'names', 'nano', 'narratives', 'narrow', 'nas', 'nasa', 'nation', 'national', 'native', 'natural', 'nature', 'navigating', 'navigation', 'nba', 'nd', 'near', 'nearest', 'nearly', 'neat', 'necessary', 'necessity', 'need', 'needed', 'needs', 'negative', 'neighbor', 'neighbors', 'ner', 'nerf', 'net', 'netflix', 'nets', 'netscribes', 'network', 'networking', 'networks', 'neural', 'neuralink', 'neurips', 'neuro', 'neurobot', 'neuroevolution', 'neuromorphic', 'neuron', 'neuronales', 'neurons', 'neuroscience', 'neutral', 'never', 'new', 'newbie', 'newer', 'newly', 'news', 'newsletter', 'newspaper', 'newton', 'next', 'nextgen', 'ng', 'nh', 'nice', 'nightmare', 'nips', 'nlg', 'nlp', 'nltk', 'nlu', 'nn', 'nns', 'node', 'noise', 'noisy', 'non', 'none', 'nonlinear', 'noob', 'norm', 'normal', 'normalization', 'normalizing', 'norman', 'north', 'notable', 'note', 'notebook', 'notebooks', 'notes', 'nothing', 'notifications', 'novel', 'nsfw', 'nthu', 'nuclear', 'nullify', 'number', 'numbers', 'numerical', 'numpy', 'nvidia', 'nyu', 'obama', 'object', 'objective', 'objects', 'obsolete', 'obstacle', 'obstacles', 'obtain', 'oc', 'ocr', 'octave', 'ode', 'odes', 'offer', 'offered', 'offering', 'offerings', 'offers', 'office', 'officer', 'official', 'officials', 'offline', 'often', 'oh', 'oil', 'okay', 'olcf', 'old', 'older', 'oldest', 'olportal', 'omg', 'onboard', 'onboarding', 'one', 'ones', 'online', 'onnx', 'onpassive', 'onto', 'op', 'open', 'openai', 'opencv', 'opening', 'openroaming', 'opens', 'operating', 'operation', 'operations', 'operator', 'operators', 'opinion', 'opinions', 'opponents', 'opportunities', 'opportunity', 'opt', 'optical', 'optimal', 'optimisation', 'optimise', 'optimiser', 'optimism', 'optimistic', 'optimization', 'optimize', 'optimized', 'optimizer', 'optimizers', 'optimizing', 'option', 'options', 'oracle', 'oral', 'order', 'ordered', 'ordinal', 'org', 'organisation', 'organisations', 'organization', 'organizations', 'organize', 'organized', 'organizing', 'organs', 'orientation', 'oriented', 'origin', 'original', 'os', 'oss', 'others', 'ouguaram', 'outbreak', 'outcome', 'outcomes', 'outlier', 'outlook', 'outperforming', 'outperforms', 'output', 'outputs', 'outside', 'outsourcing', 'outstanding', 'overcome', 'overcoming', 'overfit', 'overfitting', 'overhyped', 'overlap', 'overtake', 'overview', 'owners', 'oxbotica', 'oxford', 'pa', 'pac', 'pace', 'package', 'packages', 'packaging', 'page', 'pages', 'paid', 'pain', 'paired', 'pairwise', 'palo', 'pandas', 'pandemic', 'panel', 'paper', 'papers', 'para', 'paradigm', 'paradox', 'paragraph', 'parallel', 'paralleldots', 'parallelism', 'parameter', 'parameters', 'parametric', 'parents', 'park', 'parker', 'parking', 'parkinson', 'parks', 'parse', 'parsing', 'part', 'participants', 'participate', 'participating', 'particle', 'particular', 'partner', 'partners', 'partnership', 'parts', 'party', 'pass', 'passed', 'passes', 'passing', 'past', 'paste', 'patch', 'patent', 'patents', 'path', 'paths', 'pathways', 'patient', 'patients', 'pattern', 'patterns', 'paving', 'pay', 'paying', 'payjo', 'payment', 'payments', 'pb', 'pc', 'pca', 'pdf', 'peak', 'pedestrian', 'peer', 'peking', 'pentagon', 'people', 'per', 'percent', 'perception', 'perceptron', 'perceptrons', 'perfect', 'perfectly', 'perform', 'performance', 'performed', 'performing', 'performs', 'perhaps', 'periodic', 'permission', 'permutation', 'persian', 'persistent', 'person', 'personal', 'personality', 'personalization', 'personalized', 'perspective', 'perspectives', 'pesenti', 'pet', 'peter', 'petri', 'ph', 'pharma', 'pharmaceutical', 'phase', 'phases', 'phd', 'phds', 'phenomenon', 'philosophy', 'phone', 'phones', 'photo', 'photographs', 'photography', 'photonic', 'photorealistic', 'photos', 'phrase', 'physical', 'physics', 'pi', 'piano', 'pic', 'pick', 'picking', 'picks', 'picture', 'pictures', 'piece', 'pifuhd', 'pillars', 'pilot', 'pioneer', 'pioneering', 'pip', 'pipeline', 'pipelines', 'pit', 'pivotal', 'pix', 'pixel', 'pixels', 'place', 'placement', 'places', 'plaidml', 'plaito', 'plan', 'planet', 'planning', 'plans', 'plastic', 'plasticity', 'plate', 'platform', 'platforms', 'plato', 'play', 'player', 'players', 'playing', 'playlist', 'plays', 'please', 'plot', 'plotting', 'pls', 'plugin', 'plus', 'pm', 'pneumonia', 'poc', 'podcast', 'podcasts', 'poetry', 'point', 'points', 'pokemon', 'poker', 'police', 'policies', 'policy', 'political', 'polynomial', 'pool', 'pooling', 'poor', 'pop', 'popular', 'popularity', 'porn', 'portable', 'portal', 'portfolio', 'portrait', 'portraits', 'pose', 'posenet', 'poses', 'position', 'positions', 'positive', 'possibilities', 'possibility', 'possible', 'possibly', 'post', 'postdoc', 'posted', 'posts', 'posture', 'potential', 'potentials', 'potter', 'power', 'powered', 'powerful', 'powerfully', 'powering', 'powers', 'ppo', 'pr', 'practical', 'practice', 'practices', 'practitioners', 'pre', 'precision', 'precisionfda', 'predict', 'predictability', 'predicted', 'predicting', 'prediction', 'predictions', 'predictive', 'predictor', 'predictors', 'predicts', 'preferred', 'preparation', 'prepare', 'prepared', 'preparing', 'preprocessing', 'prerequisites', 'presence', 'present', 'presentation', 'preserving', 'president', 'press', 'pretrained', 'pretraining', 'pretty', 'prevent', 'preview', 'previous', 'previously', 'pricai', 'price', 'prices', 'pricing', 'primer', 'principled', 'principles', 'print', 'printed', 'printer', 'printing', 'prior', 'priors', 'privacy', 'private', 'prize', 'pro', 'probabilistic', 'probabilities', 'probability', 'probably', 'problem', 'problems', 'proceed', 'process', 'processed', 'processes', 'processing', 'processor', 'produce', 'produces', 'producing', 'product', 'production', 'productive', 'productivity', 'products', 'prof', 'professional', 'professionals', 'professor', 'profile', 'profiles', 'profiling', 'profit', 'profitable', 'profits', 'program', 'programmatic', 'programme', 'programmed', 'programmer', 'programmers', 'programming', 'programs', 'progress', 'progression', 'progressive', 'progressively', 'project', 'projected', 'projects', 'prominence', 'prominent', 'promise', 'promises', 'promising', 'promote', 'proof', 'propagation', 'proper', 'properly', 'properties', 'property', 'prophet', 'proposal', 'propose', 'proposed', 'proposes', 'proprietary', 'pros', 'proselflc', 'prospects', 'protect', 'protection', 'protein', 'proteins', 'prototype', 'proud', 'prove', 'proven', 'proves', 'provide', 'provided', 'provider', 'providers', 'provides', 'providing', 'proving', 'pseudo', 'pst', 'psychology', 'pt', 'pub', 'public', 'publication', 'publicly', 'publish', 'published', 'publishing', 'pull', 'pulse', 'purchase', 'pure', 'purpose', 'purposes', 'pursue', 'pursuing', 'push', 'pushes', 'put', 'putting', 'puzzle', 'pvt', 'pycaret', 'pycharm', 'pydata', 'python', 'pytorch', 'qa', 'qing', 'quadro', 'qualcomm', 'quality', 'quantitative', 'quantized', 'quantum', 'quarantine', 'que', 'queries', 'query', 'quest', 'question', 'questionnaire', 'questions', 'quick', 'quickly', 'quite', 'quits', 'quiz', 'quotes', 'race', 'racing', 'racism', 'racist', 'radar', 'radiance', 'radio', 'radiology', 'rainfall', 'raises', 'ram', 'random', 'randomly', 'range', 'rank', 'ranked', 'ranking', 'rankings', 'rant', 'rap', 'rapid', 'rapidly', 'rapids', 'rare', 'ras', 'raspberry', 'rate', 'rates', 'rather', 'ratings', 'raval', 'raw', 'ray', 'rbf', 'rcnn', 'rd', 'reach', 'react', 'reaction', 'reactjs', 'read', 'reader', 'readers', 'readiness', 'reading', 'reads', 'ready', 'real', 'realistic', 'reality', 'really', 'realm', 'realtime', 'reap', 'reason', 'reasoning', 'reasons', 'recall', 'received', 'receives', 'recent', 'recently', 'recession', 'recipes', 'recognition', 'recognize', 'recognizes', 'recognizing', 'recommend', 'recommendation', 'recommendations', 'recommended', 'recommender', 'reconstruct', 'reconstruction', 'reconstructions', 'record', 'recorded', 'recording', 'records', 'recovery', 'recreate', 'recreated', 'recruiting', 'recruitment', 'recurrent', 'recursive', 'red', 'reddit', 'redditors', 'redefine', 'redefining', 'redes', 'reduce', 'reducing', 'reduction', 'redundant', 'reference', 'references', 'reformer', 'regarding', 'regards', 'region', 'regional', 'regions', 'register', 'registration', 'regression', 'regular', 'regularization', 'regularized', 'regulating', 'regulations', 'reign', 'reilly', 'reimagining', 'reinforced', 'reinforcement', 'reinvent', 'reject', 'rejected', 'rejection', 'related', 'relates', 'relation', 'relations', 'relationship', 'relationships', 'relative', 'release', 'released', 'releases', 'releasing', 'relevance', 'relevant', 'reliability', 'reliable', 'religion', 'relu', 'rely', 'remarkable', 'rembrandt', 'remember', 'reminder', 'remodeling', 'remote', 'remotely', 'removal', 'remove', 'removed', 'renaissance', 'rendering', 'renderings', 'replace', 'replaced', 'replaces', 'replacing', 'replay', 'replicate', 'replicating', 'replika', 'reply', 'repo', 'report', 'reporting', 'reports', 'repos', 'repositories', 'repository', 'repost', 'represent', 'representation', 'representations', 'representative', 'represents', 'reproduce', 'reproduced', 'reproducibility', 'reproducing', 'reputation', 'request', 'requesting', 'requests', 'require', 'required', 'requirement', 'requirements', 'requires', 'rescue', 'research', 'researcher', 'researchers', 'researches', 'reserchers', 'reserve', 'reset', 'reshape', 'reshaping', 'residency', 'residual', 'resilience', 'resnest', 'resnet', 'resnets', 'resnext', 'resolution', 'resonance', 'resource', 'resources', 'respect', 'response', 'responses', 'responsible', 'restaurants', 'restful', 'restoration', 'restore', 'restored', 'restores', 'restrictions', 'result', 'results', 'resume', 'resumes', 'retail', 'retailers', 'retention', 'rethinking', 'retraining', 'retrieval', 'return', 'returns', 'reusable', 'revamp', 'revamping', 'reveal', 'revealed', 'reveals', 'revenue', 'reverse', 'review', 'reviewing', 'reviews', 'revisiting', 'revolution', 'revolutionary', 'revolutionising', 'revolutionize', 'revolutionizes', 'revolutionizing', 'reward', 'rewarded', 'rewards', 'rgb', 'rgen', 'rhyming', 'ri', 'rich', 'richard', 'ricky', 'ride', 'right', 'rights', 'rise', 'rising', 'risk', 'risks', 'rl', 'rnn', 'rnns', 'road', 'roadblocks', 'roadmap', 'robert', 'roberta', 'robot', 'robotic', 'robotics', 'robots', 'robust', 'robustness', 'roc', 'rock', 'rogan', 'rogue', 'roi', 'role', 'roles', 'room', 'root', 'rough', 'round', 'route', 'routing', 'rpa', 'rtx', 'rubik', 'rudimentary', 'rule', 'rules', 'run', 'running', 'runs', 'runtime', 'russian', 'russo', 'saas', 'saddle', 'safe', 'safely', 'safer', 'safety', 'sagemaker', 'said', 'salaries', 'salary', 'sale', 'sales', 'salesforce', 'salute', 'sam', 'sample', 'samples', 'sampling', 'samsung', 'san', 'sanders', 'sanity', 'sap', 'sas', 'satan', 'satellite', 'saudi', 'save', 'saving', 'saw', 'sax', 'say', 'saying', 'says', 'scalable', 'scalar', 'scale', 'scaled', 'scaling', 'scan', 'scanner', 'scanning', 'scans', 'scared', 'scary', 'scenario', 'scene', 'scenes', 'schedules', 'schemas', 'scheme', 'schmidhuber', 'scholar', 'scholarship', 'school', 'schools', 'sci', 'science', 'sciences', 'scientific', 'scientist', 'scientists', 'scikit', 'scipy', 'scope', 'score', 'scores', 'scoring', 'scrape', 'scraping', 'scratch', 'screen', 'screening', 'screenshot', 'script', 'scripts', 'se', 'seaborn', 'seamless', 'search', 'searches', 'searching', 'second', 'seconds', 'secret', 'secretly', 'secrets', 'section', 'sections', 'sector', 'sectors', 'secure', 'security', 'see', 'seed', 'seeing', 'seek', 'seeking', 'seem', 'seemingly', 'seems', 'seen', 'sees', 'segmentation', 'seizures', 'select', 'selection', 'self', 'selfie', 'sell', 'selling', 'semantic', 'semi', 'semiconductor', 'seminar', 'senior', 'sense', 'sensitive', 'sensor', 'sensors', 'sentence', 'sentences', 'sentient', 'sentiment', 'seo', 'separable', 'separate', 'separation', 'seperate', 'september', 'seq', 'sequence', 'sequences', 'sequential', 'series', 'serious', 'seriously', 'serve', 'server', 'servers', 'service', 'services', 'serving', 'session', 'set', 'seti', 'sets', 'setting', 'settings', 'setup', 'seven', 'several', 'sex', 'sexual', 'sexy', 'sfw', 'sgd', 'shake', 'shallow', 'shanghai', 'shape', 'shapes', 'shaping', 'share', 'shared', 'sharing', 'sheet', 'shift', 'shipping', 'shopping', 'short', 'shortcut', 'shot', 'show', 'showcase', 'showing', 'shows', 'shrink', 'shufti', 'shum', 'shut', 'side', 'siggraph', 'sigmoid', 'sign', 'signal', 'signals', 'signature', 'significance', 'significant', 'signing', 'signs', 'silicon', 'silver', 'simclr', 'similar', 'similarity', 'similarly', 'simple', 'simpler', 'simplest', 'simply', 'simulate', 'simulated', 'simulating', 'simulation', 'simulations', 'simulator', 'since', 'singapore', 'singing', 'single', 'singular', 'singularity', 'singularitynet', 'sir', 'siraj', 'siri', 'site', 'sites', 'situation', 'situations', 'six', 'size', 'sized', 'sizes', 'skepticism', 'sketch', 'sketches', 'skill', 'skilled', 'skills', 'skin', 'sklearn', 'skolemization', 'skynet', 'slack', 'sleep', 'sleeping', 'slides', 'slow', 'slower', 'small', 'smaller', 'smallest', 'smart', 'smarter', 'smartphone', 'smartphones', 'snake', 'snowflake', 'soar', 'soc', 'social', 'society', 'soft', 'softmax', 'software', 'solar', 'soldiers', 'solid', 'solution', 'solutions', 'solve', 'solved', 'solver', 'solves', 'solving', 'somebody', 'someone', 'something', 'sometimes', 'song', 'songs', 'sony', 'soon', 'sophia', 'sophisticated', 'sorry', 'sort', 'sorts', 'sota', 'soul', 'sound', 'soundcloud', 'sounds', 'source', 'sourced', 'sources', 'sourcing', 'south', 'space', 'spaces', 'spacex', 'spacy', 'spam', 'spanish', 'spark', 'sparks', 'sparse', 'sparsity', 'spatial', 'spatio', 'speak', 'speaker', 'speaking', 'speaks', 'special', 'specialization', 'specialized', 'specialty', 'specific', 'specifically', 'spectral', 'speech', 'speeches', 'speed', 'speeding', 'spell', 'spend', 'spiking', 'split', 'splits', 'splitting', 'sponsored', 'sponsorship', 'sports', 'spot', 'spotify', 'spotlight', 'spotted', 'spotting', 'spread', 'spring', 'springer', 'sql', 'sr', 'ssd', 'st', 'stability', 'stable', 'stack', 'stacked', 'stage', 'stages', 'stake', 'stand', 'standard', 'stanford', 'stanza', 'star', 'starcraft', 'stargan', 'stars', 'starsky', 'start', 'started', 'starter', 'starting', 'starts', 'startup', 'startups', 'startx', 'state', 'statement', 'statements', 'states', 'static', 'statistical', 'statistics', 'stats', 'status', 'stay', 'steal', 'steemit', 'steer', 'steering', 'stefan', 'stefy', 'stem', 'stemming', 'step', 'stephen', 'stepping', 'steps', 'stereo', 'steve', 'stick', 'still', 'stochastic', 'stock', 'stocks', 'stoi', 'stop', 'stopped', 'stopping', 'storage', 'store', 'stores', 'stories', 'storms', 'story', 'storytelling', 'straight', 'strategic', 'strategies', 'strategy', 'stream', 'streaming', 'streamline', 'streamlined', 'streamlit', 'streams', 'street', 'strength', 'strengthen', 'strengthening', 'stresses', 'string', 'strong', 'structural', 'structure', 'structured', 'structures', 'struggling', 'stuck', 'student', 'students', 'studies', 'studio', 'study', 'studying', 'stuff', 'stumpy', 'stupid', 'stupidity', 'style', 'stylegan', 'styles', 'sub', 'subject', 'submission', 'submissions', 'submit', 'subreddit', 'subscribe', 'subscribers', 'subscription', 'subset', 'subsets', 'subtitles', 'success', 'successful', 'successfully', 'sucks', 'sudoku', 'sue', 'sues', 'suffering', 'suggest', 'suggesting', 'suggestion', 'suggestions', 'suggests', 'suit', 'suitable', 'suite', 'suited', 'sum', 'summaries', 'summarisation', 'summarization', 'summarizing', 'summary', 'summer', 'summit', 'sunny', 'super', 'supercharge', 'supercomputer', 'superhuman', 'superintelligence', 'superintelligent', 'superior', 'superposition', 'superpower', 'supervised', 'supervisely', 'supervision', 'supplementary', 'supply', 'support', 'supported', 'supports', 'suppress', 'supremacy', 'supreme', 'sure', 'surface', 'surgeries', 'surgery', 'surpass', 'surprising', 'surprisingly', 'surveillance', 'survey', 'surveying', 'surveyors', 'survival', 'survive', 'suspects', 'sustainability', 'sustainable', 'svhn', 'svm', 'swaayatt', 'swap', 'swapping', 'swarm', 'swedish', 'swift', 'switch', 'symbolic', 'symbols', 'symptoms', 'syncedreview', 'syntax', 'synthesis', 'synthesize', 'synthetic', 'system', 'systems', 'tab', 'table', 'tableau', 'tables', 'tablets', 'tabular', 'tac', 'tackle', 'tackles', 'tackling', 'tacotron', 'tactics', 'tag', 'tagging', 'tags', 'tahoe', 'tailored', 'take', 'takeaways', 'taken', 'takeover', 'takes', 'taking', 'talent', 'talk', 'talking', 'talks', 'talktotransformer', 'tank', 'tantullo', 'tao', 'target', 'targeted', 'task', 'tasks', 'taste', 'taught', 'tax', 'taxonomy', 'taylor', 'teach', 'teachers', 'teaches', 'teaching', 'team', 'teams', 'teamwork', 'tech', 'techclub', 'technical', 'technique', 'techniques', 'technologies', 'technology', 'ted', 'telecom', 'telecommunication', 'telecommunications', 'telegram', 'tell', 'tells', 'temperature', 'template', 'templates', 'temporal', 'ten', 'tencent', 'tennis', 'tensor', 'tensorboard', 'tensorflow', 'tensorflowjs', 'tensorrt', 'term', 'terminator', 'terms', 'terrain', 'terrible', 'terrorism', 'tesla', 'tesseract', 'test', 'tested', 'testers', 'testing', 'tests', 'tetris', 'texas', 'text', 'textattack', 'textbook', 'textbooks', 'texts', 'textual', 'texture', 'tf', 'tflite', 'th', 'thakur', 'thank', 'thankful', 'thanks', 'theft', 'theorem', 'theoretic', 'theoretical', 'theory', 'thesis', 'thing', 'things', 'think', 'thinking', 'thinks', 'third', 'thompson', 'though', 'thought', 'thoughts', 'thousand', 'thousands', 'thread', 'threads', 'threat', 'threats', 'three', 'threshold', 'thrive', 'throughout', 'thumbnail', 'thursday', 'thus', 'ti', 'tic', 'ticket', 'tickets', 'tiktok', 'till', 'time', 'timeline', 'times', 'tiny', 'tips', 'tired', 'titan', 'title', 'tlc', 'today', 'todayilearned', 'todays', 'toe', 'togelius', 'together', 'token', 'tokenization', 'told', 'tolerance', 'tom', 'tomorrow', 'took', 'tool', 'toolbox', 'tooling', 'toolkit', 'tools', 'toothbrush', 'top', 'topic', 'topics', 'topology', 'tops', 'torch', 'torchserve', 'toronto', 'total', 'totally', 'touch', 'touching', 'tour', 'tournament', 'toward', 'towards', 'town', 'toxic', 'toxicity', 'tpu', 'tpus', 'track', 'tracker', 'tracking', 'trackmania', 'trade', 'trading', 'traditional', 'traffic', 'trailer', 'train', 'trained', 'training', 'trains', 'traits', 'trajectory', 'transaction', 'transcoder', 'transcription', 'transfer', 'transfers', 'transform', 'transformation', 'transformative', 'transformed', 'transformer', 'transformers', 'transforming', 'transforms', 'transition', 'transitioning', 'translate', 'translated', 'translates', 'translation', 'transparency', 'transparent', 'transport', 'transportation', 'travel', 'treat', 'treatment', 'tree', 'trees', 'tremendous', 'trend', 'trending', 'trends', 'trick', 'tricks', 'tried', 'tries', 'trillion', 'triple', 'trouble', 'truck', 'true', 'truly', 'trump', 'trust', 'trusted', 'trustworthy', 'truth', 'try', 'trying', 'tsetlin', 'tsinghua', 'ttnet', 'tts', 'tune', 'tuning', 'turing', 'turn', 'turned', 'turning', 'turns', 'tutorial', 'tutorials', 'tv', 'tweet', 'tweets', 'twin', 'twitch', 'twitter', 'two', 'type', 'types', 'uai', 'ubcoin', 'uber', 'ubuntu', 'uc', 'udacity', 'udemy', 'ue', 'ui', 'uipath', 'uk', 'ultimate', 'umap', 'un', 'uncertainty', 'unconventional', 'uncover', 'undergrad', 'undergraduate', 'understand', 'understanding', 'understands', 'underwriting', 'unemployment', 'unet', 'unexpected', 'uni', 'unified', 'uniform', 'unifying', 'unique', 'unit', 'united', 'unity', 'universal', 'universe', 'universities', 'university', 'unknown', 'unlabelled', 'unlock', 'unlocking', 'unseen', 'unsupervised', 'unveil', 'unveiling', 'unveils', 'upcoming', 'update', 'updated', 'updates', 'updating', 'upgrade', 'upload', 'uploaded', 'uploading', 'upon', 'ups', 'upscaled', 'upscaling', 'upskilling', 'upto', 'urban', 'urgent', 'us', 'usa', 'usability', 'usage', 'usd', 'use', 'used', 'useful', 'useless', 'user', 'users', 'uses', 'using', 'utd', 'utilities', 'utilize', 'utilized', 'utilizing', 'ux', 'vaccine', 'vae', 'vaes', 'validate', 'validation', 'valley', 'valuable', 'value', 'valued', 'valueerror', 'values', 'van', 'vanilla', 'variable', 'variables', 'variance', 'variational', 'various', 'varying', 'vattenfall', 'vault', 'vc', 'vec', 'vector', 'vectors', 'vehicle', 'vehicles', 'venture', 'verification', 'verify', 'version', 'versus', 'vertical', 'vgg', 'vha', 'via', 'vid', 'video', 'videos', 'view', 'views', 'violence', 'virtual', 'virus', 'visible', 'vision', 'visionary', 'visual', 'visualisation', 'visualization', 'visualizations', 'visualize', 'visualizing', 'visuals', 'viterbi', 'vizonery', 'voice', 'voices', 'volume', 'vr', 'vs', 'vulnerability', 'vulnerable', 'vyas', 'wait', 'waiting', 'walk', 'walking', 'walkthrough', 'wall', 'walmart', 'wanna', 'want', 'wanted', 'wants', 'war', 'warfare', 'warning', 'warns', 'warping', 'wasserstein', 'waste', 'watch', 'watching', 'water', 'watson', 'wave', 'wavenet', 'waves', 'way', 'waymo', 'wayr', 'ways', 'wealth', 'weapon', 'weapons', 'wearing', 'weather', 'web', 'webinar', 'website', 'websites', 'webtunix', 'week', 'weekly', 'weeks', 'weight', 'weighted', 'weighting', 'weights', 'weird', 'weirdo', 'weka', 'welcome', 'well', 'wgan', 'whatsapp', 'whether', 'white', 'whole', 'wholly', 'wich', 'wide', 'wife', 'wikipedia', 'wild', 'williams', 'win', 'windows', 'winner', 'winning', 'wins', 'winter', 'wireless', 'wise', 'wish', 'within', 'without', 'wm', 'wolfram', 'women', 'wonder', 'wonderful', 'wondering', 'wonders', 'word', 'words', 'work', 'worked', 'workers', 'workflow', 'workflows', 'workforce', 'working', 'workings', 'workload', 'workplace', 'works', 'workshop', 'workshops', 'workstation', 'world', 'worlds', 'worldwide', 'worried', 'worry', 'worrying', 'worse', 'worst', 'worth', 'would', 'wrapper', 'write', 'writes', 'writing', 'written', 'wrong', 'wrote', 'www', 'xai', 'xeon', 'xgboost', 'xl', 'xlm', 'xlnet', 'yada', 'yaml', 'yann', 'year', 'years', 'yes', 'yesterday', 'yet', 'yields', 'yo', 'yolo', 'yolov', 'york', 'yoshua', 'youc', 'youengine', 'young', 'youtube', 'zero', 'zoo', 'zoom', 'zuckerberg']\n"
     ]
    }
   ],
   "source": [
    "vocab = vectorizer.get_feature_names()\n",
    "print(vocab)"
   ]
  },
  {
   "cell_type": "code",
   "execution_count": 155,
   "metadata": {},
   "outputs": [],
   "source": [
    "# Import logistic regression.\n",
    "\n",
    "from sklearn.linear_model import LogisticRegression\n",
    "\n",
    "lr = LogisticRegression(penalty='l2', solver = 'liblinear', C = .10)"
   ]
  },
  {
   "cell_type": "code",
   "execution_count": 156,
   "metadata": {},
   "outputs": [
    {
     "data": {
      "text/plain": [
       "LogisticRegression(C=0.1, class_weight=None, dual=False, fit_intercept=True,\n",
       "                   intercept_scaling=1, l1_ratio=None, max_iter=100,\n",
       "                   multi_class='auto', n_jobs=None, penalty='l2',\n",
       "                   random_state=None, solver='liblinear', tol=0.0001, verbose=0,\n",
       "                   warm_start=False)"
      ]
     },
     "execution_count": 156,
     "metadata": {},
     "output_type": "execute_result"
    }
   ],
   "source": [
    "lr.fit(train_data_features, y_train)"
   ]
  },
  {
   "cell_type": "code",
   "execution_count": null,
   "metadata": {},
   "outputs": [],
   "source": [
    "lr."
   ]
  },
  {
   "cell_type": "code",
   "execution_count": 157,
   "metadata": {},
   "outputs": [
    {
     "data": {
      "text/plain": [
       "0.8393920625089333"
      ]
     },
     "execution_count": 157,
     "metadata": {},
     "output_type": "execute_result"
    }
   ],
   "source": [
    "lr.score(train_data_features, y_train)"
   ]
  },
  {
   "cell_type": "code",
   "execution_count": 158,
   "metadata": {},
   "outputs": [
    {
     "data": {
      "text/plain": [
       "0.8200657424610548"
      ]
     },
     "execution_count": 158,
     "metadata": {},
     "output_type": "execute_result"
    }
   ],
   "source": [
    "lr.score(test_data_features, y_test)"
   ]
  },
  {
   "cell_type": "code",
   "execution_count": 154,
   "metadata": {},
   "outputs": [
    {
     "data": {
      "text/plain": [
       "array([[-0.00563485,  0.00382158, -0.65031521, ..., -0.35071622,\n",
       "         0.74403866, -0.62460665]])"
      ]
     },
     "execution_count": 154,
     "metadata": {},
     "output_type": "execute_result"
    }
   ],
   "source": [
    "lr.coef_"
   ]
  },
  {
   "cell_type": "markdown",
   "metadata": {},
   "source": [
    "### **Model 1**"
   ]
  },
  {
   "cell_type": "markdown",
   "metadata": {},
   "source": [
    "Model one LASSO Logistic Regression with alpha = 10 gets a train score of .83 and a test score of .82"
   ]
  },
  {
   "cell_type": "code",
   "execution_count": null,
   "metadata": {},
   "outputs": [],
   "source": []
  },
  {
   "cell_type": "code",
   "execution_count": null,
   "metadata": {},
   "outputs": [],
   "source": []
  },
  {
   "cell_type": "code",
   "execution_count": null,
   "metadata": {},
   "outputs": [],
   "source": []
  },
  {
   "cell_type": "code",
   "execution_count": null,
   "metadata": {},
   "outputs": [],
   "source": []
  }
 ],
 "metadata": {
  "kernelspec": {
   "display_name": "Python 3",
   "language": "python",
   "name": "python3"
  },
  "language_info": {
   "codemirror_mode": {
    "name": "ipython",
    "version": 3
   },
   "file_extension": ".py",
   "mimetype": "text/x-python",
   "name": "python",
   "nbconvert_exporter": "python",
   "pygments_lexer": "ipython3",
   "version": "3.7.6"
  }
 },
 "nbformat": 4,
 "nbformat_minor": 4
}
