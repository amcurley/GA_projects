{
 "cells": [
  {
   "cell_type": "code",
   "execution_count": 28,
   "metadata": {},
   "outputs": [],
   "source": [
    "import requests\n",
    "import pandas as pd"
   ]
  },
  {
   "cell_type": "markdown",
   "metadata": {},
   "source": [
    "## **Machine Learning**"
   ]
  },
  {
   "cell_type": "markdown",
   "metadata": {},
   "source": [
    "This is the api we are using to pull in reddit data. We are using submissions instead of comments since we want the program to determine if a POST is ML or AI."
   ]
  },
  {
   "cell_type": "code",
   "execution_count": 2,
   "metadata": {},
   "outputs": [],
   "source": [
    "url = 'https://api.pushshift.io/reddit/search/submission'"
   ]
  },
  {
   "cell_type": "markdown",
   "metadata": {},
   "source": [
    "These are the parameters for the api. We are looking through the \"MachineLearning\" subreddit so we have to make that known in the parameters dictionary."
   ]
  },
  {
   "cell_type": "code",
   "execution_count": 3,
   "metadata": {},
   "outputs": [],
   "source": [
    "# https://api.pushshift.io/reddit/search/submission?subreddit=MachineLearning\n",
    "params_ml = {\n",
    "    'subreddit': 'MachineLearning',\n",
    "    'size': 500,\n",
    "    'after': \n",
    "    }"
   ]
  },
  {
   "cell_type": "code",
   "execution_count": 4,
   "metadata": {},
   "outputs": [
    {
     "data": {
      "text/plain": [
       "200"
      ]
     },
     "execution_count": 4,
     "metadata": {},
     "output_type": "execute_result"
    }
   ],
   "source": [
    "res = requests.get(url, params = params_ml)\n",
    "res.status_code"
   ]
  },
  {
   "cell_type": "markdown",
   "metadata": {},
   "source": [
    "Now we check to see how much the api pulled for us. It pulled 25 submissions from the \"MachineLearning\" subreddit."
   ]
  },
  {
   "cell_type": "code",
   "execution_count": 5,
   "metadata": {},
   "outputs": [
    {
     "data": {
      "text/plain": [
       "100"
      ]
     },
     "execution_count": 5,
     "metadata": {},
     "output_type": "execute_result"
    }
   ],
   "source": [
    "len(res.json()['data'])"
   ]
  },
  {
   "cell_type": "code",
   "execution_count": 6,
   "metadata": {},
   "outputs": [],
   "source": [
    "data = res.json()"
   ]
  },
  {
   "cell_type": "code",
   "execution_count": 7,
   "metadata": {},
   "outputs": [],
   "source": [
    "# res.json()['data'][0]"
   ]
  },
  {
   "cell_type": "code",
   "execution_count": 34,
   "metadata": {},
   "outputs": [],
   "source": [
    "def get_data(subreddit, how_many):\n",
    "    posts = []\n",
    "    after = None\n",
    "    \n",
    "    for xi in range(how_many):\n",
    "        if after == None:\n",
    "            params = {'subreddit': subreddit}\n",
    "    \n",
    "        else:\n",
    "            after = 1546300800 # After January 01, 2019\n",
    "            params = {'subreddit': subreddit,\n",
    "                     'after': after}\n",
    "        res = requests.get(url,params=params,headers=header)\n",
    "  \n",
    "        \n",
    "    return params"
   ]
  },
  {
   "cell_type": "code",
   "execution_count": 35,
   "metadata": {},
   "outputs": [
    {
     "data": {
      "text/plain": [
       "{'subreddit': 'MachineLearning'}"
      ]
     },
     "execution_count": 35,
     "metadata": {},
     "output_type": "execute_result"
    }
   ],
   "source": [
    "get_data('MachineLearning', 100)"
   ]
  },
  {
   "cell_type": "code",
   "execution_count": null,
   "metadata": {},
   "outputs": [],
   "source": []
  },
  {
   "cell_type": "code",
   "execution_count": null,
   "metadata": {},
   "outputs": [],
   "source": []
  },
  {
   "cell_type": "code",
   "execution_count": 46,
   "metadata": {},
   "outputs": [
    {
     "data": {
      "text/plain": [
       "'While learning about with different approaches to estimating uncertainty for convolutional neural networks, I have come across a few different papers using Monte Carlo dropout. This got me wondering if one should necessary use dropout both during training and test time for estimating uncertainty well for a model or if using dropout just at inference to estimate uncertainty would suffice. A lot of papers I have read show the former but is the latter a reasonable way to approach uncertainty estimation? If not, why is that?'"
      ]
     },
     "execution_count": 46,
     "metadata": {},
     "output_type": "execute_result"
    }
   ],
   "source": [
    "url = 'https://api.pushshift.io/reddit/search/submission'\n",
    "utc_codes = []\n",
    "params_ml = {\n",
    "            'subreddit': 'MachineLearning',\n",
    "            'size': 500,\n",
    "            }\n",
    "\n",
    "res_ml = requests.get(url, params_ml)\n",
    "data_ml = res_ml.json()\n",
    "\n",
    "posts_ml = data_ml['data']\n",
    "ml_df = pd.DataFrame(posts_ml)\n",
    "ml_1st = ml_df[['subreddit', 'title', 'selftext', 'created_utc']]\n",
    "\n",
    "utc_codes.append(ml_1st['created_utc'].min() - 1)\n",
    "\n",
    "while len(utc_codes) < 5:\n",
    "    for n in utc_codes:\n",
    "        params_ml = {\n",
    "    'subreddit': 'MachineLearning',\n",
    "    'size': 500,\n",
    "    'before': n\n",
    "    }\n",
    "\n",
    "    res_ml = requests.get(url, params_ml)\n",
    "\n",
    "    data_ml = res_ml.json()\n",
    "\n",
    "    posts_ml = data_ml['data']\n",
    "    ml_df = pd.DataFrame(posts_ml)\n",
    "    ml_2nd = ml_df[['subreddit', 'title', 'selftext', 'created_utc']]\n",
    "\n",
    "    utc_codes.append(ml_2nd['created_utc'].min() - 1)\n",
    "\n",
    "    new_df = ml_1st.append(ml_2nd).reset_index()\n",
    "    \n",
    "#     time.sleep(60)\n",
    "\n",
    "posts_ml[0]['selftext']"
   ]
  },
  {
   "cell_type": "markdown",
   "metadata": {},
   "source": [
    "## **Artificial Inteligence**"
   ]
  },
  {
   "cell_type": "code",
   "execution_count": null,
   "metadata": {},
   "outputs": [],
   "source": [
    "params_ai = {\n",
    "    'subreddit': 'ArtificialInteligence',\n",
    "    'size': 100\n",
    "}"
   ]
  },
  {
   "cell_type": "code",
   "execution_count": null,
   "metadata": {},
   "outputs": [],
   "source": [
    "res_ai = requests.get(url, params_ai)\n",
    "# res_ai.status_code"
   ]
  },
  {
   "cell_type": "code",
   "execution_count": null,
   "metadata": {},
   "outputs": [],
   "source": [
    "data_ai = res_ai.json()"
   ]
  },
  {
   "cell_type": "code",
   "execution_count": null,
   "metadata": {},
   "outputs": [],
   "source": [
    "posts_ai = data_ai['data']"
   ]
  },
  {
   "cell_type": "code",
   "execution_count": null,
   "metadata": {},
   "outputs": [],
   "source": [
    "posts_ai[0]['created_utc']"
   ]
  },
  {
   "cell_type": "code",
   "execution_count": null,
   "metadata": {},
   "outputs": [],
   "source": [
    "len(posts_ai)"
   ]
  },
  {
   "cell_type": "code",
   "execution_count": null,
   "metadata": {},
   "outputs": [],
   "source": [
    "ai_df = pd.DataFrame(posts_ai)"
   ]
  },
  {
   "cell_type": "code",
   "execution_count": null,
   "metadata": {},
   "outputs": [],
   "source": [
    "ai = ai_df[['subreddit', 'title', 'selftext', 'created_utc']]"
   ]
  },
  {
   "cell_type": "code",
   "execution_count": null,
   "metadata": {},
   "outputs": [],
   "source": [
    "ai.head(1)"
   ]
  },
  {
   "cell_type": "code",
   "execution_count": null,
   "metadata": {},
   "outputs": [],
   "source": []
  },
  {
   "cell_type": "code",
   "execution_count": null,
   "metadata": {},
   "outputs": [],
   "source": []
  },
  {
   "cell_type": "code",
   "execution_count": null,
   "metadata": {},
   "outputs": [],
   "source": []
  },
  {
   "cell_type": "code",
   "execution_count": null,
   "metadata": {},
   "outputs": [],
   "source": []
  },
  {
   "cell_type": "code",
   "execution_count": null,
   "metadata": {},
   "outputs": [],
   "source": []
  },
  {
   "cell_type": "code",
   "execution_count": 30,
   "metadata": {},
   "outputs": [],
   "source": [
    "def subreddit(sub1, sub2):\n",
    "#     utc_codes_ai = []\n",
    "#     utc_codes_ml = []\n",
    "\n",
    "    params_ai = {\n",
    "    'subreddit': sub1,\n",
    "    'size': 100,\n",
    "#     'before': 30d\n",
    "    }\n",
    "\n",
    "    # ML\n",
    "    params_ml = {\n",
    "        'subreddit': sub2,\n",
    "        'size': 100,\n",
    "    }\n",
    "\n",
    "#   Get Url & Paramters\n",
    "    # AI\n",
    "    res_ai = requests.get(url, params_ai)\n",
    "    # ML\n",
    "    res_ml = requests.get(url, params_ml)\n",
    "\n",
    "#   Get the data from res\n",
    "    # AI\n",
    "    data_ai = res_ai.json()\n",
    "    # ML\n",
    "    data_ml = res_ml.json()\n",
    "\n",
    "#   Get the posts from data\n",
    "    # AI\n",
    "    posts_ai = data_ai['data']\n",
    "    # ML\n",
    "    posts_ml = data_ml['data']\n",
    "\n",
    "#   Append UTC code to list\n",
    "#     utc_codes_ai.append(posts_ai[-1]['created_utc'])\n",
    "\n",
    "#   Create post dataframe\n",
    "    # AI\n",
    "    ai_df = pd.DataFrame(posts_ai)\n",
    "    # ML\n",
    "    ml_df = pd.DataFrame(posts_ml)\n",
    "\n",
    "#   New Dataframe with only features we need\n",
    "    # AI\n",
    "    ai = ai_df[['subreddit', 'title', 'selftext']]\n",
    "    # ML\n",
    "    ml = ml_df[['subreddit', 'title', 'selftext']]\n",
    "\n",
    "\n",
    "    return ai"
   ]
  },
  {
   "cell_type": "code",
   "execution_count": 31,
   "metadata": {},
   "outputs": [
    {
     "data": {
      "text/html": [
       "<div>\n",
       "<style scoped>\n",
       "    .dataframe tbody tr th:only-of-type {\n",
       "        vertical-align: middle;\n",
       "    }\n",
       "\n",
       "    .dataframe tbody tr th {\n",
       "        vertical-align: top;\n",
       "    }\n",
       "\n",
       "    .dataframe thead th {\n",
       "        text-align: right;\n",
       "    }\n",
       "</style>\n",
       "<table border=\"1\" class=\"dataframe\">\n",
       "  <thead>\n",
       "    <tr style=\"text-align: right;\">\n",
       "      <th></th>\n",
       "      <th>subreddit</th>\n",
       "      <th>title</th>\n",
       "      <th>selftext</th>\n",
       "    </tr>\n",
       "  </thead>\n",
       "  <tbody>\n",
       "    <tr>\n",
       "      <th>0</th>\n",
       "      <td>ArtificialInteligence</td>\n",
       "      <td>White House budget proposal would hike AI and ...</td>\n",
       "      <td></td>\n",
       "    </tr>\n",
       "    <tr>\n",
       "      <th>1</th>\n",
       "      <td>ArtificialInteligence</td>\n",
       "      <td>History of AI mathematical logic</td>\n",
       "      <td></td>\n",
       "    </tr>\n",
       "    <tr>\n",
       "      <th>2</th>\n",
       "      <td>ArtificialInteligence</td>\n",
       "      <td>Artificial Intelligence Books For Beginners | ...</td>\n",
       "      <td>\\n\\nhttps://preview.redd.it/th4cwej2yeh51.jpg...</td>\n",
       "    </tr>\n",
       "    <tr>\n",
       "      <th>3</th>\n",
       "      <td>ArtificialInteligence</td>\n",
       "      <td>What are AI and RPA and how do they complement...</td>\n",
       "      <td></td>\n",
       "    </tr>\n",
       "    <tr>\n",
       "      <th>4</th>\n",
       "      <td>ArtificialInteligence</td>\n",
       "      <td>AI is Helping Brazil Fight COVID-19 &amp;amp; Auto...</td>\n",
       "      <td>\\n\\nhttps://preview.redd.it/inp6uhjcleh51.jpg...</td>\n",
       "    </tr>\n",
       "    <tr>\n",
       "      <th>...</th>\n",
       "      <td>...</td>\n",
       "      <td>...</td>\n",
       "      <td>...</td>\n",
       "    </tr>\n",
       "    <tr>\n",
       "      <th>95</th>\n",
       "      <td>ArtificialInteligence</td>\n",
       "      <td>AI in architecture Survey</td>\n",
       "      <td>Would you guys like to live in a 100 storey bu...</td>\n",
       "    </tr>\n",
       "    <tr>\n",
       "      <th>96</th>\n",
       "      <td>ArtificialInteligence</td>\n",
       "      <td>AIs from AI Dungeon 2 to sexy to funny and one...</td>\n",
       "      <td>[ANN] VAST improvement - (SEXY?? I tried retra...</td>\n",
       "    </tr>\n",
       "    <tr>\n",
       "      <th>97</th>\n",
       "      <td>ArtificialInteligence</td>\n",
       "      <td>I am a Senior Fellow at the Center for a New A...</td>\n",
       "      <td></td>\n",
       "    </tr>\n",
       "    <tr>\n",
       "      <th>98</th>\n",
       "      <td>ArtificialInteligence</td>\n",
       "      <td>Artificial Intelligence-Based Analytics for Di...</td>\n",
       "      <td></td>\n",
       "    </tr>\n",
       "    <tr>\n",
       "      <th>99</th>\n",
       "      <td>ArtificialInteligence</td>\n",
       "      <td>Top 5 Sectors That Will See a Transformation W...</td>\n",
       "      <td></td>\n",
       "    </tr>\n",
       "  </tbody>\n",
       "</table>\n",
       "<p>100 rows × 3 columns</p>\n",
       "</div>"
      ],
      "text/plain": [
       "                subreddit                                              title  \\\n",
       "0   ArtificialInteligence  White House budget proposal would hike AI and ...   \n",
       "1   ArtificialInteligence                   History of AI mathematical logic   \n",
       "2   ArtificialInteligence  Artificial Intelligence Books For Beginners | ...   \n",
       "3   ArtificialInteligence  What are AI and RPA and how do they complement...   \n",
       "4   ArtificialInteligence  AI is Helping Brazil Fight COVID-19 &amp; Auto...   \n",
       "..                    ...                                                ...   \n",
       "95  ArtificialInteligence                          AI in architecture Survey   \n",
       "96  ArtificialInteligence  AIs from AI Dungeon 2 to sexy to funny and one...   \n",
       "97  ArtificialInteligence  I am a Senior Fellow at the Center for a New A...   \n",
       "98  ArtificialInteligence  Artificial Intelligence-Based Analytics for Di...   \n",
       "99  ArtificialInteligence  Top 5 Sectors That Will See a Transformation W...   \n",
       "\n",
       "                                             selftext  \n",
       "0                                                      \n",
       "1                                                      \n",
       "2    \\n\\nhttps://preview.redd.it/th4cwej2yeh51.jpg...  \n",
       "3                                                      \n",
       "4    \\n\\nhttps://preview.redd.it/inp6uhjcleh51.jpg...  \n",
       "..                                                ...  \n",
       "95  Would you guys like to live in a 100 storey bu...  \n",
       "96  [ANN] VAST improvement - (SEXY?? I tried retra...  \n",
       "97                                                     \n",
       "98                                                     \n",
       "99                                                     \n",
       "\n",
       "[100 rows x 3 columns]"
      ]
     },
     "execution_count": 31,
     "metadata": {},
     "output_type": "execute_result"
    }
   ],
   "source": [
    "subreddit('ArtificialInteligence', 'MachineLearning')"
   ]
  },
  {
   "cell_type": "code",
   "execution_count": null,
   "metadata": {},
   "outputs": [],
   "source": [
    "ai_ml = ai.append(ml).reset_index()"
   ]
  },
  {
   "cell_type": "code",
   "execution_count": null,
   "metadata": {},
   "outputs": [],
   "source": [
    "ai_ml"
   ]
  },
  {
   "cell_type": "code",
   "execution_count": null,
   "metadata": {},
   "outputs": [],
   "source": []
  },
  {
   "cell_type": "code",
   "execution_count": null,
   "metadata": {},
   "outputs": [],
   "source": []
  },
  {
   "cell_type": "code",
   "execution_count": null,
   "metadata": {},
   "outputs": [],
   "source": []
  },
  {
   "cell_type": "code",
   "execution_count": null,
   "metadata": {},
   "outputs": [],
   "source": []
  },
  {
   "cell_type": "code",
   "execution_count": null,
   "metadata": {},
   "outputs": [],
   "source": []
  }
 ],
 "metadata": {
  "kernelspec": {
   "display_name": "Python 3",
   "language": "python",
   "name": "python3"
  },
  "language_info": {
   "codemirror_mode": {
    "name": "ipython",
    "version": 3
   },
   "file_extension": ".py",
   "mimetype": "text/x-python",
   "name": "python",
   "nbconvert_exporter": "python",
   "pygments_lexer": "ipython3",
   "version": "3.7.6"
  }
 },
 "nbformat": 4,
 "nbformat_minor": 4
}
