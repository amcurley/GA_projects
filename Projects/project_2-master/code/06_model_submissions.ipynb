{
 "cells": [
  {
   "cell_type": "code",
   "execution_count": 443,
   "metadata": {},
   "outputs": [],
   "source": [
    "import pandas as pd\n",
    "import numpy as np\n",
    "import matplotlib.pyplot as plt\n",
    "import seaborn as sns\n",
    "from sklearn.linear_model import LinearRegression\n",
    "from sklearn import metrics\n",
    "from sklearn.metrics import mean_squared_error\n",
    "from sklearn.model_selection import train_test_split, cross_val_score\n",
    "from sklearn.preprocessing import PolynomialFeatures\n",
    "from sklearn.model_selection import train_test_split\n",
    "from sklearn.preprocessing import StandardScaler\n",
    "from sklearn.linear_model import Ridge"
   ]
  },
  {
   "cell_type": "code",
   "execution_count": 444,
   "metadata": {},
   "outputs": [],
   "source": [
    "# Lets bring in trained df for the 'SalePrice'\n",
    "train_df = pd.read_csv('../project_2-master/data/train.csv')"
   ]
  },
  {
   "cell_type": "code",
   "execution_count": 445,
   "metadata": {},
   "outputs": [],
   "source": [
    "# For the baseline score\n",
    "test_df = pd.read_csv('../project_2-master/data/test.csv')"
   ]
  },
  {
   "cell_type": "code",
   "execution_count": 446,
   "metadata": {},
   "outputs": [],
   "source": [
    "# Lets read in the cleaned trained df\n",
    "merged_train = pd.read_csv('../project_2-master/data/merged_train.csv')\n",
    "# Lets read in the cleaned test df\n",
    "merged_test = pd.read_csv('../project_2-master/data/merged_test.csv')"
   ]
  },
  {
   "cell_type": "code",
   "execution_count": 447,
   "metadata": {},
   "outputs": [
    {
     "data": {
      "text/html": [
       "<div>\n",
       "<style scoped>\n",
       "    .dataframe tbody tr th:only-of-type {\n",
       "        vertical-align: middle;\n",
       "    }\n",
       "\n",
       "    .dataframe tbody tr th {\n",
       "        vertical-align: top;\n",
       "    }\n",
       "\n",
       "    .dataframe thead th {\n",
       "        text-align: right;\n",
       "    }\n",
       "</style>\n",
       "<table border=\"1\" class=\"dataframe\">\n",
       "  <thead>\n",
       "    <tr style=\"text-align: right;\">\n",
       "      <th></th>\n",
       "      <th>Id</th>\n",
       "      <th>Total Bsmt SF</th>\n",
       "      <th>1st Flr SF</th>\n",
       "      <th>Gr Liv Area</th>\n",
       "      <th>Garage Area</th>\n",
       "      <th>Neighborhood_Blueste</th>\n",
       "      <th>Neighborhood_BrDale</th>\n",
       "      <th>Neighborhood_BrkSide</th>\n",
       "      <th>Neighborhood_ClearCr</th>\n",
       "      <th>Neighborhood_CollgCr</th>\n",
       "      <th>...</th>\n",
       "      <th>Bsmt Qual</th>\n",
       "      <th>Kitchen Qual</th>\n",
       "      <th>Year Built</th>\n",
       "      <th>Full Bath</th>\n",
       "      <th>TotRms AbvGrd</th>\n",
       "      <th>Garage Cars</th>\n",
       "      <th>Grla_tbsf</th>\n",
       "      <th>ovl_ext</th>\n",
       "      <th>ovl_area</th>\n",
       "      <th>gr_ga</th>\n",
       "    </tr>\n",
       "  </thead>\n",
       "  <tbody>\n",
       "    <tr>\n",
       "      <th>0</th>\n",
       "      <td>109</td>\n",
       "      <td>725.0</td>\n",
       "      <td>725</td>\n",
       "      <td>1479</td>\n",
       "      <td>475.0</td>\n",
       "      <td>0</td>\n",
       "      <td>0</td>\n",
       "      <td>0</td>\n",
       "      <td>0</td>\n",
       "      <td>0</td>\n",
       "      <td>...</td>\n",
       "      <td>3</td>\n",
       "      <td>4</td>\n",
       "      <td>1976</td>\n",
       "      <td>2</td>\n",
       "      <td>6</td>\n",
       "      <td>2.0</td>\n",
       "      <td>1072275.0</td>\n",
       "      <td>24</td>\n",
       "      <td>8874</td>\n",
       "      <td>702525.0</td>\n",
       "    </tr>\n",
       "  </tbody>\n",
       "</table>\n",
       "<p>1 rows × 42 columns</p>\n",
       "</div>"
      ],
      "text/plain": [
       "    Id  Total Bsmt SF  1st Flr SF  Gr Liv Area  Garage Area  \\\n",
       "0  109          725.0         725         1479        475.0   \n",
       "\n",
       "   Neighborhood_Blueste  Neighborhood_BrDale  Neighborhood_BrkSide  \\\n",
       "0                     0                    0                     0   \n",
       "\n",
       "   Neighborhood_ClearCr  Neighborhood_CollgCr  ...  Bsmt Qual  Kitchen Qual  \\\n",
       "0                     0                     0  ...          3             4   \n",
       "\n",
       "   Year Built  Full Bath  TotRms AbvGrd  Garage Cars  Grla_tbsf  ovl_ext  \\\n",
       "0        1976          2              6          2.0  1072275.0       24   \n",
       "\n",
       "   ovl_area     gr_ga  \n",
       "0      8874  702525.0  \n",
       "\n",
       "[1 rows x 42 columns]"
      ]
     },
     "execution_count": 447,
     "metadata": {},
     "output_type": "execute_result"
    }
   ],
   "source": [
    "merged_train.head(1)"
   ]
  },
  {
   "cell_type": "code",
   "execution_count": 448,
   "metadata": {},
   "outputs": [
    {
     "data": {
      "text/html": [
       "<div>\n",
       "<style scoped>\n",
       "    .dataframe tbody tr th:only-of-type {\n",
       "        vertical-align: middle;\n",
       "    }\n",
       "\n",
       "    .dataframe tbody tr th {\n",
       "        vertical-align: top;\n",
       "    }\n",
       "\n",
       "    .dataframe thead th {\n",
       "        text-align: right;\n",
       "    }\n",
       "</style>\n",
       "<table border=\"1\" class=\"dataframe\">\n",
       "  <thead>\n",
       "    <tr style=\"text-align: right;\">\n",
       "      <th></th>\n",
       "      <th>Id</th>\n",
       "      <th>Total Bsmt SF</th>\n",
       "      <th>1st Flr SF</th>\n",
       "      <th>Gr Liv Area</th>\n",
       "      <th>Garage Area</th>\n",
       "      <th>Neighborhood_Blueste</th>\n",
       "      <th>Neighborhood_BrDale</th>\n",
       "      <th>Neighborhood_BrkSide</th>\n",
       "      <th>Neighborhood_ClearCr</th>\n",
       "      <th>Neighborhood_CollgCr</th>\n",
       "      <th>...</th>\n",
       "      <th>Bsmt Qual</th>\n",
       "      <th>Kitchen Qual</th>\n",
       "      <th>Year Built</th>\n",
       "      <th>Full Bath</th>\n",
       "      <th>TotRms AbvGrd</th>\n",
       "      <th>Garage Cars</th>\n",
       "      <th>Grla_tbsf</th>\n",
       "      <th>ovl_ext</th>\n",
       "      <th>ovl_area</th>\n",
       "      <th>gr_ga</th>\n",
       "    </tr>\n",
       "  </thead>\n",
       "  <tbody>\n",
       "    <tr>\n",
       "      <th>0</th>\n",
       "      <td>2658</td>\n",
       "      <td>1020</td>\n",
       "      <td>908</td>\n",
       "      <td>1928</td>\n",
       "      <td>440</td>\n",
       "      <td>0</td>\n",
       "      <td>0</td>\n",
       "      <td>0</td>\n",
       "      <td>0</td>\n",
       "      <td>0</td>\n",
       "      <td>...</td>\n",
       "      <td>2</td>\n",
       "      <td>2</td>\n",
       "      <td>1910</td>\n",
       "      <td>2</td>\n",
       "      <td>9</td>\n",
       "      <td>1</td>\n",
       "      <td>1966560</td>\n",
       "      <td>18</td>\n",
       "      <td>11568</td>\n",
       "      <td>848320</td>\n",
       "    </tr>\n",
       "  </tbody>\n",
       "</table>\n",
       "<p>1 rows × 42 columns</p>\n",
       "</div>"
      ],
      "text/plain": [
       "     Id  Total Bsmt SF  1st Flr SF  Gr Liv Area  Garage Area  \\\n",
       "0  2658           1020         908         1928          440   \n",
       "\n",
       "   Neighborhood_Blueste  Neighborhood_BrDale  Neighborhood_BrkSide  \\\n",
       "0                     0                    0                     0   \n",
       "\n",
       "   Neighborhood_ClearCr  Neighborhood_CollgCr  ...  Bsmt Qual  Kitchen Qual  \\\n",
       "0                     0                     0  ...          2             2   \n",
       "\n",
       "   Year Built  Full Bath  TotRms AbvGrd  Garage Cars  Grla_tbsf  ovl_ext  \\\n",
       "0        1910          2              9            1    1966560       18   \n",
       "\n",
       "   ovl_area   gr_ga  \n",
       "0     11568  848320  \n",
       "\n",
       "[1 rows x 42 columns]"
      ]
     },
     "execution_count": 448,
     "metadata": {},
     "output_type": "execute_result"
    }
   ],
   "source": [
    "merged_test.head(1)"
   ]
  },
  {
   "cell_type": "markdown",
   "metadata": {},
   "source": [
    "## Investment Regression"
   ]
  },
  {
   "cell_type": "code",
   "execution_count": 449,
   "metadata": {},
   "outputs": [],
   "source": [
    "def linear_regression(train, test, saleprice):\n",
    "\n",
    "# SET 'Id' AS THE INDEX\n",
    "    train.set_index('Id', inplace=True)\n",
    "    test.set_index('Id', inplace=True)\n",
    "\n",
    "# CREATING X AND y\n",
    "    X = train[train.columns[1:]]\n",
    "    y = saleprice['SalePrice']\n",
    "    \n",
    "# POLYNOMIAL FEATURE ENGINEERING\n",
    "    # Instantiate our PolynomialFeatures object to create all two-way terms.\n",
    "#     poly = PolynomialFeatures(degree=2, interaction_only=False, include_bias=False)\n",
    "\n",
    "    # Fit and transform our X data.\n",
    "#     X_overfit = poly.fit_transform(X[train.columns[1:7]])\n",
    "\n",
    "# TRAIN, TEST, SPLIT\n",
    "    # train, test, split\n",
    "    X_train, X_test, y_train, y_test = train_test_split(X, y, random_state = 42, train_size = .90)\n",
    "    \n",
    "    #  Instantiate the model\n",
    "    lr = LinearRegression()\n",
    "    \n",
    "    # Fit the model\n",
    "    lr.fit(X_train, y_train)\n",
    "    \n",
    "    # Predict the model\n",
    "    y_pred_train = lr.predict(X_train)\n",
    "    y_pred_test = lr.predict(X_test)\n",
    "    \n",
    "    coefs = lr.coef_\n",
    "    \n",
    "    # Get the RMSE\n",
    "    print(f\"The RMSE for X_train is {mean_squared_error(y_train, y_pred_train, squared=False)}\")\n",
    "    print(f\"The RMSE for X_test is {mean_squared_error(y_test, y_pred_test, squared=False)}\")\n",
    "    \n",
    "# KAGGLE SUBMISSION STEPS\n",
    "\n",
    "    # Set my merged_test to kaggle\n",
    "    kaggle_predict = merged_test[merged_test.columns[1:]]\n",
    "    \n",
    "    # Predict 'SalePrice' with our model\n",
    "    kaggle_predict['SalePrice'] = lr.predict(kaggle_predict)\n",
    "    \n",
    "#     resids = y - kaggle_predict['SalePrice']\n",
    "    \n",
    "    output = kaggle_predict[['SalePrice']]\n",
    "    \n",
    "    output.to_csv('../project_2-master/data/new_submission.csv')\n",
    "    \n",
    "    return resids.isna().sum()"
   ]
  },
  {
   "cell_type": "code",
   "execution_count": 450,
   "metadata": {},
   "outputs": [
    {
     "name": "stdout",
     "output_type": "stream",
     "text": [
      "The RMSE for X_train is 29808.49718894459\n",
      "The RMSE for X_test is 30517.328043451882\n"
     ]
    },
    {
     "data": {
      "text/plain": [
       "1701"
      ]
     },
     "execution_count": 450,
     "metadata": {},
     "output_type": "execute_result"
    }
   ],
   "source": [
    "linear_regression(merged_train, merged_test, train_df)"
   ]
  },
  {
   "cell_type": "markdown",
   "metadata": {},
   "source": [
    "## Ridge Regresssion"
   ]
  },
  {
   "cell_type": "code",
   "execution_count": 365,
   "metadata": {},
   "outputs": [],
   "source": [
    "def ridge_regression(train, test, saleprice):\n",
    "\n",
    "# SET 'Id' AS THE INDEX\n",
    "    train.set_index('Id', inplace=True)\n",
    "    test.set_index('Id', inplace=True)\n",
    "\n",
    "# CREATING X AND y\n",
    "    X = train[train.columns[1:]]\n",
    "    y = saleprice['SalePrice']\n",
    "\n",
    "# TRAIN, TEST, SPLIT\n",
    "    # train, test, split\n",
    "    X_train, X_test, y_train, y_test = train_test_split(X, y, random_state = 42, train_size = .90)\n",
    "    \n",
    "    \n",
    "# STANDARD SCALER\n",
    "    # Relabeling scaled data as \"Z\" is common.\n",
    "    sc = StandardScaler()\n",
    "    Z_train = sc.fit_transform(X_train)\n",
    "    Z_test = sc.transform(X_test)\n",
    "\n",
    "\n",
    "    # Instantiate.\n",
    "    ridge_model = Ridge(alpha=10)\n",
    "\n",
    "    # Fit.\n",
    "    ridge_model.fit(Z_train, y_train)\n",
    "\n",
    "    # Evaluate model using R2.\n",
    "    z_tet= print(ridge_model.score(Z_train, y_train))\n",
    "    z_tot = print(ridge_model.score(Z_test, y_test))\n",
    "\n",
    "\n",
    "# KAGGLE SUBMISSION STEPS\n",
    "\n",
    "    # Set my merged_test to kaggle\n",
    "    kaggle_predict = merged_test[merged_test.columns[1:]]\n",
    "    \n",
    "    # Predict 'SalePrice' with our model\n",
    "    kaggle_predict['SalePrice'] = ridge_model.predict(kaggle_predict)\n",
    "    \n",
    "    \n",
    "    output = kaggle_predict[['SalePrice']]\n",
    "    \n",
    "    output.to_csv('../project_2-master/data/ridge_submission.csv')\n",
    "    \n",
    "    return output"
   ]
  },
  {
   "cell_type": "code",
   "execution_count": 366,
   "metadata": {},
   "outputs": [
    {
     "name": "stdout",
     "output_type": "stream",
     "text": [
      "0.8574369588674452\n",
      "0.847941030564203\n"
     ]
    },
    {
     "data": {
      "text/html": [
       "<div>\n",
       "<style scoped>\n",
       "    .dataframe tbody tr th:only-of-type {\n",
       "        vertical-align: middle;\n",
       "    }\n",
       "\n",
       "    .dataframe tbody tr th {\n",
       "        vertical-align: top;\n",
       "    }\n",
       "\n",
       "    .dataframe thead th {\n",
       "        text-align: right;\n",
       "    }\n",
       "</style>\n",
       "<table border=\"1\" class=\"dataframe\">\n",
       "  <thead>\n",
       "    <tr style=\"text-align: right;\">\n",
       "      <th></th>\n",
       "      <th>SalePrice</th>\n",
       "    </tr>\n",
       "    <tr>\n",
       "      <th>Id</th>\n",
       "      <th></th>\n",
       "    </tr>\n",
       "  </thead>\n",
       "  <tbody>\n",
       "    <tr>\n",
       "      <th>2658</th>\n",
       "      <td>-3.657231e+10</td>\n",
       "    </tr>\n",
       "    <tr>\n",
       "      <th>2718</th>\n",
       "      <td>-7.251554e+10</td>\n",
       "    </tr>\n",
       "    <tr>\n",
       "      <th>2414</th>\n",
       "      <td>-1.798264e+10</td>\n",
       "    </tr>\n",
       "    <tr>\n",
       "      <th>1989</th>\n",
       "      <td>-1.744055e+10</td>\n",
       "    </tr>\n",
       "    <tr>\n",
       "      <th>625</th>\n",
       "      <td>-3.626117e+10</td>\n",
       "    </tr>\n",
       "    <tr>\n",
       "      <th>...</th>\n",
       "      <td>...</td>\n",
       "    </tr>\n",
       "    <tr>\n",
       "      <th>1662</th>\n",
       "      <td>-3.786665e+10</td>\n",
       "    </tr>\n",
       "    <tr>\n",
       "      <th>1234</th>\n",
       "      <td>-4.085717e+10</td>\n",
       "    </tr>\n",
       "    <tr>\n",
       "      <th>1373</th>\n",
       "      <td>-2.145691e+10</td>\n",
       "    </tr>\n",
       "    <tr>\n",
       "      <th>1672</th>\n",
       "      <td>-1.390799e+10</td>\n",
       "    </tr>\n",
       "    <tr>\n",
       "      <th>1939</th>\n",
       "      <td>-1.588087e+10</td>\n",
       "    </tr>\n",
       "  </tbody>\n",
       "</table>\n",
       "<p>878 rows × 1 columns</p>\n",
       "</div>"
      ],
      "text/plain": [
       "         SalePrice\n",
       "Id                \n",
       "2658 -3.657231e+10\n",
       "2718 -7.251554e+10\n",
       "2414 -1.798264e+10\n",
       "1989 -1.744055e+10\n",
       "625  -3.626117e+10\n",
       "...            ...\n",
       "1662 -3.786665e+10\n",
       "1234 -4.085717e+10\n",
       "1373 -2.145691e+10\n",
       "1672 -1.390799e+10\n",
       "1939 -1.588087e+10\n",
       "\n",
       "[878 rows x 1 columns]"
      ]
     },
     "execution_count": 366,
     "metadata": {},
     "output_type": "execute_result"
    }
   ],
   "source": [
    "ridge_regression(merged_train, merged_test, train_df)"
   ]
  },
  {
   "cell_type": "markdown",
   "metadata": {},
   "source": [
    "## Baseline Score"
   ]
  },
  {
   "cell_type": "code",
   "execution_count": 397,
   "metadata": {},
   "outputs": [],
   "source": [
    "def baseline_score(train, test, saleprice):\n",
    "\n",
    "# CREATING X AND y\n",
    "    X = train[train.columns[1:]]\n",
    "    y = saleprice['SalePrice']\n",
    "    \n",
    "    y_bar = np.mean(y)\n",
    "    \n",
    "    null_mse = np.mean((y - y_bar)**2)\n",
    "\n",
    "\n",
    "    return null_mse"
   ]
  },
  {
   "cell_type": "code",
   "execution_count": 398,
   "metadata": {},
   "outputs": [
    {
     "data": {
      "text/plain": [
       "6278872217.837828"
      ]
     },
     "execution_count": 398,
     "metadata": {},
     "output_type": "execute_result"
    }
   ],
   "source": [
    "baseline_score(train_df, test_df, train_df)"
   ]
  },
  {
   "cell_type": "code",
   "execution_count": null,
   "metadata": {},
   "outputs": [],
   "source": []
  }
 ],
 "metadata": {
  "kernelspec": {
   "display_name": "Python 3",
   "language": "python",
   "name": "python3"
  },
  "language_info": {
   "codemirror_mode": {
    "name": "ipython",
    "version": 3
   },
   "file_extension": ".py",
   "mimetype": "text/x-python",
   "name": "python",
   "nbconvert_exporter": "python",
   "pygments_lexer": "ipython3",
   "version": "3.7.6"
  }
 },
 "nbformat": 4,
 "nbformat_minor": 4
}
