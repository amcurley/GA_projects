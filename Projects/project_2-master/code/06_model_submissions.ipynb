{
 "cells": [
  {
   "cell_type": "markdown",
   "metadata": {},
   "source": [
    "### ***Import All Required Libraries***  "
   ]
  },
  {
   "cell_type": "code",
   "execution_count": 1,
   "metadata": {},
   "outputs": [],
   "source": [
    "import pandas as pd\n",
    "import numpy as np\n",
    "import matplotlib.pyplot as plt\n",
    "import seaborn as sns\n",
    "from sklearn.linear_model import LinearRegression\n",
    "from sklearn import metrics\n",
    "from sklearn.metrics import mean_squared_error\n",
    "from sklearn.model_selection import train_test_split, cross_val_score\n",
    "from sklearn.preprocessing import PolynomialFeatures\n",
    "from sklearn.model_selection import train_test_split\n",
    "from sklearn.preprocessing import StandardScaler\n",
    "from sklearn.linear_model import Ridge\n",
    "from sklearn.linear_model import Lasso, LassoCV"
   ]
  },
  {
   "cell_type": "markdown",
   "metadata": {},
   "source": [
    "### ***Load Train and Test Data***  "
   ]
  },
  {
   "cell_type": "code",
   "execution_count": 2,
   "metadata": {},
   "outputs": [],
   "source": [
    "# Lets bring in trained df for the 'SalePrice'\n",
    "# train_df = pd.read_csv('../project_2-master/data/train.csv')\n",
    "train_df = pd.read_csv('../data/train.csv')"
   ]
  },
  {
   "cell_type": "code",
   "execution_count": 27,
   "metadata": {},
   "outputs": [
    {
     "data": {
      "text/plain": [
       "(2051, 81)"
      ]
     },
     "execution_count": 27,
     "metadata": {},
     "output_type": "execute_result"
    }
   ],
   "source": [
    "train_df.shape"
   ]
  },
  {
   "cell_type": "code",
   "execution_count": 3,
   "metadata": {},
   "outputs": [],
   "source": [
    "# For the baseline score\n",
    "test_df = pd.read_csv('../data/test.csv')"
   ]
  },
  {
   "cell_type": "markdown",
   "metadata": {},
   "source": [
    "### ***Load Merged Train and Merged Test Data***  "
   ]
  },
  {
   "cell_type": "code",
   "execution_count": 4,
   "metadata": {},
   "outputs": [],
   "source": [
    "# Lets read in the cleaned trained df\n",
    "merged_train = pd.read_csv('../data/merged_train.csv')\n",
    "# Lets read in the cleaned test df\n",
    "merged_test = pd.read_csv('../data/merged_test.csv')"
   ]
  },
  {
   "cell_type": "code",
   "execution_count": 5,
   "metadata": {},
   "outputs": [],
   "source": [
    "# SET 'Id' AS THE INDEX\n",
    "merged_train.set_index('Id', inplace=True)\n",
    "merged_test.set_index('Id', inplace=True)"
   ]
  },
  {
   "cell_type": "markdown",
   "metadata": {},
   "source": [
    "### ***Baseline Score***  "
   ]
  },
  {
   "cell_type": "code",
   "execution_count": 29,
   "metadata": {},
   "outputs": [
    {
     "name": "stdout",
     "output_type": "stream",
     "text": [
      "These are the scores to beat:\n",
      "Baseline RMSE - Train: 80039.93732744697\n",
      "Baseline RMSE - Test: 77354.3252026887\n"
     ]
    }
   ],
   "source": [
    "# CREATING X AND y\n",
    "X = merged_train\n",
    "y = train_df['SalePrice']\n",
    "\n",
    "\n",
    "# TRAIN, TEST, SPLIT\n",
    "# train, test, split\n",
    "X_train, X_test, y_train, y_test = train_test_split(X, y, random_state = 42, train_size = .70)\n",
    "\n",
    "# BASELINE MODEL TO BEAT \n",
    "y_train_baseline = [y_train.mean()]*len(y_train)  \n",
    "y_test_baseline  = [y_train.mean()]*len(y_test)\n",
    "\n",
    "print('These are the scores to beat:')\n",
    "print(f\"Baseline RMSE - Train: {mean_squared_error(y_train, y_train_baseline)**0.5}\")\n",
    "print(f\"Baseline RMSE - Test: {mean_squared_error(y_test, y_test_baseline)**0.5}\")"
   ]
  },
  {
   "cell_type": "markdown",
   "metadata": {},
   "source": [
    "### ***Investment Linear Regression***  "
   ]
  },
  {
   "cell_type": "code",
   "execution_count": 38,
   "metadata": {},
   "outputs": [],
   "source": [
    "def linear_regression(train, test, saleprice):\n",
    "\n",
    "# CREATING X AND y\n",
    "    X = train\n",
    "    y = saleprice['SalePrice']\n",
    "    \n",
    "\n",
    "# TRAIN, TEST, SPLIT\n",
    "    # train, test, split\n",
    "    X_train, X_test, y_train, y_test = train_test_split(X, y, random_state = 42, train_size = .65)\n",
    "    \n",
    "    \n",
    "# BACK TO OUR REAL MODEL\n",
    "    #  Instantiate the model\n",
    "    lr = LinearRegression()\n",
    "    \n",
    "    # Fit the model\n",
    "    lr.fit(X_train, y_train)\n",
    "    \n",
    "    # Predict the model\n",
    "    y_pred_train = lr.predict(X_train)\n",
    "    y_pred_test = lr.predict(X_test)\n",
    "    \n",
    "    \n",
    "    # Get the RMSE and R2\n",
    "    print(f\"The RMSE for X_train is {mean_squared_error(y_train, y_pred_train, squared=False)}\")\n",
    "    print(f\"The RMSE for X_test is {mean_squared_error(y_test, y_pred_test, squared=False)}\")\n",
    "    print('='*60)\n",
    "    print(f\"The R2 for X_train is {lr.score(X_train, y_train)}\")\n",
    "    print(f\"The R2 for X_test is {lr.score(X_test, y_test)}\")\n",
    "\n",
    "    \n",
    "# KAGGLE SUBMISSION STEPS\n",
    "\n",
    "    # Set my merged_test to kaggle\n",
    "    kaggle_predict = pd.DataFrame({'Id': test.index})    # Credit to Kelly Slatery for assistance here\n",
    "    \n",
    "    # Predict 'SalePrice' with our model\n",
    "    kaggle_predict['SalePrice'] = lr.predict(test)\n",
    "            \n",
    "    kaggle_predict.to_csv('../data/new_submission.csv', index=False)\n",
    "    \n",
    "    return kaggle_predict"
   ]
  },
  {
   "cell_type": "code",
   "execution_count": 39,
   "metadata": {},
   "outputs": [
    {
     "name": "stdout",
     "output_type": "stream",
     "text": [
      "The RMSE for X_train is 28298.73604577277\n",
      "The RMSE for X_test is 27912.50349445603\n",
      "============================================================\n",
      "The R2 for X_train is 0.8749856446561594\n",
      "The R2 for X_test is 0.8710446689410974\n"
     ]
    },
    {
     "data": {
      "text/html": [
       "<div>\n",
       "<style scoped>\n",
       "    .dataframe tbody tr th:only-of-type {\n",
       "        vertical-align: middle;\n",
       "    }\n",
       "\n",
       "    .dataframe tbody tr th {\n",
       "        vertical-align: top;\n",
       "    }\n",
       "\n",
       "    .dataframe thead th {\n",
       "        text-align: right;\n",
       "    }\n",
       "</style>\n",
       "<table border=\"1\" class=\"dataframe\">\n",
       "  <thead>\n",
       "    <tr style=\"text-align: right;\">\n",
       "      <th></th>\n",
       "      <th>Id</th>\n",
       "      <th>SalePrice</th>\n",
       "    </tr>\n",
       "  </thead>\n",
       "  <tbody>\n",
       "    <tr>\n",
       "      <th>0</th>\n",
       "      <td>2658</td>\n",
       "      <td>136359.902686</td>\n",
       "    </tr>\n",
       "    <tr>\n",
       "      <th>1</th>\n",
       "      <td>2718</td>\n",
       "      <td>189572.906467</td>\n",
       "    </tr>\n",
       "    <tr>\n",
       "      <th>2</th>\n",
       "      <td>2414</td>\n",
       "      <td>188068.339711</td>\n",
       "    </tr>\n",
       "    <tr>\n",
       "      <th>3</th>\n",
       "      <td>1989</td>\n",
       "      <td>113697.688516</td>\n",
       "    </tr>\n",
       "    <tr>\n",
       "      <th>4</th>\n",
       "      <td>625</td>\n",
       "      <td>173321.575535</td>\n",
       "    </tr>\n",
       "    <tr>\n",
       "      <th>...</th>\n",
       "      <td>...</td>\n",
       "      <td>...</td>\n",
       "    </tr>\n",
       "    <tr>\n",
       "      <th>873</th>\n",
       "      <td>1662</td>\n",
       "      <td>175475.638291</td>\n",
       "    </tr>\n",
       "    <tr>\n",
       "      <th>874</th>\n",
       "      <td>1234</td>\n",
       "      <td>195311.293960</td>\n",
       "    </tr>\n",
       "    <tr>\n",
       "      <th>875</th>\n",
       "      <td>1373</td>\n",
       "      <td>138929.794503</td>\n",
       "    </tr>\n",
       "    <tr>\n",
       "      <th>876</th>\n",
       "      <td>1672</td>\n",
       "      <td>122832.406166</td>\n",
       "    </tr>\n",
       "    <tr>\n",
       "      <th>877</th>\n",
       "      <td>1939</td>\n",
       "      <td>120718.230431</td>\n",
       "    </tr>\n",
       "  </tbody>\n",
       "</table>\n",
       "<p>878 rows × 2 columns</p>\n",
       "</div>"
      ],
      "text/plain": [
       "       Id      SalePrice\n",
       "0    2658  136359.902686\n",
       "1    2718  189572.906467\n",
       "2    2414  188068.339711\n",
       "3    1989  113697.688516\n",
       "4     625  173321.575535\n",
       "..    ...            ...\n",
       "873  1662  175475.638291\n",
       "874  1234  195311.293960\n",
       "875  1373  138929.794503\n",
       "876  1672  122832.406166\n",
       "877  1939  120718.230431\n",
       "\n",
       "[878 rows x 2 columns]"
      ]
     },
     "execution_count": 39,
     "metadata": {},
     "output_type": "execute_result"
    }
   ],
   "source": [
    "linear_regression(merged_train, merged_test, train_df)"
   ]
  },
  {
   "cell_type": "markdown",
   "metadata": {},
   "source": [
    "### ***Ridge Regression***  "
   ]
  },
  {
   "cell_type": "code",
   "execution_count": 19,
   "metadata": {},
   "outputs": [],
   "source": [
    "def ridge_regression(train, test, saleprice):\n",
    "\n",
    "# CREATING X AND y\n",
    "    X = train \n",
    "    y = saleprice['SalePrice']\n",
    "\n",
    "# TRAIN, TEST, SPLIT\n",
    "    # train, test, split\n",
    "    X_train, X_test, y_train, y_test = train_test_split(X, y, random_state = 42, train_size = .70)\n",
    "    \n",
    "    \n",
    "# STANDARD SCALER\n",
    "    # Relabeling scaled data as \"Z\" is common.\n",
    "    sc = StandardScaler()\n",
    "    Z_train = sc.fit_transform(X_train)\n",
    "    Z_test = sc.transform(X_test)\n",
    "\n",
    "\n",
    "    # Instantiate.\n",
    "    ridge_model = Ridge(alpha=10)\n",
    "\n",
    "    # Fit.\n",
    "    ridge_model.fit(Z_train, y_train)\n",
    "\n",
    "    # Evaluate model using R2.\n",
    "    print(f'Train ridge model R2: {ridge_model.score(Z_train, y_train)}')\n",
    "    print(f'Test ridge model R2: {ridge_model.score(Z_test, y_test)}')\n",
    "\n",
    "\n",
    "# KAGGLE SUBMISSION STEPS\n",
    "    \n",
    "    kaggle_predict = pd.DataFrame({'Id': test.index})\n",
    "    \n",
    "    kaggle_predictt = sc.transform(merged_test)\n",
    "    # Predict 'SalePrice' with our model\n",
    "    kaggle_predict['SalePrice'] = ridge_model.predict(kaggle_predictt)\n",
    "    \n",
    "    kaggle_predict.to_csv('../data/ridge_submission.csv')\n",
    "    \n",
    "    return kaggle_predict"
   ]
  },
  {
   "cell_type": "code",
   "execution_count": 20,
   "metadata": {},
   "outputs": [
    {
     "name": "stdout",
     "output_type": "stream",
     "text": [
      "Train ridge model R2: 0.8726016016060045\n",
      "Test ridge model R2: 0.8665882068256449\n"
     ]
    },
    {
     "data": {
      "text/html": [
       "<div>\n",
       "<style scoped>\n",
       "    .dataframe tbody tr th:only-of-type {\n",
       "        vertical-align: middle;\n",
       "    }\n",
       "\n",
       "    .dataframe tbody tr th {\n",
       "        vertical-align: top;\n",
       "    }\n",
       "\n",
       "    .dataframe thead th {\n",
       "        text-align: right;\n",
       "    }\n",
       "</style>\n",
       "<table border=\"1\" class=\"dataframe\">\n",
       "  <thead>\n",
       "    <tr style=\"text-align: right;\">\n",
       "      <th></th>\n",
       "      <th>Id</th>\n",
       "      <th>SalePrice</th>\n",
       "    </tr>\n",
       "  </thead>\n",
       "  <tbody>\n",
       "    <tr>\n",
       "      <th>0</th>\n",
       "      <td>2658</td>\n",
       "      <td>138631.788525</td>\n",
       "    </tr>\n",
       "    <tr>\n",
       "      <th>1</th>\n",
       "      <td>2718</td>\n",
       "      <td>194434.925504</td>\n",
       "    </tr>\n",
       "    <tr>\n",
       "      <th>2</th>\n",
       "      <td>2414</td>\n",
       "      <td>191585.854340</td>\n",
       "    </tr>\n",
       "    <tr>\n",
       "      <th>3</th>\n",
       "      <td>1989</td>\n",
       "      <td>117213.745922</td>\n",
       "    </tr>\n",
       "    <tr>\n",
       "      <th>4</th>\n",
       "      <td>625</td>\n",
       "      <td>173131.096506</td>\n",
       "    </tr>\n",
       "    <tr>\n",
       "      <th>...</th>\n",
       "      <td>...</td>\n",
       "      <td>...</td>\n",
       "    </tr>\n",
       "    <tr>\n",
       "      <th>873</th>\n",
       "      <td>1662</td>\n",
       "      <td>175737.853329</td>\n",
       "    </tr>\n",
       "    <tr>\n",
       "      <th>874</th>\n",
       "      <td>1234</td>\n",
       "      <td>200463.739456</td>\n",
       "    </tr>\n",
       "    <tr>\n",
       "      <th>875</th>\n",
       "      <td>1373</td>\n",
       "      <td>137416.187101</td>\n",
       "    </tr>\n",
       "    <tr>\n",
       "      <th>876</th>\n",
       "      <td>1672</td>\n",
       "      <td>115707.872640</td>\n",
       "    </tr>\n",
       "    <tr>\n",
       "      <th>877</th>\n",
       "      <td>1939</td>\n",
       "      <td>119328.093947</td>\n",
       "    </tr>\n",
       "  </tbody>\n",
       "</table>\n",
       "<p>878 rows × 2 columns</p>\n",
       "</div>"
      ],
      "text/plain": [
       "       Id      SalePrice\n",
       "0    2658  138631.788525\n",
       "1    2718  194434.925504\n",
       "2    2414  191585.854340\n",
       "3    1989  117213.745922\n",
       "4     625  173131.096506\n",
       "..    ...            ...\n",
       "873  1662  175737.853329\n",
       "874  1234  200463.739456\n",
       "875  1373  137416.187101\n",
       "876  1672  115707.872640\n",
       "877  1939  119328.093947\n",
       "\n",
       "[878 rows x 2 columns]"
      ]
     },
     "execution_count": 20,
     "metadata": {},
     "output_type": "execute_result"
    }
   ],
   "source": [
    "ridge_regression(merged_train, merged_test, train_df)"
   ]
  },
  {
   "cell_type": "markdown",
   "metadata": {},
   "source": [
    "### ***Lasso Regression***  "
   ]
  },
  {
   "cell_type": "code",
   "execution_count": 21,
   "metadata": {},
   "outputs": [],
   "source": [
    "# This could be a function as well \n",
    "# 4.02-lesson-regularization\n",
    "# CREATING X AND y\n",
    "X = merged_train \n",
    "y = train_df['SalePrice']"
   ]
  },
  {
   "cell_type": "code",
   "execution_count": 22,
   "metadata": {},
   "outputs": [],
   "source": [
    "# TRAIN, TEST, SPLIT\n",
    "X_train, X_test, y_train, y_test = train_test_split(X, y, random_state = 42, train_size = .70)"
   ]
  },
  {
   "cell_type": "code",
   "execution_count": 23,
   "metadata": {},
   "outputs": [],
   "source": [
    "# STANDARD SCALER\n",
    "sc = StandardScaler()\n",
    "Z_train = sc.fit_transform(X_train)\n",
    "Z_test = sc.transform(X_test)"
   ]
  },
  {
   "cell_type": "code",
   "execution_count": 24,
   "metadata": {},
   "outputs": [],
   "source": [
    "# Set up a list of Lasso alphas to check.\n",
    "l_alphas = np.logspace(-3, 0, 100)\n",
    "\n",
    "# Cross-validate over our list of Lasso alphas.\n",
    "lasso_cv = LassoCV(alphas=l_alphas, cv=5, max_iter=5000)\n",
    "\n",
    "# Fit model using best ridge alpha!\n",
    "lasso_cv.fit(Z_train, y_train);"
   ]
  },
  {
   "cell_type": "code",
   "execution_count": 25,
   "metadata": {},
   "outputs": [
    {
     "data": {
      "text/plain": [
       "1.0"
      ]
     },
     "execution_count": 25,
     "metadata": {},
     "output_type": "execute_result"
    }
   ],
   "source": [
    "# Here is the optimal value of alpha\n",
    "lasso_cv.alpha_"
   ]
  },
  {
   "cell_type": "code",
   "execution_count": 26,
   "metadata": {},
   "outputs": [
    {
     "name": "stdout",
     "output_type": "stream",
     "text": [
      "0.8768234647262396\n",
      "0.8650073225030833\n"
     ]
    }
   ],
   "source": [
    "print(lasso_cv.score(Z_train, y_train))\n",
    "print(lasso_cv.score(Z_test, y_test))"
   ]
  },
  {
   "cell_type": "code",
   "execution_count": null,
   "metadata": {},
   "outputs": [],
   "source": []
  },
  {
   "cell_type": "code",
   "execution_count": null,
   "metadata": {},
   "outputs": [],
   "source": []
  }
 ],
 "metadata": {
  "kernelspec": {
   "display_name": "Python 3",
   "language": "python",
   "name": "python3"
  },
  "language_info": {
   "codemirror_mode": {
    "name": "ipython",
    "version": 3
   },
   "file_extension": ".py",
   "mimetype": "text/x-python",
   "name": "python",
   "nbconvert_exporter": "python",
   "pygments_lexer": "ipython3",
   "version": "3.7.6"
  }
 },
 "nbformat": 4,
 "nbformat_minor": 4
}
