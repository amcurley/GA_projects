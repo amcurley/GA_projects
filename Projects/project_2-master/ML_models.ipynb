{
 "cells": [
  {
   "cell_type": "code",
   "execution_count": 279,
   "metadata": {},
   "outputs": [],
   "source": [
    "# Common Imports\n",
    "import numpy as np\n",
    "import pandas as pd\n",
    "import matplotlib.pyplot as plt\n",
    "import seaborn as sns\n",
    "from sklearn.linear_model import LinearRegression\n",
    "from sklearn import metrics\n",
    "from sklearn.model_selection import train_test_split, cross_val_score\n",
    "from sklearn.metrics import mean_squared_error\n",
    "from sklearn.preprocessing import StandardScaler, PolynomialFeatures"
   ]
  },
  {
   "cell_type": "code",
   "execution_count": 269,
   "metadata": {},
   "outputs": [],
   "source": [
    "# Cleaned dataframe of continous values I think are good to use\n",
    "continous_df = pd.read_csv('/Users/aidancurley/Documents/dsir/Submissions/Projects/project_2-master/continous_df.csv')"
   ]
  },
  {
   "cell_type": "code",
   "execution_count": 382,
   "metadata": {},
   "outputs": [],
   "source": [
    "# Training data\n",
    "train_df = pd.read_csv('/Users/aidancurley/Documents/dsir/Submissions/Projects/project_2-master/datasets/train.csv')"
   ]
  },
  {
   "cell_type": "code",
   "execution_count": 951,
   "metadata": {},
   "outputs": [],
   "source": [
    "# Testing data\n",
    "test_df = pd.read_csv('/Users/aidancurley/Documents/dsir/Submissions/Projects/project_2-master/datasets/test.csv')"
   ]
  },
  {
   "cell_type": "markdown",
   "metadata": {},
   "source": [
    "# Continous ML Model"
   ]
  },
  {
   "cell_type": "code",
   "execution_count": 1076,
   "metadata": {},
   "outputs": [
    {
     "data": {
      "text/html": [
       "<div>\n",
       "<style scoped>\n",
       "    .dataframe tbody tr th:only-of-type {\n",
       "        vertical-align: middle;\n",
       "    }\n",
       "\n",
       "    .dataframe tbody tr th {\n",
       "        vertical-align: top;\n",
       "    }\n",
       "\n",
       "    .dataframe thead th {\n",
       "        text-align: right;\n",
       "    }\n",
       "</style>\n",
       "<table border=\"1\" class=\"dataframe\">\n",
       "  <thead>\n",
       "    <tr style=\"text-align: right;\">\n",
       "      <th></th>\n",
       "      <th>Id</th>\n",
       "      <th>Lot Frontage</th>\n",
       "      <th>BsmtFin SF 1</th>\n",
       "      <th>Total Bsmt SF</th>\n",
       "      <th>1st Flr SF</th>\n",
       "      <th>Gr Liv Area</th>\n",
       "      <th>Garage Area</th>\n",
       "      <th>SalePrice</th>\n",
       "    </tr>\n",
       "  </thead>\n",
       "  <tbody>\n",
       "    <tr>\n",
       "      <th>0</th>\n",
       "      <td>109</td>\n",
       "      <td>69.0552</td>\n",
       "      <td>533.0</td>\n",
       "      <td>725.0</td>\n",
       "      <td>725</td>\n",
       "      <td>1479</td>\n",
       "      <td>475.0</td>\n",
       "      <td>130500</td>\n",
       "    </tr>\n",
       "    <tr>\n",
       "      <th>1</th>\n",
       "      <td>544</td>\n",
       "      <td>43.0000</td>\n",
       "      <td>637.0</td>\n",
       "      <td>913.0</td>\n",
       "      <td>913</td>\n",
       "      <td>2122</td>\n",
       "      <td>559.0</td>\n",
       "      <td>220000</td>\n",
       "    </tr>\n",
       "    <tr>\n",
       "      <th>2</th>\n",
       "      <td>153</td>\n",
       "      <td>68.0000</td>\n",
       "      <td>731.0</td>\n",
       "      <td>1057.0</td>\n",
       "      <td>1057</td>\n",
       "      <td>1057</td>\n",
       "      <td>246.0</td>\n",
       "      <td>109000</td>\n",
       "    </tr>\n",
       "    <tr>\n",
       "      <th>3</th>\n",
       "      <td>318</td>\n",
       "      <td>73.0000</td>\n",
       "      <td>0.0</td>\n",
       "      <td>384.0</td>\n",
       "      <td>744</td>\n",
       "      <td>1444</td>\n",
       "      <td>400.0</td>\n",
       "      <td>174000</td>\n",
       "    </tr>\n",
       "    <tr>\n",
       "      <th>4</th>\n",
       "      <td>255</td>\n",
       "      <td>82.0000</td>\n",
       "      <td>0.0</td>\n",
       "      <td>676.0</td>\n",
       "      <td>831</td>\n",
       "      <td>1445</td>\n",
       "      <td>484.0</td>\n",
       "      <td>138500</td>\n",
       "    </tr>\n",
       "  </tbody>\n",
       "</table>\n",
       "</div>"
      ],
      "text/plain": [
       "    Id  Lot Frontage  BsmtFin SF 1  Total Bsmt SF  1st Flr SF  Gr Liv Area  \\\n",
       "0  109       69.0552         533.0          725.0         725         1479   \n",
       "1  544       43.0000         637.0          913.0         913         2122   \n",
       "2  153       68.0000         731.0         1057.0        1057         1057   \n",
       "3  318       73.0000           0.0          384.0         744         1444   \n",
       "4  255       82.0000           0.0          676.0         831         1445   \n",
       "\n",
       "   Garage Area  SalePrice  \n",
       "0        475.0     130500  \n",
       "1        559.0     220000  \n",
       "2        246.0     109000  \n",
       "3        400.0     174000  \n",
       "4        484.0     138500  "
      ]
     },
     "execution_count": 1076,
     "metadata": {},
     "output_type": "execute_result"
    }
   ],
   "source": [
    "# Only continous features\n",
    "continous_df.head()"
   ]
  },
  {
   "cell_type": "code",
   "execution_count": 1077,
   "metadata": {},
   "outputs": [],
   "source": [
    "# Features for X\n",
    "cont_col = ['Lot Frontage', 'BsmtFin SF 1', 'Total Bsmt SF', 'Gr Liv Area', 'Garage Area']"
   ]
  },
  {
   "cell_type": "code",
   "execution_count": 1078,
   "metadata": {},
   "outputs": [],
   "source": [
    "# Set X and y for model\n",
    "X = continous_df[cont_col]\n",
    "y = continous_df['SalePrice']"
   ]
  },
  {
   "cell_type": "code",
   "execution_count": 1079,
   "metadata": {},
   "outputs": [
    {
     "data": {
      "text/html": [
       "<div>\n",
       "<style scoped>\n",
       "    .dataframe tbody tr th:only-of-type {\n",
       "        vertical-align: middle;\n",
       "    }\n",
       "\n",
       "    .dataframe tbody tr th {\n",
       "        vertical-align: top;\n",
       "    }\n",
       "\n",
       "    .dataframe thead th {\n",
       "        text-align: right;\n",
       "    }\n",
       "</style>\n",
       "<table border=\"1\" class=\"dataframe\">\n",
       "  <thead>\n",
       "    <tr style=\"text-align: right;\">\n",
       "      <th></th>\n",
       "      <th>Lot Frontage</th>\n",
       "      <th>BsmtFin SF 1</th>\n",
       "      <th>Total Bsmt SF</th>\n",
       "      <th>Gr Liv Area</th>\n",
       "      <th>Garage Area</th>\n",
       "    </tr>\n",
       "  </thead>\n",
       "  <tbody>\n",
       "    <tr>\n",
       "      <th>1920</th>\n",
       "      <td>120.0</td>\n",
       "      <td>130.0</td>\n",
       "      <td>680.0</td>\n",
       "      <td>1174</td>\n",
       "      <td>576.0</td>\n",
       "    </tr>\n",
       "    <tr>\n",
       "      <th>1507</th>\n",
       "      <td>75.0</td>\n",
       "      <td>468.0</td>\n",
       "      <td>1000.0</td>\n",
       "      <td>1609</td>\n",
       "      <td>305.0</td>\n",
       "    </tr>\n",
       "    <tr>\n",
       "      <th>144</th>\n",
       "      <td>57.0</td>\n",
       "      <td>1032.0</td>\n",
       "      <td>1642.0</td>\n",
       "      <td>1418</td>\n",
       "      <td>852.0</td>\n",
       "    </tr>\n",
       "    <tr>\n",
       "      <th>1439</th>\n",
       "      <td>60.0</td>\n",
       "      <td>0.0</td>\n",
       "      <td>931.0</td>\n",
       "      <td>1027</td>\n",
       "      <td>0.0</td>\n",
       "    </tr>\n",
       "    <tr>\n",
       "      <th>1069</th>\n",
       "      <td>60.0</td>\n",
       "      <td>0.0</td>\n",
       "      <td>938.0</td>\n",
       "      <td>2299</td>\n",
       "      <td>482.0</td>\n",
       "    </tr>\n",
       "  </tbody>\n",
       "</table>\n",
       "</div>"
      ],
      "text/plain": [
       "      Lot Frontage  BsmtFin SF 1  Total Bsmt SF  Gr Liv Area  Garage Area\n",
       "1920         120.0         130.0          680.0         1174        576.0\n",
       "1507          75.0         468.0         1000.0         1609        305.0\n",
       "144           57.0        1032.0         1642.0         1418        852.0\n",
       "1439          60.0           0.0          931.0         1027          0.0\n",
       "1069          60.0           0.0          938.0         2299        482.0"
      ]
     },
     "execution_count": 1079,
     "metadata": {},
     "output_type": "execute_result"
    }
   ],
   "source": [
    "X_train, X_test, y_train, y_test = train_test_split(X, y, random_state=6, test_size=.90)\n",
    "X_train.head()"
   ]
  },
  {
   "cell_type": "code",
   "execution_count": 1080,
   "metadata": {},
   "outputs": [
    {
     "data": {
      "text/plain": [
       "LinearRegression(copy_X=True, fit_intercept=True, n_jobs=None, normalize=False)"
      ]
     },
     "execution_count": 1080,
     "metadata": {},
     "output_type": "execute_result"
    }
   ],
   "source": [
    "model = LinearRegression()\n",
    "model.fit(X_train, y_train)"
   ]
  },
  {
   "cell_type": "code",
   "execution_count": 1081,
   "metadata": {},
   "outputs": [
    {
     "data": {
      "text/plain": [
       "0.7388595527715172"
      ]
     },
     "execution_count": 1081,
     "metadata": {},
     "output_type": "execute_result"
    }
   ],
   "source": [
    "model.score(X_train, y_train)"
   ]
  },
  {
   "cell_type": "code",
   "execution_count": 1086,
   "metadata": {},
   "outputs": [
    {
     "name": "stdout",
     "output_type": "stream",
     "text": [
      "Training MSE is 40260.635329322075\n",
      "Testing MSE is 46462.90993627991\n"
     ]
    }
   ],
   "source": [
    "# Training MSE\n",
    "print(f\"Training MSE is {mean_squared_error(y_train, model.predict(X_train), squared=False)}\")\n",
    "\n",
    "# Testing MSE\n",
    "print(f\"Testing MSE is {mean_squared_error(y_test, model.predict(X_test), squared=False)}\")"
   ]
  },
  {
   "cell_type": "code",
   "execution_count": 1056,
   "metadata": {},
   "outputs": [],
   "source": [
    "pred_df = test_df[['Id']]"
   ]
  },
  {
   "cell_type": "code",
   "execution_count": 1087,
   "metadata": {},
   "outputs": [
    {
     "data": {
      "text/html": [
       "<div>\n",
       "<style scoped>\n",
       "    .dataframe tbody tr th:only-of-type {\n",
       "        vertical-align: middle;\n",
       "    }\n",
       "\n",
       "    .dataframe tbody tr th {\n",
       "        vertical-align: top;\n",
       "    }\n",
       "\n",
       "    .dataframe thead th {\n",
       "        text-align: right;\n",
       "    }\n",
       "</style>\n",
       "<table border=\"1\" class=\"dataframe\">\n",
       "  <thead>\n",
       "    <tr style=\"text-align: right;\">\n",
       "      <th></th>\n",
       "      <th>Id</th>\n",
       "      <th>PID</th>\n",
       "      <th>MS SubClass</th>\n",
       "      <th>MS Zoning</th>\n",
       "      <th>Lot Frontage</th>\n",
       "      <th>Lot Area</th>\n",
       "      <th>Street</th>\n",
       "      <th>Alley</th>\n",
       "      <th>Lot Shape</th>\n",
       "      <th>Land Contour</th>\n",
       "      <th>...</th>\n",
       "      <th>3Ssn Porch</th>\n",
       "      <th>Screen Porch</th>\n",
       "      <th>Pool Area</th>\n",
       "      <th>Pool QC</th>\n",
       "      <th>Fence</th>\n",
       "      <th>Misc Feature</th>\n",
       "      <th>Misc Val</th>\n",
       "      <th>Mo Sold</th>\n",
       "      <th>Yr Sold</th>\n",
       "      <th>Sale Type</th>\n",
       "    </tr>\n",
       "  </thead>\n",
       "  <tbody>\n",
       "    <tr>\n",
       "      <th>0</th>\n",
       "      <td>2658</td>\n",
       "      <td>902301120</td>\n",
       "      <td>190</td>\n",
       "      <td>RM</td>\n",
       "      <td>69.0</td>\n",
       "      <td>9142</td>\n",
       "      <td>Pave</td>\n",
       "      <td>Grvl</td>\n",
       "      <td>Reg</td>\n",
       "      <td>Lvl</td>\n",
       "      <td>...</td>\n",
       "      <td>0</td>\n",
       "      <td>0</td>\n",
       "      <td>0</td>\n",
       "      <td>NaN</td>\n",
       "      <td>NaN</td>\n",
       "      <td>NaN</td>\n",
       "      <td>0</td>\n",
       "      <td>4</td>\n",
       "      <td>2006</td>\n",
       "      <td>WD</td>\n",
       "    </tr>\n",
       "  </tbody>\n",
       "</table>\n",
       "<p>1 rows × 80 columns</p>\n",
       "</div>"
      ],
      "text/plain": [
       "     Id        PID  MS SubClass MS Zoning  Lot Frontage  Lot Area Street  \\\n",
       "0  2658  902301120          190        RM          69.0      9142   Pave   \n",
       "\n",
       "  Alley Lot Shape Land Contour  ... 3Ssn Porch Screen Porch Pool Area Pool QC  \\\n",
       "0  Grvl       Reg          Lvl  ...          0            0         0     NaN   \n",
       "\n",
       "  Fence Misc Feature Misc Val Mo Sold  Yr Sold  Sale Type  \n",
       "0   NaN          NaN        0       4     2006        WD   \n",
       "\n",
       "[1 rows x 80 columns]"
      ]
     },
     "execution_count": 1087,
     "metadata": {},
     "output_type": "execute_result"
    }
   ],
   "source": [
    "test_df.head(1)"
   ]
  },
  {
   "cell_type": "code",
   "execution_count": 1088,
   "metadata": {},
   "outputs": [
    {
     "data": {
      "text/plain": [
       "array([146905.09126563, 176872.65796453, 239834.14725414,  95016.36660547])"
      ]
     },
     "execution_count": 1088,
     "metadata": {},
     "output_type": "execute_result"
    }
   ],
   "source": [
    "y_pred = model.predict(X_train)\n",
    "y_pred[:4]"
   ]
  },
  {
   "cell_type": "code",
   "execution_count": 1089,
   "metadata": {},
   "outputs": [],
   "source": [
    "y_intercept = model.intercept_"
   ]
  },
  {
   "cell_type": "code",
   "execution_count": 1090,
   "metadata": {},
   "outputs": [],
   "source": [
    "y_coef = model.coef_"
   ]
  },
  {
   "cell_type": "code",
   "execution_count": 162,
   "metadata": {},
   "outputs": [],
   "source": [
    "test_df['Lot Frontage'].fillna(np.mean(test_df['Lot Frontage']), inplace=True)"
   ]
  },
  {
   "cell_type": "code",
   "execution_count": 163,
   "metadata": {},
   "outputs": [],
   "source": [
    "test_df['BsmtFin SF 1'].fillna(np.mean(test_df['BsmtFin SF 1']), inplace=True)"
   ]
  },
  {
   "cell_type": "code",
   "execution_count": 164,
   "metadata": {},
   "outputs": [],
   "source": [
    "test_df['Total Bsmt SF'].fillna(np.mean(test_df['Total Bsmt SF']), inplace = True)"
   ]
  },
  {
   "cell_type": "code",
   "execution_count": 165,
   "metadata": {},
   "outputs": [],
   "source": [
    "test_df['Garage Area'].fillna(np.mean(test_df['Garage Area']), inplace = True)"
   ]
  },
  {
   "cell_type": "code",
   "execution_count": null,
   "metadata": {},
   "outputs": [],
   "source": []
  },
  {
   "cell_type": "markdown",
   "metadata": {},
   "source": [
    "# Nominal(Categorical) ML Model"
   ]
  },
  {
   "cell_type": "code",
   "execution_count": 1092,
   "metadata": {},
   "outputs": [],
   "source": [
    "# Dataframe with all the get dummied columns\n",
    "nominal_df = pd.read_csv('/Users/aidancurley/Documents/dsir/Submissions/Projects/project_2-master/nominal_df.csv')"
   ]
  },
  {
   "cell_type": "code",
   "execution_count": 1093,
   "metadata": {},
   "outputs": [
    {
     "data": {
      "text/html": [
       "<div>\n",
       "<style scoped>\n",
       "    .dataframe tbody tr th:only-of-type {\n",
       "        vertical-align: middle;\n",
       "    }\n",
       "\n",
       "    .dataframe tbody tr th {\n",
       "        vertical-align: top;\n",
       "    }\n",
       "\n",
       "    .dataframe thead th {\n",
       "        text-align: right;\n",
       "    }\n",
       "</style>\n",
       "<table border=\"1\" class=\"dataframe\">\n",
       "  <thead>\n",
       "    <tr style=\"text-align: right;\">\n",
       "      <th></th>\n",
       "      <th>Id</th>\n",
       "      <th>MS Zoning_C (all)</th>\n",
       "      <th>MS Zoning_FV</th>\n",
       "      <th>MS Zoning_I (all)</th>\n",
       "      <th>MS Zoning_RH</th>\n",
       "      <th>MS Zoning_RL</th>\n",
       "      <th>MS Zoning_RM</th>\n",
       "      <th>MS SubClass_30</th>\n",
       "      <th>MS SubClass_40</th>\n",
       "      <th>MS SubClass_45</th>\n",
       "      <th>...</th>\n",
       "      <th>Heating_Wall</th>\n",
       "      <th>Central Air_Y</th>\n",
       "      <th>Sale Type_CWD</th>\n",
       "      <th>Sale Type_Con</th>\n",
       "      <th>Sale Type_ConLD</th>\n",
       "      <th>Sale Type_ConLI</th>\n",
       "      <th>Sale Type_ConLw</th>\n",
       "      <th>Sale Type_New</th>\n",
       "      <th>Sale Type_Oth</th>\n",
       "      <th>Sale Type_WD</th>\n",
       "    </tr>\n",
       "  </thead>\n",
       "  <tbody>\n",
       "    <tr>\n",
       "      <th>0</th>\n",
       "      <td>109</td>\n",
       "      <td>0</td>\n",
       "      <td>0</td>\n",
       "      <td>0</td>\n",
       "      <td>0</td>\n",
       "      <td>1</td>\n",
       "      <td>0</td>\n",
       "      <td>0</td>\n",
       "      <td>0</td>\n",
       "      <td>0</td>\n",
       "      <td>...</td>\n",
       "      <td>0</td>\n",
       "      <td>1</td>\n",
       "      <td>0</td>\n",
       "      <td>0</td>\n",
       "      <td>0</td>\n",
       "      <td>0</td>\n",
       "      <td>0</td>\n",
       "      <td>0</td>\n",
       "      <td>0</td>\n",
       "      <td>1</td>\n",
       "    </tr>\n",
       "  </tbody>\n",
       "</table>\n",
       "<p>1 rows × 139 columns</p>\n",
       "</div>"
      ],
      "text/plain": [
       "    Id  MS Zoning_C (all)  MS Zoning_FV  MS Zoning_I (all)  MS Zoning_RH  \\\n",
       "0  109                  0             0                  0             0   \n",
       "\n",
       "   MS Zoning_RL  MS Zoning_RM  MS SubClass_30  MS SubClass_40  MS SubClass_45  \\\n",
       "0             1             0               0               0               0   \n",
       "\n",
       "   ...  Heating_Wall  Central Air_Y  Sale Type_CWD  Sale Type_Con  \\\n",
       "0  ...             0              1              0              0   \n",
       "\n",
       "   Sale Type_ConLD  Sale Type_ConLI  Sale Type_ConLw  Sale Type_New  \\\n",
       "0                0                0                0              0   \n",
       "\n",
       "   Sale Type_Oth  Sale Type_WD   \n",
       "0              0              1  \n",
       "\n",
       "[1 rows x 139 columns]"
      ]
     },
     "execution_count": 1093,
     "metadata": {},
     "output_type": "execute_result"
    }
   ],
   "source": [
    "nominal_df.head(1)"
   ]
  },
  {
   "cell_type": "code",
   "execution_count": 1097,
   "metadata": {},
   "outputs": [
    {
     "data": {
      "text/html": [
       "<div>\n",
       "<style scoped>\n",
       "    .dataframe tbody tr th:only-of-type {\n",
       "        vertical-align: middle;\n",
       "    }\n",
       "\n",
       "    .dataframe tbody tr th {\n",
       "        vertical-align: top;\n",
       "    }\n",
       "\n",
       "    .dataframe thead th {\n",
       "        text-align: right;\n",
       "    }\n",
       "</style>\n",
       "<table border=\"1\" class=\"dataframe\">\n",
       "  <thead>\n",
       "    <tr style=\"text-align: right;\">\n",
       "      <th></th>\n",
       "      <th>SalePrice</th>\n",
       "      <th>Id</th>\n",
       "    </tr>\n",
       "  </thead>\n",
       "  <tbody>\n",
       "    <tr>\n",
       "      <th>0</th>\n",
       "      <td>130500</td>\n",
       "      <td>109</td>\n",
       "    </tr>\n",
       "  </tbody>\n",
       "</table>\n",
       "</div>"
      ],
      "text/plain": [
       "   SalePrice   Id\n",
       "0     130500  109"
      ]
     },
     "execution_count": 1097,
     "metadata": {},
     "output_type": "execute_result"
    }
   ],
   "source": [
    "# Add 'SalePrice' and 'Id' to nominal_df\n",
    "sale_train = train_df[['SalePrice', 'Id']]\n",
    "sale_train.head(1)"
   ]
  },
  {
   "cell_type": "code",
   "execution_count": 1098,
   "metadata": {},
   "outputs": [],
   "source": [
    "# Adding 'SalePrice' and 'Id' to nominal_df\n",
    "sale_nominal = nominal_df.merge(sale_train, on='Id')"
   ]
  },
  {
   "cell_type": "code",
   "execution_count": 1100,
   "metadata": {},
   "outputs": [
    {
     "data": {
      "text/plain": [
       "0       130500\n",
       "1       220000\n",
       "2       109000\n",
       "3       174000\n",
       "4       138500\n",
       "         ...  \n",
       "2046    298751\n",
       "2047     82500\n",
       "2048    177000\n",
       "2049    144000\n",
       "2050    189000\n",
       "Name: SalePrice, Length: 2051, dtype: int64"
      ]
     },
     "execution_count": 1100,
     "metadata": {},
     "output_type": "execute_result"
    }
   ],
   "source": [
    "# Added\n",
    "sale_nominal['SalePrice']"
   ]
  },
  {
   "cell_type": "code",
   "execution_count": 1101,
   "metadata": {},
   "outputs": [
    {
     "data": {
      "text/plain": [
       "<AxesSubplot:>"
      ]
     },
     "execution_count": 1101,
     "metadata": {},
     "output_type": "execute_result"
    },
    {
     "data": {
      "image/png": "[encoded data removed]",
      "text/plain": [
       "<Figure size 720x576 with 2 Axes>"
      ]
     },
     "metadata": {
      "needs_background": "light"
     },
     "output_type": "display_data"
    }
   ],
   "source": [
    "# Heatmap showing correlation between columns\n",
    "corr = sale_nominal.corr()\n",
    "plt.figure(figsize=(10,8))\n",
    "\n",
    "sns.heatmap(corr, cmap='coolwarm', annot=True, vmin=-1, vmax=1, mask=sale_nominal.corr()<0.5)"
   ]
  },
  {
   "cell_type": "code",
   "execution_count": 1102,
   "metadata": {},
   "outputs": [],
   "source": [
    "nom_df = nominal_df.drop(columns='Id')"
   ]
  },
  {
   "cell_type": "code",
   "execution_count": 1103,
   "metadata": {},
   "outputs": [
    {
     "data": {
      "image/png": "[encoded data removed]",
      "text/plain": [
       "<Figure size 576x432 with 2 Axes>"
      ]
     },
     "metadata": {
      "needs_background": "light"
     },
     "output_type": "display_data"
    }
   ],
   "source": [
    "plt.figure(figsize=(8,6))\n",
    "sns.heatmap(sale_nominal.corr()[['SalePrice']].sort_values(by=\"SalePrice\",\n",
    "       ascending=False),\n",
    "           annot=True,\n",
    "           cmap='YlGnBu',\n",
    "           annot_kws={'fontsize':15},\n",
    "           vmin=-1, vmax=1, );"
   ]
  },
  {
   "cell_type": "code",
   "execution_count": 1104,
   "metadata": {},
   "outputs": [],
   "source": [
    "# Top correlated columns\n",
    "corcol = ['Exterior 1st_VinylSd', 'Neighborhood_StoneBr', 'Lot Config_CulDSac']"
   ]
  },
  {
   "cell_type": "code",
   "execution_count": 1105,
   "metadata": {},
   "outputs": [],
   "source": [
    "corcolumns = sale_nominal[corcol]"
   ]
  },
  {
   "cell_type": "code",
   "execution_count": 1108,
   "metadata": {},
   "outputs": [
    {
     "data": {
      "text/html": [
       "<div>\n",
       "<style scoped>\n",
       "    .dataframe tbody tr th:only-of-type {\n",
       "        vertical-align: middle;\n",
       "    }\n",
       "\n",
       "    .dataframe tbody tr th {\n",
       "        vertical-align: top;\n",
       "    }\n",
       "\n",
       "    .dataframe thead th {\n",
       "        text-align: right;\n",
       "    }\n",
       "</style>\n",
       "<table border=\"1\" class=\"dataframe\">\n",
       "  <thead>\n",
       "    <tr style=\"text-align: right;\">\n",
       "      <th></th>\n",
       "      <th>Exterior 1st_VinylSd</th>\n",
       "      <th>Neighborhood_StoneBr</th>\n",
       "      <th>Lot Config_CulDSac</th>\n",
       "    </tr>\n",
       "  </thead>\n",
       "  <tbody>\n",
       "    <tr>\n",
       "      <th>0</th>\n",
       "      <td>0</td>\n",
       "      <td>0</td>\n",
       "      <td>1</td>\n",
       "    </tr>\n",
       "  </tbody>\n",
       "</table>\n",
       "</div>"
      ],
      "text/plain": [
       "   Exterior 1st_VinylSd  Neighborhood_StoneBr  Lot Config_CulDSac\n",
       "0                     0                     0                   1"
      ]
     },
     "execution_count": 1108,
     "metadata": {},
     "output_type": "execute_result"
    }
   ],
   "source": [
    "# Dataframe with just 'Exterior 1st_VinylSd', 'Neighborhood_StoneBr' and 'Lot Config_CulDSac'\n",
    "corcolumns.head(1)"
   ]
  },
  {
   "cell_type": "code",
   "execution_count": 1115,
   "metadata": {},
   "outputs": [],
   "source": [
    "# X is the above dataframe, y is the saleprice\n",
    "X = corcolumns\n",
    "y = sale_train['SalePrice']"
   ]
  },
  {
   "cell_type": "code",
   "execution_count": 1116,
   "metadata": {},
   "outputs": [
    {
     "data": {
      "text/plain": [
       "(2051, 3)"
      ]
     },
     "execution_count": 1116,
     "metadata": {},
     "output_type": "execute_result"
    }
   ],
   "source": [
    "X.shape"
   ]
  },
  {
   "cell_type": "code",
   "execution_count": 1117,
   "metadata": {},
   "outputs": [
    {
     "data": {
      "text/plain": [
       "(2051,)"
      ]
     },
     "execution_count": 1117,
     "metadata": {},
     "output_type": "execute_result"
    }
   ],
   "source": [
    "y.shape"
   ]
  },
  {
   "cell_type": "code",
   "execution_count": 1118,
   "metadata": {},
   "outputs": [],
   "source": [
    "X_train_2, X_test_2, y_train_2, y_test_2 = train_test_split(X, y, random_state = 42, train_size = .20)"
   ]
  },
  {
   "cell_type": "code",
   "execution_count": 1119,
   "metadata": {},
   "outputs": [],
   "source": [
    "model2 = LinearRegression()"
   ]
  },
  {
   "cell_type": "code",
   "execution_count": 1120,
   "metadata": {},
   "outputs": [
    {
     "data": {
      "text/plain": [
       "LinearRegression(copy_X=True, fit_intercept=True, n_jobs=None, normalize=False)"
      ]
     },
     "execution_count": 1120,
     "metadata": {},
     "output_type": "execute_result"
    }
   ],
   "source": [
    "model2.fit(X_train_2, y_train_2)"
   ]
  },
  {
   "cell_type": "code",
   "execution_count": 1121,
   "metadata": {},
   "outputs": [],
   "source": [
    "y_pred_train_2 = model2.predict(X_train_2)"
   ]
  },
  {
   "cell_type": "code",
   "execution_count": 1127,
   "metadata": {},
   "outputs": [
    {
     "data": {
      "text/plain": [
       "array([155237.98400102, 155237.98400102, 208649.95748893, ...,\n",
       "       155237.98400102, 155237.98400102, 208649.95748893])"
      ]
     },
     "execution_count": 1127,
     "metadata": {},
     "output_type": "execute_result"
    }
   ],
   "source": [
    "y_pred_test_2 = model2.predict(X_test_2)\n",
    "y_pred_test_2"
   ]
  },
  {
   "cell_type": "code",
   "execution_count": 1128,
   "metadata": {},
   "outputs": [
    {
     "name": "stdout",
     "output_type": "stream",
     "text": [
      "MSE for train is 70320.05778268863\n",
      "MSE for test is 71197.77637635998\n"
     ]
    }
   ],
   "source": [
    "# The MSE for these features predicting y\n",
    "print(f\"MSE for train is {mean_squared_error(y_train_2, y_pred_train_2, squared=False)}\")\n",
    "\n",
    "print(f\"MSE for test is {mean_squared_error(y_test_2, y_pred_test_2, squared=False)}\")"
   ]
  },
  {
   "cell_type": "code",
   "execution_count": 551,
   "metadata": {},
   "outputs": [
    {
     "data": {
      "text/html": [
       "<div>\n",
       "<style scoped>\n",
       "    .dataframe tbody tr th:only-of-type {\n",
       "        vertical-align: middle;\n",
       "    }\n",
       "\n",
       "    .dataframe tbody tr th {\n",
       "        vertical-align: top;\n",
       "    }\n",
       "\n",
       "    .dataframe thead th {\n",
       "        text-align: right;\n",
       "    }\n",
       "</style>\n",
       "<table border=\"1\" class=\"dataframe\">\n",
       "  <thead>\n",
       "    <tr style=\"text-align: right;\">\n",
       "      <th></th>\n",
       "      <th>Id</th>\n",
       "      <th>Lot Frontage</th>\n",
       "      <th>BsmtFin SF 1</th>\n",
       "      <th>Total Bsmt SF</th>\n",
       "      <th>1st Flr SF</th>\n",
       "      <th>Gr Liv Area</th>\n",
       "      <th>Garage Area</th>\n",
       "      <th>SalePrice</th>\n",
       "    </tr>\n",
       "  </thead>\n",
       "  <tbody>\n",
       "    <tr>\n",
       "      <th>0</th>\n",
       "      <td>109</td>\n",
       "      <td>69.0552</td>\n",
       "      <td>533.0</td>\n",
       "      <td>725.0</td>\n",
       "      <td>725</td>\n",
       "      <td>1479</td>\n",
       "      <td>475.0</td>\n",
       "      <td>130500</td>\n",
       "    </tr>\n",
       "  </tbody>\n",
       "</table>\n",
       "</div>"
      ],
      "text/plain": [
       "    Id  Lot Frontage  BsmtFin SF 1  Total Bsmt SF  1st Flr SF  Gr Liv Area  \\\n",
       "0  109       69.0552         533.0          725.0         725         1479   \n",
       "\n",
       "   Garage Area  SalePrice  \n",
       "0        475.0     130500  "
      ]
     },
     "execution_count": 551,
     "metadata": {},
     "output_type": "execute_result"
    }
   ],
   "source": [
    "continous_df.head(1)"
   ]
  },
  {
   "cell_type": "code",
   "execution_count": 1158,
   "metadata": {},
   "outputs": [],
   "source": [
    "# Creating new dataframe of the the categorical features I want to use\n",
    "categorical_df = nominal_df[['Id', 'Exterior 1st_VinylSd', 'Lot Config_CulDSac']]"
   ]
  },
  {
   "cell_type": "code",
   "execution_count": 1159,
   "metadata": {},
   "outputs": [],
   "source": [
    "# Merging the continous with the categorical feautres\n",
    "cleaned_df = continous_df.merge(categorical_df, on='Id')"
   ]
  },
  {
   "cell_type": "code",
   "execution_count": 1160,
   "metadata": {},
   "outputs": [
    {
     "data": {
      "text/html": [
       "<div>\n",
       "<style scoped>\n",
       "    .dataframe tbody tr th:only-of-type {\n",
       "        vertical-align: middle;\n",
       "    }\n",
       "\n",
       "    .dataframe tbody tr th {\n",
       "        vertical-align: top;\n",
       "    }\n",
       "\n",
       "    .dataframe thead th {\n",
       "        text-align: right;\n",
       "    }\n",
       "</style>\n",
       "<table border=\"1\" class=\"dataframe\">\n",
       "  <thead>\n",
       "    <tr style=\"text-align: right;\">\n",
       "      <th></th>\n",
       "      <th>Id</th>\n",
       "      <th>Lot Frontage</th>\n",
       "      <th>BsmtFin SF 1</th>\n",
       "      <th>Total Bsmt SF</th>\n",
       "      <th>1st Flr SF</th>\n",
       "      <th>Gr Liv Area</th>\n",
       "      <th>Garage Area</th>\n",
       "      <th>SalePrice</th>\n",
       "      <th>Exterior 1st_VinylSd</th>\n",
       "      <th>Lot Config_CulDSac</th>\n",
       "    </tr>\n",
       "  </thead>\n",
       "  <tbody>\n",
       "    <tr>\n",
       "      <th>0</th>\n",
       "      <td>109</td>\n",
       "      <td>69.0552</td>\n",
       "      <td>533.0</td>\n",
       "      <td>725.0</td>\n",
       "      <td>725</td>\n",
       "      <td>1479</td>\n",
       "      <td>475.0</td>\n",
       "      <td>130500</td>\n",
       "      <td>0</td>\n",
       "      <td>1</td>\n",
       "    </tr>\n",
       "  </tbody>\n",
       "</table>\n",
       "</div>"
      ],
      "text/plain": [
       "    Id  Lot Frontage  BsmtFin SF 1  Total Bsmt SF  1st Flr SF  Gr Liv Area  \\\n",
       "0  109       69.0552         533.0          725.0         725         1479   \n",
       "\n",
       "   Garage Area  SalePrice  Exterior 1st_VinylSd  Lot Config_CulDSac  \n",
       "0        475.0     130500                     0                   1  "
      ]
     },
     "execution_count": 1160,
     "metadata": {},
     "output_type": "execute_result"
    }
   ],
   "source": [
    "# This dataframe has nominal and catgegorical values\n",
    "cleaned_df.head(1)"
   ]
  },
  {
   "cell_type": "code",
   "execution_count": 1161,
   "metadata": {},
   "outputs": [],
   "source": [
    "cleaned_df.to_csv('cleaned_df.csv', index=False)"
   ]
  },
  {
   "cell_type": "markdown",
   "metadata": {},
   "source": []
  },
  {
   "cell_type": "markdown",
   "metadata": {},
   "source": [
    "# ML Model Categorical & Continous"
   ]
  },
  {
   "cell_type": "code",
   "execution_count": 1162,
   "metadata": {},
   "outputs": [],
   "source": [
    "clean_cont_cats = pd.read_csv('../project_2-master/cleaned_df.csv')"
   ]
  },
  {
   "cell_type": "code",
   "execution_count": 1164,
   "metadata": {},
   "outputs": [
    {
     "data": {
      "text/html": [
       "<div>\n",
       "<style scoped>\n",
       "    .dataframe tbody tr th:only-of-type {\n",
       "        vertical-align: middle;\n",
       "    }\n",
       "\n",
       "    .dataframe tbody tr th {\n",
       "        vertical-align: top;\n",
       "    }\n",
       "\n",
       "    .dataframe thead th {\n",
       "        text-align: right;\n",
       "    }\n",
       "</style>\n",
       "<table border=\"1\" class=\"dataframe\">\n",
       "  <thead>\n",
       "    <tr style=\"text-align: right;\">\n",
       "      <th></th>\n",
       "      <th>Id</th>\n",
       "      <th>Lot Frontage</th>\n",
       "      <th>BsmtFin SF 1</th>\n",
       "      <th>Total Bsmt SF</th>\n",
       "      <th>1st Flr SF</th>\n",
       "      <th>Gr Liv Area</th>\n",
       "      <th>Garage Area</th>\n",
       "      <th>SalePrice</th>\n",
       "      <th>Exterior 1st_VinylSd</th>\n",
       "      <th>Lot Config_CulDSac</th>\n",
       "    </tr>\n",
       "  </thead>\n",
       "  <tbody>\n",
       "    <tr>\n",
       "      <th>0</th>\n",
       "      <td>109</td>\n",
       "      <td>69.0552</td>\n",
       "      <td>533.0</td>\n",
       "      <td>725.0</td>\n",
       "      <td>725</td>\n",
       "      <td>1479</td>\n",
       "      <td>475.0</td>\n",
       "      <td>130500</td>\n",
       "      <td>0</td>\n",
       "      <td>1</td>\n",
       "    </tr>\n",
       "  </tbody>\n",
       "</table>\n",
       "</div>"
      ],
      "text/plain": [
       "    Id  Lot Frontage  BsmtFin SF 1  Total Bsmt SF  1st Flr SF  Gr Liv Area  \\\n",
       "0  109       69.0552         533.0          725.0         725         1479   \n",
       "\n",
       "   Garage Area  SalePrice  Exterior 1st_VinylSd  Lot Config_CulDSac  \n",
       "0        475.0     130500                     0                   1  "
      ]
     },
     "execution_count": 1164,
     "metadata": {},
     "output_type": "execute_result"
    }
   ],
   "source": [
    "clean_cont_cats.head(1)"
   ]
  },
  {
   "cell_type": "code",
   "execution_count": 1166,
   "metadata": {},
   "outputs": [
    {
     "data": {
      "text/html": [
       "<div>\n",
       "<style scoped>\n",
       "    .dataframe tbody tr th:only-of-type {\n",
       "        vertical-align: middle;\n",
       "    }\n",
       "\n",
       "    .dataframe tbody tr th {\n",
       "        vertical-align: top;\n",
       "    }\n",
       "\n",
       "    .dataframe thead th {\n",
       "        text-align: right;\n",
       "    }\n",
       "</style>\n",
       "<table border=\"1\" class=\"dataframe\">\n",
       "  <thead>\n",
       "    <tr style=\"text-align: right;\">\n",
       "      <th></th>\n",
       "      <th>Id</th>\n",
       "      <th>Neighborhood_Blueste</th>\n",
       "      <th>Neighborhood_BrDale</th>\n",
       "      <th>Neighborhood_BrkSide</th>\n",
       "      <th>Neighborhood_ClearCr</th>\n",
       "      <th>Neighborhood_CollgCr</th>\n",
       "      <th>Neighborhood_Crawfor</th>\n",
       "      <th>Neighborhood_Edwards</th>\n",
       "      <th>Neighborhood_Gilbert</th>\n",
       "      <th>Neighborhood_Greens</th>\n",
       "      <th>...</th>\n",
       "      <th>Neighborhood_NoRidge</th>\n",
       "      <th>Neighborhood_NridgHt</th>\n",
       "      <th>Neighborhood_OldTown</th>\n",
       "      <th>Neighborhood_SWISU</th>\n",
       "      <th>Neighborhood_Sawyer</th>\n",
       "      <th>Neighborhood_SawyerW</th>\n",
       "      <th>Neighborhood_Somerst</th>\n",
       "      <th>Neighborhood_StoneBr</th>\n",
       "      <th>Neighborhood_Timber</th>\n",
       "      <th>Neighborhood_Veenker</th>\n",
       "    </tr>\n",
       "  </thead>\n",
       "  <tbody>\n",
       "    <tr>\n",
       "      <th>0</th>\n",
       "      <td>109</td>\n",
       "      <td>0</td>\n",
       "      <td>0</td>\n",
       "      <td>0</td>\n",
       "      <td>0</td>\n",
       "      <td>0</td>\n",
       "      <td>0</td>\n",
       "      <td>0</td>\n",
       "      <td>0</td>\n",
       "      <td>0</td>\n",
       "      <td>...</td>\n",
       "      <td>0</td>\n",
       "      <td>0</td>\n",
       "      <td>0</td>\n",
       "      <td>0</td>\n",
       "      <td>1</td>\n",
       "      <td>0</td>\n",
       "      <td>0</td>\n",
       "      <td>0</td>\n",
       "      <td>0</td>\n",
       "      <td>0</td>\n",
       "    </tr>\n",
       "  </tbody>\n",
       "</table>\n",
       "<p>1 rows × 28 columns</p>\n",
       "</div>"
      ],
      "text/plain": [
       "    Id  Neighborhood_Blueste  Neighborhood_BrDale  Neighborhood_BrkSide  \\\n",
       "0  109                     0                    0                     0   \n",
       "\n",
       "   Neighborhood_ClearCr  Neighborhood_CollgCr  Neighborhood_Crawfor  \\\n",
       "0                     0                     0                     0   \n",
       "\n",
       "   Neighborhood_Edwards  Neighborhood_Gilbert  Neighborhood_Greens  ...  \\\n",
       "0                     0                     0                    0  ...   \n",
       "\n",
       "   Neighborhood_NoRidge  Neighborhood_NridgHt  Neighborhood_OldTown  \\\n",
       "0                     0                     0                     0   \n",
       "\n",
       "   Neighborhood_SWISU  Neighborhood_Sawyer  Neighborhood_SawyerW  \\\n",
       "0                   0                    1                     0   \n",
       "\n",
       "   Neighborhood_Somerst  Neighborhood_StoneBr  Neighborhood_Timber  \\\n",
       "0                     0                     0                    0   \n",
       "\n",
       "   Neighborhood_Veenker  \n",
       "0                     0  \n",
       "\n",
       "[1 rows x 28 columns]"
      ]
     },
     "execution_count": 1166,
     "metadata": {},
     "output_type": "execute_result"
    }
   ],
   "source": [
    "# Getting dummies for the 'Neighborhood' column\n",
    "neigh_dummies = train_df[['Id','Neighborhood']]\n",
    "neigh_new = pd.get_dummies(columns=['Neighborhood'], data=neigh_dummies, drop_first=True)\n",
    "neigh_new.head(1)"
   ]
  },
  {
   "cell_type": "code",
   "execution_count": 1175,
   "metadata": {},
   "outputs": [],
   "source": [
    "# Merging the clean continous and nominal features with the neighborhood columns\n",
    "model_df = clean_cont_cats.merge(neigh_new, on='Id')"
   ]
  },
  {
   "cell_type": "code",
   "execution_count": 1176,
   "metadata": {},
   "outputs": [
    {
     "data": {
      "text/html": [
       "<div>\n",
       "<style scoped>\n",
       "    .dataframe tbody tr th:only-of-type {\n",
       "        vertical-align: middle;\n",
       "    }\n",
       "\n",
       "    .dataframe tbody tr th {\n",
       "        vertical-align: top;\n",
       "    }\n",
       "\n",
       "    .dataframe thead th {\n",
       "        text-align: right;\n",
       "    }\n",
       "</style>\n",
       "<table border=\"1\" class=\"dataframe\">\n",
       "  <thead>\n",
       "    <tr style=\"text-align: right;\">\n",
       "      <th></th>\n",
       "      <th>Id</th>\n",
       "      <th>Lot Frontage</th>\n",
       "      <th>BsmtFin SF 1</th>\n",
       "      <th>Total Bsmt SF</th>\n",
       "      <th>1st Flr SF</th>\n",
       "      <th>Gr Liv Area</th>\n",
       "      <th>Garage Area</th>\n",
       "      <th>SalePrice</th>\n",
       "      <th>Exterior 1st_VinylSd</th>\n",
       "      <th>Lot Config_CulDSac</th>\n",
       "      <th>...</th>\n",
       "      <th>Neighborhood_NoRidge</th>\n",
       "      <th>Neighborhood_NridgHt</th>\n",
       "      <th>Neighborhood_OldTown</th>\n",
       "      <th>Neighborhood_SWISU</th>\n",
       "      <th>Neighborhood_Sawyer</th>\n",
       "      <th>Neighborhood_SawyerW</th>\n",
       "      <th>Neighborhood_Somerst</th>\n",
       "      <th>Neighborhood_StoneBr</th>\n",
       "      <th>Neighborhood_Timber</th>\n",
       "      <th>Neighborhood_Veenker</th>\n",
       "    </tr>\n",
       "  </thead>\n",
       "  <tbody>\n",
       "    <tr>\n",
       "      <th>0</th>\n",
       "      <td>109</td>\n",
       "      <td>69.0552</td>\n",
       "      <td>533.0</td>\n",
       "      <td>725.0</td>\n",
       "      <td>725</td>\n",
       "      <td>1479</td>\n",
       "      <td>475.0</td>\n",
       "      <td>130500</td>\n",
       "      <td>0</td>\n",
       "      <td>1</td>\n",
       "      <td>...</td>\n",
       "      <td>0</td>\n",
       "      <td>0</td>\n",
       "      <td>0</td>\n",
       "      <td>0</td>\n",
       "      <td>1</td>\n",
       "      <td>0</td>\n",
       "      <td>0</td>\n",
       "      <td>0</td>\n",
       "      <td>0</td>\n",
       "      <td>0</td>\n",
       "    </tr>\n",
       "  </tbody>\n",
       "</table>\n",
       "<p>1 rows × 37 columns</p>\n",
       "</div>"
      ],
      "text/plain": [
       "    Id  Lot Frontage  BsmtFin SF 1  Total Bsmt SF  1st Flr SF  Gr Liv Area  \\\n",
       "0  109       69.0552         533.0          725.0         725         1479   \n",
       "\n",
       "   Garage Area  SalePrice  Exterior 1st_VinylSd  Lot Config_CulDSac  ...  \\\n",
       "0        475.0     130500                     0                   1  ...   \n",
       "\n",
       "   Neighborhood_NoRidge  Neighborhood_NridgHt  Neighborhood_OldTown  \\\n",
       "0                     0                     0                     0   \n",
       "\n",
       "   Neighborhood_SWISU  Neighborhood_Sawyer  Neighborhood_SawyerW  \\\n",
       "0                   0                    1                     0   \n",
       "\n",
       "   Neighborhood_Somerst  Neighborhood_StoneBr  Neighborhood_Timber  \\\n",
       "0                     0                     0                    0   \n",
       "\n",
       "   Neighborhood_Veenker  \n",
       "0                     0  \n",
       "\n",
       "[1 rows x 37 columns]"
      ]
     },
     "execution_count": 1176,
     "metadata": {},
     "output_type": "execute_result"
    }
   ],
   "source": [
    "model_df.head(1)"
   ]
  },
  {
   "cell_type": "code",
   "execution_count": 1177,
   "metadata": {},
   "outputs": [],
   "source": [
    "# Dropping the 'Id' column...might got back and set as index\n",
    "model_df.drop(columns=['Id'], inplace=True)"
   ]
  },
  {
   "cell_type": "code",
   "execution_count": 1179,
   "metadata": {},
   "outputs": [
    {
     "data": {
      "text/html": [
       "<div>\n",
       "<style scoped>\n",
       "    .dataframe tbody tr th:only-of-type {\n",
       "        vertical-align: middle;\n",
       "    }\n",
       "\n",
       "    .dataframe tbody tr th {\n",
       "        vertical-align: top;\n",
       "    }\n",
       "\n",
       "    .dataframe thead th {\n",
       "        text-align: right;\n",
       "    }\n",
       "</style>\n",
       "<table border=\"1\" class=\"dataframe\">\n",
       "  <thead>\n",
       "    <tr style=\"text-align: right;\">\n",
       "      <th></th>\n",
       "      <th>Lot Frontage</th>\n",
       "      <th>BsmtFin SF 1</th>\n",
       "      <th>Total Bsmt SF</th>\n",
       "      <th>1st Flr SF</th>\n",
       "      <th>Gr Liv Area</th>\n",
       "      <th>Garage Area</th>\n",
       "      <th>SalePrice</th>\n",
       "      <th>Exterior 1st_VinylSd</th>\n",
       "      <th>Lot Config_CulDSac</th>\n",
       "      <th>Neighborhood_Blueste</th>\n",
       "      <th>...</th>\n",
       "      <th>Neighborhood_NoRidge</th>\n",
       "      <th>Neighborhood_NridgHt</th>\n",
       "      <th>Neighborhood_OldTown</th>\n",
       "      <th>Neighborhood_SWISU</th>\n",
       "      <th>Neighborhood_Sawyer</th>\n",
       "      <th>Neighborhood_SawyerW</th>\n",
       "      <th>Neighborhood_Somerst</th>\n",
       "      <th>Neighborhood_StoneBr</th>\n",
       "      <th>Neighborhood_Timber</th>\n",
       "      <th>Neighborhood_Veenker</th>\n",
       "    </tr>\n",
       "  </thead>\n",
       "  <tbody>\n",
       "    <tr>\n",
       "      <th>0</th>\n",
       "      <td>69.0552</td>\n",
       "      <td>533.0</td>\n",
       "      <td>725.0</td>\n",
       "      <td>725</td>\n",
       "      <td>1479</td>\n",
       "      <td>475.0</td>\n",
       "      <td>130500</td>\n",
       "      <td>0</td>\n",
       "      <td>1</td>\n",
       "      <td>0</td>\n",
       "      <td>...</td>\n",
       "      <td>0</td>\n",
       "      <td>0</td>\n",
       "      <td>0</td>\n",
       "      <td>0</td>\n",
       "      <td>1</td>\n",
       "      <td>0</td>\n",
       "      <td>0</td>\n",
       "      <td>0</td>\n",
       "      <td>0</td>\n",
       "      <td>0</td>\n",
       "    </tr>\n",
       "  </tbody>\n",
       "</table>\n",
       "<p>1 rows × 36 columns</p>\n",
       "</div>"
      ],
      "text/plain": [
       "   Lot Frontage  BsmtFin SF 1  Total Bsmt SF  1st Flr SF  Gr Liv Area  \\\n",
       "0       69.0552         533.0          725.0         725         1479   \n",
       "\n",
       "   Garage Area  SalePrice  Exterior 1st_VinylSd  Lot Config_CulDSac  \\\n",
       "0        475.0     130500                     0                   1   \n",
       "\n",
       "   Neighborhood_Blueste  ...  Neighborhood_NoRidge  Neighborhood_NridgHt  \\\n",
       "0                     0  ...                     0                     0   \n",
       "\n",
       "   Neighborhood_OldTown  Neighborhood_SWISU  Neighborhood_Sawyer  \\\n",
       "0                     0                   0                    1   \n",
       "\n",
       "   Neighborhood_SawyerW  Neighborhood_Somerst  Neighborhood_StoneBr  \\\n",
       "0                     0                     0                     0   \n",
       "\n",
       "   Neighborhood_Timber  Neighborhood_Veenker  \n",
       "0                    0                     0  \n",
       "\n",
       "[1 rows x 36 columns]"
      ]
     },
     "execution_count": 1179,
     "metadata": {},
     "output_type": "execute_result"
    }
   ],
   "source": [
    "# 'Id' not there anymore\n",
    "model_df.head(1)"
   ]
  },
  {
   "cell_type": "code",
   "execution_count": 1184,
   "metadata": {},
   "outputs": [],
   "source": [
    "# Move 'SalePrice' to the end of the dataframe easier to exlude in feature selection\n",
    "df1 = model_df.pop('SalePrice')\n",
    "model_df['SalePrice']=df1"
   ]
  },
  {
   "cell_type": "code",
   "execution_count": 1185,
   "metadata": {},
   "outputs": [
    {
     "data": {
      "text/html": [
       "<div>\n",
       "<style scoped>\n",
       "    .dataframe tbody tr th:only-of-type {\n",
       "        vertical-align: middle;\n",
       "    }\n",
       "\n",
       "    .dataframe tbody tr th {\n",
       "        vertical-align: top;\n",
       "    }\n",
       "\n",
       "    .dataframe thead th {\n",
       "        text-align: right;\n",
       "    }\n",
       "</style>\n",
       "<table border=\"1\" class=\"dataframe\">\n",
       "  <thead>\n",
       "    <tr style=\"text-align: right;\">\n",
       "      <th></th>\n",
       "      <th>Lot Frontage</th>\n",
       "      <th>BsmtFin SF 1</th>\n",
       "      <th>Total Bsmt SF</th>\n",
       "      <th>1st Flr SF</th>\n",
       "      <th>Gr Liv Area</th>\n",
       "      <th>Garage Area</th>\n",
       "      <th>Exterior 1st_VinylSd</th>\n",
       "      <th>Lot Config_CulDSac</th>\n",
       "      <th>Neighborhood_Blueste</th>\n",
       "      <th>Neighborhood_BrDale</th>\n",
       "      <th>...</th>\n",
       "      <th>Neighborhood_NridgHt</th>\n",
       "      <th>Neighborhood_OldTown</th>\n",
       "      <th>Neighborhood_SWISU</th>\n",
       "      <th>Neighborhood_Sawyer</th>\n",
       "      <th>Neighborhood_SawyerW</th>\n",
       "      <th>Neighborhood_Somerst</th>\n",
       "      <th>Neighborhood_StoneBr</th>\n",
       "      <th>Neighborhood_Timber</th>\n",
       "      <th>Neighborhood_Veenker</th>\n",
       "      <th>SalePrice</th>\n",
       "    </tr>\n",
       "  </thead>\n",
       "  <tbody>\n",
       "    <tr>\n",
       "      <th>0</th>\n",
       "      <td>69.0552</td>\n",
       "      <td>533.0</td>\n",
       "      <td>725.0</td>\n",
       "      <td>725</td>\n",
       "      <td>1479</td>\n",
       "      <td>475.0</td>\n",
       "      <td>0</td>\n",
       "      <td>1</td>\n",
       "      <td>0</td>\n",
       "      <td>0</td>\n",
       "      <td>...</td>\n",
       "      <td>0</td>\n",
       "      <td>0</td>\n",
       "      <td>0</td>\n",
       "      <td>1</td>\n",
       "      <td>0</td>\n",
       "      <td>0</td>\n",
       "      <td>0</td>\n",
       "      <td>0</td>\n",
       "      <td>0</td>\n",
       "      <td>130500</td>\n",
       "    </tr>\n",
       "  </tbody>\n",
       "</table>\n",
       "<p>1 rows × 36 columns</p>\n",
       "</div>"
      ],
      "text/plain": [
       "   Lot Frontage  BsmtFin SF 1  Total Bsmt SF  1st Flr SF  Gr Liv Area  \\\n",
       "0       69.0552         533.0          725.0         725         1479   \n",
       "\n",
       "   Garage Area  Exterior 1st_VinylSd  Lot Config_CulDSac  \\\n",
       "0        475.0                     0                   1   \n",
       "\n",
       "   Neighborhood_Blueste  Neighborhood_BrDale  ...  Neighborhood_NridgHt  \\\n",
       "0                     0                    0  ...                     0   \n",
       "\n",
       "   Neighborhood_OldTown  Neighborhood_SWISU  Neighborhood_Sawyer  \\\n",
       "0                     0                   0                    1   \n",
       "\n",
       "   Neighborhood_SawyerW  Neighborhood_Somerst  Neighborhood_StoneBr  \\\n",
       "0                     0                     0                     0   \n",
       "\n",
       "   Neighborhood_Timber  Neighborhood_Veenker  SalePrice  \n",
       "0                    0                     0     130500  \n",
       "\n",
       "[1 rows x 36 columns]"
      ]
     },
     "execution_count": 1185,
     "metadata": {},
     "output_type": "execute_result"
    }
   ],
   "source": [
    "model_df.head(1)"
   ]
  },
  {
   "cell_type": "code",
   "execution_count": 1187,
   "metadata": {},
   "outputs": [
    {
     "data": {
      "text/plain": [
       "Index(['Lot Frontage', 'BsmtFin SF 1', 'Total Bsmt SF', '1st Flr SF',\n",
       "       'Gr Liv Area', 'Garage Area', 'Exterior 1st_VinylSd',\n",
       "       'Lot Config_CulDSac', 'Neighborhood_Blueste', 'Neighborhood_BrDale',\n",
       "       'Neighborhood_BrkSide', 'Neighborhood_ClearCr', 'Neighborhood_CollgCr',\n",
       "       'Neighborhood_Crawfor', 'Neighborhood_Edwards', 'Neighborhood_Gilbert',\n",
       "       'Neighborhood_Greens', 'Neighborhood_GrnHill', 'Neighborhood_IDOTRR',\n",
       "       'Neighborhood_Landmrk', 'Neighborhood_MeadowV', 'Neighborhood_Mitchel',\n",
       "       'Neighborhood_NAmes', 'Neighborhood_NPkVill', 'Neighborhood_NWAmes',\n",
       "       'Neighborhood_NoRidge', 'Neighborhood_NridgHt', 'Neighborhood_OldTown',\n",
       "       'Neighborhood_SWISU', 'Neighborhood_Sawyer', 'Neighborhood_SawyerW',\n",
       "       'Neighborhood_Somerst', 'Neighborhood_StoneBr', 'Neighborhood_Timber',\n",
       "       'Neighborhood_Veenker'],\n",
       "      dtype='object')"
      ]
     },
     "execution_count": 1187,
     "metadata": {},
     "output_type": "execute_result"
    }
   ],
   "source": [
    "model_df.columns[:-1]"
   ]
  },
  {
   "cell_type": "code",
   "execution_count": 1277,
   "metadata": {},
   "outputs": [],
   "source": [
    "X = cont_cats[model_df.columns[:-1]]\n",
    "y = cont_cats['SalePrice_y']"
   ]
  },
  {
   "cell_type": "code",
   "execution_count": 1278,
   "metadata": {},
   "outputs": [
    {
     "data": {
      "text/plain": [
       "(2051, 35)"
      ]
     },
     "execution_count": 1278,
     "metadata": {},
     "output_type": "execute_result"
    }
   ],
   "source": [
    "X.shape"
   ]
  },
  {
   "cell_type": "code",
   "execution_count": 1280,
   "metadata": {},
   "outputs": [
    {
     "data": {
      "text/html": [
       "<div>\n",
       "<style scoped>\n",
       "    .dataframe tbody tr th:only-of-type {\n",
       "        vertical-align: middle;\n",
       "    }\n",
       "\n",
       "    .dataframe tbody tr th {\n",
       "        vertical-align: top;\n",
       "    }\n",
       "\n",
       "    .dataframe thead th {\n",
       "        text-align: right;\n",
       "    }\n",
       "</style>\n",
       "<table border=\"1\" class=\"dataframe\">\n",
       "  <thead>\n",
       "    <tr style=\"text-align: right;\">\n",
       "      <th></th>\n",
       "      <th>Lot Frontage</th>\n",
       "      <th>BsmtFin SF 1</th>\n",
       "      <th>Total Bsmt SF</th>\n",
       "      <th>1st Flr SF</th>\n",
       "      <th>Gr Liv Area</th>\n",
       "      <th>Garage Area</th>\n",
       "      <th>Exterior 1st_VinylSd</th>\n",
       "      <th>Lot Config_CulDSac</th>\n",
       "      <th>Neighborhood_Blueste</th>\n",
       "      <th>Neighborhood_BrDale</th>\n",
       "      <th>...</th>\n",
       "      <th>Neighborhood_NoRidge</th>\n",
       "      <th>Neighborhood_NridgHt</th>\n",
       "      <th>Neighborhood_OldTown</th>\n",
       "      <th>Neighborhood_SWISU</th>\n",
       "      <th>Neighborhood_Sawyer</th>\n",
       "      <th>Neighborhood_SawyerW</th>\n",
       "      <th>Neighborhood_Somerst</th>\n",
       "      <th>Neighborhood_StoneBr</th>\n",
       "      <th>Neighborhood_Timber</th>\n",
       "      <th>Neighborhood_Veenker</th>\n",
       "    </tr>\n",
       "  </thead>\n",
       "  <tbody>\n",
       "    <tr>\n",
       "      <th>0</th>\n",
       "      <td>69.0552</td>\n",
       "      <td>533.0</td>\n",
       "      <td>725.0</td>\n",
       "      <td>725</td>\n",
       "      <td>1479</td>\n",
       "      <td>475.0</td>\n",
       "      <td>0</td>\n",
       "      <td>1</td>\n",
       "      <td>0</td>\n",
       "      <td>0</td>\n",
       "      <td>...</td>\n",
       "      <td>0</td>\n",
       "      <td>0</td>\n",
       "      <td>0</td>\n",
       "      <td>0</td>\n",
       "      <td>1</td>\n",
       "      <td>0</td>\n",
       "      <td>0</td>\n",
       "      <td>0</td>\n",
       "      <td>0</td>\n",
       "      <td>0</td>\n",
       "    </tr>\n",
       "  </tbody>\n",
       "</table>\n",
       "<p>1 rows × 35 columns</p>\n",
       "</div>"
      ],
      "text/plain": [
       "   Lot Frontage  BsmtFin SF 1  Total Bsmt SF  1st Flr SF  Gr Liv Area  \\\n",
       "0       69.0552         533.0          725.0         725         1479   \n",
       "\n",
       "   Garage Area  Exterior 1st_VinylSd  Lot Config_CulDSac  \\\n",
       "0        475.0                     0                   1   \n",
       "\n",
       "   Neighborhood_Blueste  Neighborhood_BrDale  ...  Neighborhood_NoRidge  \\\n",
       "0                     0                    0  ...                     0   \n",
       "\n",
       "   Neighborhood_NridgHt  Neighborhood_OldTown  Neighborhood_SWISU  \\\n",
       "0                     0                     0                   0   \n",
       "\n",
       "   Neighborhood_Sawyer  Neighborhood_SawyerW  Neighborhood_Somerst  \\\n",
       "0                    1                     0                     0   \n",
       "\n",
       "   Neighborhood_StoneBr  Neighborhood_Timber  Neighborhood_Veenker  \n",
       "0                     0                    0                     0  \n",
       "\n",
       "[1 rows x 35 columns]"
      ]
     },
     "execution_count": 1280,
     "metadata": {},
     "output_type": "execute_result"
    }
   ],
   "source": [
    "X.head(1)"
   ]
  },
  {
   "cell_type": "code",
   "execution_count": 1281,
   "metadata": {},
   "outputs": [
    {
     "data": {
      "text/plain": [
       "(2051,)"
      ]
     },
     "execution_count": 1281,
     "metadata": {},
     "output_type": "execute_result"
    }
   ],
   "source": [
    "y.shape"
   ]
  },
  {
   "cell_type": "code",
   "execution_count": 1282,
   "metadata": {},
   "outputs": [
    {
     "name": "stdout",
     "output_type": "stream",
     "text": [
      "MSE for train is 36606.236753316116\n",
      "MSE for test is 33295.81633731802\n"
     ]
    }
   ],
   "source": [
    "X_train_3, X_test_3, y_train_3, y_test_3 = train_test_split(X, y, random_state = 42, train_size=.70)\n",
    "\n",
    "model3 = LinearRegression()\n",
    "\n",
    "model3.fit(X_train_3, y_train_3)\n",
    "\n",
    "y_pred_train_3 = model3.predict(X_train_3)\n",
    "y_pred_test_3 = model3.predict(X_test_3)\n",
    "\n",
    "y_intercept = model3.intercept_\n",
    "y_coef = model3.coef_\n",
    "\n",
    "print(f\"MSE for train is {mean_squared_error(y_train_3, y_pred_train_3, squared=False)}\")\n",
    "\n",
    "print(f\"MSE for test is {mean_squared_error(y_test_3, y_pred_test_3, squared=False)}\")"
   ]
  },
  {
   "cell_type": "code",
   "execution_count": null,
   "metadata": {},
   "outputs": [],
   "source": []
  },
  {
   "cell_type": "code",
   "execution_count": 1283,
   "metadata": {},
   "outputs": [
    {
     "data": {
      "text/html": [
       "<div>\n",
       "<style scoped>\n",
       "    .dataframe tbody tr th:only-of-type {\n",
       "        vertical-align: middle;\n",
       "    }\n",
       "\n",
       "    .dataframe tbody tr th {\n",
       "        vertical-align: top;\n",
       "    }\n",
       "\n",
       "    .dataframe thead th {\n",
       "        text-align: right;\n",
       "    }\n",
       "</style>\n",
       "<table border=\"1\" class=\"dataframe\">\n",
       "  <thead>\n",
       "    <tr style=\"text-align: right;\">\n",
       "      <th></th>\n",
       "      <th>Id</th>\n",
       "      <th>PID</th>\n",
       "      <th>MS SubClass</th>\n",
       "      <th>MS Zoning</th>\n",
       "      <th>Lot Frontage</th>\n",
       "      <th>Lot Area</th>\n",
       "      <th>Street</th>\n",
       "      <th>Alley</th>\n",
       "      <th>Lot Shape</th>\n",
       "      <th>Land Contour</th>\n",
       "      <th>...</th>\n",
       "      <th>3Ssn Porch</th>\n",
       "      <th>Screen Porch</th>\n",
       "      <th>Pool Area</th>\n",
       "      <th>Pool QC</th>\n",
       "      <th>Fence</th>\n",
       "      <th>Misc Feature</th>\n",
       "      <th>Misc Val</th>\n",
       "      <th>Mo Sold</th>\n",
       "      <th>Yr Sold</th>\n",
       "      <th>Sale Type</th>\n",
       "    </tr>\n",
       "  </thead>\n",
       "  <tbody>\n",
       "    <tr>\n",
       "      <th>0</th>\n",
       "      <td>2658</td>\n",
       "      <td>902301120</td>\n",
       "      <td>190</td>\n",
       "      <td>RM</td>\n",
       "      <td>69.0</td>\n",
       "      <td>9142</td>\n",
       "      <td>Pave</td>\n",
       "      <td>Grvl</td>\n",
       "      <td>Reg</td>\n",
       "      <td>Lvl</td>\n",
       "      <td>...</td>\n",
       "      <td>0</td>\n",
       "      <td>0</td>\n",
       "      <td>0</td>\n",
       "      <td>NaN</td>\n",
       "      <td>NaN</td>\n",
       "      <td>NaN</td>\n",
       "      <td>0</td>\n",
       "      <td>4</td>\n",
       "      <td>2006</td>\n",
       "      <td>WD</td>\n",
       "    </tr>\n",
       "  </tbody>\n",
       "</table>\n",
       "<p>1 rows × 80 columns</p>\n",
       "</div>"
      ],
      "text/plain": [
       "     Id        PID  MS SubClass MS Zoning  Lot Frontage  Lot Area Street  \\\n",
       "0  2658  902301120          190        RM          69.0      9142   Pave   \n",
       "\n",
       "  Alley Lot Shape Land Contour  ... 3Ssn Porch Screen Porch Pool Area Pool QC  \\\n",
       "0  Grvl       Reg          Lvl  ...          0            0         0     NaN   \n",
       "\n",
       "  Fence Misc Feature Misc Val Mo Sold  Yr Sold  Sale Type  \n",
       "0   NaN          NaN        0       4     2006        WD   \n",
       "\n",
       "[1 rows x 80 columns]"
      ]
     },
     "execution_count": 1283,
     "metadata": {},
     "output_type": "execute_result"
    }
   ],
   "source": [
    "test_df.head(1)"
   ]
  },
  {
   "cell_type": "code",
   "execution_count": 1284,
   "metadata": {},
   "outputs": [
    {
     "data": {
      "text/html": [
       "<div>\n",
       "<style scoped>\n",
       "    .dataframe tbody tr th:only-of-type {\n",
       "        vertical-align: middle;\n",
       "    }\n",
       "\n",
       "    .dataframe tbody tr th {\n",
       "        vertical-align: top;\n",
       "    }\n",
       "\n",
       "    .dataframe thead th {\n",
       "        text-align: right;\n",
       "    }\n",
       "</style>\n",
       "<table border=\"1\" class=\"dataframe\">\n",
       "  <thead>\n",
       "    <tr style=\"text-align: right;\">\n",
       "      <th></th>\n",
       "      <th>Id</th>\n",
       "      <th>Neighborhood_Blueste</th>\n",
       "      <th>Neighborhood_BrDale</th>\n",
       "      <th>Neighborhood_BrkSide</th>\n",
       "      <th>Neighborhood_ClearCr</th>\n",
       "      <th>Neighborhood_CollgCr</th>\n",
       "      <th>Neighborhood_Crawfor</th>\n",
       "      <th>Neighborhood_Edwards</th>\n",
       "      <th>Neighborhood_Gilbert</th>\n",
       "      <th>Neighborhood_Greens</th>\n",
       "      <th>...</th>\n",
       "      <th>Neighborhood_NoRidge</th>\n",
       "      <th>Neighborhood_NridgHt</th>\n",
       "      <th>Neighborhood_OldTown</th>\n",
       "      <th>Neighborhood_SWISU</th>\n",
       "      <th>Neighborhood_Sawyer</th>\n",
       "      <th>Neighborhood_SawyerW</th>\n",
       "      <th>Neighborhood_Somerst</th>\n",
       "      <th>Neighborhood_StoneBr</th>\n",
       "      <th>Neighborhood_Timber</th>\n",
       "      <th>Neighborhood_Veenker</th>\n",
       "    </tr>\n",
       "  </thead>\n",
       "  <tbody>\n",
       "    <tr>\n",
       "      <th>0</th>\n",
       "      <td>2658</td>\n",
       "      <td>0</td>\n",
       "      <td>0</td>\n",
       "      <td>0</td>\n",
       "      <td>0</td>\n",
       "      <td>0</td>\n",
       "      <td>0</td>\n",
       "      <td>0</td>\n",
       "      <td>0</td>\n",
       "      <td>0</td>\n",
       "      <td>...</td>\n",
       "      <td>0</td>\n",
       "      <td>0</td>\n",
       "      <td>1</td>\n",
       "      <td>0</td>\n",
       "      <td>0</td>\n",
       "      <td>0</td>\n",
       "      <td>0</td>\n",
       "      <td>0</td>\n",
       "      <td>0</td>\n",
       "      <td>0</td>\n",
       "    </tr>\n",
       "    <tr>\n",
       "      <th>1</th>\n",
       "      <td>2718</td>\n",
       "      <td>0</td>\n",
       "      <td>0</td>\n",
       "      <td>0</td>\n",
       "      <td>0</td>\n",
       "      <td>0</td>\n",
       "      <td>0</td>\n",
       "      <td>0</td>\n",
       "      <td>0</td>\n",
       "      <td>0</td>\n",
       "      <td>...</td>\n",
       "      <td>0</td>\n",
       "      <td>0</td>\n",
       "      <td>0</td>\n",
       "      <td>0</td>\n",
       "      <td>1</td>\n",
       "      <td>0</td>\n",
       "      <td>0</td>\n",
       "      <td>0</td>\n",
       "      <td>0</td>\n",
       "      <td>0</td>\n",
       "    </tr>\n",
       "  </tbody>\n",
       "</table>\n",
       "<p>2 rows × 26 columns</p>\n",
       "</div>"
      ],
      "text/plain": [
       "     Id  Neighborhood_Blueste  Neighborhood_BrDale  Neighborhood_BrkSide  \\\n",
       "0  2658                     0                    0                     0   \n",
       "1  2718                     0                    0                     0   \n",
       "\n",
       "   Neighborhood_ClearCr  Neighborhood_CollgCr  Neighborhood_Crawfor  \\\n",
       "0                     0                     0                     0   \n",
       "1                     0                     0                     0   \n",
       "\n",
       "   Neighborhood_Edwards  Neighborhood_Gilbert  Neighborhood_Greens  ...  \\\n",
       "0                     0                     0                    0  ...   \n",
       "1                     0                     0                    0  ...   \n",
       "\n",
       "   Neighborhood_NoRidge  Neighborhood_NridgHt  Neighborhood_OldTown  \\\n",
       "0                     0                     0                     1   \n",
       "1                     0                     0                     0   \n",
       "\n",
       "   Neighborhood_SWISU  Neighborhood_Sawyer  Neighborhood_SawyerW  \\\n",
       "0                   0                    0                     0   \n",
       "1                   0                    1                     0   \n",
       "\n",
       "   Neighborhood_Somerst  Neighborhood_StoneBr  Neighborhood_Timber  \\\n",
       "0                     0                     0                    0   \n",
       "1                     0                     0                    0   \n",
       "\n",
       "   Neighborhood_Veenker  \n",
       "0                     0  \n",
       "1                     0  \n",
       "\n",
       "[2 rows x 26 columns]"
      ]
     },
     "execution_count": 1284,
     "metadata": {},
     "output_type": "execute_result"
    }
   ],
   "source": [
    "# Get dummy columns for the 'Neighborhood' column in the 'test_csv'\n",
    "neigh_dum_test = test_df[['Id','Neighborhood']]\n",
    "dummy_test_neigh = pd.get_dummies(columns=['Neighborhood'], data=neigh_dum_test, drop_first=True)\n",
    "\n",
    "dummy_test_neigh.head(2)"
   ]
  },
  {
   "cell_type": "code",
   "execution_count": 1285,
   "metadata": {},
   "outputs": [],
   "source": [
    "# Reading in the categorical columns from test_csv\n",
    "nominal_test = pd.read_csv('../project_2-master/nominal_test.csv')"
   ]
  },
  {
   "cell_type": "code",
   "execution_count": 1286,
   "metadata": {},
   "outputs": [
    {
     "data": {
      "text/html": [
       "<div>\n",
       "<style scoped>\n",
       "    .dataframe tbody tr th:only-of-type {\n",
       "        vertical-align: middle;\n",
       "    }\n",
       "\n",
       "    .dataframe tbody tr th {\n",
       "        vertical-align: top;\n",
       "    }\n",
       "\n",
       "    .dataframe thead th {\n",
       "        text-align: right;\n",
       "    }\n",
       "</style>\n",
       "<table border=\"1\" class=\"dataframe\">\n",
       "  <thead>\n",
       "    <tr style=\"text-align: right;\">\n",
       "      <th></th>\n",
       "      <th>Id</th>\n",
       "      <th>MS Zoning_FV</th>\n",
       "      <th>MS Zoning_I (all)</th>\n",
       "      <th>MS Zoning_RH</th>\n",
       "      <th>MS Zoning_RL</th>\n",
       "      <th>MS Zoning_RM</th>\n",
       "      <th>MS SubClass_30</th>\n",
       "      <th>MS SubClass_40</th>\n",
       "      <th>MS SubClass_45</th>\n",
       "      <th>MS SubClass_50</th>\n",
       "      <th>...</th>\n",
       "      <th>Central Air_Y</th>\n",
       "      <th>Sale Type_CWD</th>\n",
       "      <th>Sale Type_Con</th>\n",
       "      <th>Sale Type_ConLD</th>\n",
       "      <th>Sale Type_ConLI</th>\n",
       "      <th>Sale Type_ConLw</th>\n",
       "      <th>Sale Type_New</th>\n",
       "      <th>Sale Type_Oth</th>\n",
       "      <th>Sale Type_VWD</th>\n",
       "      <th>Sale Type_WD</th>\n",
       "    </tr>\n",
       "  </thead>\n",
       "  <tbody>\n",
       "    <tr>\n",
       "      <th>0</th>\n",
       "      <td>2658</td>\n",
       "      <td>0</td>\n",
       "      <td>0</td>\n",
       "      <td>0</td>\n",
       "      <td>0</td>\n",
       "      <td>1</td>\n",
       "      <td>0</td>\n",
       "      <td>0</td>\n",
       "      <td>0</td>\n",
       "      <td>0</td>\n",
       "      <td>...</td>\n",
       "      <td>0</td>\n",
       "      <td>0</td>\n",
       "      <td>0</td>\n",
       "      <td>0</td>\n",
       "      <td>0</td>\n",
       "      <td>0</td>\n",
       "      <td>0</td>\n",
       "      <td>0</td>\n",
       "      <td>0</td>\n",
       "      <td>1</td>\n",
       "    </tr>\n",
       "  </tbody>\n",
       "</table>\n",
       "<p>1 rows × 156 columns</p>\n",
       "</div>"
      ],
      "text/plain": [
       "     Id  MS Zoning_FV  MS Zoning_I (all)  MS Zoning_RH  MS Zoning_RL  \\\n",
       "0  2658             0                  0             0             0   \n",
       "\n",
       "   MS Zoning_RM  MS SubClass_30  MS SubClass_40  MS SubClass_45  \\\n",
       "0             1               0               0               0   \n",
       "\n",
       "   MS SubClass_50  ...  Central Air_Y  Sale Type_CWD  Sale Type_Con  \\\n",
       "0               0  ...              0              0              0   \n",
       "\n",
       "   Sale Type_ConLD  Sale Type_ConLI  Sale Type_ConLw  Sale Type_New  \\\n",
       "0                0                0                0              0   \n",
       "\n",
       "   Sale Type_Oth  Sale Type_VWD  Sale Type_WD   \n",
       "0              0              0              1  \n",
       "\n",
       "[1 rows x 156 columns]"
      ]
     },
     "execution_count": 1286,
     "metadata": {},
     "output_type": "execute_result"
    }
   ],
   "source": [
    "nominal_test.head(1)"
   ]
  },
  {
   "cell_type": "code",
   "execution_count": 1287,
   "metadata": {},
   "outputs": [],
   "source": [
    "# Reading in the contionus columns from test_csv\n",
    "test_continous = pd.read_csv('../project_2-master/test_contionus.csv')"
   ]
  },
  {
   "cell_type": "code",
   "execution_count": 1288,
   "metadata": {},
   "outputs": [
    {
     "data": {
      "text/html": [
       "<div>\n",
       "<style scoped>\n",
       "    .dataframe tbody tr th:only-of-type {\n",
       "        vertical-align: middle;\n",
       "    }\n",
       "\n",
       "    .dataframe tbody tr th {\n",
       "        vertical-align: top;\n",
       "    }\n",
       "\n",
       "    .dataframe thead th {\n",
       "        text-align: right;\n",
       "    }\n",
       "</style>\n",
       "<table border=\"1\" class=\"dataframe\">\n",
       "  <thead>\n",
       "    <tr style=\"text-align: right;\">\n",
       "      <th></th>\n",
       "      <th>Id</th>\n",
       "      <th>Lot Frontage</th>\n",
       "      <th>BsmtFin SF 1</th>\n",
       "      <th>Total Bsmt SF</th>\n",
       "      <th>1st Flr SF</th>\n",
       "      <th>Gr Liv Area</th>\n",
       "      <th>Garage Area</th>\n",
       "    </tr>\n",
       "  </thead>\n",
       "  <tbody>\n",
       "    <tr>\n",
       "      <th>0</th>\n",
       "      <td>2658</td>\n",
       "      <td>69.0</td>\n",
       "      <td>0</td>\n",
       "      <td>1020</td>\n",
       "      <td>908</td>\n",
       "      <td>1928</td>\n",
       "      <td>440</td>\n",
       "    </tr>\n",
       "  </tbody>\n",
       "</table>\n",
       "</div>"
      ],
      "text/plain": [
       "     Id  Lot Frontage  BsmtFin SF 1  Total Bsmt SF  1st Flr SF  Gr Liv Area  \\\n",
       "0  2658          69.0             0           1020         908         1928   \n",
       "\n",
       "   Garage Area  \n",
       "0          440  "
      ]
     },
     "execution_count": 1288,
     "metadata": {},
     "output_type": "execute_result"
    }
   ],
   "source": [
    "test_continous.head(1)"
   ]
  },
  {
   "cell_type": "code",
   "execution_count": 1289,
   "metadata": {},
   "outputs": [],
   "source": [
    "# Creating a new dataframe with only the categorical features I wanted\n",
    "categorical_test = nominal_test[['Id', 'Exterior 1st_VinylSd', 'Lot Config_CulDSac']]"
   ]
  },
  {
   "cell_type": "code",
   "execution_count": 1290,
   "metadata": {},
   "outputs": [],
   "source": [
    "# Creates a new dataframe with the continous and categorical features I want\n",
    "cats_conts_test = categorical_test.merge(test_continous, on='Id')"
   ]
  },
  {
   "cell_type": "code",
   "execution_count": 1291,
   "metadata": {},
   "outputs": [
    {
     "data": {
      "text/html": [
       "<div>\n",
       "<style scoped>\n",
       "    .dataframe tbody tr th:only-of-type {\n",
       "        vertical-align: middle;\n",
       "    }\n",
       "\n",
       "    .dataframe tbody tr th {\n",
       "        vertical-align: top;\n",
       "    }\n",
       "\n",
       "    .dataframe thead th {\n",
       "        text-align: right;\n",
       "    }\n",
       "</style>\n",
       "<table border=\"1\" class=\"dataframe\">\n",
       "  <thead>\n",
       "    <tr style=\"text-align: right;\">\n",
       "      <th></th>\n",
       "      <th>Id</th>\n",
       "      <th>Exterior 1st_VinylSd</th>\n",
       "      <th>Lot Config_CulDSac</th>\n",
       "      <th>Lot Frontage</th>\n",
       "      <th>BsmtFin SF 1</th>\n",
       "      <th>Total Bsmt SF</th>\n",
       "      <th>1st Flr SF</th>\n",
       "      <th>Gr Liv Area</th>\n",
       "      <th>Garage Area</th>\n",
       "    </tr>\n",
       "  </thead>\n",
       "  <tbody>\n",
       "    <tr>\n",
       "      <th>0</th>\n",
       "      <td>2658</td>\n",
       "      <td>0</td>\n",
       "      <td>0</td>\n",
       "      <td>69.0</td>\n",
       "      <td>0</td>\n",
       "      <td>1020</td>\n",
       "      <td>908</td>\n",
       "      <td>1928</td>\n",
       "      <td>440</td>\n",
       "    </tr>\n",
       "  </tbody>\n",
       "</table>\n",
       "</div>"
      ],
      "text/plain": [
       "     Id  Exterior 1st_VinylSd  Lot Config_CulDSac  Lot Frontage  BsmtFin SF 1  \\\n",
       "0  2658                     0                   0          69.0             0   \n",
       "\n",
       "   Total Bsmt SF  1st Flr SF  Gr Liv Area  Garage Area  \n",
       "0           1020         908         1928          440  "
      ]
     },
     "execution_count": 1291,
     "metadata": {},
     "output_type": "execute_result"
    }
   ],
   "source": [
    "# Categorical and Continous features\n",
    "cats_conts_test.head(1)"
   ]
  },
  {
   "cell_type": "code",
   "execution_count": 1292,
   "metadata": {},
   "outputs": [],
   "source": [
    "# Merges the Categorical features and Continous features with all of the dummy columns\n",
    "kaggle_submission = cats_conts_test.merge(dummy_test_neigh, on='Id')"
   ]
  },
  {
   "cell_type": "code",
   "execution_count": 1293,
   "metadata": {},
   "outputs": [
    {
     "data": {
      "text/html": [
       "<div>\n",
       "<style scoped>\n",
       "    .dataframe tbody tr th:only-of-type {\n",
       "        vertical-align: middle;\n",
       "    }\n",
       "\n",
       "    .dataframe tbody tr th {\n",
       "        vertical-align: top;\n",
       "    }\n",
       "\n",
       "    .dataframe thead th {\n",
       "        text-align: right;\n",
       "    }\n",
       "</style>\n",
       "<table border=\"1\" class=\"dataframe\">\n",
       "  <thead>\n",
       "    <tr style=\"text-align: right;\">\n",
       "      <th></th>\n",
       "      <th>Id</th>\n",
       "      <th>Exterior 1st_VinylSd</th>\n",
       "      <th>Lot Config_CulDSac</th>\n",
       "      <th>Lot Frontage</th>\n",
       "      <th>BsmtFin SF 1</th>\n",
       "      <th>Total Bsmt SF</th>\n",
       "      <th>1st Flr SF</th>\n",
       "      <th>Gr Liv Area</th>\n",
       "      <th>Garage Area</th>\n",
       "      <th>Neighborhood_Blueste</th>\n",
       "      <th>...</th>\n",
       "      <th>Neighborhood_NoRidge</th>\n",
       "      <th>Neighborhood_NridgHt</th>\n",
       "      <th>Neighborhood_OldTown</th>\n",
       "      <th>Neighborhood_SWISU</th>\n",
       "      <th>Neighborhood_Sawyer</th>\n",
       "      <th>Neighborhood_SawyerW</th>\n",
       "      <th>Neighborhood_Somerst</th>\n",
       "      <th>Neighborhood_StoneBr</th>\n",
       "      <th>Neighborhood_Timber</th>\n",
       "      <th>Neighborhood_Veenker</th>\n",
       "    </tr>\n",
       "  </thead>\n",
       "  <tbody>\n",
       "    <tr>\n",
       "      <th>0</th>\n",
       "      <td>2658</td>\n",
       "      <td>0</td>\n",
       "      <td>0</td>\n",
       "      <td>69.0</td>\n",
       "      <td>0</td>\n",
       "      <td>1020</td>\n",
       "      <td>908</td>\n",
       "      <td>1928</td>\n",
       "      <td>440</td>\n",
       "      <td>0</td>\n",
       "      <td>...</td>\n",
       "      <td>0</td>\n",
       "      <td>0</td>\n",
       "      <td>1</td>\n",
       "      <td>0</td>\n",
       "      <td>0</td>\n",
       "      <td>0</td>\n",
       "      <td>0</td>\n",
       "      <td>0</td>\n",
       "      <td>0</td>\n",
       "      <td>0</td>\n",
       "    </tr>\n",
       "  </tbody>\n",
       "</table>\n",
       "<p>1 rows × 34 columns</p>\n",
       "</div>"
      ],
      "text/plain": [
       "     Id  Exterior 1st_VinylSd  Lot Config_CulDSac  Lot Frontage  BsmtFin SF 1  \\\n",
       "0  2658                     0                   0          69.0             0   \n",
       "\n",
       "   Total Bsmt SF  1st Flr SF  Gr Liv Area  Garage Area  Neighborhood_Blueste  \\\n",
       "0           1020         908         1928          440                     0   \n",
       "\n",
       "   ...  Neighborhood_NoRidge  Neighborhood_NridgHt  Neighborhood_OldTown  \\\n",
       "0  ...                     0                     0                     1   \n",
       "\n",
       "   Neighborhood_SWISU  Neighborhood_Sawyer  Neighborhood_SawyerW  \\\n",
       "0                   0                    0                     0   \n",
       "\n",
       "   Neighborhood_Somerst  Neighborhood_StoneBr  Neighborhood_Timber  \\\n",
       "0                     0                     0                    0   \n",
       "\n",
       "   Neighborhood_Veenker  \n",
       "0                     0  \n",
       "\n",
       "[1 rows x 34 columns]"
      ]
     },
     "execution_count": 1293,
     "metadata": {},
     "output_type": "execute_result"
    }
   ],
   "source": [
    "kaggle_submission.head(1)"
   ]
  },
  {
   "cell_type": "code",
   "execution_count": null,
   "metadata": {},
   "outputs": [],
   "source": []
  },
  {
   "cell_type": "code",
   "execution_count": 1294,
   "metadata": {},
   "outputs": [],
   "source": [
    "kaggle_submission.set_index('Id', inplace = True)"
   ]
  },
  {
   "cell_type": "code",
   "execution_count": 1295,
   "metadata": {},
   "outputs": [
    {
     "data": {
      "text/plain": [
       "(2051, 35)"
      ]
     },
     "execution_count": 1295,
     "metadata": {},
     "output_type": "execute_result"
    }
   ],
   "source": [
    "X.shape"
   ]
  },
  {
   "cell_type": "code",
   "execution_count": 1296,
   "metadata": {},
   "outputs": [
    {
     "data": {
      "text/plain": [
       "Index(['Lot Frontage', 'BsmtFin SF 1', 'Total Bsmt SF', '1st Flr SF',\n",
       "       'Gr Liv Area', 'Garage Area', 'Exterior 1st_VinylSd',\n",
       "       'Lot Config_CulDSac', 'Neighborhood_Blueste', 'Neighborhood_BrDale',\n",
       "       'Neighborhood_BrkSide', 'Neighborhood_ClearCr', 'Neighborhood_CollgCr',\n",
       "       'Neighborhood_Crawfor', 'Neighborhood_Edwards', 'Neighborhood_Gilbert',\n",
       "       'Neighborhood_Greens', 'Neighborhood_GrnHill', 'Neighborhood_IDOTRR',\n",
       "       'Neighborhood_Landmrk', 'Neighborhood_MeadowV', 'Neighborhood_Mitchel',\n",
       "       'Neighborhood_NAmes', 'Neighborhood_NPkVill', 'Neighborhood_NWAmes',\n",
       "       'Neighborhood_NoRidge', 'Neighborhood_NridgHt', 'Neighborhood_OldTown',\n",
       "       'Neighborhood_SWISU', 'Neighborhood_Sawyer', 'Neighborhood_SawyerW',\n",
       "       'Neighborhood_Somerst', 'Neighborhood_StoneBr', 'Neighborhood_Timber',\n",
       "       'Neighborhood_Veenker'],\n",
       "      dtype='object')"
      ]
     },
     "execution_count": 1296,
     "metadata": {},
     "output_type": "execute_result"
    }
   ],
   "source": [
    "X.columns"
   ]
  },
  {
   "cell_type": "code",
   "execution_count": 1297,
   "metadata": {},
   "outputs": [
    {
     "name": "stderr",
     "output_type": "stream",
     "text": [
      "/Users/aidancurley/opt/anaconda3/lib/python3.7/site-packages/pandas/core/frame.py:4164: SettingWithCopyWarning: \n",
      "A value is trying to be set on a copy of a slice from a DataFrame\n",
      "\n",
      "See the caveats in the documentation: https://pandas.pydata.org/pandas-docs/stable/user_guide/indexing.html#returning-a-view-versus-a-copy\n",
      "  errors=errors,\n"
     ]
    }
   ],
   "source": [
    "X.drop(columns=['Neighborhood_GrnHill', 'Neighborhood_Landmrk'], inplace = True)"
   ]
  },
  {
   "cell_type": "code",
   "execution_count": 1298,
   "metadata": {},
   "outputs": [
    {
     "data": {
      "text/plain": [
       "(878, 33)"
      ]
     },
     "execution_count": 1298,
     "metadata": {},
     "output_type": "execute_result"
    }
   ],
   "source": [
    "# Less columns than X\n",
    "kaggle_submission.shape"
   ]
  },
  {
   "cell_type": "code",
   "execution_count": 1299,
   "metadata": {},
   "outputs": [
    {
     "data": {
      "text/plain": [
       "(2051, 33)"
      ]
     },
     "execution_count": 1299,
     "metadata": {},
     "output_type": "execute_result"
    }
   ],
   "source": [
    "# Now we have the same amount of columns\n",
    "X.shape"
   ]
  },
  {
   "cell_type": "code",
   "execution_count": 1307,
   "metadata": {},
   "outputs": [],
   "source": [
    "x_cols = X.columns"
   ]
  },
  {
   "cell_type": "code",
   "execution_count": 1308,
   "metadata": {},
   "outputs": [],
   "source": [
    "subs_cols = kaggle_submission.columns"
   ]
  },
  {
   "cell_type": "code",
   "execution_count": 1312,
   "metadata": {},
   "outputs": [],
   "source": [
    "# for n in x_cols:\n",
    "#     for xi in subs_cols:\n",
    "#         if xi not in x_cols:\n",
    "#             print(xi)\n",
    "#         else:\n",
    "#             print(\"You're Good\")"
   ]
  },
  {
   "cell_type": "code",
   "execution_count": 1300,
   "metadata": {},
   "outputs": [
    {
     "name": "stdout",
     "output_type": "stream",
     "text": [
      "Train RMSE: 36824.959858509166\n",
      "Test RMSE: 33271.84791905848\n"
     ]
    }
   ],
   "source": [
    "# X is all of our features, y is saleprice\n",
    "X_train_3, X_test_3, y_train_3, y_test_3 = train_test_split(X, y, random_state = 42, train_size=.70)\n",
    "\n",
    "model3 = LinearRegression()\n",
    "\n",
    "model3.fit(X_train_3, y_train_3)\n",
    "\n",
    "# print(mean_squared_error(y_test_3, y_pred_test_3, squared=False))\n",
    "print(f\"Train RMSE: {mean_squared_error(y_train_3, model3.predict(X_train_3))**0.5}\")\n",
    "print(f\"Test RMSE: {mean_squared_error(y_test_3, model3.predict(X_test_3))**0.5}\")"
   ]
  },
  {
   "cell_type": "code",
   "execution_count": 1301,
   "metadata": {},
   "outputs": [
    {
     "data": {
      "text/plain": [
       "array([162547.81116894, 172329.00360757, 116948.50341394, ...,\n",
       "       164066.09207036,  98022.23562917, 224364.50399211])"
      ]
     },
     "execution_count": 1301,
     "metadata": {},
     "output_type": "execute_result"
    }
   ],
   "source": [
    "model3.predict(X_train_3)"
   ]
  },
  {
   "cell_type": "code",
   "execution_count": 1302,
   "metadata": {},
   "outputs": [
    {
     "data": {
      "text/plain": [
       "array([22281805.63680606, 25128641.74078936, 18794782.75811453,\n",
       "       15750263.78750574, 19610905.05296044, 13265452.94552424,\n",
       "       13700546.99888599, 14115752.80156328, 23037645.70905101,\n",
       "       18018396.94143331, 17752473.66547209, 13510322.30818946,\n",
       "       18367886.07836042, 35413924.89950894, 18053232.84926576,\n",
       "       14548199.27917781, 25319939.76631615, 14113008.87741083,\n",
       "       20810966.07578303, 20599532.66022389, 12812248.35569389,\n",
       "       19353697.35206053, 21657612.61087495, 16984827.90849729,\n",
       "       19360152.07985105, 12771282.71643864, 19617158.01961192,\n",
       "       17451349.82080375, 16418069.26838513,  5112188.53483505,\n",
       "       18475108.92785413, 18560983.43176537, 35050956.01359792,\n",
       "       16668935.6883354 , 22018060.18892828, 18988758.58632126,\n",
       "       15425714.29088938, 15590078.25722888, 14131621.73330573,\n",
       "       21311409.71579422, 18536753.98790566, 21846586.37383617,\n",
       "       20998241.63853913, 15424237.0553517 , 20447544.75924979,\n",
       "       10200092.86062743, 24172178.18710312, 12621806.40917886,\n",
       "       12529983.78223005, 13322503.64340123, 12286796.06233419,\n",
       "       28018935.87163333, 27409963.80725827, 15494345.12347358,\n",
       "       14257628.86311   , 15513547.22876709, 18016914.86940348,\n",
       "       18689795.4536934 , 17946904.45183941, 28793528.01449258,\n",
       "       31736594.2005072 , 15695952.44263392, 14271204.34529963,\n",
       "       20770090.68923017, 20613431.72138426, 30026141.84927119,\n",
       "        6577827.46656819, 21050357.27639243,  5904589.0149913 ,\n",
       "       13833023.88655715, 14904286.38333223, 30399691.91382442,\n",
       "       22064007.03539869, 18188015.82163414, 13887645.27091377,\n",
       "       21546557.25972889, 19299871.26387303, 13831075.5786779 ,\n",
       "       11826265.56398726, 27920414.81271056, 20356976.98887248,\n",
       "       19282556.29364755, 16152759.14502685, 20078299.52377471,\n",
       "       23312874.6611352 , 39900777.16233912, 15159424.12915878,\n",
       "       18722017.35838603, 21999400.68097773, 21402612.3788698 ,\n",
       "       12243327.8845515 , 16891089.3550894 , 13691010.57752014,\n",
       "       17742447.58758156, 13590546.49694547, 18965536.87929111,\n",
       "       17130321.71167583, 22901772.59661359, 23662691.11066643,\n",
       "       21843272.68852333, 24176434.32458137, 23042817.59001412,\n",
       "       11666305.11616272, 32724137.04781421, 15370274.0395868 ,\n",
       "        6612965.69429779, 18732173.5638911 , 26201222.85768463,\n",
       "       24708752.92261434, 14011011.71683582, 20160768.34881962,\n",
       "       24521801.24175319, 17167481.59574001,  8732240.86264254,\n",
       "       20392131.40010381, 41648853.40440269, 25415453.20638401,\n",
       "       17538062.40926487, 27901667.51748168, 20402002.51138053,\n",
       "       34082611.20481182, 28178499.90048063, 22237165.75142755,\n",
       "       17951437.95620047, 24555152.08630738, 35281957.38651655,\n",
       "       11658956.36824641, 11897817.30030499, 15414852.32894903,\n",
       "       28871007.74977909, 14313317.55944372, 20694891.79555711,\n",
       "       19290625.95182735, 14117038.58133864, 19468793.11651118,\n",
       "       21696655.51971162, 21048537.17533041, 18565868.53548857,\n",
       "       21049883.77754614, 10852207.39642372, 22329363.01477954,\n",
       "       12430553.34284696, 14901010.85767364, 19922689.90556959,\n",
       "        8614767.47696084, 21826290.84079277, 23451547.64756045,\n",
       "       15806106.06617643, 10320410.53719702, 22750781.54330225,\n",
       "       22919912.28655861, 18128933.79297725,  9135010.87397169,\n",
       "       11906719.9127641 , 10230383.5710424 , 12933623.13268303,\n",
       "        8289657.30991768, 12653531.91056523, 30652646.24737233,\n",
       "       32942558.86233155, 20288201.96833747, 13297693.60004965,\n",
       "       12611943.63319881, 33806161.70685878, 20622741.67606924,\n",
       "       25191204.03591255, 18568270.46040944, 16408526.22971259,\n",
       "       27038988.20459501, 19258738.85512176, 48203126.70173191,\n",
       "       15960806.38154006, 21114003.76951756, 17688535.07065106,\n",
       "       21526824.15641814, 20841605.94667327,  9043242.64743671,\n",
       "       25097086.92797151, 13265331.68362458, 15145814.77578098,\n",
       "       12657189.61594267, 23485158.36557091, 25541136.4078006 ,\n",
       "       19015255.94744915, 18642137.40430548, 14414774.07303989,\n",
       "       18304566.81913341, 21195021.27339369, 14462375.14055234,\n",
       "       16347325.40215369, 21836917.35219093, 11628891.8784868 ,\n",
       "       11205450.00606341, 11420964.41569397, 18142054.80314227,\n",
       "       15167788.99456648, 29592511.14250178, 15331507.38142393,\n",
       "       17376652.89738363, 20620729.86997791, 35641170.80280284,\n",
       "       23495382.56872284, 12998150.40225701, 21806942.54155694,\n",
       "       17411398.16921684, 15215681.89621458, 19079918.61305044,\n",
       "       14496984.72699156, 19009719.68720612, 26340543.90730942,\n",
       "       20901218.08406412, 23651924.20261115, 13400244.5706618 ,\n",
       "       24557378.00987602, 20381646.32883186, 22010958.84797265,\n",
       "       23086744.65757657, 14714452.23630926,  6814837.04598857,\n",
       "       12942141.75862679, 19881338.06408799, 18095131.79965591,\n",
       "       22043288.69793206, 18826506.82381392, 13496498.71073311,\n",
       "       16482032.35664206, 30962903.00377377, 25045701.73178486,\n",
       "       15124986.63097389, 33346607.82238028, 11601950.74437666,\n",
       "        4820721.8041661 , 18166825.20695371, 12046094.10833807,\n",
       "       37432623.46564077, 18517822.06712728, 10211151.97824208,\n",
       "       34310484.62012322, 35811851.97258423, 18500373.54259513,\n",
       "       26529223.69376836, 18188914.13256501, 29544009.36161518,\n",
       "       26282614.45414873, 28462154.13143165, 27788765.93139582,\n",
       "       15493246.2180988 , 13741244.83706903, 21761050.15418988,\n",
       "       25133218.58739047, 21081694.52773945, 16316783.64412361,\n",
       "       23477621.19853153, 26632429.42312382, 20881892.8898748 ,\n",
       "       13338895.33036649,  8665386.54947663, 33150158.46008145,\n",
       "       22531689.07159113, 25408594.67627943, 17413235.05945548,\n",
       "       17008110.01234414, 13849566.89859522, 16970541.12249187,\n",
       "       22701204.1994003 , 22118031.0136124 , 15174181.1379519 ,\n",
       "       20891754.94963811, 19374172.53025337, 17295648.88851054,\n",
       "       26194460.69034193, 22700389.0881315 , 23379657.7492712 ,\n",
       "       43795954.22569715, 16643271.48402443, 15249052.70340367,\n",
       "       13832343.92913429, 21231365.66280155, 15276330.64385616,\n",
       "       13604511.13541951, 27620583.39867864, 18214379.96481133,\n",
       "        7465060.07970383, 13080592.38211364, 16934375.62405214,\n",
       "       22257163.83843056, 24094295.57454387, 12090301.30746154,\n",
       "       12289125.6352369 , 19109550.78927559, 10982237.52628804,\n",
       "       21726826.308112  , 13264604.11222662, 12256638.39489028,\n",
       "       21002314.35380363, 13833023.88655715, 22760892.76824994,\n",
       "       26988818.51124638, 19199492.16987262, 22636379.92305613,\n",
       "       23468233.66979833, 25806269.5395681 , 15925106.83396451,\n",
       "       24472980.494298  ,  9593983.48779456,  7703644.79435069,\n",
       "       22896280.33988402, 21445063.99832432, 13187985.47844961,\n",
       "       13199944.41945591, 23573233.01643424, 20495267.35511059,\n",
       "       23290911.34840957, 29021453.56394179, 20016144.3313078 ,\n",
       "       28836669.97868582, 25488398.78271355, 22181440.03402846,\n",
       "       24865837.72634623, 15294674.45911777,  6926017.37934735,\n",
       "       17074270.17940492, 18217626.66823137, 27018568.61422198,\n",
       "       17315375.59834247, 14996970.32842183, 23132498.45967932,\n",
       "       16437807.42082072, 20005449.69500338, 17197073.3583103 ,\n",
       "       22882257.41783737, 20244018.03103618, 21537988.74600323,\n",
       "       17902593.41689693, 15801668.50168956, 17477870.59473401,\n",
       "       11040392.62488151, 11736607.77112763, 12461782.0430594 ,\n",
       "       14485271.39289824, 24488874.82754165, 10989206.65968099,\n",
       "       14681420.99515444, 21898439.2665464 , 29405887.19552284,\n",
       "       24388230.51311896, 21214015.33096232, 11427372.71164344,\n",
       "       18102785.58251317, 17332381.84467755, 14149877.40351885,\n",
       "       18258319.74519907, 13849454.29825982, 21447430.47955284,\n",
       "       19061760.66699686, 32394676.08756598, 22674841.27764678,\n",
       "       22562686.42536552, 26759976.98175037, 11520121.56217626,\n",
       "       16175293.41089583, 20020145.85433144, 12469669.10445128,\n",
       "       29021247.03838252, 17891486.82876833, 21829413.72571405,\n",
       "       29392020.49406303, 23432123.09506516, 23801311.12324075,\n",
       "       12716809.02026216, 35088106.72536644, 13621556.5404376 ,\n",
       "       22898833.85992589, 35225123.85387903, 11162846.53184328,\n",
       "       26021973.04056093, 14653015.9250746 , 21015049.33438899,\n",
       "       21054633.15848528, 12642959.54253198, 18158156.0366294 ,\n",
       "       19689760.42743601, 28722592.45689422, 31104475.73318425,\n",
       "       23091162.4362387 , 20187247.18490731, 27375537.70267192,\n",
       "       14663357.64874493, 14527285.97440944, 17020213.3918514 ,\n",
       "       13859348.59296837, 26925865.31989613, 20177782.04885599,\n",
       "       21959007.61082197, 22283665.15103011,  6230153.36034019,\n",
       "       17806477.46215308, 18697386.37870737, 16594374.10005828,\n",
       "       28539205.46832962, 21888173.59799081, 23227975.73500696,\n",
       "       13491778.23987198, 29034589.46429235, 18537264.74535534,\n",
       "       13069059.82365946, 20592759.03043323, 24584705.42274934,\n",
       "       27382570.52086428, 21907735.32471823, 20322859.85002493,\n",
       "       20426365.7644378 , 27969355.9524404 , 18634587.97396272,\n",
       "       25590032.86557428, 31659838.15367132, 15095659.23719767,\n",
       "       31197903.40423666, 16642864.32992826, 22171736.21478133,\n",
       "       27647542.20553358, 13306770.29356922, 44237972.10864559,\n",
       "       13283922.00581595, 26480630.21090236, 31212639.97046794,\n",
       "       17833602.28554289, 22550112.72184031, 13296310.48794299,\n",
       "       24997861.42671248, 17587800.75580658, 13300944.8968657 ,\n",
       "       16860650.68266296, 19690001.0960016 , 14462111.03638357,\n",
       "       32980792.7828806 , 18820363.15700323, 24271431.45602341,\n",
       "       16887807.8328449 , 20673241.54546559, 21228695.61167198,\n",
       "       14827535.31528744, 12463395.46620596, 18794744.20436617,\n",
       "       18569337.03434671, 19158591.59370143, 15221129.3386957 ,\n",
       "        9344536.64434791, 32810487.1336462 , 16668552.30229917,\n",
       "       22380894.35383145, 27752127.10105721, 18920152.44132212,\n",
       "       21611473.63950925, 22542723.25669578, 23638958.87025325,\n",
       "       19761216.03477796, 13081419.6383405 , 23360480.67372847,\n",
       "       14154254.99129669, 17387900.68837018, 13447783.93799348,\n",
       "       18125534.76241687, 47330515.578243  , 16788925.27975504,\n",
       "       22438046.72839558, 22553123.78984386, 26370439.7316834 ,\n",
       "       10376107.50084192, 10852252.80101846, 15557427.28044719,\n",
       "       27420144.22478159, 18655054.90776086, 11462564.35953339,\n",
       "       30004142.07651947, 21854360.12573154, 13670487.30503361,\n",
       "       20352984.91483782, 15219746.56783707, 17003299.05348142,\n",
       "       11456740.19650489, 28155716.90738385,  4821885.34096522,\n",
       "       19122626.11617336, 30874846.48275181, 15380864.84520247,\n",
       "       13832922.8349741 , 17303282.38008499, 20808797.65334506,\n",
       "       18572276.0680956 , 25508469.6946143 , 23229223.09056366,\n",
       "       24268765.25003941, 24309633.30921131, 30558869.78487187,\n",
       "       17782130.35436875, 10631100.15721173, 14024135.94275024,\n",
       "       24169020.19281581, 18235200.15390197, 18086980.32370688,\n",
       "       28152783.68531948, 16182089.61721385, 18415368.31551939,\n",
       "       22759260.49148578, 12493874.84905138, 28375652.91054716,\n",
       "       10632818.81487141, 15719379.75275369, 32766597.32794083,\n",
       "       20585766.64574441, 18027817.34382521, 18379665.46832393,\n",
       "       17107027.11977876,  8284057.82854121, 19726299.88836589,\n",
       "       18938469.05970367, 20451781.80326259, 27454405.52722454,\n",
       "       26471840.22001604, 12211355.94546447, 21736191.09145907,\n",
       "       18933537.25295901, 14188369.13803811, 22377340.32150867,\n",
       "       38428141.50705251, 16382323.13281972, 12621212.76767503,\n",
       "       15523078.11433651,  4574304.29823566, 12411045.71494433,\n",
       "       19357562.19936295, 16495586.65571586, 20078313.95680325,\n",
       "       20792296.93779119, 19901214.04984656,  8289657.30991768,\n",
       "       25244404.78026837, 20849163.79525054, 19121172.25502481,\n",
       "       15733289.57132583, 11492472.70344238,  9796705.10699832,\n",
       "       15175169.39863658, 25071722.89330395, 34004374.25917944,\n",
       "       26100157.61607594, 10925679.480601  , 12506887.21968322,\n",
       "       27955283.28297653, 16350272.39711541, 25756892.1788261 ,\n",
       "        9003219.79357551, 25528725.05238038, 20611521.40930227,\n",
       "        6414756.61008943, 12523361.55695558, 19419944.63085696,\n",
       "       16154068.59849548, 20066951.94977446, 12150058.59157867,\n",
       "       20421100.25066622, 18276834.43093536, 18618865.24553429,\n",
       "       15842973.29343403, 12570715.02644714,  8546395.25531392,\n",
       "       23008582.49042262, 15561900.87338951, 13113354.22177839,\n",
       "       22222236.35422347, 11471446.40185805, 12261257.22857256,\n",
       "       17505097.0656461 , 19676770.80365179, 10411535.34937222,\n",
       "       18826712.81284904, 13832922.8349741 , 31220847.27122051,\n",
       "       16983789.92274074, 36818697.00429656, 16243025.35505515,\n",
       "       30329852.33479808, 11015820.7523685 , 15477534.19067306,\n",
       "       17186798.04406591, 18860295.018162  , 18034672.76153523,\n",
       "       23202320.46206738, 21833520.37730485, 18109143.37243728,\n",
       "        6107577.04114179, 16693361.4783274 , 15630495.92871884,\n",
       "       27422863.81785491, 29344460.7168518 , 11681558.28581447,\n",
       "       20454751.54827371, 15210759.89172998, 26696628.26925689,\n",
       "       14866130.35711105, 24805743.54607411, 14530894.88177911,\n",
       "       21817558.7333054 , 22784631.29286532,  9564778.91457992,\n",
       "       17360590.33365474, 15893953.27260055, 17261214.83705304,\n",
       "       14005670.33879799,  7995639.84719704, 39800277.04273433,\n",
       "       20586964.22148193, 16316892.36307041, 20067687.12956739,\n",
       "        6103597.96997982, 17169259.12049662, 28074693.36701083,\n",
       "        8739675.66734132, 17836271.86461156, 20452393.82811201,\n",
       "       18810453.90564613, 18659478.21701156, 12177343.40711616,\n",
       "       16406943.71998115, 26314097.38194855, 20843537.89854645,\n",
       "       16175647.17632294, 29208345.76859049,  8676182.12681746,\n",
       "       24986748.15197022, 24419151.61048585, 12527560.970741  ,\n",
       "       10081552.47818822, 17592649.26810085, 19191354.81696645,\n",
       "       19584652.16390236, 19288122.88841504, 14530478.57271169,\n",
       "       23614988.71908152, 28314972.98490547, 15773647.19363572,\n",
       "       20469183.82973342, 24632896.1189296 , 16642987.13671062,\n",
       "        9629023.01454626, 27771206.24651417, 19227248.02669778,\n",
       "       17295394.81595887, 21484981.1318775 , 17417242.63248865,\n",
       "       12042501.54963053, 12893356.49685792, 16075751.83518789,\n",
       "       10475655.04771778, 21280227.9949991 , 22205357.07681375,\n",
       "       20386863.59499426, 25379031.85795276, 25955402.9672408 ,\n",
       "       17727195.44090597, 22834854.19595945, 22227298.49360314,\n",
       "       26570879.15826605, 35806734.75802528, 29065319.73054687,\n",
       "       25675623.06524551, 22927063.22360912, 19397755.48578551,\n",
       "       30771221.93168154, 20775263.80288819, 35087584.52701406,\n",
       "       22533359.07277563, 17399742.83063138,  7431766.79244828,\n",
       "       16841434.93957675, 17915257.80000753, 13266397.44641295,\n",
       "       17357437.22167916, 12130681.58029119, 35588855.94962388,\n",
       "       21261555.91069151, 20529770.64167733, 26423170.68447316,\n",
       "       22397923.49451899, 20179822.19932529, 22850823.03554317,\n",
       "       27982952.4282249 , 15337589.45450568, 25939160.20775763,\n",
       "       12423446.42907507, 12465191.3127079 , 19320395.9599779 ,\n",
       "       13087802.96352932, 18885431.40459212, 17633349.13025901,\n",
       "       24214607.54914222, 31687023.26073429,  6604563.38803863,\n",
       "       21517820.10316744, 13832922.8349741 , 16496354.58135765,\n",
       "       24906956.52897361, 19565245.82561587, 27588719.6026916 ,\n",
       "       25218111.68696173, 17512044.71734172, 13952282.2925793 ,\n",
       "       19387558.72530062, 25794034.75849745, 22159680.83830027,\n",
       "       11019574.7317028 , 14174306.7528672 , 13594364.67593617,\n",
       "       13390334.7093318 , 24180490.64006683, 30100221.36594116,\n",
       "       21619244.55989829, 19231304.66917838, 29293344.72135764,\n",
       "       19436046.49758201, 26453456.02012403, 13278259.93725016,\n",
       "       14477171.87139726, 31314190.41602162, 21966972.13141516,\n",
       "       20272346.72341582, 12731625.94732887, 27792538.27838764,\n",
       "       13054755.91829354, 19708613.97411132, 21487835.28707935,\n",
       "       26521869.71853235, 16462047.12551068, 30489814.39282463,\n",
       "       18718795.93170213, 26509395.96444068, 19262565.99194416,\n",
       "       12769861.87493814, 14663095.01008543, 20679342.52072423,\n",
       "       22618434.97958782, 17972726.31256194, 14973173.16018149,\n",
       "       18496380.85774498, 21637824.02955816, 21807886.50591535,\n",
       "       28232874.95258693, 12966615.70334288, 30865919.28997342,\n",
       "       29929150.81764279, 16872922.71730028, 18732716.0475956 ,\n",
       "       22261879.88794263, 19243878.53939566, 13848539.0596362 ,\n",
       "       35832897.30246293, 11347701.84029901, 19191970.99516646,\n",
       "       19806668.8789095 , 13204746.68396835, 26758891.70133801,\n",
       "       18541658.31862408, 21324483.2818173 , 21341539.62413442,\n",
       "       27455171.59191979, 19162591.1216593 , 19191270.23735772,\n",
       "       30297915.67635396, 16614702.71274243, 23292236.53586349,\n",
       "       19604437.61085691, 19341215.68184156, 25708893.85401649,\n",
       "       14417872.37390809, 20861229.19525293, 23885304.75398911,\n",
       "       12576834.36984024, 20708129.8953827 , 19672534.44567949,\n",
       "       19191222.00631445, 32825982.84534641, 12328967.03266962,\n",
       "       12804524.5904443 , 14671940.11088136, 16741901.27771755,\n",
       "       27788852.18775904, 15899701.19199211, 28022000.51971198,\n",
       "       19361912.78934283, 18172118.01518332, 28336843.96436477,\n",
       "       16965039.67633654, 31172800.00523067, 19174805.84591225,\n",
       "       19860416.86734452, 16680178.9365094 , 22801198.09612102,\n",
       "       23781323.87620462, 23033802.69192676, 15347274.53629515,\n",
       "       12875040.36325669, 18009412.04784021, 14291495.22213447,\n",
       "       28376765.03353246, 15589586.31052602, 13705882.08512963,\n",
       "       17873211.65396588, 16460671.85960884, 17477808.22987423,\n",
       "       13738349.98115598, 32983731.12621518, 18183420.40280766,\n",
       "       13222918.8620816 , 18920327.64603405, 19749375.15149333,\n",
       "       24605347.86079083, 12730947.32910235, 14851486.03264079,\n",
       "       18744120.29937447, 19728123.88425408, 13528428.42466442,\n",
       "       32335351.09640341, 24825291.05756961, 18752289.31419901,\n",
       "       20090479.36415018, 33946678.0733095 , 13154813.43695819,\n",
       "       23208125.3133685 , 17957076.68569926, 15712729.47414491,\n",
       "       15665315.09462015, 23108129.12871518, 19944090.27226619,\n",
       "       14378252.45521867, 14214671.97682507, 27284585.16723107,\n",
       "       14666089.92681386, 12684180.029957  , 12644082.90076881,\n",
       "       24340691.7992669 , 20700416.57748739, 21860355.74277604,\n",
       "       13834536.97427353, 18613004.61242547, 19110789.57599292,\n",
       "       26883239.72522357, 25317665.76834575, 15724676.24613187,\n",
       "       21513853.34216298, 16389056.5746613 , 18233221.68159436,\n",
       "       11632637.58642491, 17664663.04248179, 19620618.82586085,\n",
       "       18775607.64284767, 20047087.81604358,  9796722.43012685,\n",
       "       21395340.55440725,  6389889.36700392, 27290235.04264167,\n",
       "       12263978.99829178, 18028865.39310085, 20661832.79506379,\n",
       "       21109717.30845065, 22694187.71045868, 21395157.54523503,\n",
       "       26055325.7096366 , 29182288.31386736, 18915028.63667325,\n",
       "       22695793.73338338, 30282919.13381708, 20146190.70909779,\n",
       "       22773563.2909517 , 23461094.00569084, 14855695.518254  ,\n",
       "       15808001.33182461, 13873785.04638017])"
      ]
     },
     "execution_count": 1302,
     "metadata": {},
     "output_type": "execute_result"
    }
   ],
   "source": [
    "model3.predict(kaggle_submission)"
   ]
  },
  {
   "cell_type": "code",
   "execution_count": 1256,
   "metadata": {},
   "outputs": [],
   "source": [
    "# Predicts sale price on our test data \n",
    "kaggle_submission['SalePrice'] = model3.predict(kaggle_submission)"
   ]
  },
  {
   "cell_type": "code",
   "execution_count": 1257,
   "metadata": {},
   "outputs": [
    {
     "data": {
      "text/html": [
       "<div>\n",
       "<style scoped>\n",
       "    .dataframe tbody tr th:only-of-type {\n",
       "        vertical-align: middle;\n",
       "    }\n",
       "\n",
       "    .dataframe tbody tr th {\n",
       "        vertical-align: top;\n",
       "    }\n",
       "\n",
       "    .dataframe thead th {\n",
       "        text-align: right;\n",
       "    }\n",
       "</style>\n",
       "<table border=\"1\" class=\"dataframe\">\n",
       "  <thead>\n",
       "    <tr style=\"text-align: right;\">\n",
       "      <th></th>\n",
       "      <th>Exterior 1st_VinylSd</th>\n",
       "      <th>Lot Config_CulDSac</th>\n",
       "      <th>Lot Frontage</th>\n",
       "      <th>BsmtFin SF 1</th>\n",
       "      <th>Total Bsmt SF</th>\n",
       "      <th>1st Flr SF</th>\n",
       "      <th>Gr Liv Area</th>\n",
       "      <th>Garage Area</th>\n",
       "      <th>Neighborhood_Blueste</th>\n",
       "      <th>Neighborhood_BrDale</th>\n",
       "      <th>...</th>\n",
       "      <th>Neighborhood_NridgHt</th>\n",
       "      <th>Neighborhood_OldTown</th>\n",
       "      <th>Neighborhood_SWISU</th>\n",
       "      <th>Neighborhood_Sawyer</th>\n",
       "      <th>Neighborhood_SawyerW</th>\n",
       "      <th>Neighborhood_Somerst</th>\n",
       "      <th>Neighborhood_StoneBr</th>\n",
       "      <th>Neighborhood_Timber</th>\n",
       "      <th>Neighborhood_Veenker</th>\n",
       "      <th>SalePrice</th>\n",
       "    </tr>\n",
       "    <tr>\n",
       "      <th>Id</th>\n",
       "      <th></th>\n",
       "      <th></th>\n",
       "      <th></th>\n",
       "      <th></th>\n",
       "      <th></th>\n",
       "      <th></th>\n",
       "      <th></th>\n",
       "      <th></th>\n",
       "      <th></th>\n",
       "      <th></th>\n",
       "      <th></th>\n",
       "      <th></th>\n",
       "      <th></th>\n",
       "      <th></th>\n",
       "      <th></th>\n",
       "      <th></th>\n",
       "      <th></th>\n",
       "      <th></th>\n",
       "      <th></th>\n",
       "      <th></th>\n",
       "      <th></th>\n",
       "    </tr>\n",
       "  </thead>\n",
       "  <tbody>\n",
       "    <tr>\n",
       "      <th>2658</th>\n",
       "      <td>0</td>\n",
       "      <td>0</td>\n",
       "      <td>69.0000</td>\n",
       "      <td>0</td>\n",
       "      <td>1020</td>\n",
       "      <td>908</td>\n",
       "      <td>1928</td>\n",
       "      <td>440</td>\n",
       "      <td>0</td>\n",
       "      <td>0</td>\n",
       "      <td>...</td>\n",
       "      <td>0</td>\n",
       "      <td>1</td>\n",
       "      <td>0</td>\n",
       "      <td>0</td>\n",
       "      <td>0</td>\n",
       "      <td>0</td>\n",
       "      <td>0</td>\n",
       "      <td>0</td>\n",
       "      <td>0</td>\n",
       "      <td>2.228181e+07</td>\n",
       "    </tr>\n",
       "    <tr>\n",
       "      <th>2718</th>\n",
       "      <td>0</td>\n",
       "      <td>0</td>\n",
       "      <td>69.0552</td>\n",
       "      <td>0</td>\n",
       "      <td>1967</td>\n",
       "      <td>1967</td>\n",
       "      <td>1967</td>\n",
       "      <td>580</td>\n",
       "      <td>0</td>\n",
       "      <td>0</td>\n",
       "      <td>...</td>\n",
       "      <td>0</td>\n",
       "      <td>0</td>\n",
       "      <td>0</td>\n",
       "      <td>1</td>\n",
       "      <td>0</td>\n",
       "      <td>0</td>\n",
       "      <td>0</td>\n",
       "      <td>0</td>\n",
       "      <td>0</td>\n",
       "      <td>2.512864e+07</td>\n",
       "    </tr>\n",
       "    <tr>\n",
       "      <th>2414</th>\n",
       "      <td>1</td>\n",
       "      <td>0</td>\n",
       "      <td>58.0000</td>\n",
       "      <td>554</td>\n",
       "      <td>654</td>\n",
       "      <td>664</td>\n",
       "      <td>1496</td>\n",
       "      <td>426</td>\n",
       "      <td>0</td>\n",
       "      <td>0</td>\n",
       "      <td>...</td>\n",
       "      <td>0</td>\n",
       "      <td>0</td>\n",
       "      <td>0</td>\n",
       "      <td>0</td>\n",
       "      <td>0</td>\n",
       "      <td>0</td>\n",
       "      <td>0</td>\n",
       "      <td>0</td>\n",
       "      <td>0</td>\n",
       "      <td>1.879478e+07</td>\n",
       "    </tr>\n",
       "    <tr>\n",
       "      <th>1989</th>\n",
       "      <td>0</td>\n",
       "      <td>0</td>\n",
       "      <td>60.0000</td>\n",
       "      <td>0</td>\n",
       "      <td>968</td>\n",
       "      <td>968</td>\n",
       "      <td>968</td>\n",
       "      <td>480</td>\n",
       "      <td>0</td>\n",
       "      <td>0</td>\n",
       "      <td>...</td>\n",
       "      <td>0</td>\n",
       "      <td>1</td>\n",
       "      <td>0</td>\n",
       "      <td>0</td>\n",
       "      <td>0</td>\n",
       "      <td>0</td>\n",
       "      <td>0</td>\n",
       "      <td>0</td>\n",
       "      <td>0</td>\n",
       "      <td>1.575026e+07</td>\n",
       "    </tr>\n",
       "    <tr>\n",
       "      <th>625</th>\n",
       "      <td>0</td>\n",
       "      <td>0</td>\n",
       "      <td>69.0552</td>\n",
       "      <td>609</td>\n",
       "      <td>1394</td>\n",
       "      <td>1394</td>\n",
       "      <td>1394</td>\n",
       "      <td>514</td>\n",
       "      <td>0</td>\n",
       "      <td>0</td>\n",
       "      <td>...</td>\n",
       "      <td>0</td>\n",
       "      <td>0</td>\n",
       "      <td>0</td>\n",
       "      <td>0</td>\n",
       "      <td>0</td>\n",
       "      <td>0</td>\n",
       "      <td>0</td>\n",
       "      <td>0</td>\n",
       "      <td>0</td>\n",
       "      <td>1.961091e+07</td>\n",
       "    </tr>\n",
       "    <tr>\n",
       "      <th>...</th>\n",
       "      <td>...</td>\n",
       "      <td>...</td>\n",
       "      <td>...</td>\n",
       "      <td>...</td>\n",
       "      <td>...</td>\n",
       "      <td>...</td>\n",
       "      <td>...</td>\n",
       "      <td>...</td>\n",
       "      <td>...</td>\n",
       "      <td>...</td>\n",
       "      <td>...</td>\n",
       "      <td>...</td>\n",
       "      <td>...</td>\n",
       "      <td>...</td>\n",
       "      <td>...</td>\n",
       "      <td>...</td>\n",
       "      <td>...</td>\n",
       "      <td>...</td>\n",
       "      <td>...</td>\n",
       "      <td>...</td>\n",
       "      <td>...</td>\n",
       "    </tr>\n",
       "    <tr>\n",
       "      <th>1662</th>\n",
       "      <td>0</td>\n",
       "      <td>0</td>\n",
       "      <td>80.0000</td>\n",
       "      <td>931</td>\n",
       "      <td>1084</td>\n",
       "      <td>1084</td>\n",
       "      <td>1877</td>\n",
       "      <td>488</td>\n",
       "      <td>0</td>\n",
       "      <td>0</td>\n",
       "      <td>...</td>\n",
       "      <td>0</td>\n",
       "      <td>0</td>\n",
       "      <td>0</td>\n",
       "      <td>0</td>\n",
       "      <td>0</td>\n",
       "      <td>0</td>\n",
       "      <td>0</td>\n",
       "      <td>0</td>\n",
       "      <td>0</td>\n",
       "      <td>2.277356e+07</td>\n",
       "    </tr>\n",
       "    <tr>\n",
       "      <th>1234</th>\n",
       "      <td>1</td>\n",
       "      <td>0</td>\n",
       "      <td>90.0000</td>\n",
       "      <td>575</td>\n",
       "      <td>1104</td>\n",
       "      <td>1104</td>\n",
       "      <td>1988</td>\n",
       "      <td>480</td>\n",
       "      <td>0</td>\n",
       "      <td>0</td>\n",
       "      <td>...</td>\n",
       "      <td>0</td>\n",
       "      <td>0</td>\n",
       "      <td>0</td>\n",
       "      <td>0</td>\n",
       "      <td>0</td>\n",
       "      <td>0</td>\n",
       "      <td>0</td>\n",
       "      <td>0</td>\n",
       "      <td>0</td>\n",
       "      <td>2.346109e+07</td>\n",
       "    </tr>\n",
       "    <tr>\n",
       "      <th>1373</th>\n",
       "      <td>0</td>\n",
       "      <td>0</td>\n",
       "      <td>55.0000</td>\n",
       "      <td>250</td>\n",
       "      <td>952</td>\n",
       "      <td>1211</td>\n",
       "      <td>1211</td>\n",
       "      <td>322</td>\n",
       "      <td>0</td>\n",
       "      <td>0</td>\n",
       "      <td>...</td>\n",
       "      <td>0</td>\n",
       "      <td>0</td>\n",
       "      <td>0</td>\n",
       "      <td>1</td>\n",
       "      <td>0</td>\n",
       "      <td>0</td>\n",
       "      <td>0</td>\n",
       "      <td>0</td>\n",
       "      <td>0</td>\n",
       "      <td>1.485570e+07</td>\n",
       "    </tr>\n",
       "    <tr>\n",
       "      <th>1672</th>\n",
       "      <td>0</td>\n",
       "      <td>0</td>\n",
       "      <td>60.0000</td>\n",
       "      <td>616</td>\n",
       "      <td>864</td>\n",
       "      <td>864</td>\n",
       "      <td>864</td>\n",
       "      <td>528</td>\n",
       "      <td>0</td>\n",
       "      <td>0</td>\n",
       "      <td>...</td>\n",
       "      <td>0</td>\n",
       "      <td>0</td>\n",
       "      <td>0</td>\n",
       "      <td>0</td>\n",
       "      <td>0</td>\n",
       "      <td>0</td>\n",
       "      <td>0</td>\n",
       "      <td>0</td>\n",
       "      <td>0</td>\n",
       "      <td>1.580800e+07</td>\n",
       "    </tr>\n",
       "    <tr>\n",
       "      <th>1939</th>\n",
       "      <td>0</td>\n",
       "      <td>0</td>\n",
       "      <td>70.0000</td>\n",
       "      <td>793</td>\n",
       "      <td>923</td>\n",
       "      <td>925</td>\n",
       "      <td>925</td>\n",
       "      <td>390</td>\n",
       "      <td>0</td>\n",
       "      <td>0</td>\n",
       "      <td>...</td>\n",
       "      <td>0</td>\n",
       "      <td>0</td>\n",
       "      <td>0</td>\n",
       "      <td>0</td>\n",
       "      <td>0</td>\n",
       "      <td>0</td>\n",
       "      <td>0</td>\n",
       "      <td>0</td>\n",
       "      <td>0</td>\n",
       "      <td>1.387379e+07</td>\n",
       "    </tr>\n",
       "  </tbody>\n",
       "</table>\n",
       "<p>878 rows × 34 columns</p>\n",
       "</div>"
      ],
      "text/plain": [
       "      Exterior 1st_VinylSd  Lot Config_CulDSac  Lot Frontage  BsmtFin SF 1  \\\n",
       "Id                                                                           \n",
       "2658                     0                   0       69.0000             0   \n",
       "2718                     0                   0       69.0552             0   \n",
       "2414                     1                   0       58.0000           554   \n",
       "1989                     0                   0       60.0000             0   \n",
       "625                      0                   0       69.0552           609   \n",
       "...                    ...                 ...           ...           ...   \n",
       "1662                     0                   0       80.0000           931   \n",
       "1234                     1                   0       90.0000           575   \n",
       "1373                     0                   0       55.0000           250   \n",
       "1672                     0                   0       60.0000           616   \n",
       "1939                     0                   0       70.0000           793   \n",
       "\n",
       "      Total Bsmt SF  1st Flr SF  Gr Liv Area  Garage Area  \\\n",
       "Id                                                          \n",
       "2658           1020         908         1928          440   \n",
       "2718           1967        1967         1967          580   \n",
       "2414            654         664         1496          426   \n",
       "1989            968         968          968          480   \n",
       "625            1394        1394         1394          514   \n",
       "...             ...         ...          ...          ...   \n",
       "1662           1084        1084         1877          488   \n",
       "1234           1104        1104         1988          480   \n",
       "1373            952        1211         1211          322   \n",
       "1672            864         864          864          528   \n",
       "1939            923         925          925          390   \n",
       "\n",
       "      Neighborhood_Blueste  Neighborhood_BrDale  ...  Neighborhood_NridgHt  \\\n",
       "Id                                               ...                         \n",
       "2658                     0                    0  ...                     0   \n",
       "2718                     0                    0  ...                     0   \n",
       "2414                     0                    0  ...                     0   \n",
       "1989                     0                    0  ...                     0   \n",
       "625                      0                    0  ...                     0   \n",
       "...                    ...                  ...  ...                   ...   \n",
       "1662                     0                    0  ...                     0   \n",
       "1234                     0                    0  ...                     0   \n",
       "1373                     0                    0  ...                     0   \n",
       "1672                     0                    0  ...                     0   \n",
       "1939                     0                    0  ...                     0   \n",
       "\n",
       "      Neighborhood_OldTown  Neighborhood_SWISU  Neighborhood_Sawyer  \\\n",
       "Id                                                                    \n",
       "2658                     1                   0                    0   \n",
       "2718                     0                   0                    1   \n",
       "2414                     0                   0                    0   \n",
       "1989                     1                   0                    0   \n",
       "625                      0                   0                    0   \n",
       "...                    ...                 ...                  ...   \n",
       "1662                     0                   0                    0   \n",
       "1234                     0                   0                    0   \n",
       "1373                     0                   0                    1   \n",
       "1672                     0                   0                    0   \n",
       "1939                     0                   0                    0   \n",
       "\n",
       "      Neighborhood_SawyerW  Neighborhood_Somerst  Neighborhood_StoneBr  \\\n",
       "Id                                                                       \n",
       "2658                     0                     0                     0   \n",
       "2718                     0                     0                     0   \n",
       "2414                     0                     0                     0   \n",
       "1989                     0                     0                     0   \n",
       "625                      0                     0                     0   \n",
       "...                    ...                   ...                   ...   \n",
       "1662                     0                     0                     0   \n",
       "1234                     0                     0                     0   \n",
       "1373                     0                     0                     0   \n",
       "1672                     0                     0                     0   \n",
       "1939                     0                     0                     0   \n",
       "\n",
       "      Neighborhood_Timber  Neighborhood_Veenker     SalePrice  \n",
       "Id                                                             \n",
       "2658                    0                     0  2.228181e+07  \n",
       "2718                    0                     0  2.512864e+07  \n",
       "2414                    0                     0  1.879478e+07  \n",
       "1989                    0                     0  1.575026e+07  \n",
       "625                     0                     0  1.961091e+07  \n",
       "...                   ...                   ...           ...  \n",
       "1662                    0                     0  2.277356e+07  \n",
       "1234                    0                     0  2.346109e+07  \n",
       "1373                    0                     0  1.485570e+07  \n",
       "1672                    0                     0  1.580800e+07  \n",
       "1939                    0                     0  1.387379e+07  \n",
       "\n",
       "[878 rows x 34 columns]"
      ]
     },
     "execution_count": 1257,
     "metadata": {},
     "output_type": "execute_result"
    }
   ],
   "source": [
    "kaggle_submission"
   ]
  },
  {
   "cell_type": "code",
   "execution_count": 1258,
   "metadata": {},
   "outputs": [],
   "source": [
    "output = kaggle_submission[['SalePrice']]"
   ]
  },
  {
   "cell_type": "code",
   "execution_count": 1259,
   "metadata": {},
   "outputs": [
    {
     "data": {
      "text/html": [
       "<div>\n",
       "<style scoped>\n",
       "    .dataframe tbody tr th:only-of-type {\n",
       "        vertical-align: middle;\n",
       "    }\n",
       "\n",
       "    .dataframe tbody tr th {\n",
       "        vertical-align: top;\n",
       "    }\n",
       "\n",
       "    .dataframe thead th {\n",
       "        text-align: right;\n",
       "    }\n",
       "</style>\n",
       "<table border=\"1\" class=\"dataframe\">\n",
       "  <thead>\n",
       "    <tr style=\"text-align: right;\">\n",
       "      <th></th>\n",
       "      <th>SalePrice</th>\n",
       "    </tr>\n",
       "    <tr>\n",
       "      <th>Id</th>\n",
       "      <th></th>\n",
       "    </tr>\n",
       "  </thead>\n",
       "  <tbody>\n",
       "    <tr>\n",
       "      <th>2658</th>\n",
       "      <td>2.228181e+07</td>\n",
       "    </tr>\n",
       "    <tr>\n",
       "      <th>2718</th>\n",
       "      <td>2.512864e+07</td>\n",
       "    </tr>\n",
       "    <tr>\n",
       "      <th>2414</th>\n",
       "      <td>1.879478e+07</td>\n",
       "    </tr>\n",
       "    <tr>\n",
       "      <th>1989</th>\n",
       "      <td>1.575026e+07</td>\n",
       "    </tr>\n",
       "    <tr>\n",
       "      <th>625</th>\n",
       "      <td>1.961091e+07</td>\n",
       "    </tr>\n",
       "    <tr>\n",
       "      <th>...</th>\n",
       "      <td>...</td>\n",
       "    </tr>\n",
       "    <tr>\n",
       "      <th>1662</th>\n",
       "      <td>2.277356e+07</td>\n",
       "    </tr>\n",
       "    <tr>\n",
       "      <th>1234</th>\n",
       "      <td>2.346109e+07</td>\n",
       "    </tr>\n",
       "    <tr>\n",
       "      <th>1373</th>\n",
       "      <td>1.485570e+07</td>\n",
       "    </tr>\n",
       "    <tr>\n",
       "      <th>1672</th>\n",
       "      <td>1.580800e+07</td>\n",
       "    </tr>\n",
       "    <tr>\n",
       "      <th>1939</th>\n",
       "      <td>1.387379e+07</td>\n",
       "    </tr>\n",
       "  </tbody>\n",
       "</table>\n",
       "<p>878 rows × 1 columns</p>\n",
       "</div>"
      ],
      "text/plain": [
       "         SalePrice\n",
       "Id                \n",
       "2658  2.228181e+07\n",
       "2718  2.512864e+07\n",
       "2414  1.879478e+07\n",
       "1989  1.575026e+07\n",
       "625   1.961091e+07\n",
       "...            ...\n",
       "1662  2.277356e+07\n",
       "1234  2.346109e+07\n",
       "1373  1.485570e+07\n",
       "1672  1.580800e+07\n",
       "1939  1.387379e+07\n",
       "\n",
       "[878 rows x 1 columns]"
      ]
     },
     "execution_count": 1259,
     "metadata": {},
     "output_type": "execute_result"
    }
   ],
   "source": [
    "output"
   ]
  },
  {
   "cell_type": "code",
   "execution_count": 839,
   "metadata": {},
   "outputs": [],
   "source": [
    "output.to_csv('./datasets/second_submission.csv')"
   ]
  },
  {
   "cell_type": "code",
   "execution_count": null,
   "metadata": {},
   "outputs": [],
   "source": []
  }
 ],
 "metadata": {
  "kernelspec": {
   "display_name": "Python 3",
   "language": "python",
   "name": "python3"
  },
  "language_info": {
   "codemirror_mode": {
    "name": "ipython",
    "version": 3
   },
   "file_extension": ".py",
   "mimetype": "text/x-python",
   "name": "python",
   "nbconvert_exporter": "python",
   "pygments_lexer": "ipython3",
   "version": "3.7.6"
  }
 },
 "nbformat": 4,
 "nbformat_minor": 4
}
