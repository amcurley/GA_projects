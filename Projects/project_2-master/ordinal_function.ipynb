{
 "cells": [
  {
   "cell_type": "code",
   "execution_count": 121,
   "metadata": {},
   "outputs": [],
   "source": [
    "import pandas as pd\n",
    "import numpy as np\n",
    "import matplotlib.pyplot as plt\n",
    "import seaborn as sns\n",
    "from sklearn.linear_model import LinearRegression\n",
    "from sklearn import metrics\n",
    "from sklearn.metrics import mean_squared_error\n",
    "from sklearn.model_selection import train_test_split, cross_val_score"
   ]
  },
  {
   "cell_type": "code",
   "execution_count": 122,
   "metadata": {},
   "outputs": [],
   "source": [
    "train_df = pd.read_csv('../project_2-master/datasets/train.csv')\n",
    "test_df = pd.read_csv('../project_2-master/datasets/test.csv')"
   ]
  },
  {
   "cell_type": "code",
   "execution_count": 123,
   "metadata": {},
   "outputs": [
    {
     "data": {
      "text/html": [
       "<div>\n",
       "<style scoped>\n",
       "    .dataframe tbody tr th:only-of-type {\n",
       "        vertical-align: middle;\n",
       "    }\n",
       "\n",
       "    .dataframe tbody tr th {\n",
       "        vertical-align: top;\n",
       "    }\n",
       "\n",
       "    .dataframe thead th {\n",
       "        text-align: right;\n",
       "    }\n",
       "</style>\n",
       "<table border=\"1\" class=\"dataframe\">\n",
       "  <thead>\n",
       "    <tr style=\"text-align: right;\">\n",
       "      <th></th>\n",
       "      <th>Id</th>\n",
       "      <th>Lot Shape</th>\n",
       "      <th>Utilities</th>\n",
       "      <th>Land Slope</th>\n",
       "      <th>Overall Qual</th>\n",
       "      <th>Overall Cond</th>\n",
       "      <th>Exter Qual</th>\n",
       "      <th>Exter Cond</th>\n",
       "      <th>Bsmt Qual</th>\n",
       "      <th>Bsmt Cond</th>\n",
       "      <th>...</th>\n",
       "      <th>Electrical</th>\n",
       "      <th>Kitchen Qual</th>\n",
       "      <th>Functional</th>\n",
       "      <th>Fireplace Qu</th>\n",
       "      <th>Garage Finish</th>\n",
       "      <th>Garage Qual</th>\n",
       "      <th>Garage Cond</th>\n",
       "      <th>Paved Drive</th>\n",
       "      <th>Pool QC</th>\n",
       "      <th>Fence</th>\n",
       "    </tr>\n",
       "  </thead>\n",
       "  <tbody>\n",
       "    <tr>\n",
       "      <th>0</th>\n",
       "      <td>109</td>\n",
       "      <td>IR1</td>\n",
       "      <td>AllPub</td>\n",
       "      <td>Gtl</td>\n",
       "      <td>6</td>\n",
       "      <td>8</td>\n",
       "      <td>Gd</td>\n",
       "      <td>TA</td>\n",
       "      <td>TA</td>\n",
       "      <td>TA</td>\n",
       "      <td>...</td>\n",
       "      <td>SBrkr</td>\n",
       "      <td>Gd</td>\n",
       "      <td>Typ</td>\n",
       "      <td>NaN</td>\n",
       "      <td>RFn</td>\n",
       "      <td>TA</td>\n",
       "      <td>TA</td>\n",
       "      <td>Y</td>\n",
       "      <td>NaN</td>\n",
       "      <td>NaN</td>\n",
       "    </tr>\n",
       "  </tbody>\n",
       "</table>\n",
       "<p>1 rows × 24 columns</p>\n",
       "</div>"
      ],
      "text/plain": [
       "    Id Lot Shape Utilities Land Slope  Overall Qual  Overall Cond Exter Qual  \\\n",
       "0  109       IR1    AllPub        Gtl             6             8         Gd   \n",
       "\n",
       "  Exter Cond Bsmt Qual Bsmt Cond  ... Electrical Kitchen Qual Functional  \\\n",
       "0         TA        TA        TA  ...      SBrkr           Gd        Typ   \n",
       "\n",
       "  Fireplace Qu Garage Finish Garage Qual Garage Cond Paved Drive Pool QC Fence  \n",
       "0          NaN           RFn          TA          TA           Y     NaN   NaN  \n",
       "\n",
       "[1 rows x 24 columns]"
      ]
     },
     "execution_count": 123,
     "metadata": {},
     "output_type": "execute_result"
    }
   ],
   "source": [
    "# Training ORDINAL values\n",
    "ordinal_train = train_df[['Id', 'Lot Shape', 'Utilities', 'Land Slope', 'Overall Qual', 'Overall Cond', 'Exter Qual', \n",
    "          'Exter Cond', 'Bsmt Qual', 'Bsmt Cond', 'Bsmt Exposure', 'BsmtFin Type 1', 'BsmtFin Type 2',\n",
    "          'Heating QC', 'Electrical', 'Kitchen Qual', 'Functional', 'Fireplace Qu', 'Garage Finish', 'Garage Qual',\n",
    "          'Garage Cond', 'Paved Drive', 'Pool QC', 'Fence', \n",
    "         ]]\n",
    "ordinal_train.head(1)\n",
    "\n",
    "# You might want to set index to 'Id' will revist later"
   ]
  },
  {
   "cell_type": "code",
   "execution_count": 124,
   "metadata": {},
   "outputs": [
    {
     "data": {
      "text/html": [
       "<div>\n",
       "<style scoped>\n",
       "    .dataframe tbody tr th:only-of-type {\n",
       "        vertical-align: middle;\n",
       "    }\n",
       "\n",
       "    .dataframe tbody tr th {\n",
       "        vertical-align: top;\n",
       "    }\n",
       "\n",
       "    .dataframe thead th {\n",
       "        text-align: right;\n",
       "    }\n",
       "</style>\n",
       "<table border=\"1\" class=\"dataframe\">\n",
       "  <thead>\n",
       "    <tr style=\"text-align: right;\">\n",
       "      <th></th>\n",
       "      <th>Id</th>\n",
       "      <th>Lot Shape</th>\n",
       "      <th>Utilities</th>\n",
       "      <th>Land Slope</th>\n",
       "      <th>Overall Qual</th>\n",
       "      <th>Overall Cond</th>\n",
       "      <th>Exter Qual</th>\n",
       "      <th>Exter Cond</th>\n",
       "      <th>Bsmt Qual</th>\n",
       "      <th>Bsmt Cond</th>\n",
       "      <th>...</th>\n",
       "      <th>Electrical</th>\n",
       "      <th>Kitchen Qual</th>\n",
       "      <th>Functional</th>\n",
       "      <th>Fireplace Qu</th>\n",
       "      <th>Garage Finish</th>\n",
       "      <th>Garage Qual</th>\n",
       "      <th>Garage Cond</th>\n",
       "      <th>Paved Drive</th>\n",
       "      <th>Pool QC</th>\n",
       "      <th>Fence</th>\n",
       "    </tr>\n",
       "  </thead>\n",
       "  <tbody>\n",
       "    <tr>\n",
       "      <th>0</th>\n",
       "      <td>2658</td>\n",
       "      <td>Reg</td>\n",
       "      <td>AllPub</td>\n",
       "      <td>Gtl</td>\n",
       "      <td>6</td>\n",
       "      <td>8</td>\n",
       "      <td>TA</td>\n",
       "      <td>Fa</td>\n",
       "      <td>Fa</td>\n",
       "      <td>TA</td>\n",
       "      <td>...</td>\n",
       "      <td>FuseP</td>\n",
       "      <td>Fa</td>\n",
       "      <td>Typ</td>\n",
       "      <td>NaN</td>\n",
       "      <td>Unf</td>\n",
       "      <td>Po</td>\n",
       "      <td>Po</td>\n",
       "      <td>Y</td>\n",
       "      <td>NaN</td>\n",
       "      <td>NaN</td>\n",
       "    </tr>\n",
       "  </tbody>\n",
       "</table>\n",
       "<p>1 rows × 24 columns</p>\n",
       "</div>"
      ],
      "text/plain": [
       "     Id Lot Shape Utilities Land Slope  Overall Qual  Overall Cond Exter Qual  \\\n",
       "0  2658       Reg    AllPub        Gtl             6             8         TA   \n",
       "\n",
       "  Exter Cond Bsmt Qual Bsmt Cond  ... Electrical Kitchen Qual Functional  \\\n",
       "0         Fa        Fa        TA  ...      FuseP           Fa        Typ   \n",
       "\n",
       "  Fireplace Qu Garage Finish Garage Qual Garage Cond Paved Drive Pool QC Fence  \n",
       "0          NaN           Unf          Po          Po           Y     NaN   NaN  \n",
       "\n",
       "[1 rows x 24 columns]"
      ]
     },
     "execution_count": 124,
     "metadata": {},
     "output_type": "execute_result"
    }
   ],
   "source": [
    "# Testing ORDINAL values\n",
    "ordinal_test = test_df[['Id', 'Lot Shape', 'Utilities', 'Land Slope', 'Overall Qual', 'Overall Cond', 'Exter Qual', \n",
    "          'Exter Cond', 'Bsmt Qual', 'Bsmt Cond', 'Bsmt Exposure', 'BsmtFin Type 1', 'BsmtFin Type 2',\n",
    "          'Heating QC', 'Electrical', 'Kitchen Qual', 'Functional', 'Fireplace Qu', 'Garage Finish', 'Garage Qual',\n",
    "          'Garage Cond', 'Paved Drive', 'Pool QC', 'Fence', \n",
    "         ]]\n",
    "ordinal_test.head(1)\n",
    "\n",
    "# You might want to set index to 'Id' will revist later"
   ]
  },
  {
   "cell_type": "code",
   "execution_count": 125,
   "metadata": {},
   "outputs": [],
   "source": [
    "ordinal_columns = {'Lot Shape' : {'IR3' : 1, 'IR2' : 2, 'IR1' : 3, 'Reg' : 4}, \n",
    "                   'Utilities': {'ELO' : 0, 'NoSeWa' : 1, 'NoSewr' : 2, 'AllPub' : 3}, \n",
    "                   'Land Slope': {'Sev' : 1, 'Mod' : 2, 'Gtl' : 3}, \n",
    "                   'Exter Qual': {'Po' : 1, 'Fa' : 2, 'TA' : 3, 'Gd' : 4, 'Ex' : 5},\n",
    "                   'Exter Cond': {'Po' : 1, 'Fa' : 2, 'TA' : 3, 'Gd' : 4, 'Ex' : 5},\n",
    "                   'Bsmt Qual' : {np.nan : 0, 'Po' : 1, 'Fa' : 2, 'TA' : 3, 'Gd' : 4, 'Ex' : 5},   # not sure about this one \n",
    "                   'Bsmt Cond' : {np.nan : 0, 'Po' : 1, 'Fa' : 2, 'TA' : 3, 'Gd' : 4, 'Ex' : 5},    # or this one\n",
    "                   'Bsmt Exposure' : {np.nan : 0, 'No' : 1, 'Mn' : 2, 'Av' : 3, 'Gd' : 4}, \n",
    "                   'BsmtFin Type 1' : {np.nan : 0, 'Unf' : 1, 'LwQ' : 2, 'Rec' : 3, 'BLQ' : 4, 'ALQ' : 5, 'GLQ' : 6},\n",
    "                   'BsmtFin Type 2' : {np.nan : 0, 'Unf' : 1, 'LwQ' : 2, 'Rec' : 3, 'BLQ' : 4, 'ALQ' : 5, 'GLQ' : 6},\n",
    "                   'Heating QC' : {'Po' : 1, 'Fa' : 2, 'TA' : 3, 'Gd' : 4, 'Ex' : 5}, \n",
    "                   'Electrical' : {np.nan : 0, 'Mix' : 1, 'FuseP' : 2, 'FuseF' : 3, 'FuseA' : 4, 'SBrkr' : 5},\n",
    "                   'Kitchen Qual' : {'Po' : 1, 'Fa' : 2, 'TA' : 3, 'Gd' : 4, 'Ex' : 5},\n",
    "                   'Functional' : {'Sal' : 1, 'Sev' : 2, 'Maj2' : 3, 'Maj1' : 4, 'Mod': 5, 'Min2' : 6, 'Min1' : 7, 'Typ' : 8}, \n",
    "                   'Fireplace Qu' : {np.nan : 0, 'Po' : 1, 'Fa' : 2, 'TA' : 3, 'Gd' : 4, 'Ex' : 5},\n",
    "                   'Garage Finish' : {np.nan : 0, 'Unf' : 1, 'RFn' : 2, 'Fin' : 3},\n",
    "                   'Garage Qual' : {np.nan : 0, 'Po' : 1, 'Fa' : 2, 'TA' : 3, 'Gd' : 4, 'Ex' : 5},\n",
    "                   'Garage Cond' : {np.nan : 0, 'Po' : 1, 'Fa' : 2, 'TA' : 3, 'Gd' : 4, 'Ex' : 5},\n",
    "                   'Paved Drive' : {'N' : 1, 'P' : 2, 'Y' : 3},\n",
    "                   'Pool QC' : {np.nan : 0, 'Fa' : 1, 'TA' : 2, 'Gd' : 3, 'Ex' : 4},\n",
    "                   'Fence' : {np.nan : 0, 'MnWw' : 1, 'GdWo' : 2, 'MnPrv' : 3, 'GdPrv' : 4} }"
   ]
  },
  {
   "cell_type": "code",
   "execution_count": 126,
   "metadata": {},
   "outputs": [
    {
     "name": "stderr",
     "output_type": "stream",
     "text": [
      "/Users/aidancurley/opt/anaconda3/lib/python3.7/site-packages/pandas/core/indexing.py:1745: SettingWithCopyWarning: \n",
      "A value is trying to be set on a copy of a slice from a DataFrame.\n",
      "Try using .loc[row_indexer,col_indexer] = value instead\n",
      "\n",
      "See the caveats in the documentation: https://pandas.pydata.org/pandas-docs/stable/user_guide/indexing.html#returning-a-view-versus-a-copy\n",
      "  isetter(ilocs[0], value)\n"
     ]
    }
   ],
   "source": [
    "ordinal_train.replace(ordinal_columns, inplace = True)\n",
    "ordinal_test.replace(ordinal_columns, inplace = True)"
   ]
  },
  {
   "cell_type": "code",
   "execution_count": 127,
   "metadata": {},
   "outputs": [],
   "source": [
    "ordinal_train.to_csv('ordinal_train.csv', index=False)"
   ]
  },
  {
   "cell_type": "code",
   "execution_count": 128,
   "metadata": {},
   "outputs": [],
   "source": [
    "ordinal_test.to_csv('ordinal_test.csv', index=False)"
   ]
  },
  {
   "cell_type": "code",
   "execution_count": null,
   "metadata": {},
   "outputs": [],
   "source": []
  }
 ],
 "metadata": {
  "kernelspec": {
   "display_name": "Python 3",
   "language": "python",
   "name": "python3"
  },
  "language_info": {
   "codemirror_mode": {
    "name": "ipython",
    "version": 3
   },
   "file_extension": ".py",
   "mimetype": "text/x-python",
   "name": "python",
   "nbconvert_exporter": "python",
   "pygments_lexer": "ipython3",
   "version": "3.7.6"
  }
 },
 "nbformat": 4,
 "nbformat_minor": 4
}
