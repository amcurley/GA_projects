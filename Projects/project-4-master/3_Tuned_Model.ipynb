{
 "cells": [
  {
   "cell_type": "markdown",
   "metadata": {},
   "source": [
    "# **Tuned Model**\n",
    "\n",
    "In this notebook we take information learned from our previous notebooks to tune our model to the best fit possible. The models in this notebook represent the best possible models from many iterations. The first model presented includes all feature columns, the second model presented has the features of work class and native country removed. "
   ]
  },
  {
   "cell_type": "code",
   "execution_count": 1,
   "metadata": {
    "execution": {
     "iopub.status.idle": "2020-09-01T00:32:22.691833Z",
     "shell.execute_reply": "2020-09-01T00:32:22.691395Z",
     "shell.execute_reply.started": "2020-09-01T00:32:22.234485Z"
    }
   },
   "outputs": [],
   "source": [
    "import pandas as pd\n",
    "import numpy as np\n",
    "import matplotlib.pyplot as plt\n",
    "import seaborn as sns\n",
    "import os\n",
    "from sklearn.model_selection import train_test_split, GridSearchCV, cross_val_score\n",
    "from sklearn.ensemble import RandomForestClassifier\n",
    "from sklearn.metrics import confusion_matrix, mean_squared_error, f1_score, plot_confusion_matrix\n",
    "from sklearn.preprocessing import StandardScaler\n",
    "from sklearn.pipeline import Pipeline\n",
    "from sklearn.tree import export_graphviz\n",
    "pd.set_option('display.max_rows', 1000)\n",
    "pd.set_option('display.max_columns', 500)\n",
    "pd.set_option('display.width', 1000)"
   ]
  },
  {
   "cell_type": "code",
   "execution_count": 2,
   "metadata": {
    "execution": {
     "iopub.execute_input": "2020-09-01T00:32:22.692612Z",
     "iopub.status.busy": "2020-09-01T00:32:22.692469Z",
     "iopub.status.idle": "2020-09-01T00:32:22.733726Z",
     "shell.execute_reply": "2020-09-01T00:32:22.733291Z",
     "shell.execute_reply.started": "2020-09-01T00:32:22.692594Z"
    }
   },
   "outputs": [],
   "source": [
    "train = pd.read_csv('./data/large_train_sample.csv')\n",
    "test = pd.read_csv('./data/test_data.csv')"
   ]
  },
  {
   "cell_type": "code",
   "execution_count": 3,
   "metadata": {
    "execution": {
     "iopub.execute_input": "2020-09-01T00:32:22.734666Z",
     "iopub.status.busy": "2020-09-01T00:32:22.734569Z",
     "iopub.status.idle": "2020-09-01T00:32:22.737227Z",
     "shell.execute_reply": "2020-09-01T00:32:22.736798Z",
     "shell.execute_reply.started": "2020-09-01T00:32:22.734654Z"
    }
   },
   "outputs": [
    {
     "name": "stdout",
     "output_type": "stream",
     "text": [
      "Train csv shape is (32561, 14)\n",
      "Test csv shape is (16281, 13)\n"
     ]
    }
   ],
   "source": [
    "print(f'Train csv shape is {train.shape}')\n",
    "print(f'Test csv shape is {test.shape}')"
   ]
  },
  {
   "cell_type": "code",
   "execution_count": 4,
   "metadata": {
    "execution": {
     "iopub.execute_input": "2020-09-01T00:32:22.738102Z",
     "iopub.status.busy": "2020-09-01T00:32:22.737974Z",
     "iopub.status.idle": "2020-09-01T00:32:22.747392Z",
     "shell.execute_reply": "2020-09-01T00:32:22.747021Z",
     "shell.execute_reply.started": "2020-09-01T00:32:22.738086Z"
    }
   },
   "outputs": [
    {
     "data": {
      "text/plain": [
       " <=50K    0.75919\n",
       " >50K     0.24081\n",
       "Name: wage, dtype: float64"
      ]
     },
     "execution_count": 4,
     "metadata": {},
     "output_type": "execute_result"
    }
   ],
   "source": [
    "# We have imbalanced classes\n",
    "train['wage'].value_counts(normalize=True)"
   ]
  },
  {
   "cell_type": "code",
   "execution_count": 5,
   "metadata": {
    "execution": {
     "iopub.execute_input": "2020-09-01T00:32:22.747937Z",
     "iopub.status.busy": "2020-09-01T00:32:22.747849Z",
     "iopub.status.idle": "2020-09-01T00:32:22.751338Z",
     "shell.execute_reply": "2020-09-01T00:32:22.750888Z",
     "shell.execute_reply.started": "2020-09-01T00:32:22.747926Z"
    }
   },
   "outputs": [],
   "source": [
    "#Credit to Chris\n",
    "\n",
    "# Function that generates all the value counts for each column\n",
    "\n",
    "def columns_values(dataframe):\n",
    "    for n in dataframe.columns:                               # cycle through the columns in dataframe\n",
    "        column = n  \n",
    "        value_counts = (dataframe[column].value_counts())     # run value counts for each column\n",
    "        unique_values = (dataframe[column].unique())          # run unique values for each column \n",
    "        len_counts = len(value_counts)                        # how many items are counted in value counts\n",
    "        len_unique = len(unique_values)                       # how many items are counted in unique values\n",
    "        if (len(value_counts)< 100):                          # ignore columns where counts over 100\n",
    "                print(f\"{column} has length of {len_unique}\") # print how many unique values there are\n",
    "                print(unique_values)                          # print unique values for column \n",
    "                print(\"=\"*30)                                  \n",
    "                print(f\"{column} has length of {len_counts}\") # print how many values are counted\n",
    "                print(value_counts)                           # print unique values counted\n",
    "                print(\"=\"*60)"
   ]
  },
  {
   "cell_type": "code",
   "execution_count": 6,
   "metadata": {
    "collapsed": true,
    "execution": {
     "iopub.execute_input": "2020-09-01T00:32:22.752036Z",
     "iopub.status.busy": "2020-09-01T00:32:22.751910Z",
     "iopub.status.idle": "2020-09-01T00:32:22.791556Z",
     "shell.execute_reply": "2020-09-01T00:32:22.791159Z",
     "shell.execute_reply.started": "2020-09-01T00:32:22.752020Z"
    },
    "jupyter": {
     "outputs_hidden": true
    }
   },
   "outputs": [
    {
     "name": "stdout",
     "output_type": "stream",
     "text": [
      "age has length of 73\n",
      "[39 50 38 53 28 37 49 52 31 42 30 23 32 40 34 25 43 54 35 59 56 19 20 45\n",
      " 22 48 21 24 57 44 41 29 18 47 46 36 79 27 67 33 76 17 55 61 70 64 71 68\n",
      " 66 51 58 26 60 90 75 65 77 62 63 80 72 74 69 73 81 78 88 82 83 84 85 86\n",
      " 87]\n",
      "==============================\n",
      "age has length of 73\n",
      "36    898\n",
      "31    888\n",
      "34    886\n",
      "23    877\n",
      "35    876\n",
      "33    875\n",
      "28    867\n",
      "30    861\n",
      "37    858\n",
      "25    841\n",
      "27    835\n",
      "32    828\n",
      "38    827\n",
      "39    816\n",
      "29    813\n",
      "41    808\n",
      "24    798\n",
      "40    794\n",
      "26    785\n",
      "42    780\n",
      "43    770\n",
      "22    765\n",
      "20    753\n",
      "46    737\n",
      "45    734\n",
      "44    724\n",
      "21    720\n",
      "19    712\n",
      "47    708\n",
      "50    602\n",
      "51    595\n",
      "49    577\n",
      "18    550\n",
      "48    543\n",
      "52    478\n",
      "53    464\n",
      "55    419\n",
      "54    415\n",
      "17    395\n",
      "58    366\n",
      "56    366\n",
      "57    358\n",
      "59    355\n",
      "60    312\n",
      "61    300\n",
      "62    258\n",
      "63    230\n",
      "64    208\n",
      "65    178\n",
      "67    151\n",
      "66    150\n",
      "68    120\n",
      "69    108\n",
      "70     89\n",
      "71     72\n",
      "72     67\n",
      "73     64\n",
      "74     51\n",
      "76     46\n",
      "75     45\n",
      "90     43\n",
      "77     29\n",
      "78     23\n",
      "80     22\n",
      "79     22\n",
      "81     20\n",
      "82     12\n",
      "84     10\n",
      "83      6\n",
      "85      3\n",
      "88      3\n",
      "87      1\n",
      "86      1\n",
      "Name: age, dtype: int64\n",
      "============================================================\n",
      "workclass has length of 9\n",
      "[' State-gov' ' Self-emp-not-inc' ' Private' ' Federal-gov' ' Local-gov'\n",
      " ' ?' ' Self-emp-inc' ' Without-pay' ' Never-worked']\n",
      "==============================\n",
      "workclass has length of 9\n",
      " Private             22696\n",
      " Self-emp-not-inc     2541\n",
      " Local-gov            2093\n",
      " ?                    1836\n",
      " State-gov            1298\n",
      " Self-emp-inc         1116\n",
      " Federal-gov           960\n",
      " Without-pay            14\n",
      " Never-worked            7\n",
      "Name: workclass, dtype: int64\n",
      "============================================================\n",
      "education has length of 16\n",
      "[' Bachelors' ' HS-grad' ' 11th' ' Masters' ' 9th' ' Some-college'\n",
      " ' Assoc-acdm' ' Assoc-voc' ' 7th-8th' ' Doctorate' ' Prof-school'\n",
      " ' 5th-6th' ' 10th' ' 1st-4th' ' Preschool' ' 12th']\n",
      "==============================\n",
      "education has length of 16\n",
      " HS-grad         10501\n",
      " Some-college     7291\n",
      " Bachelors        5355\n",
      " Masters          1723\n",
      " Assoc-voc        1382\n",
      " 11th             1175\n",
      " Assoc-acdm       1067\n",
      " 10th              933\n",
      " 7th-8th           646\n",
      " Prof-school       576\n",
      " 9th               514\n",
      " 12th              433\n",
      " Doctorate         413\n",
      " 5th-6th           333\n",
      " 1st-4th           168\n",
      " Preschool          51\n",
      "Name: education, dtype: int64\n",
      "============================================================\n",
      "education-num has length of 16\n",
      "[13  9  7 14  5 10 12 11  4 16 15  3  6  2  1  8]\n",
      "==============================\n",
      "education-num has length of 16\n",
      "9     10501\n",
      "10     7291\n",
      "13     5355\n",
      "14     1723\n",
      "11     1382\n",
      "7      1175\n",
      "12     1067\n",
      "6       933\n",
      "4       646\n",
      "15      576\n",
      "5       514\n",
      "8       433\n",
      "16      413\n",
      "3       333\n",
      "2       168\n",
      "1        51\n",
      "Name: education-num, dtype: int64\n",
      "============================================================\n",
      "marital-status has length of 7\n",
      "[' Never-married' ' Married-civ-spouse' ' Divorced'\n",
      " ' Married-spouse-absent' ' Separated' ' Married-AF-spouse' ' Widowed']\n",
      "==============================\n",
      "marital-status has length of 7\n",
      " Married-civ-spouse       14976\n",
      " Never-married            10683\n",
      " Divorced                  4443\n",
      " Separated                 1025\n",
      " Widowed                    993\n",
      " Married-spouse-absent      418\n",
      " Married-AF-spouse           23\n",
      "Name: marital-status, dtype: int64\n",
      "============================================================\n",
      "occupation has length of 15\n",
      "[' Adm-clerical' ' Exec-managerial' ' Handlers-cleaners' ' Prof-specialty'\n",
      " ' Other-service' ' Sales' ' Craft-repair' ' Transport-moving'\n",
      " ' Farming-fishing' ' Machine-op-inspct' ' Tech-support' ' ?'\n",
      " ' Protective-serv' ' Armed-Forces' ' Priv-house-serv']\n",
      "==============================\n",
      "occupation has length of 15\n",
      " Prof-specialty       4140\n",
      " Craft-repair         4099\n",
      " Exec-managerial      4066\n",
      " Adm-clerical         3770\n",
      " Sales                3650\n",
      " Other-service        3295\n",
      " Machine-op-inspct    2002\n",
      " ?                    1843\n",
      " Transport-moving     1597\n",
      " Handlers-cleaners    1370\n",
      " Farming-fishing       994\n",
      " Tech-support          928\n",
      " Protective-serv       649\n",
      " Priv-house-serv       149\n",
      " Armed-Forces            9\n",
      "Name: occupation, dtype: int64\n",
      "============================================================\n",
      "relationship has length of 6\n",
      "[' Not-in-family' ' Husband' ' Wife' ' Own-child' ' Unmarried'\n",
      " ' Other-relative']\n",
      "==============================\n",
      "relationship has length of 6\n",
      " Husband           13193\n",
      " Not-in-family      8305\n",
      " Own-child          5068\n",
      " Unmarried          3446\n",
      " Wife               1568\n",
      " Other-relative      981\n",
      "Name: relationship, dtype: int64\n",
      "============================================================\n",
      "sex has length of 2\n",
      "[' Male' ' Female']\n",
      "==============================\n",
      "sex has length of 2\n",
      " Male      21790\n",
      " Female    10771\n",
      "Name: sex, dtype: int64\n",
      "============================================================\n",
      "capital-loss has length of 92\n",
      "[   0 2042 1408 1902 1573 1887 1719 1762 1564 2179 1816 1980 1977 1876\n",
      " 1340 2206 1741 1485 2339 2415 1380 1721 2051 2377 1669 2352 1672  653\n",
      " 2392 1504 2001 1590 1651 1628 1848 1740 2002 1579 2258 1602  419 2547\n",
      " 2174 2205 1726 2444 1138 2238  625  213 1539  880 1668 1092 1594 3004\n",
      " 2231 1844  810 2824 2559 2057 1974  974 2149 1825 1735 1258 2129 2603\n",
      " 2282  323 4356 2246 1617 1648 2489 3770 1755 3683 2267 2080 2457  155\n",
      " 3900 2201 1944 2467 2163 2754 2472 1411]\n",
      "==============================\n",
      "capital-loss has length of 92\n",
      "0       31042\n",
      "1902      202\n",
      "1977      168\n",
      "1887      159\n",
      "1848       51\n",
      "1485       51\n",
      "2415       49\n",
      "1602       47\n",
      "1740       42\n",
      "1590       40\n",
      "1876       39\n",
      "1672       34\n",
      "1564       25\n",
      "2258       25\n",
      "1669       24\n",
      "1741       24\n",
      "2001       24\n",
      "1980       23\n",
      "1719       22\n",
      "2002       21\n",
      "2051       21\n",
      "1408       21\n",
      "1579       20\n",
      "2377       20\n",
      "1721       18\n",
      "1504       18\n",
      "1974       18\n",
      "2339       17\n",
      "2179       15\n",
      "1628       15\n",
      "1762       14\n",
      "2444       12\n",
      "2559       12\n",
      "625        12\n",
      "2824       10\n",
      "2042        9\n",
      "1617        9\n",
      "2205        9\n",
      "1651        9\n",
      "2392        9\n",
      "1594        8\n",
      "1340        7\n",
      "1380        7\n",
      "1092        7\n",
      "2174        7\n",
      "1573        6\n",
      "880         6\n",
      "2246        6\n",
      "2057        6\n",
      "2206        6\n",
      "2603        5\n",
      "1668        4\n",
      "1825        4\n",
      "1258        4\n",
      "2547        4\n",
      "1726        4\n",
      "213         4\n",
      "2457        3\n",
      "2129        3\n",
      "653         3\n",
      "2231        3\n",
      "419         3\n",
      "323         3\n",
      "4356        3\n",
      "2267        3\n",
      "3683        2\n",
      "1755        2\n",
      "2352        2\n",
      "1648        2\n",
      "1138        2\n",
      "810         2\n",
      "1735        2\n",
      "2238        2\n",
      "2754        2\n",
      "3004        2\n",
      "3900        2\n",
      "974         2\n",
      "2149        2\n",
      "1816        2\n",
      "3770        2\n",
      "2080        1\n",
      "2489        1\n",
      "2282        1\n",
      "2163        1\n",
      "155         1\n",
      "2467        1\n",
      "1844        1\n",
      "1411        1\n",
      "1539        1\n",
      "2472        1\n",
      "1944        1\n",
      "2201        1\n",
      "Name: capital-loss, dtype: int64\n",
      "============================================================\n",
      "hours-per-week has length of 94\n",
      "[40 13 16 45 50 80 30 35 60 20 52 44 15 25 38 43 55 48 58 32 70  2 22 56\n",
      " 41 28 36 24 46 42 12 65  1 10 34 75 98 33 54  8  6 64 19 18 72  5  9 47\n",
      " 37 21 26 14  4 59  7 99 53 39 62 57 78 90 66 11 49 84  3 17 68 27 85 31\n",
      " 51 77 63 23 87 88 73 89 97 94 29 96 67 82 86 91 81 76 92 61 74 95]\n",
      "==============================\n",
      "hours-per-week has length of 94\n",
      "40    15217\n",
      "50     2819\n",
      "45     1824\n",
      "60     1475\n",
      "35     1297\n",
      "20     1224\n",
      "30     1149\n",
      "55      694\n",
      "25      674\n",
      "48      517\n",
      "38      476\n",
      "15      404\n",
      "70      291\n",
      "10      278\n",
      "32      266\n",
      "24      252\n",
      "65      244\n",
      "36      220\n",
      "42      219\n",
      "44      212\n",
      "16      205\n",
      "12      173\n",
      "43      151\n",
      "37      149\n",
      "8       145\n",
      "52      138\n",
      "80      133\n",
      "56       97\n",
      "28       86\n",
      "99       85\n",
      "46       82\n",
      "18       75\n",
      "72       71\n",
      "75       66\n",
      "6        64\n",
      "5        60\n",
      "4        54\n",
      "47       49\n",
      "84       45\n",
      "22       44\n",
      "54       41\n",
      "3        39\n",
      "33       39\n",
      "39       38\n",
      "41       36\n",
      "14       34\n",
      "2        32\n",
      "27       30\n",
      "26       30\n",
      "17       29\n",
      "49       29\n",
      "90       29\n",
      "58       28\n",
      "34       28\n",
      "7        26\n",
      "53       25\n",
      "21       24\n",
      "13       23\n",
      "23       21\n",
      "1        20\n",
      "62       18\n",
      "9        18\n",
      "66       17\n",
      "57       17\n",
      "19       14\n",
      "64       14\n",
      "51       13\n",
      "85       13\n",
      "68       12\n",
      "98       11\n",
      "11       11\n",
      "63       10\n",
      "78        8\n",
      "29        7\n",
      "77        6\n",
      "59        5\n",
      "31        5\n",
      "96        5\n",
      "67        4\n",
      "91        3\n",
      "76        3\n",
      "81        3\n",
      "73        2\n",
      "89        2\n",
      "97        2\n",
      "88        2\n",
      "86        2\n",
      "61        2\n",
      "95        2\n",
      "92        1\n",
      "94        1\n",
      "87        1\n",
      "74        1\n",
      "82        1\n",
      "Name: hours-per-week, dtype: int64\n",
      "============================================================\n",
      "native-country has length of 42\n",
      "[' United-States' ' Cuba' ' Jamaica' ' India' ' ?' ' Mexico' ' South'\n",
      " ' Puerto-Rico' ' Honduras' ' England' ' Canada' ' Germany' ' Iran'\n",
      " ' Philippines' ' Italy' ' Poland' ' Columbia' ' Cambodia' ' Thailand'\n",
      " ' Ecuador' ' Laos' ' Taiwan' ' Haiti' ' Portugal' ' Dominican-Republic'\n",
      " ' El-Salvador' ' France' ' Guatemala' ' China' ' Japan' ' Yugoslavia'\n",
      " ' Peru' ' Outlying-US(Guam-USVI-etc)' ' Scotland' ' Trinadad&Tobago'\n",
      " ' Greece' ' Nicaragua' ' Vietnam' ' Hong' ' Ireland' ' Hungary'\n",
      " ' Holand-Netherlands']\n",
      "==============================\n",
      "native-country has length of 42\n",
      " United-States                 29170\n",
      " Mexico                          643\n",
      " ?                               583\n",
      " Philippines                     198\n",
      " Germany                         137\n",
      " Canada                          121\n",
      " Puerto-Rico                     114\n",
      " El-Salvador                     106\n",
      " India                           100\n",
      " Cuba                             95\n",
      " England                          90\n",
      " Jamaica                          81\n",
      " South                            80\n",
      " China                            75\n",
      " Italy                            73\n",
      " Dominican-Republic               70\n",
      " Vietnam                          67\n",
      " Guatemala                        64\n",
      " Japan                            62\n",
      " Poland                           60\n",
      " Columbia                         59\n",
      " Taiwan                           51\n",
      " Haiti                            44\n",
      " Iran                             43\n",
      " Portugal                         37\n",
      " Nicaragua                        34\n",
      " Peru                             31\n",
      " France                           29\n",
      " Greece                           29\n",
      " Ecuador                          28\n",
      " Ireland                          24\n",
      " Hong                             20\n",
      " Cambodia                         19\n",
      " Trinadad&Tobago                  19\n",
      " Thailand                         18\n",
      " Laos                             18\n",
      " Yugoslavia                       16\n",
      " Outlying-US(Guam-USVI-etc)       14\n",
      " Hungary                          13\n",
      " Honduras                         13\n",
      " Scotland                         12\n",
      " Holand-Netherlands                1\n",
      "Name: native-country, dtype: int64\n",
      "============================================================\n",
      "wage has length of 2\n",
      "[' <=50K' ' >50K']\n",
      "==============================\n",
      "wage has length of 2\n",
      " <=50K    24720\n",
      " >50K      7841\n",
      "Name: wage, dtype: int64\n",
      "============================================================\n"
     ]
    }
   ],
   "source": [
    "train_columns = columns_values(train)"
   ]
  },
  {
   "cell_type": "code",
   "execution_count": 7,
   "metadata": {
    "execution": {
     "iopub.execute_input": "2020-09-01T00:32:22.792087Z",
     "iopub.status.busy": "2020-09-01T00:32:22.791999Z",
     "iopub.status.idle": "2020-09-01T00:32:22.804385Z",
     "shell.execute_reply": "2020-09-01T00:32:22.803988Z",
     "shell.execute_reply.started": "2020-09-01T00:32:22.792076Z"
    }
   },
   "outputs": [
    {
     "name": "stdout",
     "output_type": "stream",
     "text": [
      "<class 'pandas.core.frame.DataFrame'>\n",
      "RangeIndex: 32561 entries, 0 to 32560\n",
      "Data columns (total 14 columns):\n",
      " #   Column          Non-Null Count  Dtype \n",
      "---  ------          --------------  ----- \n",
      " 0   age             32561 non-null  int64 \n",
      " 1   workclass       32561 non-null  object\n",
      " 2   fnlwgt          32561 non-null  int64 \n",
      " 3   education       32561 non-null  object\n",
      " 4   education-num   32561 non-null  int64 \n",
      " 5   marital-status  32561 non-null  object\n",
      " 6   occupation      32561 non-null  object\n",
      " 7   relationship    32561 non-null  object\n",
      " 8   sex             32561 non-null  object\n",
      " 9   capital-gain    32561 non-null  int64 \n",
      " 10  capital-loss    32561 non-null  int64 \n",
      " 11  hours-per-week  32561 non-null  int64 \n",
      " 12  native-country  32561 non-null  object\n",
      " 13  wage            32561 non-null  object\n",
      "dtypes: int64(6), object(8)\n",
      "memory usage: 3.5+ MB\n"
     ]
    }
   ],
   "source": [
    "train.info()"
   ]
  },
  {
   "cell_type": "code",
   "execution_count": 8,
   "metadata": {
    "execution": {
     "iopub.execute_input": "2020-09-01T00:32:22.804915Z",
     "iopub.status.busy": "2020-09-01T00:32:22.804829Z",
     "iopub.status.idle": "2020-09-01T00:32:22.814131Z",
     "shell.execute_reply": "2020-09-01T00:32:22.813764Z",
     "shell.execute_reply.started": "2020-09-01T00:32:22.804904Z"
    }
   },
   "outputs": [
    {
     "data": {
      "text/html": [
       "<div>\n",
       "<style scoped>\n",
       "    .dataframe tbody tr th:only-of-type {\n",
       "        vertical-align: middle;\n",
       "    }\n",
       "\n",
       "    .dataframe tbody tr th {\n",
       "        vertical-align: top;\n",
       "    }\n",
       "\n",
       "    .dataframe thead th {\n",
       "        text-align: right;\n",
       "    }\n",
       "</style>\n",
       "<table border=\"1\" class=\"dataframe\">\n",
       "  <thead>\n",
       "    <tr style=\"text-align: right;\">\n",
       "      <th></th>\n",
       "      <th>age</th>\n",
       "      <th>workclass</th>\n",
       "      <th>fnlwgt</th>\n",
       "      <th>education</th>\n",
       "      <th>education-num</th>\n",
       "      <th>marital-status</th>\n",
       "      <th>occupation</th>\n",
       "      <th>relationship</th>\n",
       "      <th>sex</th>\n",
       "      <th>capital-gain</th>\n",
       "      <th>capital-loss</th>\n",
       "      <th>hours-per-week</th>\n",
       "      <th>native-country</th>\n",
       "      <th>wage</th>\n",
       "    </tr>\n",
       "  </thead>\n",
       "  <tbody>\n",
       "    <tr>\n",
       "      <th>0</th>\n",
       "      <td>39</td>\n",
       "      <td>State-gov</td>\n",
       "      <td>77516</td>\n",
       "      <td>Bachelors</td>\n",
       "      <td>13</td>\n",
       "      <td>Never-married</td>\n",
       "      <td>Adm-clerical</td>\n",
       "      <td>Not-in-family</td>\n",
       "      <td>Male</td>\n",
       "      <td>2174</td>\n",
       "      <td>0</td>\n",
       "      <td>40</td>\n",
       "      <td>United-States</td>\n",
       "      <td>&lt;=50K</td>\n",
       "    </tr>\n",
       "    <tr>\n",
       "      <th>1</th>\n",
       "      <td>50</td>\n",
       "      <td>Self-emp-not-inc</td>\n",
       "      <td>83311</td>\n",
       "      <td>Bachelors</td>\n",
       "      <td>13</td>\n",
       "      <td>Married-civ-spouse</td>\n",
       "      <td>Exec-managerial</td>\n",
       "      <td>Husband</td>\n",
       "      <td>Male</td>\n",
       "      <td>0</td>\n",
       "      <td>0</td>\n",
       "      <td>13</td>\n",
       "      <td>United-States</td>\n",
       "      <td>&lt;=50K</td>\n",
       "    </tr>\n",
       "    <tr>\n",
       "      <th>2</th>\n",
       "      <td>38</td>\n",
       "      <td>Private</td>\n",
       "      <td>215646</td>\n",
       "      <td>HS-grad</td>\n",
       "      <td>9</td>\n",
       "      <td>Divorced</td>\n",
       "      <td>Handlers-cleaners</td>\n",
       "      <td>Not-in-family</td>\n",
       "      <td>Male</td>\n",
       "      <td>0</td>\n",
       "      <td>0</td>\n",
       "      <td>40</td>\n",
       "      <td>United-States</td>\n",
       "      <td>&lt;=50K</td>\n",
       "    </tr>\n",
       "    <tr>\n",
       "      <th>3</th>\n",
       "      <td>53</td>\n",
       "      <td>Private</td>\n",
       "      <td>234721</td>\n",
       "      <td>11th</td>\n",
       "      <td>7</td>\n",
       "      <td>Married-civ-spouse</td>\n",
       "      <td>Handlers-cleaners</td>\n",
       "      <td>Husband</td>\n",
       "      <td>Male</td>\n",
       "      <td>0</td>\n",
       "      <td>0</td>\n",
       "      <td>40</td>\n",
       "      <td>United-States</td>\n",
       "      <td>&lt;=50K</td>\n",
       "    </tr>\n",
       "    <tr>\n",
       "      <th>4</th>\n",
       "      <td>28</td>\n",
       "      <td>Private</td>\n",
       "      <td>338409</td>\n",
       "      <td>Bachelors</td>\n",
       "      <td>13</td>\n",
       "      <td>Married-civ-spouse</td>\n",
       "      <td>Prof-specialty</td>\n",
       "      <td>Wife</td>\n",
       "      <td>Female</td>\n",
       "      <td>0</td>\n",
       "      <td>0</td>\n",
       "      <td>40</td>\n",
       "      <td>Cuba</td>\n",
       "      <td>&lt;=50K</td>\n",
       "    </tr>\n",
       "  </tbody>\n",
       "</table>\n",
       "</div>"
      ],
      "text/plain": [
       "   age          workclass  fnlwgt   education  education-num       marital-status          occupation    relationship      sex  capital-gain  capital-loss  hours-per-week  native-country    wage\n",
       "0   39          State-gov   77516   Bachelors             13        Never-married        Adm-clerical   Not-in-family     Male          2174             0              40   United-States   <=50K\n",
       "1   50   Self-emp-not-inc   83311   Bachelors             13   Married-civ-spouse     Exec-managerial         Husband     Male             0             0              13   United-States   <=50K\n",
       "2   38            Private  215646     HS-grad              9             Divorced   Handlers-cleaners   Not-in-family     Male             0             0              40   United-States   <=50K\n",
       "3   53            Private  234721        11th              7   Married-civ-spouse   Handlers-cleaners         Husband     Male             0             0              40   United-States   <=50K\n",
       "4   28            Private  338409   Bachelors             13   Married-civ-spouse      Prof-specialty            Wife   Female             0             0              40            Cuba   <=50K"
      ]
     },
     "execution_count": 8,
     "metadata": {},
     "output_type": "execute_result"
    }
   ],
   "source": [
    "train.head()"
   ]
  },
  {
   "cell_type": "code",
   "execution_count": 9,
   "metadata": {
    "execution": {
     "iopub.execute_input": "2020-09-01T00:32:22.815473Z",
     "iopub.status.busy": "2020-09-01T00:32:22.815379Z",
     "iopub.status.idle": "2020-09-01T00:32:22.820493Z",
     "shell.execute_reply": "2020-09-01T00:32:22.820118Z",
     "shell.execute_reply.started": "2020-09-01T00:32:22.815462Z"
    }
   },
   "outputs": [],
   "source": [
    "# Binarizing Wage Column\n",
    "\n",
    "train['wage'] = pd.get_dummies(train['wage'], drop_first=True)"
   ]
  },
  {
   "cell_type": "code",
   "execution_count": 10,
   "metadata": {
    "execution": {
     "iopub.execute_input": "2020-09-01T00:32:22.821235Z",
     "iopub.status.busy": "2020-09-01T00:32:22.821146Z",
     "iopub.status.idle": "2020-09-01T00:32:22.825204Z",
     "shell.execute_reply": "2020-09-01T00:32:22.824849Z",
     "shell.execute_reply.started": "2020-09-01T00:32:22.821224Z"
    }
   },
   "outputs": [
    {
     "data": {
      "text/plain": [
       "0    0.75919\n",
       "1    0.24081\n",
       "Name: wage, dtype: float64"
      ]
     },
     "execution_count": 10,
     "metadata": {},
     "output_type": "execute_result"
    }
   ],
   "source": [
    "# Baseline Accuracy Score\n",
    "\n",
    "train['wage'].value_counts(normalize=True)"
   ]
  },
  {
   "cell_type": "code",
   "execution_count": 11,
   "metadata": {
    "execution": {
     "iopub.execute_input": "2020-09-01T00:32:22.825713Z",
     "iopub.status.busy": "2020-09-01T00:32:22.825629Z",
     "iopub.status.idle": "2020-09-01T00:32:22.845368Z",
     "shell.execute_reply": "2020-09-01T00:32:22.844992Z",
     "shell.execute_reply.started": "2020-09-01T00:32:22.825702Z"
    }
   },
   "outputs": [
    {
     "data": {
      "text/html": [
       "<div>\n",
       "<style scoped>\n",
       "    .dataframe tbody tr th:only-of-type {\n",
       "        vertical-align: middle;\n",
       "    }\n",
       "\n",
       "    .dataframe tbody tr th {\n",
       "        vertical-align: top;\n",
       "    }\n",
       "\n",
       "    .dataframe thead th {\n",
       "        text-align: right;\n",
       "    }\n",
       "</style>\n",
       "<table border=\"1\" class=\"dataframe\">\n",
       "  <thead>\n",
       "    <tr style=\"text-align: right;\">\n",
       "      <th></th>\n",
       "      <th>age</th>\n",
       "      <th>fnlwgt</th>\n",
       "      <th>education-num</th>\n",
       "      <th>capital-gain</th>\n",
       "      <th>capital-loss</th>\n",
       "      <th>hours-per-week</th>\n",
       "      <th>wage</th>\n",
       "    </tr>\n",
       "  </thead>\n",
       "  <tbody>\n",
       "    <tr>\n",
       "      <th>count</th>\n",
       "      <td>32561.000000</td>\n",
       "      <td>3.256100e+04</td>\n",
       "      <td>32561.000000</td>\n",
       "      <td>32561.000000</td>\n",
       "      <td>32561.000000</td>\n",
       "      <td>32561.000000</td>\n",
       "      <td>32561.000000</td>\n",
       "    </tr>\n",
       "    <tr>\n",
       "      <th>mean</th>\n",
       "      <td>38.581647</td>\n",
       "      <td>1.897784e+05</td>\n",
       "      <td>10.080679</td>\n",
       "      <td>1077.648844</td>\n",
       "      <td>87.303830</td>\n",
       "      <td>40.437456</td>\n",
       "      <td>0.240810</td>\n",
       "    </tr>\n",
       "    <tr>\n",
       "      <th>std</th>\n",
       "      <td>13.640433</td>\n",
       "      <td>1.055500e+05</td>\n",
       "      <td>2.572720</td>\n",
       "      <td>7385.292085</td>\n",
       "      <td>402.960219</td>\n",
       "      <td>12.347429</td>\n",
       "      <td>0.427581</td>\n",
       "    </tr>\n",
       "    <tr>\n",
       "      <th>min</th>\n",
       "      <td>17.000000</td>\n",
       "      <td>1.228500e+04</td>\n",
       "      <td>1.000000</td>\n",
       "      <td>0.000000</td>\n",
       "      <td>0.000000</td>\n",
       "      <td>1.000000</td>\n",
       "      <td>0.000000</td>\n",
       "    </tr>\n",
       "    <tr>\n",
       "      <th>25%</th>\n",
       "      <td>28.000000</td>\n",
       "      <td>1.178270e+05</td>\n",
       "      <td>9.000000</td>\n",
       "      <td>0.000000</td>\n",
       "      <td>0.000000</td>\n",
       "      <td>40.000000</td>\n",
       "      <td>0.000000</td>\n",
       "    </tr>\n",
       "    <tr>\n",
       "      <th>50%</th>\n",
       "      <td>37.000000</td>\n",
       "      <td>1.783560e+05</td>\n",
       "      <td>10.000000</td>\n",
       "      <td>0.000000</td>\n",
       "      <td>0.000000</td>\n",
       "      <td>40.000000</td>\n",
       "      <td>0.000000</td>\n",
       "    </tr>\n",
       "    <tr>\n",
       "      <th>75%</th>\n",
       "      <td>48.000000</td>\n",
       "      <td>2.370510e+05</td>\n",
       "      <td>12.000000</td>\n",
       "      <td>0.000000</td>\n",
       "      <td>0.000000</td>\n",
       "      <td>45.000000</td>\n",
       "      <td>0.000000</td>\n",
       "    </tr>\n",
       "    <tr>\n",
       "      <th>max</th>\n",
       "      <td>90.000000</td>\n",
       "      <td>1.484705e+06</td>\n",
       "      <td>16.000000</td>\n",
       "      <td>99999.000000</td>\n",
       "      <td>4356.000000</td>\n",
       "      <td>99.000000</td>\n",
       "      <td>1.000000</td>\n",
       "    </tr>\n",
       "  </tbody>\n",
       "</table>\n",
       "</div>"
      ],
      "text/plain": [
       "                age        fnlwgt  education-num  capital-gain  capital-loss  hours-per-week          wage\n",
       "count  32561.000000  3.256100e+04   32561.000000  32561.000000  32561.000000    32561.000000  32561.000000\n",
       "mean      38.581647  1.897784e+05      10.080679   1077.648844     87.303830       40.437456      0.240810\n",
       "std       13.640433  1.055500e+05       2.572720   7385.292085    402.960219       12.347429      0.427581\n",
       "min       17.000000  1.228500e+04       1.000000      0.000000      0.000000        1.000000      0.000000\n",
       "25%       28.000000  1.178270e+05       9.000000      0.000000      0.000000       40.000000      0.000000\n",
       "50%       37.000000  1.783560e+05      10.000000      0.000000      0.000000       40.000000      0.000000\n",
       "75%       48.000000  2.370510e+05      12.000000      0.000000      0.000000       45.000000      0.000000\n",
       "max       90.000000  1.484705e+06      16.000000  99999.000000   4356.000000       99.000000      1.000000"
      ]
     },
     "execution_count": 11,
     "metadata": {},
     "output_type": "execute_result"
    }
   ],
   "source": [
    "# Descriptive Statistics of numeric data prior to handling outliers\n",
    "\n",
    "train.describe()"
   ]
  },
  {
   "cell_type": "code",
   "execution_count": 12,
   "metadata": {
    "execution": {
     "iopub.execute_input": "2020-09-01T00:32:22.845881Z",
     "iopub.status.busy": "2020-09-01T00:32:22.845795Z",
     "iopub.status.idle": "2020-09-01T00:32:22.848745Z",
     "shell.execute_reply": "2020-09-01T00:32:22.848192Z",
     "shell.execute_reply.started": "2020-09-01T00:32:22.845870Z"
    }
   },
   "outputs": [
    {
     "name": "stdout",
     "output_type": "stream",
     "text": [
      "Train csv shape is (32561, 14)\n",
      "Test csv shape is (16281, 13)\n"
     ]
    }
   ],
   "source": [
    "# Shape of data prior to handling outliers\n",
    "print(f'Train csv shape is {train.shape}')\n",
    "print(f'Test csv shape is {test.shape}')"
   ]
  },
  {
   "cell_type": "code",
   "execution_count": 13,
   "metadata": {
    "execution": {
     "iopub.execute_input": "2020-09-01T00:32:22.849714Z",
     "iopub.status.busy": "2020-09-01T00:32:22.849579Z",
     "iopub.status.idle": "2020-09-01T00:32:22.852079Z",
     "shell.execute_reply": "2020-09-01T00:32:22.851706Z",
     "shell.execute_reply.started": "2020-09-01T00:32:22.849697Z"
    }
   },
   "outputs": [],
   "source": [
    "train_col = ['age',\n",
    "            'fnlwgt',\n",
    "            'education-num',\n",
    "            'capital-gain',\n",
    "            'capital-loss',\n",
    "            'hours-per-week',\n",
    "            'wage'    \n",
    "            ]"
   ]
  },
  {
   "cell_type": "code",
   "execution_count": 14,
   "metadata": {
    "execution": {
     "iopub.execute_input": "2020-09-01T00:32:22.852597Z",
     "iopub.status.busy": "2020-09-01T00:32:22.852510Z",
     "iopub.status.idle": "2020-09-01T00:32:22.875822Z",
     "shell.execute_reply": "2020-09-01T00:32:22.875362Z",
     "shell.execute_reply.started": "2020-09-01T00:32:22.852586Z"
    }
   },
   "outputs": [],
   "source": [
    "for col in train[train_col]:\n",
    "    outlier = abs(train[col].std() * 3) + abs(train[col].mean())\n",
    "    train.drop(train[train[col] > outlier].index, inplace=True)"
   ]
  },
  {
   "cell_type": "code",
   "execution_count": 15,
   "metadata": {
    "execution": {
     "iopub.execute_input": "2020-09-01T00:32:22.876449Z",
     "iopub.status.busy": "2020-09-01T00:32:22.876353Z",
     "iopub.status.idle": "2020-09-01T00:32:22.894773Z",
     "shell.execute_reply": "2020-09-01T00:32:22.894400Z",
     "shell.execute_reply.started": "2020-09-01T00:32:22.876435Z"
    }
   },
   "outputs": [
    {
     "data": {
      "text/html": [
       "<div>\n",
       "<style scoped>\n",
       "    .dataframe tbody tr th:only-of-type {\n",
       "        vertical-align: middle;\n",
       "    }\n",
       "\n",
       "    .dataframe tbody tr th {\n",
       "        vertical-align: top;\n",
       "    }\n",
       "\n",
       "    .dataframe thead th {\n",
       "        text-align: right;\n",
       "    }\n",
       "</style>\n",
       "<table border=\"1\" class=\"dataframe\">\n",
       "  <thead>\n",
       "    <tr style=\"text-align: right;\">\n",
       "      <th></th>\n",
       "      <th>age</th>\n",
       "      <th>fnlwgt</th>\n",
       "      <th>education-num</th>\n",
       "      <th>capital-gain</th>\n",
       "      <th>capital-loss</th>\n",
       "      <th>hours-per-week</th>\n",
       "      <th>wage</th>\n",
       "    </tr>\n",
       "  </thead>\n",
       "  <tbody>\n",
       "    <tr>\n",
       "      <th>count</th>\n",
       "      <td>30108.000000</td>\n",
       "      <td>30108.000000</td>\n",
       "      <td>30108.000000</td>\n",
       "      <td>30108.000000</td>\n",
       "      <td>30108.000000</td>\n",
       "      <td>30108.000000</td>\n",
       "      <td>30108.000000</td>\n",
       "    </tr>\n",
       "    <tr>\n",
       "      <th>mean</th>\n",
       "      <td>38.226485</td>\n",
       "      <td>185488.998738</td>\n",
       "      <td>10.022486</td>\n",
       "      <td>567.151156</td>\n",
       "      <td>1.212037</td>\n",
       "      <td>39.784011</td>\n",
       "      <td>0.221503</td>\n",
       "    </tr>\n",
       "    <tr>\n",
       "      <th>std</th>\n",
       "      <td>13.424234</td>\n",
       "      <td>94667.976151</td>\n",
       "      <td>2.538230</td>\n",
       "      <td>2326.937114</td>\n",
       "      <td>32.648206</td>\n",
       "      <td>11.294637</td>\n",
       "      <td>0.415265</td>\n",
       "    </tr>\n",
       "    <tr>\n",
       "      <th>min</th>\n",
       "      <td>17.000000</td>\n",
       "      <td>12285.000000</td>\n",
       "      <td>1.000000</td>\n",
       "      <td>0.000000</td>\n",
       "      <td>0.000000</td>\n",
       "      <td>1.000000</td>\n",
       "      <td>0.000000</td>\n",
       "    </tr>\n",
       "    <tr>\n",
       "      <th>25%</th>\n",
       "      <td>27.000000</td>\n",
       "      <td>117606.000000</td>\n",
       "      <td>9.000000</td>\n",
       "      <td>0.000000</td>\n",
       "      <td>0.000000</td>\n",
       "      <td>40.000000</td>\n",
       "      <td>0.000000</td>\n",
       "    </tr>\n",
       "    <tr>\n",
       "      <th>50%</th>\n",
       "      <td>37.000000</td>\n",
       "      <td>177817.000000</td>\n",
       "      <td>10.000000</td>\n",
       "      <td>0.000000</td>\n",
       "      <td>0.000000</td>\n",
       "      <td>40.000000</td>\n",
       "      <td>0.000000</td>\n",
       "    </tr>\n",
       "    <tr>\n",
       "      <th>75%</th>\n",
       "      <td>47.000000</td>\n",
       "      <td>234723.500000</td>\n",
       "      <td>12.000000</td>\n",
       "      <td>0.000000</td>\n",
       "      <td>0.000000</td>\n",
       "      <td>45.000000</td>\n",
       "      <td>0.000000</td>\n",
       "    </tr>\n",
       "    <tr>\n",
       "      <th>max</th>\n",
       "      <td>79.000000</td>\n",
       "      <td>506436.000000</td>\n",
       "      <td>16.000000</td>\n",
       "      <td>22040.000000</td>\n",
       "      <td>1258.000000</td>\n",
       "      <td>77.000000</td>\n",
       "      <td>1.000000</td>\n",
       "    </tr>\n",
       "  </tbody>\n",
       "</table>\n",
       "</div>"
      ],
      "text/plain": [
       "                age         fnlwgt  education-num  capital-gain  capital-loss  hours-per-week          wage\n",
       "count  30108.000000   30108.000000   30108.000000  30108.000000  30108.000000    30108.000000  30108.000000\n",
       "mean      38.226485  185488.998738      10.022486    567.151156      1.212037       39.784011      0.221503\n",
       "std       13.424234   94667.976151       2.538230   2326.937114     32.648206       11.294637      0.415265\n",
       "min       17.000000   12285.000000       1.000000      0.000000      0.000000        1.000000      0.000000\n",
       "25%       27.000000  117606.000000       9.000000      0.000000      0.000000       40.000000      0.000000\n",
       "50%       37.000000  177817.000000      10.000000      0.000000      0.000000       40.000000      0.000000\n",
       "75%       47.000000  234723.500000      12.000000      0.000000      0.000000       45.000000      0.000000\n",
       "max       79.000000  506436.000000      16.000000  22040.000000   1258.000000       77.000000      1.000000"
      ]
     },
     "execution_count": 15,
     "metadata": {},
     "output_type": "execute_result"
    }
   ],
   "source": [
    "# Descriptive Statistics of numeric data after handling outliers\n",
    "\n",
    "train.describe()"
   ]
  },
  {
   "cell_type": "code",
   "execution_count": 16,
   "metadata": {
    "execution": {
     "iopub.execute_input": "2020-09-01T00:32:22.895303Z",
     "iopub.status.busy": "2020-09-01T00:32:22.895212Z",
     "iopub.status.idle": "2020-09-01T00:32:22.897494Z",
     "shell.execute_reply": "2020-09-01T00:32:22.897144Z",
     "shell.execute_reply.started": "2020-09-01T00:32:22.895293Z"
    }
   },
   "outputs": [
    {
     "name": "stdout",
     "output_type": "stream",
     "text": [
      "Train csv shape is (30108, 14)\n"
     ]
    }
   ],
   "source": [
    "# Shape of data after handling outliers\n",
    "print(f'Train csv shape is {train.shape}')"
   ]
  },
  {
   "cell_type": "code",
   "execution_count": 17,
   "metadata": {
    "execution": {
     "iopub.execute_input": "2020-09-01T00:32:22.898179Z",
     "iopub.status.busy": "2020-09-01T00:32:22.898052Z",
     "iopub.status.idle": "2020-09-01T00:32:22.900402Z",
     "shell.execute_reply": "2020-09-01T00:32:22.899886Z",
     "shell.execute_reply.started": "2020-09-01T00:32:22.898163Z"
    }
   },
   "outputs": [],
   "source": [
    "# # Not using Work Class and Native Country\n",
    "# def dummies(train, test):\n",
    "# #     train['wage'] = pd.get_dummies(train['wage'], drop_first=True)\n",
    "#     dums_train = pd.get_dummies(train[['education', 'marital-status', 'occupation', 'relationship', 'sex']], drop_first=True)\n",
    "#     dums_test = pd.get_dummies(test[['education', 'marital-status', 'occupation', 'relationship', 'sex']], drop_first=True)\n",
    "#     final_train = train.join(dums_train)\n",
    "#     final_test = test.join(dums_test)\n",
    "#     final_train.drop(columns = ['workclass', 'education', 'marital-status', 'occupation', 'relationship', 'sex', 'native-country'], inplace=True)\n",
    "#     final_test.drop(columns = ['workclass', 'education', 'marital-status', 'occupation', 'relationship', 'sex', 'native-country'], inplace=True)\n",
    "#     return final_train, final_test\n",
    "    "
   ]
  },
  {
   "cell_type": "code",
   "execution_count": 18,
   "metadata": {
    "execution": {
     "iopub.execute_input": "2020-09-01T00:32:22.901099Z",
     "iopub.status.busy": "2020-09-01T00:32:22.900974Z",
     "iopub.status.idle": "2020-09-01T00:32:22.905613Z",
     "shell.execute_reply": "2020-09-01T00:32:22.905278Z",
     "shell.execute_reply.started": "2020-09-01T00:32:22.901084Z"
    }
   },
   "outputs": [
    {
     "data": {
      "text/plain": [
       "0    0.778497\n",
       "1    0.221503\n",
       "Name: wage, dtype: float64"
      ]
     },
     "execution_count": 18,
     "metadata": {},
     "output_type": "execute_result"
    }
   ],
   "source": [
    "# Baseline after removing outliers\n",
    "\n",
    "train['wage'].value_counts(normalize=True)"
   ]
  },
  {
   "cell_type": "code",
   "execution_count": 19,
   "metadata": {
    "execution": {
     "iopub.execute_input": "2020-09-01T00:32:22.906032Z",
     "iopub.status.busy": "2020-09-01T00:32:22.905951Z",
     "iopub.status.idle": "2020-09-01T00:32:22.908119Z",
     "shell.execute_reply": "2020-09-01T00:32:22.907673Z",
     "shell.execute_reply.started": "2020-09-01T00:32:22.906021Z"
    }
   },
   "outputs": [],
   "source": [
    "# train_df, test_df = dummies(train, test)"
   ]
  },
  {
   "cell_type": "code",
   "execution_count": 20,
   "metadata": {
    "execution": {
     "iopub.execute_input": "2020-09-01T00:32:22.909553Z",
     "iopub.status.busy": "2020-09-01T00:32:22.909421Z",
     "iopub.status.idle": "2020-09-01T00:32:22.914698Z",
     "shell.execute_reply": "2020-09-01T00:32:22.914336Z",
     "shell.execute_reply.started": "2020-09-01T00:32:22.909537Z"
    }
   },
   "outputs": [],
   "source": [
    "# train_df.shape"
   ]
  },
  {
   "cell_type": "code",
   "execution_count": 21,
   "metadata": {
    "execution": {
     "iopub.execute_input": "2020-09-01T00:32:22.915532Z",
     "iopub.status.busy": "2020-09-01T00:32:22.915368Z",
     "iopub.status.idle": "2020-09-01T00:32:22.917627Z",
     "shell.execute_reply": "2020-09-01T00:32:22.917218Z",
     "shell.execute_reply.started": "2020-09-01T00:32:22.915511Z"
    }
   },
   "outputs": [],
   "source": [
    "# test_df.shape"
   ]
  },
  {
   "cell_type": "code",
   "execution_count": 22,
   "metadata": {
    "execution": {
     "iopub.execute_input": "2020-09-01T00:32:22.918417Z",
     "iopub.status.busy": "2020-09-01T00:32:22.918208Z",
     "iopub.status.idle": "2020-09-01T00:32:22.920297Z",
     "shell.execute_reply": "2020-09-01T00:32:22.919894Z",
     "shell.execute_reply.started": "2020-09-01T00:32:22.918399Z"
    }
   },
   "outputs": [],
   "source": [
    "# set(train_df.columns) - set(test_df.columns)"
   ]
  },
  {
   "cell_type": "code",
   "execution_count": 23,
   "metadata": {
    "execution": {
     "iopub.execute_input": "2020-09-01T00:32:22.920965Z",
     "iopub.status.busy": "2020-09-01T00:32:22.920840Z",
     "iopub.status.idle": "2020-09-01T00:32:22.922925Z",
     "shell.execute_reply": "2020-09-01T00:32:22.922526Z",
     "shell.execute_reply.started": "2020-09-01T00:32:22.920949Z"
    }
   },
   "outputs": [],
   "source": [
    "# set(test_df.columns) - set(train_df.columns)"
   ]
  },
  {
   "cell_type": "code",
   "execution_count": 24,
   "metadata": {
    "execution": {
     "iopub.execute_input": "2020-09-01T00:32:22.923611Z",
     "iopub.status.busy": "2020-09-01T00:32:22.923486Z",
     "iopub.status.idle": "2020-09-01T00:32:22.925613Z",
     "shell.execute_reply": "2020-09-01T00:32:22.925189Z",
     "shell.execute_reply.started": "2020-09-01T00:32:22.923595Z"
    }
   },
   "outputs": [],
   "source": [
    "# train_df = train_df.drop(columns='native-country_ Holand-Netherlands')"
   ]
  },
  {
   "cell_type": "markdown",
   "metadata": {},
   "source": [
    "# Model with all Parameters"
   ]
  },
  {
   "cell_type": "code",
   "execution_count": 25,
   "metadata": {
    "execution": {
     "iopub.execute_input": "2020-09-01T00:32:22.926289Z",
     "iopub.status.busy": "2020-09-01T00:32:22.926152Z",
     "iopub.status.idle": "2020-09-01T00:32:22.931031Z",
     "shell.execute_reply": "2020-09-01T00:32:22.930669Z",
     "shell.execute_reply.started": "2020-09-01T00:32:22.926273Z"
    }
   },
   "outputs": [],
   "source": [
    "# function that will dummify the categorical columns in each set, and combine them with the original dataframes\n",
    "def dummies_all(train, test):\n",
    "    train['wage'] = pd.get_dummies(train['wage'], drop_first=True)\n",
    "    dums_train = pd.get_dummies(train[['workclass', 'education', 'marital-status', 'occupation', 'relationship', 'sex', 'native-country']], drop_first=True)\n",
    "    dums_test = pd.get_dummies(test[['workclass', 'education', 'marital-status', 'occupation', 'relationship', 'sex', 'native-country']], drop_first=True)\n",
    "    final_train = train.join(dums_train)\n",
    "    final_test = test.join(dums_test)\n",
    "    final_train.drop(columns = ['workclass', 'education', 'marital-status', 'occupation', 'relationship', 'sex', 'native-country'], inplace=True)\n",
    "    final_test.drop(columns = ['workclass', 'education', 'marital-status', 'occupation', 'relationship', 'sex', 'native-country'], inplace=True)\n",
    "    return final_train, final_test\n",
    "    "
   ]
  },
  {
   "cell_type": "code",
   "execution_count": 26,
   "metadata": {
    "execution": {
     "iopub.execute_input": "2020-09-01T00:32:22.931541Z",
     "iopub.status.busy": "2020-09-01T00:32:22.931449Z",
     "iopub.status.idle": "2020-09-01T00:32:22.974168Z",
     "shell.execute_reply": "2020-09-01T00:32:22.973708Z",
     "shell.execute_reply.started": "2020-09-01T00:32:22.931529Z"
    }
   },
   "outputs": [],
   "source": [
    "train_df_all, test_df_all = dummies_all(train, test)"
   ]
  },
  {
   "cell_type": "code",
   "execution_count": 27,
   "metadata": {
    "execution": {
     "iopub.execute_input": "2020-09-01T00:32:22.976075Z",
     "iopub.status.busy": "2020-09-01T00:32:22.975979Z",
     "iopub.status.idle": "2020-09-01T00:32:22.978506Z",
     "shell.execute_reply": "2020-09-01T00:32:22.978140Z",
     "shell.execute_reply.started": "2020-09-01T00:32:22.976064Z"
    }
   },
   "outputs": [
    {
     "name": "stdout",
     "output_type": "stream",
     "text": [
      "Train_df_all dataframe shape is (30108, 96)\n",
      "Test_df_all dataframe shape is (16281, 95)\n"
     ]
    }
   ],
   "source": [
    "# Shape of data after dummifying features\n",
    "print(f'Train_df_all dataframe shape is {train_df_all.shape}')\n",
    "print(f'Test_df_all dataframe shape is {test_df_all.shape}')\n"
   ]
  },
  {
   "cell_type": "code",
   "execution_count": 28,
   "metadata": {
    "execution": {
     "iopub.execute_input": "2020-09-01T00:32:22.979271Z",
     "iopub.status.busy": "2020-09-01T00:32:22.979173Z",
     "iopub.status.idle": "2020-09-01T00:32:22.982036Z",
     "shell.execute_reply": "2020-09-01T00:32:22.981639Z",
     "shell.execute_reply.started": "2020-09-01T00:32:22.979260Z"
    }
   },
   "outputs": [
    {
     "data": {
      "text/plain": [
       "{'wage'}"
      ]
     },
     "execution_count": 28,
     "metadata": {},
     "output_type": "execute_result"
    }
   ],
   "source": [
    "# Check for differences\n",
    "\n",
    "set(train_df_all.columns) - set(test_df_all.columns)"
   ]
  },
  {
   "cell_type": "code",
   "execution_count": 29,
   "metadata": {
    "execution": {
     "iopub.execute_input": "2020-09-01T00:32:22.982721Z",
     "iopub.status.busy": "2020-09-01T00:32:22.982595Z",
     "iopub.status.idle": "2020-09-01T00:32:22.985626Z",
     "shell.execute_reply": "2020-09-01T00:32:22.985274Z",
     "shell.execute_reply.started": "2020-09-01T00:32:22.982705Z"
    }
   },
   "outputs": [
    {
     "data": {
      "text/plain": [
       "set()"
      ]
     },
     "execution_count": 29,
     "metadata": {},
     "output_type": "execute_result"
    }
   ],
   "source": [
    "# Check for differences\n",
    "\n",
    "set(test_df_all.columns) - set(train_df_all.columns)"
   ]
  },
  {
   "cell_type": "code",
   "execution_count": 30,
   "metadata": {
    "execution": {
     "iopub.execute_input": "2020-09-01T00:32:22.986119Z",
     "iopub.status.busy": "2020-09-01T00:32:22.986035Z",
     "iopub.status.idle": "2020-09-01T00:32:22.989711Z",
     "shell.execute_reply": "2020-09-01T00:32:22.989180Z",
     "shell.execute_reply.started": "2020-09-01T00:32:22.986108Z"
    }
   },
   "outputs": [],
   "source": [
    "X_all = train_df_all.drop(columns=['wage'])\n",
    "y_all = train_df_all['wage']"
   ]
  },
  {
   "cell_type": "code",
   "execution_count": 31,
   "metadata": {
    "execution": {
     "iopub.execute_input": "2020-09-01T00:32:22.990174Z",
     "iopub.status.busy": "2020-09-01T00:32:22.990091Z",
     "iopub.status.idle": "2020-09-01T00:32:22.992603Z",
     "shell.execute_reply": "2020-09-01T00:32:22.992176Z",
     "shell.execute_reply.started": "2020-09-01T00:32:22.990163Z"
    }
   },
   "outputs": [
    {
     "name": "stdout",
     "output_type": "stream",
     "text": [
      "(30108, 95)\n",
      "(30108,)\n"
     ]
    }
   ],
   "source": [
    "print(X_all.shape)\n",
    "print(y_all.shape)"
   ]
  },
  {
   "cell_type": "code",
   "execution_count": 32,
   "metadata": {
    "execution": {
     "iopub.execute_input": "2020-09-01T00:32:22.993291Z",
     "iopub.status.busy": "2020-09-01T00:32:22.993151Z",
     "iopub.status.idle": "2020-09-01T00:32:23.043678Z",
     "shell.execute_reply": "2020-09-01T00:32:23.043210Z",
     "shell.execute_reply.started": "2020-09-01T00:32:22.993274Z"
    }
   },
   "outputs": [],
   "source": [
    "# Instantiate Standard Scaler\n",
    "\n",
    "sc = StandardScaler()\n",
    "\n",
    "# Create train/test split on all features training dataframe\n",
    "\n",
    "X_train_all, X_test_all, y_train_all, y_test_all = train_test_split(X_all, y_all, stratify=y_all, random_state=42)\n",
    "\n",
    "# Fiting to the training data, and transforming training and testing data\n",
    "\n",
    "X_train_sc_all = sc.fit_transform(X_train_all)\n",
    "X_test_sc_all = sc.transform(X_test_all)"
   ]
  },
  {
   "cell_type": "code",
   "execution_count": 33,
   "metadata": {
    "execution": {
     "iopub.execute_input": "2020-09-01T00:32:23.044294Z",
     "iopub.status.busy": "2020-09-01T00:32:23.044196Z",
     "iopub.status.idle": "2020-09-01T00:32:24.628237Z",
     "shell.execute_reply": "2020-09-01T00:32:24.627877Z",
     "shell.execute_reply.started": "2020-09-01T00:32:23.044282Z"
    }
   },
   "outputs": [
    {
     "name": "stderr",
     "output_type": "stream",
     "text": [
      "[Parallel(n_jobs=1)]: Using backend SequentialBackend with 1 concurrent workers.\n",
      "[Parallel(n_jobs=1)]: Done  37 out of  37 | elapsed:    0.3s finished\n"
     ]
    }
   ],
   "source": [
    "#Instantiate Random Forest\n",
    "\n",
    "rf = RandomForestClassifier()\n",
    "\n",
    "# Setting our parameters for the random forest to be used in the gridsearch, \n",
    "# the below parameters represent the best after many iterations\n",
    "\n",
    "rf_params_all = {\n",
    "    'max_depth' : [9],\n",
    "    'min_samples_leaf' : [3],\n",
    "    'min_samples_split' : [6],\n",
    "    'n_estimators' : [37],\n",
    "    'ccp_alpha' : [1, .1, .01, .001, .0001],\n",
    "#     'gamma' : .\n",
    "    'verbose' : [1]\n",
    "}\n",
    "\n",
    "# Instantiate the Gridsearch \n",
    "\n",
    "gs_all = GridSearchCV(rf, param_grid=rf_params_all, cv=5, n_jobs=-1)\n",
    "\n",
    "# fit the gridsearch to the all features training data \n",
    "\n",
    "gs_all.fit(X_train_sc_all, y_train_all);"
   ]
  },
  {
   "cell_type": "code",
   "execution_count": 34,
   "metadata": {
    "execution": {
     "iopub.execute_input": "2020-09-01T00:32:24.628870Z",
     "iopub.status.busy": "2020-09-01T00:32:24.628774Z",
     "iopub.status.idle": "2020-09-01T00:32:24.695715Z",
     "shell.execute_reply": "2020-09-01T00:32:24.695246Z",
     "shell.execute_reply.started": "2020-09-01T00:32:24.628858Z"
    }
   },
   "outputs": [
    {
     "name": "stdout",
     "output_type": "stream",
     "text": [
      "Tuned Model All Features Train Score: 85.6%\n",
      "Tuned Model All Features Test Score: 85.63%\n",
      "Tuned Modeal All Features Gridsearch Best Parameters are {'ccp_alpha': 0.0001, 'max_depth': 9, 'min_samples_leaf': 3, 'min_samples_split': 6, 'n_estimators': 37, 'verbose': 1}\n"
     ]
    },
    {
     "name": "stderr",
     "output_type": "stream",
     "text": [
      "[Parallel(n_jobs=1)]: Using backend SequentialBackend with 1 concurrent workers.\n",
      "[Parallel(n_jobs=1)]: Done  37 out of  37 | elapsed:    0.0s finished\n",
      "[Parallel(n_jobs=1)]: Using backend SequentialBackend with 1 concurrent workers.\n",
      "[Parallel(n_jobs=1)]: Done  37 out of  37 | elapsed:    0.0s finished\n"
     ]
    }
   ],
   "source": [
    "print(f'Tuned Model All Features Train Score: {round(gs_all.score(X_train_sc_all, y_train_all)*100, 2)}%')\n",
    "print(f'Tuned Model All Features Test Score: {round(gs_all.score(X_test_sc_all, y_test_all)*100, 2)}%')\n",
    "print(f'Tuned Modeal All Features Gridsearch Best Parameters are {gs_all.best_params_}')"
   ]
  },
  {
   "cell_type": "markdown",
   "metadata": {},
   "source": [
    "# Model with workclass and native country removed"
   ]
  },
  {
   "cell_type": "code",
   "execution_count": null,
   "metadata": {},
   "outputs": [],
   "source": []
  },
  {
   "cell_type": "code",
   "execution_count": 35,
   "metadata": {
    "execution": {
     "iopub.execute_input": "2020-09-01T00:32:24.696347Z",
     "iopub.status.busy": "2020-09-01T00:32:24.696250Z",
     "iopub.status.idle": "2020-09-01T00:32:24.700952Z",
     "shell.execute_reply": "2020-09-01T00:32:24.700582Z",
     "shell.execute_reply.started": "2020-09-01T00:32:24.696335Z"
    }
   },
   "outputs": [],
   "source": [
    "# Has all the features to dummify except for work class and native country\n",
    "\n",
    "def dummies(train, test):\n",
    "    train['wage'] = pd.get_dummies(train['wage'], drop_first=True)\n",
    "    dums_train = pd.get_dummies(train[['education', 'marital-status', 'occupation', 'relationship', 'sex']], drop_first=True)\n",
    "    dums_test = pd.get_dummies(test[['education', 'marital-status', 'occupation', 'relationship', 'sex']], drop_first=True)\n",
    "    final_train = train.join(dums_train)\n",
    "    final_test = test.join(dums_test)\n",
    "    final_train.drop(columns = ['workclass', 'education', 'marital-status', 'occupation', 'relationship', 'sex', 'native-country'], inplace=True)\n",
    "    final_test.drop(columns = ['workclass', 'education', 'marital-status', 'occupation', 'relationship', 'sex', 'native-country'], inplace=True)\n",
    "    return final_train, final_test\n",
    "    "
   ]
  },
  {
   "cell_type": "code",
   "execution_count": 36,
   "metadata": {
    "execution": {
     "iopub.execute_input": "2020-09-01T00:32:24.701512Z",
     "iopub.status.busy": "2020-09-01T00:32:24.701418Z",
     "iopub.status.idle": "2020-09-01T00:32:24.731206Z",
     "shell.execute_reply": "2020-09-01T00:32:24.730734Z",
     "shell.execute_reply.started": "2020-09-01T00:32:24.701501Z"
    }
   },
   "outputs": [],
   "source": [
    "train_df, test_df = dummies(train, test)"
   ]
  },
  {
   "cell_type": "code",
   "execution_count": 37,
   "metadata": {
    "execution": {
     "iopub.execute_input": "2020-09-01T00:32:24.731850Z",
     "iopub.status.busy": "2020-09-01T00:32:24.731755Z",
     "iopub.status.idle": "2020-09-01T00:32:24.734671Z",
     "shell.execute_reply": "2020-09-01T00:32:24.734284Z",
     "shell.execute_reply.started": "2020-09-01T00:32:24.731837Z"
    }
   },
   "outputs": [
    {
     "data": {
      "text/plain": [
       "(30108, 48)"
      ]
     },
     "execution_count": 37,
     "metadata": {},
     "output_type": "execute_result"
    }
   ],
   "source": [
    "train_df.shape"
   ]
  },
  {
   "cell_type": "code",
   "execution_count": 38,
   "metadata": {
    "execution": {
     "iopub.execute_input": "2020-09-01T00:32:24.735109Z",
     "iopub.status.busy": "2020-09-01T00:32:24.735025Z",
     "iopub.status.idle": "2020-09-01T00:32:24.737603Z",
     "shell.execute_reply": "2020-09-01T00:32:24.737199Z",
     "shell.execute_reply.started": "2020-09-01T00:32:24.735098Z"
    }
   },
   "outputs": [
    {
     "data": {
      "text/plain": [
       "(16281, 47)"
      ]
     },
     "execution_count": 38,
     "metadata": {},
     "output_type": "execute_result"
    }
   ],
   "source": [
    "test_df.shape"
   ]
  },
  {
   "cell_type": "code",
   "execution_count": 39,
   "metadata": {
    "execution": {
     "iopub.execute_input": "2020-09-01T00:32:24.738410Z",
     "iopub.status.busy": "2020-09-01T00:32:24.738188Z",
     "iopub.status.idle": "2020-09-01T00:32:24.741292Z",
     "shell.execute_reply": "2020-09-01T00:32:24.740889Z",
     "shell.execute_reply.started": "2020-09-01T00:32:24.738392Z"
    }
   },
   "outputs": [
    {
     "data": {
      "text/plain": [
       "{'wage'}"
      ]
     },
     "execution_count": 39,
     "metadata": {},
     "output_type": "execute_result"
    }
   ],
   "source": [
    "# Check for differences\n",
    "\n",
    "set(train_df.columns) - set(test_df.columns)"
   ]
  },
  {
   "cell_type": "code",
   "execution_count": 40,
   "metadata": {
    "execution": {
     "iopub.execute_input": "2020-09-01T00:32:24.742072Z",
     "iopub.status.busy": "2020-09-01T00:32:24.741944Z",
     "iopub.status.idle": "2020-09-01T00:32:24.744761Z",
     "shell.execute_reply": "2020-09-01T00:32:24.744433Z",
     "shell.execute_reply.started": "2020-09-01T00:32:24.742056Z"
    }
   },
   "outputs": [
    {
     "data": {
      "text/plain": [
       "set()"
      ]
     },
     "execution_count": 40,
     "metadata": {},
     "output_type": "execute_result"
    }
   ],
   "source": [
    "# Check for differences\n",
    "\n",
    "set(test_df.columns) - set(train_df.columns)"
   ]
  },
  {
   "cell_type": "code",
   "execution_count": 41,
   "metadata": {
    "execution": {
     "iopub.execute_input": "2020-09-01T00:32:24.745296Z",
     "iopub.status.busy": "2020-09-01T00:32:24.745198Z",
     "iopub.status.idle": "2020-09-01T00:32:24.748397Z",
     "shell.execute_reply": "2020-09-01T00:32:24.747927Z",
     "shell.execute_reply.started": "2020-09-01T00:32:24.745285Z"
    }
   },
   "outputs": [],
   "source": [
    "X = train_df.drop(columns=['wage'])\n",
    "y = train_df['wage']"
   ]
  },
  {
   "cell_type": "code",
   "execution_count": 42,
   "metadata": {
    "execution": {
     "iopub.execute_input": "2020-09-01T00:32:24.749231Z",
     "iopub.status.busy": "2020-09-01T00:32:24.749027Z",
     "iopub.status.idle": "2020-09-01T00:32:24.751915Z",
     "shell.execute_reply": "2020-09-01T00:32:24.751540Z",
     "shell.execute_reply.started": "2020-09-01T00:32:24.749213Z"
    }
   },
   "outputs": [
    {
     "name": "stdout",
     "output_type": "stream",
     "text": [
      "(30108, 47)\n",
      "(30108,)\n"
     ]
    }
   ],
   "source": [
    "print(X.shape)\n",
    "print(y.shape)"
   ]
  },
  {
   "cell_type": "code",
   "execution_count": 43,
   "metadata": {
    "execution": {
     "iopub.execute_input": "2020-09-01T00:32:24.752423Z",
     "iopub.status.busy": "2020-09-01T00:32:24.752337Z",
     "iopub.status.idle": "2020-09-01T00:32:24.781681Z",
     "shell.execute_reply": "2020-09-01T00:32:24.781221Z",
     "shell.execute_reply.started": "2020-09-01T00:32:24.752413Z"
    }
   },
   "outputs": [],
   "source": [
    "# Create train/test split on all features training dataframe\n",
    "\n",
    "X_train, X_test, y_train, y_test = train_test_split(X, y, stratify=y, random_state=42)\n",
    "\n",
    "# fit the gridsearch to the all features training data \n",
    "\n",
    "X_train_sc = sc.fit_transform(X_train)\n",
    "X_test_sc = sc.transform(X_test)"
   ]
  },
  {
   "cell_type": "code",
   "execution_count": 44,
   "metadata": {
    "execution": {
     "iopub.execute_input": "2020-09-01T00:32:24.782307Z",
     "iopub.status.busy": "2020-09-01T00:32:24.782199Z",
     "iopub.status.idle": "2020-09-01T00:32:25.986653Z",
     "shell.execute_reply": "2020-09-01T00:32:25.986278Z",
     "shell.execute_reply.started": "2020-09-01T00:32:24.782295Z"
    }
   },
   "outputs": [
    {
     "name": "stderr",
     "output_type": "stream",
     "text": [
      "[Parallel(n_jobs=1)]: Using backend SequentialBackend with 1 concurrent workers.\n",
      "[Parallel(n_jobs=1)]: Done  37 out of  37 | elapsed:    0.3s finished\n"
     ]
    },
    {
     "data": {
      "text/plain": [
       "GridSearchCV(cv=5, estimator=RandomForestClassifier(), n_jobs=-1,\n",
       "             param_grid={'ccp_alpha': [1, 0.1, 0.01, 0.001, 0.0001],\n",
       "                         'max_depth': [9], 'min_samples_leaf': [3],\n",
       "                         'min_samples_split': [6], 'n_estimators': [37],\n",
       "                         'verbose': [1]})"
      ]
     },
     "execution_count": 44,
     "metadata": {},
     "output_type": "execute_result"
    }
   ],
   "source": [
    "# Setting our parameters for the random forest to be used in the gridsearch, \n",
    "# the below parameters represent the best after many iterations\n",
    "\n",
    "rf_params = {\n",
    "    'max_depth' : [9],\n",
    "    'min_samples_leaf' : [3],\n",
    "    'min_samples_split' : [6],\n",
    "    'n_estimators' : [37],\n",
    "    'ccp_alpha' : [1, .1, .01, .001, .0001],\n",
    "#     'gamma' : .\n",
    "    'verbose' : [1]\n",
    "}\n",
    "\n",
    "# Instantiate the Gridsearch \n",
    "\n",
    "gs = GridSearchCV(rf, param_grid=rf_params, cv=5, n_jobs=-1)\n",
    "\n",
    "# fit the gridsearch to the all features training data \n",
    "\n",
    "gs.fit(X_train_sc, y_train)\n"
   ]
  },
  {
   "cell_type": "code",
   "execution_count": 45,
   "metadata": {
    "execution": {
     "iopub.execute_input": "2020-09-01T00:32:25.987266Z",
     "iopub.status.busy": "2020-09-01T00:32:25.987167Z",
     "iopub.status.idle": "2020-09-01T00:32:26.052209Z",
     "shell.execute_reply": "2020-09-01T00:32:26.051764Z",
     "shell.execute_reply.started": "2020-09-01T00:32:25.987254Z"
    }
   },
   "outputs": [
    {
     "name": "stdout",
     "output_type": "stream",
     "text": [
      "Tuned Model Limited Features Train Score: 85.89%\n",
      "Tuned Model Limited Features Test Score: 85.72%\n",
      "Tuned Modeal All Features Gridsearch Best Parameters are {'ccp_alpha': 0.0001, 'max_depth': 9, 'min_samples_leaf': 3, 'min_samples_split': 6, 'n_estimators': 37, 'verbose': 1}\n"
     ]
    },
    {
     "name": "stderr",
     "output_type": "stream",
     "text": [
      "[Parallel(n_jobs=1)]: Using backend SequentialBackend with 1 concurrent workers.\n",
      "[Parallel(n_jobs=1)]: Done  37 out of  37 | elapsed:    0.0s finished\n",
      "[Parallel(n_jobs=1)]: Using backend SequentialBackend with 1 concurrent workers.\n",
      "[Parallel(n_jobs=1)]: Done  37 out of  37 | elapsed:    0.0s finished\n"
     ]
    }
   ],
   "source": [
    "print(f'Tuned Model Limited Features Train Score: {round(gs.score(X_train_sc, y_train)*100, 2)}%')\n",
    "print(f'Tuned Model Limited Features Test Score: {round(gs.score(X_test_sc, y_test)*100, 2)}%')\n",
    "print(f'Tuned Modeal All Features Gridsearch Best Parameters are {gs.best_params_}')"
   ]
  },
  {
   "cell_type": "code",
   "execution_count": 46,
   "metadata": {
    "execution": {
     "iopub.execute_input": "2020-09-01T00:32:26.052834Z",
     "iopub.status.busy": "2020-09-01T00:32:26.052742Z",
     "iopub.status.idle": "2020-09-01T00:32:26.054876Z",
     "shell.execute_reply": "2020-09-01T00:32:26.054358Z",
     "shell.execute_reply.started": "2020-09-01T00:32:26.052823Z"
    }
   },
   "outputs": [],
   "source": [
    "# We found that workclass and native_country has no impact on the Score"
   ]
  },
  {
   "cell_type": "code",
   "execution_count": 47,
   "metadata": {
    "execution": {
     "iopub.execute_input": "2020-09-01T00:32:26.055923Z",
     "iopub.status.busy": "2020-09-01T00:32:26.055675Z",
     "iopub.status.idle": "2020-09-01T00:33:05.496254Z",
     "shell.execute_reply": "2020-09-01T00:33:05.495787Z",
     "shell.execute_reply.started": "2020-09-01T00:32:26.055902Z"
    }
   },
   "outputs": [
    {
     "name": "stderr",
     "output_type": "stream",
     "text": [
      "[Parallel(n_jobs=1)]: Using backend SequentialBackend with 1 concurrent workers.\n",
      "[Parallel(n_jobs=1)]: Done  34 out of  34 | elapsed:    0.4s finished\n"
     ]
    },
    {
     "data": {
      "text/plain": [
       "GridSearchCV(cv=5, estimator=RandomForestClassifier(), n_jobs=-1,\n",
       "             param_grid={'ccp_alpha': [1, 0.1, 0.01, 0.001, 0.0001],\n",
       "                         'max_depth': [7, 9, 11, 14],\n",
       "                         'min_samples_leaf': [2, 3, 4, 5],\n",
       "                         'min_samples_split': [4, 6, 8, 10],\n",
       "                         'n_estimators': [34, 37, 40], 'verbose': [1]})"
      ]
     },
     "execution_count": 47,
     "metadata": {},
     "output_type": "execute_result"
    }
   ],
   "source": [
    "# Now we will get the best parameters on this new model with gridserach\n",
    "# After many attempts, these parameters gave the best fit\n",
    "rf_params = {\n",
    "    'max_depth' : [7, 9, 11, 14],\n",
    "    'min_samples_leaf' : [2, 3, 4, 5],\n",
    "    'min_samples_split' : [4, 6, 8, 10],\n",
    "    'n_estimators' : [34, 37, 40],\n",
    "    'ccp_alpha' : [1, .1, .01, .001, .0001],\n",
    "#     'gamma' : .\n",
    "    'verbose' : [1]\n",
    "}\n",
    "gs = GridSearchCV(rf, param_grid=rf_params, cv=5, n_jobs=-1)\n",
    "gs.fit(X_train_sc, y_train)\n"
   ]
  },
  {
   "cell_type": "code",
   "execution_count": 48,
   "metadata": {
    "execution": {
     "iopub.execute_input": "2020-09-01T00:33:05.497068Z",
     "iopub.status.busy": "2020-09-01T00:33:05.496930Z",
     "iopub.status.idle": "2020-09-01T00:33:05.500081Z",
     "shell.execute_reply": "2020-09-01T00:33:05.499721Z",
     "shell.execute_reply.started": "2020-09-01T00:33:05.497051Z"
    }
   },
   "outputs": [
    {
     "data": {
      "text/plain": [
       "{'ccp_alpha': 0.0001,\n",
       " 'max_depth': 14,\n",
       " 'min_samples_leaf': 2,\n",
       " 'min_samples_split': 6,\n",
       " 'n_estimators': 34,\n",
       " 'verbose': 1}"
      ]
     },
     "execution_count": 48,
     "metadata": {},
     "output_type": "execute_result"
    }
   ],
   "source": [
    "gs.best_params_"
   ]
  },
  {
   "cell_type": "code",
   "execution_count": 49,
   "metadata": {
    "execution": {
     "iopub.execute_input": "2020-09-01T00:33:05.500647Z",
     "iopub.status.busy": "2020-09-01T00:33:05.500557Z",
     "iopub.status.idle": "2020-09-01T00:33:05.586727Z",
     "shell.execute_reply": "2020-09-01T00:33:05.586241Z",
     "shell.execute_reply.started": "2020-09-01T00:33:05.500635Z"
    }
   },
   "outputs": [
    {
     "name": "stdout",
     "output_type": "stream",
     "text": [
      "Tuned Model Limited Features Train Score: 86.81%\n",
      "Tuned Model Limited Features Test Score: 85.96%\n",
      "Tuned Model Limited Features Gridsearch Best Parameters are {'ccp_alpha': 0.0001, 'max_depth': 14, 'min_samples_leaf': 2, 'min_samples_split': 6, 'n_estimators': 34, 'verbose': 1}\n"
     ]
    },
    {
     "name": "stderr",
     "output_type": "stream",
     "text": [
      "[Parallel(n_jobs=1)]: Using backend SequentialBackend with 1 concurrent workers.\n",
      "[Parallel(n_jobs=1)]: Done  34 out of  34 | elapsed:    0.1s finished\n",
      "[Parallel(n_jobs=1)]: Using backend SequentialBackend with 1 concurrent workers.\n",
      "[Parallel(n_jobs=1)]: Done  34 out of  34 | elapsed:    0.0s finished\n"
     ]
    }
   ],
   "source": [
    "print(f'Tuned Model Limited Features Train Score: {round(gs.score(X_train_sc, y_train)*100, 2)}%')\n",
    "print(f'Tuned Model Limited Features Test Score: {round(gs.score(X_test_sc, y_test)*100, 2)}%')\n",
    "print(f'Tuned Model Limited Features Gridsearch Best Parameters are {gs.best_params_}')"
   ]
  },
  {
   "cell_type": "markdown",
   "metadata": {},
   "source": [
    "# Visualizations"
   ]
  },
  {
   "cell_type": "code",
   "execution_count": 50,
   "metadata": {
    "execution": {
     "iopub.execute_input": "2020-09-01T00:33:05.587371Z",
     "iopub.status.busy": "2020-09-01T00:33:05.587276Z",
     "iopub.status.idle": "2020-09-01T00:33:05.614564Z",
     "shell.execute_reply": "2020-09-01T00:33:05.614080Z",
     "shell.execute_reply.started": "2020-09-01T00:33:05.587359Z"
    }
   },
   "outputs": [
    {
     "name": "stderr",
     "output_type": "stream",
     "text": [
      "[Parallel(n_jobs=1)]: Using backend SequentialBackend with 1 concurrent workers.\n",
      "[Parallel(n_jobs=1)]: Done  34 out of  34 | elapsed:    0.0s finished\n"
     ]
    }
   ],
   "source": [
    "# Get predictions for Simple Logisitic Regression\n",
    "\n",
    "preds = gs.predict(X_test_sc)\n",
    "\n",
    "# Confusion matrix values\n",
    "\n",
    "TN, FP, FN, TP = confusion_matrix(y_test, preds).ravel()"
   ]
  },
  {
   "cell_type": "code",
   "execution_count": 51,
   "metadata": {
    "execution": {
     "iopub.execute_input": "2020-09-01T00:33:05.615205Z",
     "iopub.status.busy": "2020-09-01T00:33:05.615106Z",
     "iopub.status.idle": "2020-09-01T00:33:05.745409Z",
     "shell.execute_reply": "2020-09-01T00:33:05.744999Z",
     "shell.execute_reply.started": "2020-09-01T00:33:05.615192Z"
    }
   },
   "outputs": [
    {
     "name": "stderr",
     "output_type": "stream",
     "text": [
      "[Parallel(n_jobs=1)]: Using backend SequentialBackend with 1 concurrent workers.\n",
      "[Parallel(n_jobs=1)]: Done  34 out of  34 | elapsed:    0.0s finished\n"
     ]
    },
    {
     "data": {
      "image/png": "[encoded data removed]",
      "text/plain": [
       "<Figure size 432x288 with 2 Axes>"
      ]
     },
     "metadata": {
      "needs_background": "light"
     },
     "output_type": "display_data"
    }
   ],
   "source": [
    "plot_confusion_matrix(gs, X_test_sc, y_test, cmap='Blues', normalize='true');\n",
    "plt.title('Confusion Matrix for Tuned Features', size = 15);"
   ]
  },
  {
   "cell_type": "code",
   "execution_count": 52,
   "metadata": {
    "execution": {
     "iopub.execute_input": "2020-09-01T00:33:05.746439Z",
     "iopub.status.busy": "2020-09-01T00:33:05.746233Z",
     "iopub.status.idle": "2020-09-01T00:33:05.751360Z",
     "shell.execute_reply": "2020-09-01T00:33:05.750931Z",
     "shell.execute_reply.started": "2020-09-01T00:33:05.746410Z"
    }
   },
   "outputs": [
    {
     "name": "stdout",
     "output_type": "stream",
     "text": [
      "The Accuracy score is: 86.0%\n",
      "The Missclassification rate is: 14.04%\n",
      "The Sensitivity is: 52.800000000000004%\n",
      "The Specificity is: 95.39999999999999%\n",
      "The Precision is 76.48%\n"
     ]
    }
   ],
   "source": [
    "# Accuracy:  # What percentage of observation did I correctly predict?\n",
    "\n",
    "print(f\"The Accuracy score is: {round((TP + TN) / (TP + TN + FP + FN), 3) * 100}%\")\n",
    "# Misclassification: # What percentage of observation did I incorrectly predict?\n",
    "\n",
    "print(f\"The Missclassification rate is: {round((FP + FN) / (TP + TN + FP + FN), 4) * 100}%\")\n",
    "# Sensitivity:  # Among Positives, how many did I get correctly? Same as recall\n",
    "\n",
    "print(f\"The Sensitivity is: {round(TP / (TP + FN), 3) * 100}%\")\n",
    "\n",
    "# Specificity:  # Among Negatives, how many did I get correctly?\n",
    "print(f\"The Specificity is: {round(TN / (TN + FP), 3) * 100}%\")\n",
    "\n",
    "# Precision: # Among Positives, how many did i Predict correct\n",
    "\n",
    "print(f\"The Precision is {round(TP / (TP + FP), 4) * 100}%\")"
   ]
  },
  {
   "cell_type": "markdown",
   "metadata": {},
   "source": [
    "# Predictions"
   ]
  },
  {
   "cell_type": "code",
   "execution_count": 53,
   "metadata": {
    "execution": {
     "iopub.execute_input": "2020-09-01T00:33:05.752072Z",
     "iopub.status.busy": "2020-09-01T00:33:05.751941Z",
     "iopub.status.idle": "2020-09-01T00:33:05.754275Z",
     "shell.execute_reply": "2020-09-01T00:33:05.753786Z",
     "shell.execute_reply.started": "2020-09-01T00:33:05.752055Z"
    }
   },
   "outputs": [],
   "source": [
    "## UNCOMMENT THE BELOW LINES TO MAKE NEW CSV FOR PREDICTIONS"
   ]
  },
  {
   "cell_type": "code",
   "execution_count": 54,
   "metadata": {
    "execution": {
     "iopub.execute_input": "2020-09-01T00:33:05.755235Z",
     "iopub.status.busy": "2020-09-01T00:33:05.755001Z",
     "iopub.status.idle": "2020-09-01T00:33:05.757098Z",
     "shell.execute_reply": "2020-09-01T00:33:05.756774Z",
     "shell.execute_reply.started": "2020-09-01T00:33:05.755214Z"
    }
   },
   "outputs": [],
   "source": [
    "## Scale the testing data\n",
    "# s_test = StandardScaler()\n",
    "# scaled_test = s_test.fit_transform(test_df)"
   ]
  },
  {
   "cell_type": "code",
   "execution_count": 55,
   "metadata": {
    "execution": {
     "iopub.execute_input": "2020-09-01T00:33:05.757575Z",
     "iopub.status.busy": "2020-09-01T00:33:05.757492Z",
     "iopub.status.idle": "2020-09-01T00:33:05.759314Z",
     "shell.execute_reply": "2020-09-01T00:33:05.758987Z",
     "shell.execute_reply.started": "2020-09-01T00:33:05.757564Z"
    }
   },
   "outputs": [],
   "source": [
    "# y_preds = gs.predict(scaled_test)"
   ]
  },
  {
   "cell_type": "code",
   "execution_count": 56,
   "metadata": {
    "execution": {
     "iopub.execute_input": "2020-09-01T00:33:05.759984Z",
     "iopub.status.busy": "2020-09-01T00:33:05.759863Z",
     "iopub.status.idle": "2020-09-01T00:33:05.761864Z",
     "shell.execute_reply": "2020-09-01T00:33:05.761480Z",
     "shell.execute_reply.started": "2020-09-01T00:33:05.759969Z"
    }
   },
   "outputs": [],
   "source": [
    "# wage_predictions = pd.DataFrame({'wage': y_preds})"
   ]
  },
  {
   "cell_type": "code",
   "execution_count": 57,
   "metadata": {
    "execution": {
     "iopub.execute_input": "2020-09-01T00:33:05.762540Z",
     "iopub.status.busy": "2020-09-01T00:33:05.762415Z",
     "iopub.status.idle": "2020-09-01T00:33:05.764441Z",
     "shell.execute_reply": "2020-09-01T00:33:05.764036Z",
     "shell.execute_reply.started": "2020-09-01T00:33:05.762525Z"
    }
   },
   "outputs": [],
   "source": [
    "# wage_predictions.to_csv('./data/wage_predictions.csv', index=False)"
   ]
  },
  {
   "cell_type": "code",
   "execution_count": 58,
   "metadata": {
    "execution": {
     "iopub.execute_input": "2020-09-01T00:33:05.765098Z",
     "iopub.status.busy": "2020-09-01T00:33:05.764979Z",
     "iopub.status.idle": "2020-09-01T00:33:05.766970Z",
     "shell.execute_reply": "2020-09-01T00:33:05.766598Z",
     "shell.execute_reply.started": "2020-09-01T00:33:05.765083Z"
    }
   },
   "outputs": [],
   "source": [
    "# wage_predictions"
   ]
  },
  {
   "cell_type": "code",
   "execution_count": 59,
   "metadata": {
    "execution": {
     "iopub.execute_input": "2020-09-01T00:33:05.767631Z",
     "iopub.status.busy": "2020-09-01T00:33:05.767511Z",
     "iopub.status.idle": "2020-09-01T00:33:05.769526Z",
     "shell.execute_reply": "2020-09-01T00:33:05.769143Z",
     "shell.execute_reply.started": "2020-09-01T00:33:05.767616Z"
    }
   },
   "outputs": [],
   "source": [
    "# test.shape"
   ]
  },
  {
   "cell_type": "code",
   "execution_count": null,
   "metadata": {},
   "outputs": [],
   "source": []
  }
 ],
 "metadata": {
  "kernelspec": {
   "display_name": "Python 3",
   "language": "python",
   "name": "python3"
  },
  "language_info": {
   "codemirror_mode": {
    "name": "ipython",
    "version": 3
   },
   "file_extension": ".py",
   "mimetype": "text/x-python",
   "name": "python",
   "nbconvert_exporter": "python",
   "pygments_lexer": "ipython3",
   "version": "3.8.2"
  }
 },
 "nbformat": 4,
 "nbformat_minor": 4
}
