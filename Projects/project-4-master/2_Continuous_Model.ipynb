{
 "cells": [
  {
   "cell_type": "markdown",
   "metadata": {},
   "source": [
    "# **Continuous Values Model**\n",
    "\n",
    "In this notebook we will create a dataframe which only includes continuous numeric values. We will then create a model on only these values."
   ]
  },
  {
   "cell_type": "code",
   "execution_count": 1,
   "metadata": {
    "execution": {
     "iopub.execute_input": "2020-08-31T18:45:48.400689Z",
     "iopub.status.busy": "2020-08-31T18:45:48.400560Z",
     "iopub.status.idle": "2020-08-31T18:45:48.855684Z",
     "shell.execute_reply": "2020-08-31T18:45:48.855272Z",
     "shell.execute_reply.started": "2020-08-31T18:45:48.400673Z"
    }
   },
   "outputs": [],
   "source": [
    "import pandas as pd\n",
    "import numpy as np\n",
    "import matplotlib.pyplot as plt\n",
    "import seaborn as sns\n",
    "from sklearn.model_selection import train_test_split, GridSearchCV, cross_val_score\n",
    "from sklearn.ensemble import RandomForestClassifier\n",
    "from sklearn.metrics import confusion_matrix, mean_squared_error, f1_score, plot_confusion_matrix\n",
    "from sklearn.preprocessing import StandardScaler, PolynomialFeatures\n",
    "from sklearn.pipeline import Pipeline\n",
    "\n",
    "pd.set_option('display.max_rows', 1000)\n",
    "pd.set_option('display.max_columns', 500)\n",
    "pd.set_option('display.width', 1000)"
   ]
  },
  {
   "cell_type": "code",
   "execution_count": 2,
   "metadata": {
    "execution": {
     "iopub.execute_input": "2020-08-31T18:45:48.856361Z",
     "iopub.status.busy": "2020-08-31T18:45:48.856228Z",
     "iopub.status.idle": "2020-08-31T18:45:48.896409Z",
     "shell.execute_reply": "2020-08-31T18:45:48.895909Z",
     "shell.execute_reply.started": "2020-08-31T18:45:48.856343Z"
    }
   },
   "outputs": [],
   "source": [
    "train = pd.read_csv('./data/large_train_sample.csv')\n",
    "test = pd.read_csv('./data/test_data.csv')"
   ]
  },
  {
   "cell_type": "code",
   "execution_count": 3,
   "metadata": {
    "execution": {
     "iopub.execute_input": "2020-08-31T18:45:48.897722Z",
     "iopub.status.busy": "2020-08-31T18:45:48.897551Z",
     "iopub.status.idle": "2020-08-31T18:45:48.900666Z",
     "shell.execute_reply": "2020-08-31T18:45:48.900356Z",
     "shell.execute_reply.started": "2020-08-31T18:45:48.897701Z"
    }
   },
   "outputs": [
    {
     "name": "stdout",
     "output_type": "stream",
     "text": [
      "Train csv shape is (32561, 14)\n",
      "Test csv shape is (16281, 13)\n"
     ]
    }
   ],
   "source": [
    "print(f'Train csv shape is {train.shape}')\n",
    "print(f'Test csv shape is {test.shape}')"
   ]
  },
  {
   "cell_type": "code",
   "execution_count": 4,
   "metadata": {
    "execution": {
     "iopub.execute_input": "2020-08-31T18:45:48.901214Z",
     "iopub.status.busy": "2020-08-31T18:45:48.901132Z",
     "iopub.status.idle": "2020-08-31T18:45:48.911647Z",
     "shell.execute_reply": "2020-08-31T18:45:48.911374Z",
     "shell.execute_reply.started": "2020-08-31T18:45:48.901204Z"
    }
   },
   "outputs": [
    {
     "data": {
      "text/html": [
       "<div>\n",
       "<style scoped>\n",
       "    .dataframe tbody tr th:only-of-type {\n",
       "        vertical-align: middle;\n",
       "    }\n",
       "\n",
       "    .dataframe tbody tr th {\n",
       "        vertical-align: top;\n",
       "    }\n",
       "\n",
       "    .dataframe thead th {\n",
       "        text-align: right;\n",
       "    }\n",
       "</style>\n",
       "<table border=\"1\" class=\"dataframe\">\n",
       "  <thead>\n",
       "    <tr style=\"text-align: right;\">\n",
       "      <th></th>\n",
       "      <th>age</th>\n",
       "      <th>workclass</th>\n",
       "      <th>fnlwgt</th>\n",
       "      <th>education</th>\n",
       "      <th>education-num</th>\n",
       "      <th>marital-status</th>\n",
       "      <th>occupation</th>\n",
       "      <th>relationship</th>\n",
       "      <th>sex</th>\n",
       "      <th>capital-gain</th>\n",
       "      <th>capital-loss</th>\n",
       "      <th>hours-per-week</th>\n",
       "      <th>native-country</th>\n",
       "      <th>wage</th>\n",
       "    </tr>\n",
       "  </thead>\n",
       "  <tbody>\n",
       "    <tr>\n",
       "      <th>0</th>\n",
       "      <td>39</td>\n",
       "      <td>State-gov</td>\n",
       "      <td>77516</td>\n",
       "      <td>Bachelors</td>\n",
       "      <td>13</td>\n",
       "      <td>Never-married</td>\n",
       "      <td>Adm-clerical</td>\n",
       "      <td>Not-in-family</td>\n",
       "      <td>Male</td>\n",
       "      <td>2174</td>\n",
       "      <td>0</td>\n",
       "      <td>40</td>\n",
       "      <td>United-States</td>\n",
       "      <td>&lt;=50K</td>\n",
       "    </tr>\n",
       "    <tr>\n",
       "      <th>1</th>\n",
       "      <td>50</td>\n",
       "      <td>Self-emp-not-inc</td>\n",
       "      <td>83311</td>\n",
       "      <td>Bachelors</td>\n",
       "      <td>13</td>\n",
       "      <td>Married-civ-spouse</td>\n",
       "      <td>Exec-managerial</td>\n",
       "      <td>Husband</td>\n",
       "      <td>Male</td>\n",
       "      <td>0</td>\n",
       "      <td>0</td>\n",
       "      <td>13</td>\n",
       "      <td>United-States</td>\n",
       "      <td>&lt;=50K</td>\n",
       "    </tr>\n",
       "    <tr>\n",
       "      <th>2</th>\n",
       "      <td>38</td>\n",
       "      <td>Private</td>\n",
       "      <td>215646</td>\n",
       "      <td>HS-grad</td>\n",
       "      <td>9</td>\n",
       "      <td>Divorced</td>\n",
       "      <td>Handlers-cleaners</td>\n",
       "      <td>Not-in-family</td>\n",
       "      <td>Male</td>\n",
       "      <td>0</td>\n",
       "      <td>0</td>\n",
       "      <td>40</td>\n",
       "      <td>United-States</td>\n",
       "      <td>&lt;=50K</td>\n",
       "    </tr>\n",
       "    <tr>\n",
       "      <th>3</th>\n",
       "      <td>53</td>\n",
       "      <td>Private</td>\n",
       "      <td>234721</td>\n",
       "      <td>11th</td>\n",
       "      <td>7</td>\n",
       "      <td>Married-civ-spouse</td>\n",
       "      <td>Handlers-cleaners</td>\n",
       "      <td>Husband</td>\n",
       "      <td>Male</td>\n",
       "      <td>0</td>\n",
       "      <td>0</td>\n",
       "      <td>40</td>\n",
       "      <td>United-States</td>\n",
       "      <td>&lt;=50K</td>\n",
       "    </tr>\n",
       "    <tr>\n",
       "      <th>4</th>\n",
       "      <td>28</td>\n",
       "      <td>Private</td>\n",
       "      <td>338409</td>\n",
       "      <td>Bachelors</td>\n",
       "      <td>13</td>\n",
       "      <td>Married-civ-spouse</td>\n",
       "      <td>Prof-specialty</td>\n",
       "      <td>Wife</td>\n",
       "      <td>Female</td>\n",
       "      <td>0</td>\n",
       "      <td>0</td>\n",
       "      <td>40</td>\n",
       "      <td>Cuba</td>\n",
       "      <td>&lt;=50K</td>\n",
       "    </tr>\n",
       "  </tbody>\n",
       "</table>\n",
       "</div>"
      ],
      "text/plain": [
       "   age          workclass  fnlwgt   education  education-num       marital-status          occupation    relationship      sex  capital-gain  capital-loss  hours-per-week  native-country    wage\n",
       "0   39          State-gov   77516   Bachelors             13        Never-married        Adm-clerical   Not-in-family     Male          2174             0              40   United-States   <=50K\n",
       "1   50   Self-emp-not-inc   83311   Bachelors             13   Married-civ-spouse     Exec-managerial         Husband     Male             0             0              13   United-States   <=50K\n",
       "2   38            Private  215646     HS-grad              9             Divorced   Handlers-cleaners   Not-in-family     Male             0             0              40   United-States   <=50K\n",
       "3   53            Private  234721        11th              7   Married-civ-spouse   Handlers-cleaners         Husband     Male             0             0              40   United-States   <=50K\n",
       "4   28            Private  338409   Bachelors             13   Married-civ-spouse      Prof-specialty            Wife   Female             0             0              40            Cuba   <=50K"
      ]
     },
     "execution_count": 4,
     "metadata": {},
     "output_type": "execute_result"
    }
   ],
   "source": [
    "train.head()"
   ]
  },
  {
   "cell_type": "code",
   "execution_count": 5,
   "metadata": {
    "execution": {
     "iopub.execute_input": "2020-08-31T18:45:48.912102Z",
     "iopub.status.busy": "2020-08-31T18:45:48.912021Z",
     "iopub.status.idle": "2020-08-31T18:45:48.920579Z",
     "shell.execute_reply": "2020-08-31T18:45:48.920276Z",
     "shell.execute_reply.started": "2020-08-31T18:45:48.912092Z"
    }
   },
   "outputs": [
    {
     "data": {
      "text/plain": [
       " <=50K    0.75919\n",
       " >50K     0.24081\n",
       "Name: wage, dtype: float64"
      ]
     },
     "execution_count": 5,
     "metadata": {},
     "output_type": "execute_result"
    }
   ],
   "source": [
    "# We have imbalanced classes\n",
    "# This is the baseline\n",
    "train['wage'].value_counts(normalize=True)"
   ]
  },
  {
   "cell_type": "code",
   "execution_count": 6,
   "metadata": {},
   "outputs": [],
   "source": [
    "# Binarizing Wage Column\n",
    "\n",
    "train['wage'] = pd.get_dummies(train['wage'], drop_first=True)"
   ]
  },
  {
   "cell_type": "code",
   "execution_count": 7,
   "metadata": {},
   "outputs": [
    {
     "data": {
      "text/plain": [
       "0    0.75919\n",
       "1    0.24081\n",
       "Name: wage, dtype: float64"
      ]
     },
     "execution_count": 7,
     "metadata": {},
     "output_type": "execute_result"
    }
   ],
   "source": [
    "# Baseline Accuracy Score\n",
    "\n",
    "train['wage'].value_counts(normalize=True)"
   ]
  },
  {
   "cell_type": "code",
   "execution_count": 8,
   "metadata": {
    "execution": {
     "iopub.execute_input": "2020-08-31T18:45:48.921109Z",
     "iopub.status.busy": "2020-08-31T18:45:48.921020Z",
     "iopub.status.idle": "2020-08-31T18:45:48.939182Z",
     "shell.execute_reply": "2020-08-31T18:45:48.938792Z",
     "shell.execute_reply.started": "2020-08-31T18:45:48.921098Z"
    }
   },
   "outputs": [],
   "source": [
    "# Creating dataframe with just continuous numeric values\n",
    "\n",
    "train = train[train.describe().columns]"
   ]
  },
  {
   "cell_type": "code",
   "execution_count": 9,
   "metadata": {},
   "outputs": [
    {
     "data": {
      "text/html": [
       "<div>\n",
       "<style scoped>\n",
       "    .dataframe tbody tr th:only-of-type {\n",
       "        vertical-align: middle;\n",
       "    }\n",
       "\n",
       "    .dataframe tbody tr th {\n",
       "        vertical-align: top;\n",
       "    }\n",
       "\n",
       "    .dataframe thead th {\n",
       "        text-align: right;\n",
       "    }\n",
       "</style>\n",
       "<table border=\"1\" class=\"dataframe\">\n",
       "  <thead>\n",
       "    <tr style=\"text-align: right;\">\n",
       "      <th></th>\n",
       "      <th>age</th>\n",
       "      <th>fnlwgt</th>\n",
       "      <th>education-num</th>\n",
       "      <th>capital-gain</th>\n",
       "      <th>capital-loss</th>\n",
       "      <th>hours-per-week</th>\n",
       "      <th>wage</th>\n",
       "    </tr>\n",
       "  </thead>\n",
       "  <tbody>\n",
       "    <tr>\n",
       "      <th>0</th>\n",
       "      <td>39</td>\n",
       "      <td>77516</td>\n",
       "      <td>13</td>\n",
       "      <td>2174</td>\n",
       "      <td>0</td>\n",
       "      <td>40</td>\n",
       "      <td>0</td>\n",
       "    </tr>\n",
       "    <tr>\n",
       "      <th>1</th>\n",
       "      <td>50</td>\n",
       "      <td>83311</td>\n",
       "      <td>13</td>\n",
       "      <td>0</td>\n",
       "      <td>0</td>\n",
       "      <td>13</td>\n",
       "      <td>0</td>\n",
       "    </tr>\n",
       "    <tr>\n",
       "      <th>2</th>\n",
       "      <td>38</td>\n",
       "      <td>215646</td>\n",
       "      <td>9</td>\n",
       "      <td>0</td>\n",
       "      <td>0</td>\n",
       "      <td>40</td>\n",
       "      <td>0</td>\n",
       "    </tr>\n",
       "    <tr>\n",
       "      <th>3</th>\n",
       "      <td>53</td>\n",
       "      <td>234721</td>\n",
       "      <td>7</td>\n",
       "      <td>0</td>\n",
       "      <td>0</td>\n",
       "      <td>40</td>\n",
       "      <td>0</td>\n",
       "    </tr>\n",
       "    <tr>\n",
       "      <th>4</th>\n",
       "      <td>28</td>\n",
       "      <td>338409</td>\n",
       "      <td>13</td>\n",
       "      <td>0</td>\n",
       "      <td>0</td>\n",
       "      <td>40</td>\n",
       "      <td>0</td>\n",
       "    </tr>\n",
       "  </tbody>\n",
       "</table>\n",
       "</div>"
      ],
      "text/plain": [
       "   age  fnlwgt  education-num  capital-gain  capital-loss  hours-per-week  wage\n",
       "0   39   77516             13          2174             0              40     0\n",
       "1   50   83311             13             0             0              13     0\n",
       "2   38  215646              9             0             0              40     0\n",
       "3   53  234721              7             0             0              40     0\n",
       "4   28  338409             13             0             0              40     0"
      ]
     },
     "execution_count": 9,
     "metadata": {},
     "output_type": "execute_result"
    }
   ],
   "source": [
    "train.head()"
   ]
  },
  {
   "cell_type": "code",
   "execution_count": 10,
   "metadata": {},
   "outputs": [],
   "source": [
    "#Credit to Chris\n",
    "\n",
    "# Function that generates all the value counts for each column\n",
    "\n",
    "def columns_values(dataframe):\n",
    "    for n in dataframe.columns:                               # cycle through the columns in dataframe\n",
    "        column = n  \n",
    "        value_counts = (dataframe[column].value_counts())     # run value counts for each column\n",
    "        unique_values = (dataframe[column].unique())          # run unique values for each column \n",
    "        len_counts = len(value_counts)                        # how many items are counted in value counts\n",
    "        len_unique = len(unique_values)                       # how many items are counted in unique values\n",
    "        if (len(value_counts)< 100):                          # ignore columns where counts over 100\n",
    "                print(f\"{column} has length of {len_unique}\") # print how many unique values there are\n",
    "                print(unique_values)                          # print unique values for column \n",
    "                print(\"=\"*30)                                  \n",
    "                print(f\"{column} has length of {len_counts}\") # print how many values are counted\n",
    "                print(value_counts)                           # print unique values counted\n",
    "                print(\"=\"*60)"
   ]
  },
  {
   "cell_type": "code",
   "execution_count": 11,
   "metadata": {},
   "outputs": [
    {
     "name": "stdout",
     "output_type": "stream",
     "text": [
      "age has length of 73\n",
      "[39 50 38 53 28 37 49 52 31 42 30 23 32 40 34 25 43 54 35 59 56 19 20 45\n",
      " 22 48 21 24 57 44 41 29 18 47 46 36 79 27 67 33 76 17 55 61 70 64 71 68\n",
      " 66 51 58 26 60 90 75 65 77 62 63 80 72 74 69 73 81 78 88 82 83 84 85 86\n",
      " 87]\n",
      "==============================\n",
      "age has length of 73\n",
      "36    898\n",
      "31    888\n",
      "34    886\n",
      "23    877\n",
      "35    876\n",
      "33    875\n",
      "28    867\n",
      "30    861\n",
      "37    858\n",
      "25    841\n",
      "27    835\n",
      "32    828\n",
      "38    827\n",
      "39    816\n",
      "29    813\n",
      "41    808\n",
      "24    798\n",
      "40    794\n",
      "26    785\n",
      "42    780\n",
      "43    770\n",
      "22    765\n",
      "20    753\n",
      "46    737\n",
      "45    734\n",
      "44    724\n",
      "21    720\n",
      "19    712\n",
      "47    708\n",
      "50    602\n",
      "51    595\n",
      "49    577\n",
      "18    550\n",
      "48    543\n",
      "52    478\n",
      "53    464\n",
      "55    419\n",
      "54    415\n",
      "17    395\n",
      "58    366\n",
      "56    366\n",
      "57    358\n",
      "59    355\n",
      "60    312\n",
      "61    300\n",
      "62    258\n",
      "63    230\n",
      "64    208\n",
      "65    178\n",
      "67    151\n",
      "66    150\n",
      "68    120\n",
      "69    108\n",
      "70     89\n",
      "71     72\n",
      "72     67\n",
      "73     64\n",
      "74     51\n",
      "76     46\n",
      "75     45\n",
      "90     43\n",
      "77     29\n",
      "78     23\n",
      "80     22\n",
      "79     22\n",
      "81     20\n",
      "82     12\n",
      "84     10\n",
      "83      6\n",
      "85      3\n",
      "88      3\n",
      "87      1\n",
      "86      1\n",
      "Name: age, dtype: int64\n",
      "============================================================\n",
      "education-num has length of 16\n",
      "[13  9  7 14  5 10 12 11  4 16 15  3  6  2  1  8]\n",
      "==============================\n",
      "education-num has length of 16\n",
      "9     10501\n",
      "10     7291\n",
      "13     5355\n",
      "14     1723\n",
      "11     1382\n",
      "7      1175\n",
      "12     1067\n",
      "6       933\n",
      "4       646\n",
      "15      576\n",
      "5       514\n",
      "8       433\n",
      "16      413\n",
      "3       333\n",
      "2       168\n",
      "1        51\n",
      "Name: education-num, dtype: int64\n",
      "============================================================\n",
      "capital-loss has length of 92\n",
      "[   0 2042 1408 1902 1573 1887 1719 1762 1564 2179 1816 1980 1977 1876\n",
      " 1340 2206 1741 1485 2339 2415 1380 1721 2051 2377 1669 2352 1672  653\n",
      " 2392 1504 2001 1590 1651 1628 1848 1740 2002 1579 2258 1602  419 2547\n",
      " 2174 2205 1726 2444 1138 2238  625  213 1539  880 1668 1092 1594 3004\n",
      " 2231 1844  810 2824 2559 2057 1974  974 2149 1825 1735 1258 2129 2603\n",
      " 2282  323 4356 2246 1617 1648 2489 3770 1755 3683 2267 2080 2457  155\n",
      " 3900 2201 1944 2467 2163 2754 2472 1411]\n",
      "==============================\n",
      "capital-loss has length of 92\n",
      "0       31042\n",
      "1902      202\n",
      "1977      168\n",
      "1887      159\n",
      "1848       51\n",
      "1485       51\n",
      "2415       49\n",
      "1602       47\n",
      "1740       42\n",
      "1590       40\n",
      "1876       39\n",
      "1672       34\n",
      "1564       25\n",
      "2258       25\n",
      "1669       24\n",
      "1741       24\n",
      "2001       24\n",
      "1980       23\n",
      "1719       22\n",
      "2002       21\n",
      "2051       21\n",
      "1408       21\n",
      "1579       20\n",
      "2377       20\n",
      "1721       18\n",
      "1504       18\n",
      "1974       18\n",
      "2339       17\n",
      "2179       15\n",
      "1628       15\n",
      "1762       14\n",
      "2444       12\n",
      "2559       12\n",
      "625        12\n",
      "2824       10\n",
      "2042        9\n",
      "1617        9\n",
      "2205        9\n",
      "1651        9\n",
      "2392        9\n",
      "1594        8\n",
      "1340        7\n",
      "1380        7\n",
      "1092        7\n",
      "2174        7\n",
      "1573        6\n",
      "880         6\n",
      "2246        6\n",
      "2057        6\n",
      "2206        6\n",
      "2603        5\n",
      "1668        4\n",
      "1825        4\n",
      "1258        4\n",
      "2547        4\n",
      "1726        4\n",
      "213         4\n",
      "2457        3\n",
      "2129        3\n",
      "653         3\n",
      "2231        3\n",
      "419         3\n",
      "323         3\n",
      "4356        3\n",
      "2267        3\n",
      "3683        2\n",
      "1755        2\n",
      "2352        2\n",
      "1648        2\n",
      "1138        2\n",
      "810         2\n",
      "1735        2\n",
      "2238        2\n",
      "2754        2\n",
      "3004        2\n",
      "3900        2\n",
      "974         2\n",
      "2149        2\n",
      "1816        2\n",
      "3770        2\n",
      "2080        1\n",
      "2489        1\n",
      "2282        1\n",
      "2163        1\n",
      "155         1\n",
      "2467        1\n",
      "1844        1\n",
      "1411        1\n",
      "1539        1\n",
      "2472        1\n",
      "1944        1\n",
      "2201        1\n",
      "Name: capital-loss, dtype: int64\n",
      "============================================================\n",
      "hours-per-week has length of 94\n",
      "[40 13 16 45 50 80 30 35 60 20 52 44 15 25 38 43 55 48 58 32 70  2 22 56\n",
      " 41 28 36 24 46 42 12 65  1 10 34 75 98 33 54  8  6 64 19 18 72  5  9 47\n",
      " 37 21 26 14  4 59  7 99 53 39 62 57 78 90 66 11 49 84  3 17 68 27 85 31\n",
      " 51 77 63 23 87 88 73 89 97 94 29 96 67 82 86 91 81 76 92 61 74 95]\n",
      "==============================\n",
      "hours-per-week has length of 94\n",
      "40    15217\n",
      "50     2819\n",
      "45     1824\n",
      "60     1475\n",
      "35     1297\n",
      "20     1224\n",
      "30     1149\n",
      "55      694\n",
      "25      674\n",
      "48      517\n",
      "38      476\n",
      "15      404\n",
      "70      291\n",
      "10      278\n",
      "32      266\n",
      "24      252\n",
      "65      244\n",
      "36      220\n",
      "42      219\n",
      "44      212\n",
      "16      205\n",
      "12      173\n",
      "43      151\n",
      "37      149\n",
      "8       145\n",
      "52      138\n",
      "80      133\n",
      "56       97\n",
      "28       86\n",
      "99       85\n",
      "46       82\n",
      "18       75\n",
      "72       71\n",
      "75       66\n",
      "6        64\n",
      "5        60\n",
      "4        54\n",
      "47       49\n",
      "84       45\n",
      "22       44\n",
      "54       41\n",
      "3        39\n",
      "33       39\n",
      "39       38\n",
      "41       36\n",
      "14       34\n",
      "2        32\n",
      "27       30\n",
      "26       30\n",
      "17       29\n",
      "49       29\n",
      "90       29\n",
      "58       28\n",
      "34       28\n",
      "7        26\n",
      "53       25\n",
      "21       24\n",
      "13       23\n",
      "23       21\n",
      "1        20\n",
      "62       18\n",
      "9        18\n",
      "66       17\n",
      "57       17\n",
      "19       14\n",
      "64       14\n",
      "51       13\n",
      "85       13\n",
      "68       12\n",
      "98       11\n",
      "11       11\n",
      "63       10\n",
      "78        8\n",
      "29        7\n",
      "77        6\n",
      "59        5\n",
      "31        5\n",
      "96        5\n",
      "67        4\n",
      "91        3\n",
      "76        3\n",
      "81        3\n",
      "73        2\n",
      "89        2\n",
      "97        2\n",
      "88        2\n",
      "86        2\n",
      "61        2\n",
      "95        2\n",
      "92        1\n",
      "94        1\n",
      "87        1\n",
      "74        1\n",
      "82        1\n",
      "Name: hours-per-week, dtype: int64\n",
      "============================================================\n",
      "wage has length of 2\n",
      "[0 1]\n",
      "==============================\n",
      "wage has length of 2\n",
      "0    24720\n",
      "1     7841\n",
      "Name: wage, dtype: int64\n",
      "============================================================\n"
     ]
    }
   ],
   "source": [
    "columns_values(train)"
   ]
  },
  {
   "cell_type": "code",
   "execution_count": 12,
   "metadata": {
    "execution": {
     "iopub.execute_input": "2020-08-31T18:45:48.939980Z",
     "iopub.status.busy": "2020-08-31T18:45:48.939830Z",
     "iopub.status.idle": "2020-08-31T18:45:48.942025Z",
     "shell.execute_reply": "2020-08-31T18:45:48.941595Z",
     "shell.execute_reply.started": "2020-08-31T18:45:48.939961Z"
    }
   },
   "outputs": [],
   "source": [
    "# Education num is the amount of years someone went to school?\n",
    "# Capital-gain and hours-per-week are capped at 99,999 and 99\n",
    "# Capital-gain there are 157 people at 99,999 and hours-per-week are 85 for 99\n",
    "# 20 people with only 1 for hours-per-week\n",
    "# 1836 who are working class ?\n",
    "# 1843 whos occupation is a ?\n",
    "# 583 native country ?\n",
    "\n",
    "# We chose to leave these in"
   ]
  },
  {
   "cell_type": "code",
   "execution_count": 13,
   "metadata": {
    "execution": {
     "iopub.execute_input": "2020-08-31T18:45:48.942805Z",
     "iopub.status.busy": "2020-08-31T18:45:48.942662Z",
     "iopub.status.idle": "2020-08-31T18:45:48.950987Z",
     "shell.execute_reply": "2020-08-31T18:45:48.950703Z",
     "shell.execute_reply.started": "2020-08-31T18:45:48.942787Z"
    }
   },
   "outputs": [
    {
     "data": {
      "text/html": [
       "<div>\n",
       "<style scoped>\n",
       "    .dataframe tbody tr th:only-of-type {\n",
       "        vertical-align: middle;\n",
       "    }\n",
       "\n",
       "    .dataframe tbody tr th {\n",
       "        vertical-align: top;\n",
       "    }\n",
       "\n",
       "    .dataframe thead th {\n",
       "        text-align: right;\n",
       "    }\n",
       "</style>\n",
       "<table border=\"1\" class=\"dataframe\">\n",
       "  <thead>\n",
       "    <tr style=\"text-align: right;\">\n",
       "      <th></th>\n",
       "      <th>age</th>\n",
       "      <th>fnlwgt</th>\n",
       "      <th>education-num</th>\n",
       "      <th>capital-gain</th>\n",
       "      <th>capital-loss</th>\n",
       "      <th>hours-per-week</th>\n",
       "      <th>wage</th>\n",
       "    </tr>\n",
       "  </thead>\n",
       "  <tbody>\n",
       "    <tr>\n",
       "      <th>0</th>\n",
       "      <td>39</td>\n",
       "      <td>77516</td>\n",
       "      <td>13</td>\n",
       "      <td>2174</td>\n",
       "      <td>0</td>\n",
       "      <td>40</td>\n",
       "      <td>0</td>\n",
       "    </tr>\n",
       "    <tr>\n",
       "      <th>1</th>\n",
       "      <td>50</td>\n",
       "      <td>83311</td>\n",
       "      <td>13</td>\n",
       "      <td>0</td>\n",
       "      <td>0</td>\n",
       "      <td>13</td>\n",
       "      <td>0</td>\n",
       "    </tr>\n",
       "  </tbody>\n",
       "</table>\n",
       "</div>"
      ],
      "text/plain": [
       "   age  fnlwgt  education-num  capital-gain  capital-loss  hours-per-week  wage\n",
       "0   39   77516             13          2174             0              40     0\n",
       "1   50   83311             13             0             0              13     0"
      ]
     },
     "execution_count": 13,
     "metadata": {},
     "output_type": "execute_result"
    }
   ],
   "source": [
    "train.head(2)"
   ]
  },
  {
   "cell_type": "code",
   "execution_count": 14,
   "metadata": {
    "execution": {
     "iopub.execute_input": "2020-08-31T18:45:48.962717Z",
     "iopub.status.busy": "2020-08-31T18:45:48.962636Z",
     "iopub.status.idle": "2020-08-31T18:45:48.964572Z",
     "shell.execute_reply": "2020-08-31T18:45:48.964250Z",
     "shell.execute_reply.started": "2020-08-31T18:45:48.962707Z"
    }
   },
   "outputs": [],
   "source": [
    "# train_col = ['age',\n",
    "#             'fnlwgt',\n",
    "#             'education-num',\n",
    "#             'capital-gain',\n",
    "#             'capital-loss',\n",
    "#             'hours-per-week',\n",
    "#             'wage'    \n",
    "#             ]"
   ]
  },
  {
   "cell_type": "code",
   "execution_count": 15,
   "metadata": {},
   "outputs": [
    {
     "data": {
      "text/html": [
       "<div>\n",
       "<style scoped>\n",
       "    .dataframe tbody tr th:only-of-type {\n",
       "        vertical-align: middle;\n",
       "    }\n",
       "\n",
       "    .dataframe tbody tr th {\n",
       "        vertical-align: top;\n",
       "    }\n",
       "\n",
       "    .dataframe thead th {\n",
       "        text-align: right;\n",
       "    }\n",
       "</style>\n",
       "<table border=\"1\" class=\"dataframe\">\n",
       "  <thead>\n",
       "    <tr style=\"text-align: right;\">\n",
       "      <th></th>\n",
       "      <th>age</th>\n",
       "      <th>fnlwgt</th>\n",
       "      <th>education-num</th>\n",
       "      <th>capital-gain</th>\n",
       "      <th>capital-loss</th>\n",
       "      <th>hours-per-week</th>\n",
       "      <th>wage</th>\n",
       "    </tr>\n",
       "  </thead>\n",
       "  <tbody>\n",
       "    <tr>\n",
       "      <th>count</th>\n",
       "      <td>32561.000000</td>\n",
       "      <td>3.256100e+04</td>\n",
       "      <td>32561.000000</td>\n",
       "      <td>32561.000000</td>\n",
       "      <td>32561.000000</td>\n",
       "      <td>32561.000000</td>\n",
       "      <td>32561.000000</td>\n",
       "    </tr>\n",
       "    <tr>\n",
       "      <th>mean</th>\n",
       "      <td>38.581647</td>\n",
       "      <td>1.897784e+05</td>\n",
       "      <td>10.080679</td>\n",
       "      <td>1077.648844</td>\n",
       "      <td>87.303830</td>\n",
       "      <td>40.437456</td>\n",
       "      <td>0.240810</td>\n",
       "    </tr>\n",
       "    <tr>\n",
       "      <th>std</th>\n",
       "      <td>13.640433</td>\n",
       "      <td>1.055500e+05</td>\n",
       "      <td>2.572720</td>\n",
       "      <td>7385.292085</td>\n",
       "      <td>402.960219</td>\n",
       "      <td>12.347429</td>\n",
       "      <td>0.427581</td>\n",
       "    </tr>\n",
       "    <tr>\n",
       "      <th>min</th>\n",
       "      <td>17.000000</td>\n",
       "      <td>1.228500e+04</td>\n",
       "      <td>1.000000</td>\n",
       "      <td>0.000000</td>\n",
       "      <td>0.000000</td>\n",
       "      <td>1.000000</td>\n",
       "      <td>0.000000</td>\n",
       "    </tr>\n",
       "    <tr>\n",
       "      <th>25%</th>\n",
       "      <td>28.000000</td>\n",
       "      <td>1.178270e+05</td>\n",
       "      <td>9.000000</td>\n",
       "      <td>0.000000</td>\n",
       "      <td>0.000000</td>\n",
       "      <td>40.000000</td>\n",
       "      <td>0.000000</td>\n",
       "    </tr>\n",
       "    <tr>\n",
       "      <th>50%</th>\n",
       "      <td>37.000000</td>\n",
       "      <td>1.783560e+05</td>\n",
       "      <td>10.000000</td>\n",
       "      <td>0.000000</td>\n",
       "      <td>0.000000</td>\n",
       "      <td>40.000000</td>\n",
       "      <td>0.000000</td>\n",
       "    </tr>\n",
       "    <tr>\n",
       "      <th>75%</th>\n",
       "      <td>48.000000</td>\n",
       "      <td>2.370510e+05</td>\n",
       "      <td>12.000000</td>\n",
       "      <td>0.000000</td>\n",
       "      <td>0.000000</td>\n",
       "      <td>45.000000</td>\n",
       "      <td>0.000000</td>\n",
       "    </tr>\n",
       "    <tr>\n",
       "      <th>max</th>\n",
       "      <td>90.000000</td>\n",
       "      <td>1.484705e+06</td>\n",
       "      <td>16.000000</td>\n",
       "      <td>99999.000000</td>\n",
       "      <td>4356.000000</td>\n",
       "      <td>99.000000</td>\n",
       "      <td>1.000000</td>\n",
       "    </tr>\n",
       "  </tbody>\n",
       "</table>\n",
       "</div>"
      ],
      "text/plain": [
       "                age        fnlwgt  education-num  capital-gain  capital-loss  hours-per-week          wage\n",
       "count  32561.000000  3.256100e+04   32561.000000  32561.000000  32561.000000    32561.000000  32561.000000\n",
       "mean      38.581647  1.897784e+05      10.080679   1077.648844     87.303830       40.437456      0.240810\n",
       "std       13.640433  1.055500e+05       2.572720   7385.292085    402.960219       12.347429      0.427581\n",
       "min       17.000000  1.228500e+04       1.000000      0.000000      0.000000        1.000000      0.000000\n",
       "25%       28.000000  1.178270e+05       9.000000      0.000000      0.000000       40.000000      0.000000\n",
       "50%       37.000000  1.783560e+05      10.000000      0.000000      0.000000       40.000000      0.000000\n",
       "75%       48.000000  2.370510e+05      12.000000      0.000000      0.000000       45.000000      0.000000\n",
       "max       90.000000  1.484705e+06      16.000000  99999.000000   4356.000000       99.000000      1.000000"
      ]
     },
     "execution_count": 15,
     "metadata": {},
     "output_type": "execute_result"
    }
   ],
   "source": [
    "# Descriptive Statistics of numeric data prior to handling outliers\n",
    "\n",
    "train.describe()"
   ]
  },
  {
   "cell_type": "code",
   "execution_count": 16,
   "metadata": {},
   "outputs": [
    {
     "name": "stdout",
     "output_type": "stream",
     "text": [
      "Train csv shape is (32561, 7)\n",
      "Test csv shape is (16281, 13)\n"
     ]
    }
   ],
   "source": [
    "# Shape of data prior to handling outliers\n",
    "print(f'Train csv shape is {train.shape}')\n",
    "print(f'Test csv shape is {test.shape}')"
   ]
  },
  {
   "cell_type": "code",
   "execution_count": 17,
   "metadata": {
    "execution": {
     "iopub.execute_input": "2020-08-31T18:45:48.965317Z",
     "iopub.status.busy": "2020-08-31T18:45:48.965164Z",
     "iopub.status.idle": "2020-08-31T18:45:48.990029Z",
     "shell.execute_reply": "2020-08-31T18:45:48.989668Z",
     "shell.execute_reply.started": "2020-08-31T18:45:48.965299Z"
    }
   },
   "outputs": [],
   "source": [
    "# looping through outliers to remove any instances where there is a numeric \n",
    "# value that is greater than three standard deviations from the mean\n",
    "\n",
    "for col in train:\n",
    "    outlier = abs(train[col].std() * 3) + abs(train[col].mean())\n",
    "    train.drop(train[train[col] > outlier].index, inplace=True)"
   ]
  },
  {
   "cell_type": "code",
   "execution_count": 18,
   "metadata": {
    "execution": {
     "iopub.execute_input": "2020-08-31T18:45:48.990589Z",
     "iopub.status.busy": "2020-08-31T18:45:48.990500Z",
     "iopub.status.idle": "2020-08-31T18:45:49.009595Z",
     "shell.execute_reply": "2020-08-31T18:45:49.009277Z",
     "shell.execute_reply.started": "2020-08-31T18:45:48.990578Z"
    }
   },
   "outputs": [
    {
     "data": {
      "text/html": [
       "<div>\n",
       "<style scoped>\n",
       "    .dataframe tbody tr th:only-of-type {\n",
       "        vertical-align: middle;\n",
       "    }\n",
       "\n",
       "    .dataframe tbody tr th {\n",
       "        vertical-align: top;\n",
       "    }\n",
       "\n",
       "    .dataframe thead th {\n",
       "        text-align: right;\n",
       "    }\n",
       "</style>\n",
       "<table border=\"1\" class=\"dataframe\">\n",
       "  <thead>\n",
       "    <tr style=\"text-align: right;\">\n",
       "      <th></th>\n",
       "      <th>age</th>\n",
       "      <th>fnlwgt</th>\n",
       "      <th>education-num</th>\n",
       "      <th>capital-gain</th>\n",
       "      <th>capital-loss</th>\n",
       "      <th>hours-per-week</th>\n",
       "      <th>wage</th>\n",
       "    </tr>\n",
       "  </thead>\n",
       "  <tbody>\n",
       "    <tr>\n",
       "      <th>count</th>\n",
       "      <td>30108.000000</td>\n",
       "      <td>30108.000000</td>\n",
       "      <td>30108.000000</td>\n",
       "      <td>30108.000000</td>\n",
       "      <td>30108.000000</td>\n",
       "      <td>30108.000000</td>\n",
       "      <td>30108.000000</td>\n",
       "    </tr>\n",
       "    <tr>\n",
       "      <th>mean</th>\n",
       "      <td>38.226485</td>\n",
       "      <td>185488.998738</td>\n",
       "      <td>10.022486</td>\n",
       "      <td>567.151156</td>\n",
       "      <td>1.212037</td>\n",
       "      <td>39.784011</td>\n",
       "      <td>0.221503</td>\n",
       "    </tr>\n",
       "    <tr>\n",
       "      <th>std</th>\n",
       "      <td>13.424234</td>\n",
       "      <td>94667.976151</td>\n",
       "      <td>2.538230</td>\n",
       "      <td>2326.937114</td>\n",
       "      <td>32.648206</td>\n",
       "      <td>11.294637</td>\n",
       "      <td>0.415265</td>\n",
       "    </tr>\n",
       "    <tr>\n",
       "      <th>min</th>\n",
       "      <td>17.000000</td>\n",
       "      <td>12285.000000</td>\n",
       "      <td>1.000000</td>\n",
       "      <td>0.000000</td>\n",
       "      <td>0.000000</td>\n",
       "      <td>1.000000</td>\n",
       "      <td>0.000000</td>\n",
       "    </tr>\n",
       "    <tr>\n",
       "      <th>25%</th>\n",
       "      <td>27.000000</td>\n",
       "      <td>117606.000000</td>\n",
       "      <td>9.000000</td>\n",
       "      <td>0.000000</td>\n",
       "      <td>0.000000</td>\n",
       "      <td>40.000000</td>\n",
       "      <td>0.000000</td>\n",
       "    </tr>\n",
       "    <tr>\n",
       "      <th>50%</th>\n",
       "      <td>37.000000</td>\n",
       "      <td>177817.000000</td>\n",
       "      <td>10.000000</td>\n",
       "      <td>0.000000</td>\n",
       "      <td>0.000000</td>\n",
       "      <td>40.000000</td>\n",
       "      <td>0.000000</td>\n",
       "    </tr>\n",
       "    <tr>\n",
       "      <th>75%</th>\n",
       "      <td>47.000000</td>\n",
       "      <td>234723.500000</td>\n",
       "      <td>12.000000</td>\n",
       "      <td>0.000000</td>\n",
       "      <td>0.000000</td>\n",
       "      <td>45.000000</td>\n",
       "      <td>0.000000</td>\n",
       "    </tr>\n",
       "    <tr>\n",
       "      <th>max</th>\n",
       "      <td>79.000000</td>\n",
       "      <td>506436.000000</td>\n",
       "      <td>16.000000</td>\n",
       "      <td>22040.000000</td>\n",
       "      <td>1258.000000</td>\n",
       "      <td>77.000000</td>\n",
       "      <td>1.000000</td>\n",
       "    </tr>\n",
       "  </tbody>\n",
       "</table>\n",
       "</div>"
      ],
      "text/plain": [
       "                age         fnlwgt  education-num  capital-gain  capital-loss  hours-per-week          wage\n",
       "count  30108.000000   30108.000000   30108.000000  30108.000000  30108.000000    30108.000000  30108.000000\n",
       "mean      38.226485  185488.998738      10.022486    567.151156      1.212037       39.784011      0.221503\n",
       "std       13.424234   94667.976151       2.538230   2326.937114     32.648206       11.294637      0.415265\n",
       "min       17.000000   12285.000000       1.000000      0.000000      0.000000        1.000000      0.000000\n",
       "25%       27.000000  117606.000000       9.000000      0.000000      0.000000       40.000000      0.000000\n",
       "50%       37.000000  177817.000000      10.000000      0.000000      0.000000       40.000000      0.000000\n",
       "75%       47.000000  234723.500000      12.000000      0.000000      0.000000       45.000000      0.000000\n",
       "max       79.000000  506436.000000      16.000000  22040.000000   1258.000000       77.000000      1.000000"
      ]
     },
     "execution_count": 18,
     "metadata": {},
     "output_type": "execute_result"
    }
   ],
   "source": [
    "# Descriptive Statistics of numeric data after handling outliers\n",
    "\n",
    "train.describe()"
   ]
  },
  {
   "cell_type": "code",
   "execution_count": 19,
   "metadata": {
    "execution": {
     "iopub.execute_input": "2020-08-31T18:45:49.010135Z",
     "iopub.status.busy": "2020-08-31T18:45:49.010045Z",
     "iopub.status.idle": "2020-08-31T18:45:49.012566Z",
     "shell.execute_reply": "2020-08-31T18:45:49.012175Z",
     "shell.execute_reply.started": "2020-08-31T18:45:49.010123Z"
    }
   },
   "outputs": [
    {
     "data": {
      "text/plain": [
       "(30108, 7)"
      ]
     },
     "execution_count": 19,
     "metadata": {},
     "output_type": "execute_result"
    }
   ],
   "source": [
    "train.shape"
   ]
  },
  {
   "cell_type": "code",
   "execution_count": 20,
   "metadata": {
    "execution": {
     "iopub.execute_input": "2020-08-31T18:54:15.992005Z",
     "iopub.status.busy": "2020-08-31T18:54:15.991780Z",
     "iopub.status.idle": "2020-08-31T18:54:15.995035Z",
     "shell.execute_reply": "2020-08-31T18:54:15.994704Z",
     "shell.execute_reply.started": "2020-08-31T18:54:15.991982Z"
    }
   },
   "outputs": [
    {
     "name": "stdout",
     "output_type": "stream",
     "text": [
      "Train csv shape is (30108, 7)\n"
     ]
    }
   ],
   "source": [
    "# Shape of data after handling outliers\n",
    "print(f'Train csv shape is {train.shape}')\n"
   ]
  },
  {
   "cell_type": "markdown",
   "metadata": {},
   "source": [
    "## **Continuous Modeling**"
   ]
  },
  {
   "cell_type": "code",
   "execution_count": 21,
   "metadata": {
    "execution": {
     "iopub.execute_input": "2020-08-31T18:54:17.905904Z",
     "iopub.status.busy": "2020-08-31T18:54:17.905744Z",
     "iopub.status.idle": "2020-08-31T18:54:17.924126Z",
     "shell.execute_reply": "2020-08-31T18:54:17.923710Z",
     "shell.execute_reply.started": "2020-08-31T18:54:17.905891Z"
    }
   },
   "outputs": [],
   "source": [
    "X = train[train.describe().columns[:-1]]\n",
    "y = train['wage']"
   ]
  },
  {
   "cell_type": "code",
   "execution_count": 22,
   "metadata": {
    "execution": {
     "iopub.execute_input": "2020-08-31T18:54:18.061162Z",
     "iopub.status.busy": "2020-08-31T18:54:18.061047Z",
     "iopub.status.idle": "2020-08-31T18:54:18.063854Z",
     "shell.execute_reply": "2020-08-31T18:54:18.063420Z",
     "shell.execute_reply.started": "2020-08-31T18:54:18.061148Z"
    }
   },
   "outputs": [
    {
     "name": "stdout",
     "output_type": "stream",
     "text": [
      "(30108, 6)\n",
      "(30108,)\n"
     ]
    }
   ],
   "source": [
    "print(X.shape)\n",
    "print(y.shape)"
   ]
  },
  {
   "cell_type": "code",
   "execution_count": 23,
   "metadata": {
    "execution": {
     "iopub.execute_input": "2020-08-31T18:54:18.224453Z",
     "iopub.status.busy": "2020-08-31T18:54:18.224341Z",
     "iopub.status.idle": "2020-08-31T18:54:18.235760Z",
     "shell.execute_reply": "2020-08-31T18:54:18.235378Z",
     "shell.execute_reply.started": "2020-08-31T18:54:18.224440Z"
    }
   },
   "outputs": [],
   "source": [
    "# Instantiate Standard Scaler\n",
    "\n",
    "sc = StandardScaler()\n",
    "\n",
    "# Create train/test split\n",
    "\n",
    "X_train, X_test, y_train, y_test = train_test_split(X, y, stratify=y, random_state=42)\n",
    "\n",
    "# Fiting to the training data, and transforming training and testing data\n",
    "\n",
    "X_train_sc = sc.fit_transform(X_train)\n",
    "X_test_sc = sc.transform(X_test)"
   ]
  },
  {
   "cell_type": "code",
   "execution_count": 24,
   "metadata": {
    "execution": {
     "iopub.execute_input": "2020-08-31T18:54:18.750497Z",
     "iopub.status.busy": "2020-08-31T18:54:18.750389Z",
     "iopub.status.idle": "2020-08-31T18:54:18.752298Z",
     "shell.execute_reply": "2020-08-31T18:54:18.751974Z",
     "shell.execute_reply.started": "2020-08-31T18:54:18.750484Z"
    }
   },
   "outputs": [],
   "source": [
    "#Instantiate Random Forest\n",
    "\n",
    "rf = RandomForestClassifier()\n",
    "\n",
    "# Fit the model on training data\n",
    "\n",
    "rf.fit(X_train_sc, y_train);"
   ]
  },
  {
   "cell_type": "code",
   "execution_count": 25,
   "metadata": {},
   "outputs": [
    {
     "name": "stdout",
     "output_type": "stream",
     "text": [
      "Continuous Model Train Score is 0.998892874540543\n",
      "Continuous Model Train Score is 0.8090872857712236\n"
     ]
    }
   ],
   "source": [
    "print(f'Continuous Model Train Score is {rf.score(X_train_sc, y_train)}')\n",
    "print(f'Continuous Model Train Score is {rf.score(X_test_sc, y_test)}')"
   ]
  },
  {
   "cell_type": "code",
   "execution_count": 26,
   "metadata": {
    "execution": {
     "iopub.execute_input": "2020-08-31T18:54:20.861088Z",
     "iopub.status.busy": "2020-08-31T18:54:20.861000Z",
     "iopub.status.idle": "2020-08-31T18:54:28.279660Z",
     "shell.execute_reply": "2020-08-31T18:54:28.279255Z",
     "shell.execute_reply.started": "2020-08-31T18:54:20.861076Z"
    }
   },
   "outputs": [],
   "source": [
    "# Setting our parameters for the random forest to be used in the gridsearch\n",
    "\n",
    "rf_params = {\n",
    "    'n_estimators': [250, 300],\n",
    "    'max_depth': [7, 9, 12],\n",
    "    'ccp_alpha' : [0.0001],\n",
    "}\n",
    "\n",
    "# Instantiate the Gridsearch\n",
    "\n",
    "gs = GridSearchCV(rf, param_grid=rf_params, cv=5, n_jobs=-1)\n",
    "\n",
    "# fit the gridsearch to the training data\n",
    "gs.fit(X_train_sc, y_train);"
   ]
  },
  {
   "cell_type": "code",
   "execution_count": 27,
   "metadata": {},
   "outputs": [
    {
     "name": "stdout",
     "output_type": "stream",
     "text": [
      "Continuous Model Gridsearch Train Score is 0.8505380629732961\n",
      "Continuous Model Gridsearch Test Score is 0.834064036136575\n",
      "Continuous Model Gridsearch Best Parameters are {'ccp_alpha': 0.0001, 'max_depth': 12, 'n_estimators': 250}\n"
     ]
    }
   ],
   "source": [
    "print(f'Continuous Model Gridsearch Train Score is {gs.score(X_train_sc, y_train)}')\n",
    "print(f'Continuous Model Gridsearch Test Score is {gs.score(X_test_sc, y_test)}')\n",
    "print(f'Continuous Model Gridsearch Best Parameters are {gs.best_params_}')"
   ]
  },
  {
   "cell_type": "code",
   "execution_count": 28,
   "metadata": {
    "execution": {
     "iopub.execute_input": "2020-08-31T18:54:28.891604Z",
     "iopub.status.busy": "2020-08-31T18:54:28.891376Z",
     "iopub.status.idle": "2020-08-31T18:54:28.894319Z",
     "shell.execute_reply": "2020-08-31T18:54:28.893835Z",
     "shell.execute_reply.started": "2020-08-31T18:54:28.891584Z"
    }
   },
   "outputs": [],
   "source": [
    "# Random Forest Model created using the best parameters from the above model, to create a feature importance list\n",
    "\n",
    "cont_rf = RandomForestClassifier(ccp_alpha = 0.0001, max_depth = 9, n_estimators = 250)\n",
    "cont_rf.fit(X_train_sc, y_train);"
   ]
  },
  {
   "cell_type": "code",
   "execution_count": 29,
   "metadata": {},
   "outputs": [
    {
     "data": {
      "text/html": [
       "<div>\n",
       "<style scoped>\n",
       "    .dataframe tbody tr th:only-of-type {\n",
       "        vertical-align: middle;\n",
       "    }\n",
       "\n",
       "    .dataframe tbody tr th {\n",
       "        vertical-align: top;\n",
       "    }\n",
       "\n",
       "    .dataframe thead th {\n",
       "        text-align: right;\n",
       "    }\n",
       "</style>\n",
       "<table border=\"1\" class=\"dataframe\">\n",
       "  <thead>\n",
       "    <tr style=\"text-align: right;\">\n",
       "      <th></th>\n",
       "      <th>importance</th>\n",
       "    </tr>\n",
       "  </thead>\n",
       "  <tbody>\n",
       "    <tr>\n",
       "      <th>capital-gain</th>\n",
       "      <td>0.375047</td>\n",
       "    </tr>\n",
       "    <tr>\n",
       "      <th>education-num</th>\n",
       "      <td>0.262571</td>\n",
       "    </tr>\n",
       "    <tr>\n",
       "      <th>age</th>\n",
       "      <td>0.214076</td>\n",
       "    </tr>\n",
       "    <tr>\n",
       "      <th>hours-per-week</th>\n",
       "      <td>0.114072</td>\n",
       "    </tr>\n",
       "    <tr>\n",
       "      <th>fnlwgt</th>\n",
       "      <td>0.033632</td>\n",
       "    </tr>\n",
       "    <tr>\n",
       "      <th>capital-loss</th>\n",
       "      <td>0.000601</td>\n",
       "    </tr>\n",
       "  </tbody>\n",
       "</table>\n",
       "</div>"
      ],
      "text/plain": [
       "                importance\n",
       "capital-gain      0.375047\n",
       "education-num     0.262571\n",
       "age               0.214076\n",
       "hours-per-week    0.114072\n",
       "fnlwgt            0.033632\n",
       "capital-loss      0.000601"
      ]
     },
     "execution_count": 29,
     "metadata": {},
     "output_type": "execute_result"
    }
   ],
   "source": [
    "feature_importances = pd.DataFrame(cont_rf.feature_importances_,\n",
    "                                   index = X_train.columns,\n",
    "                                    columns=['importance']).sort_values('importance', ascending=False)\n",
    "feature_importances"
   ]
  },
  {
   "cell_type": "markdown",
   "metadata": {},
   "source": [
    "# Vizualizations"
   ]
  },
  {
   "cell_type": "code",
   "execution_count": 30,
   "metadata": {
    "execution": {
     "iopub.execute_input": "2020-08-31T18:59:32.738494Z",
     "iopub.status.busy": "2020-08-31T18:59:32.738277Z",
     "iopub.status.idle": "2020-08-31T18:59:32.860789Z",
     "shell.execute_reply": "2020-08-31T18:59:32.860457Z",
     "shell.execute_reply.started": "2020-08-31T18:59:32.738470Z"
    }
   },
   "outputs": [],
   "source": [
    "# Get predictions for the model\n",
    "\n",
    "preds = cont_rf.predict(X_test_sc)\n",
    "\n",
    "# Confusion matrix values\n",
    "\n",
    "TN, FP, FN, TP = confusion_matrix(y_test, preds).ravel()"
   ]
  },
  {
   "cell_type": "code",
   "execution_count": 33,
   "metadata": {
    "execution": {
     "iopub.execute_input": "2020-08-31T18:59:32.963066Z",
     "iopub.status.busy": "2020-08-31T18:59:32.962975Z",
     "iopub.status.idle": "2020-08-31T18:59:33.149497Z",
     "shell.execute_reply": "2020-08-31T18:59:33.149078Z",
     "shell.execute_reply.started": "2020-08-31T18:59:32.963055Z"
    }
   },
   "outputs": [
    {
     "data": {
      "image/png": "[encoded data removed]",
      "text/plain": [
       "<Figure size 432x288 with 2 Axes>"
      ]
     },
     "metadata": {
      "needs_background": "light"
     },
     "output_type": "display_data"
    }
   ],
   "source": [
    "plot_confusion_matrix(cont_rf, X_test_sc, y_test, cmap='Blues', normalize='true')\n",
    "plt.title('Confusion Matrix for Continuous Model', size = 15);"
   ]
  },
  {
   "cell_type": "code",
   "execution_count": 32,
   "metadata": {
    "execution": {
     "iopub.execute_input": "2020-08-31T18:59:33.432814Z",
     "iopub.status.busy": "2020-08-31T18:59:33.432581Z",
     "iopub.status.idle": "2020-08-31T18:59:33.436647Z",
     "shell.execute_reply": "2020-08-31T18:59:33.436278Z",
     "shell.execute_reply.started": "2020-08-31T18:59:33.432784Z"
    }
   },
   "outputs": [
    {
     "name": "stdout",
     "output_type": "stream",
     "text": [
      "The Accuracy score is: 83.39999999999999%\n",
      "The Missclassification rate is: 16.55%\n",
      "The Sensitivity is: 37.0%\n",
      "The Specificity is: 96.7%\n",
      "The Precision is 75.89%\n"
     ]
    }
   ],
   "source": [
    "# Accuracy:  # What percentage of observation did I correctly predict?\n",
    "print(f\"The Accuracy score is: {round((TP + TN) / (TP + TN + FP + FN), 3) * 100}%\")\n",
    "\n",
    "# Misclassification: # What percentage of observation did I incorrectly predict?\n",
    "print(f\"The Missclassification rate is: {round((FP + FN) / (TP + TN + FP + FN), 4) * 100}%\")\n",
    "\n",
    "# Sensitivity:  # Among Positives, how many did I get correctly? Same as recall\n",
    "print(f\"The Sensitivity is: {round(TP / (TP + FN), 3) * 100}%\")\n",
    "\n",
    "# Specificity:  # Among Negatives, how many did I get correctly?\n",
    "print(f\"The Specificity is: {round(TN / (TN + FP), 3) * 100}%\")\n",
    "\n",
    "# Precision: # Among Positives, how many did I Predict correct\n",
    "print(f\"The Precision is {round(TP / (TP + FP), 4) * 100}%\")"
   ]
  },
  {
   "cell_type": "code",
   "execution_count": null,
   "metadata": {},
   "outputs": [],
   "source": []
  }
 ],
 "metadata": {
  "kernelspec": {
   "display_name": "Python 3",
   "language": "python",
   "name": "python3"
  },
  "language_info": {
   "codemirror_mode": {
    "name": "ipython",
    "version": 3
   },
   "file_extension": ".py",
   "mimetype": "text/x-python",
   "name": "python",
   "nbconvert_exporter": "python",
   "pygments_lexer": "ipython3",
   "version": "3.7.6"
  }
 },
 "nbformat": 4,
 "nbformat_minor": 4
}
